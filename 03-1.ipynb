{
  "cells": [
    {
      "cell_type": "markdown",
      "id": "2312e428-c551-4995-8a95-abb8930d0367",
      "metadata": {
        "id": "2312e428-c551-4995-8a95-abb8930d0367"
      },
      "source": [
        "# 03-1 DenseNet과 MobileNet"
      ]
    },
    {
      "cell_type": "markdown",
      "id": "91796895-26dc-4af6-bbbd-bad2f7f05379",
      "metadata": {
        "id": "91796895-26dc-4af6-bbbd-bad2f7f05379"
      },
      "source": [
        "<table align=\"left\"><tr><td>\n",
        "<a href=\"https://colab.research.google.com/github/rickiepark/hm-dl/blob/main/03-1.ipynb\" target=\"_parent\"><img src=\"https://colab.research.google.com/assets/colab-badge.svg\" alt=\"코랩에서 실행하기\"/></a>\n",
        "</td></tr></table>"
      ]
    },
    {
      "cell_type": "markdown",
      "id": "727c8e10-fb1d-4fca-8ca1-5fa56acdcc5c",
      "metadata": {
        "id": "727c8e10-fb1d-4fca-8ca1-5fa56acdcc5c"
      },
      "source": [
        "## DenseNet"
      ]
    },
    {
      "cell_type": "markdown",
      "source": [
        "### 밀집 블록"
      ],
      "metadata": {
        "id": "YHt_YO3yAEFb"
      },
      "id": "YHt_YO3yAEFb"
    },
    {
      "cell_type": "code",
      "execution_count": 1,
      "id": "85e25c4f-fdfa-4496-9a18-a94106224147",
      "metadata": {
        "id": "85e25c4f-fdfa-4496-9a18-a94106224147"
      },
      "outputs": [],
      "source": [
        "import keras\n",
        "from keras import layers"
      ]
    },
    {
      "cell_type": "code",
      "execution_count": 2,
      "id": "e107a1e3-7321-47c9-a053-b4633d3b0517",
      "metadata": {
        "id": "e107a1e3-7321-47c9-a053-b4633d3b0517"
      },
      "outputs": [],
      "source": [
        "def dense_block(x, blocks):\n",
        "    for _ in range(blocks):\n",
        "        x1 = layers.BatchNormalization(epsilon=1e-5)(x)\n",
        "        x1 = layers.Activation('relu')(x1)\n",
        "        x1 = layers.Conv2D(128, 1, use_bias=False)(x1)\n",
        "        x1 = layers.BatchNormalization(epsilon=1e-5)(x1)\n",
        "        x1 = layers.Activation('relu')(x1)\n",
        "        x1 = layers.Conv2D(32, 3, padding='same', use_bias=False)(x1)\n",
        "        x = layers.Concatenate()([x, x1])\n",
        "    return x"
      ]
    },
    {
      "cell_type": "markdown",
      "source": [
        "### 전환 블록"
      ],
      "metadata": {
        "id": "IkqJudOlAJlM"
      },
      "id": "IkqJudOlAJlM"
    },
    {
      "cell_type": "code",
      "execution_count": 3,
      "id": "2931e037-ab6f-46e9-8e9e-0fe273e4a4c9",
      "metadata": {
        "id": "2931e037-ab6f-46e9-8e9e-0fe273e4a4c9"
      },
      "outputs": [],
      "source": [
        "def transition_block(x):\n",
        "    x = layers.BatchNormalization(epsilon=1e-5)(x)\n",
        "    x = layers.Activation('relu')(x)\n",
        "    x = layers.Conv2D(int(x.shape[-1]/2), 1, use_bias=False)(x)\n",
        "    x = layers.AveragePooling2D(2)(x)\n",
        "    return x"
      ]
    },
    {
      "cell_type": "markdown",
      "source": [
        "### 모델 만들기"
      ],
      "metadata": {
        "id": "OP1JoJzRANei"
      },
      "id": "OP1JoJzRANei"
    },
    {
      "cell_type": "code",
      "execution_count": 4,
      "id": "dde087fd-7dc0-423c-b2d2-0ccceac58c6a",
      "metadata": {
        "id": "dde087fd-7dc0-423c-b2d2-0ccceac58c6a"
      },
      "outputs": [],
      "source": [
        "inputs = layers.Input(shape=(224, 224, 3))\n",
        "\n",
        "x = layers.ZeroPadding2D(padding=3)(inputs)\n",
        "x = layers.Conv2D(64, 7, strides=2, use_bias=False)(x)\n",
        "x = layers.BatchNormalization(epsilon=1e-5)(x)\n",
        "x = layers.Activation('relu')(x)\n",
        "x = layers.ZeroPadding2D(padding=1)(x)\n",
        "x = layers.MaxPooling2D(3, strides=2)(x)\n",
        "\n",
        "for blocks in (6, 12, 24):\n",
        "    x = dense_block(x, blocks)\n",
        "    x = transition_block(x)\n",
        "x = dense_block(x, 16)\n",
        "\n",
        "x = layers.BatchNormalization(epsilon=1e-5)(x)\n",
        "x = layers.Activation('relu')(x)\n",
        "x = layers.GlobalAveragePooling2D()(x)\n",
        "outputs = layers.Dense(1000, activation='softmax')(x)\n",
        "model = keras.Model(inputs, outputs)"
      ]
    },
    {
      "cell_type": "code",
      "execution_count": 5,
      "id": "IWQUzNYrqIeb",
      "metadata": {
        "colab": {
          "base_uri": "https://localhost:8080/"
        },
        "id": "IWQUzNYrqIeb",
        "outputId": "6c81dacb-ad6d-42a1-e6ff-6994e4fd0705"
      },
      "outputs": [
        {
          "output_type": "stream",
          "name": "stdout",
          "text": [
            "Downloading...\n",
            "From: https://drive.google.com/uc?id=1xGkTT3uwYt4myj6eJJeYtdEFgTi2Sj8C\n",
            "To: /content/cat-dog-images.zip\n",
            "\r  0% 0.00/182k [00:00<?, ?B/s]\r100% 182k/182k [00:00<00:00, 77.2MB/s]\n",
            "Archive:  cat-dog-images.zip\n",
            "   creating: images/\n",
            "  inflating: images/dog.png          \n",
            "  inflating: images/cat.png          \n"
          ]
        }
      ],
      "source": [
        "# 코랩의 경우 구글 드라이브에서 샘플 이미지를 다운로드하여 압축을 풉니다.\n",
        "!gdown 1xGkTT3uwYt4myj6eJJeYtdEFgTi2Sj8C\n",
        "!unzip cat-dog-images.zip"
      ]
    },
    {
      "cell_type": "code",
      "execution_count": 6,
      "id": "089357cc-56af-4263-93a8-c4bb16ab69a4",
      "metadata": {
        "id": "089357cc-56af-4263-93a8-c4bb16ab69a4"
      },
      "outputs": [],
      "source": [
        "import numpy as np\n",
        "from PIL import Image\n",
        "\n",
        "dog_png = np.array(Image.open('images/dog.png'))"
      ]
    },
    {
      "cell_type": "code",
      "execution_count": 7,
      "id": "bc9b88a5-2c5f-4eee-85de-b8330ebf7afb",
      "metadata": {
        "id": "bc9b88a5-2c5f-4eee-85de-b8330ebf7afb"
      },
      "outputs": [],
      "source": [
        "from keras.applications import densenet\n",
        "\n",
        "dense_prep_dog = densenet.preprocess_input(dog_png)"
      ]
    },
    {
      "cell_type": "code",
      "execution_count": 8,
      "id": "860f3ba5-9194-451f-b64d-385db3bf9ba9",
      "metadata": {
        "colab": {
          "base_uri": "https://localhost:8080/"
        },
        "id": "860f3ba5-9194-451f-b64d-385db3bf9ba9",
        "outputId": "54de26a0-022b-4688-ed4d-133cb3a0a127"
      },
      "outputs": [
        {
          "output_type": "stream",
          "name": "stdout",
          "text": [
            "Downloading data from https://storage.googleapis.com/tensorflow/keras-applications/densenet/densenet201_weights_tf_dim_ordering_tf_kernels.h5\n",
            "\u001b[1m82524592/82524592\u001b[0m \u001b[32m━━━━━━━━━━━━━━━━━━━━\u001b[0m\u001b[37m\u001b[0m \u001b[1m6s\u001b[0m 0us/step\n",
            "\u001b[1m1/1\u001b[0m \u001b[32m━━━━━━━━━━━━━━━━━━━━\u001b[0m\u001b[37m\u001b[0m \u001b[1m19s\u001b[0m 19s/step\n",
            "Downloading data from https://storage.googleapis.com/download.tensorflow.org/data/imagenet_class_index.json\n",
            "\u001b[1m35363/35363\u001b[0m \u001b[32m━━━━━━━━━━━━━━━━━━━━\u001b[0m\u001b[37m\u001b[0m \u001b[1m0s\u001b[0m 1us/step\n"
          ]
        },
        {
          "output_type": "execute_result",
          "data": {
            "text/plain": [
              "[[('n02099712', 'Labrador_retriever', 0.5281193),\n",
              "  ('n04409515', 'tennis_ball', 0.19857903),\n",
              "  ('n02104029', 'kuvasz', 0.060605243),\n",
              "  ('n02111500', 'Great_Pyrenees', 0.027188247),\n",
              "  ('n02099601', 'golden_retriever', 0.017613884)]]"
            ]
          },
          "metadata": {},
          "execution_count": 8
        }
      ],
      "source": [
        "densenet201 = keras.applications.DenseNet201()\n",
        "predictions = densenet201.predict(dense_prep_dog[np.newaxis,:])\n",
        "densenet.decode_predictions(predictions)"
      ]
    },
    {
      "cell_type": "markdown",
      "id": "cbafb04f-28cb-4486-9473-7e4f92fcd9c7",
      "metadata": {
        "id": "cbafb04f-28cb-4486-9473-7e4f92fcd9c7"
      },
      "source": [
        "## MobileNet"
      ]
    },
    {
      "cell_type": "markdown",
      "source": [
        "### 깊이별 분리 합성곱 블록"
      ],
      "metadata": {
        "id": "cGr8uGM5AfHh"
      },
      "id": "cGr8uGM5AfHh"
    },
    {
      "cell_type": "code",
      "execution_count": 9,
      "id": "9f5ede57-9d23-402f-b3b3-d935a26d12fc",
      "metadata": {
        "id": "9f5ede57-9d23-402f-b3b3-d935a26d12fc"
      },
      "outputs": [],
      "source": [
        "def depthwise_separable_block(inputs, filters, strides=1):\n",
        "    if strides == 1:\n",
        "        x = inputs\n",
        "    else:\n",
        "        x = layers.ZeroPadding2D(padding=((0, 1), (0, 1)))(inputs)\n",
        "\n",
        "    x = layers.DepthwiseConv2D(3, padding='same' if strides == 1 else 'valid',\n",
        "                               strides=strides, use_bias=False)(x)\n",
        "    x = layers.BatchNormalization(epsilon=1e-5)(x)\n",
        "    x = layers.ReLU(max_value=6.0)(x)\n",
        "    x = layers.Conv2D(filters, 1, padding='same', use_bias=False)(x)\n",
        "    x = layers.BatchNormalization(epsilon=1e-5)(x)\n",
        "    x = layers.ReLU(max_value=6.0)(x)\n",
        "    return x"
      ]
    },
    {
      "cell_type": "markdown",
      "source": [
        "### 모델 만들기"
      ],
      "metadata": {
        "id": "Jdwnc1BwAgr-"
      },
      "id": "Jdwnc1BwAgr-"
    },
    {
      "cell_type": "code",
      "execution_count": 10,
      "id": "b17d4a3f-aa8f-45a1-9e22-e8e3c881a7db",
      "metadata": {
        "id": "b17d4a3f-aa8f-45a1-9e22-e8e3c881a7db"
      },
      "outputs": [],
      "source": [
        "inputs = layers.Input(shape=(224, 224, 3))\n",
        "\n",
        "x = layers.Conv2D(32, 3, padding='same', strides=2, use_bias=False)(inputs)\n",
        "x = layers.BatchNormalization(epsilon=1e-5)(x)\n",
        "x = layers.ReLU(max_value=6.0)(x)\n",
        "\n",
        "for filters in (64, 128, 256):\n",
        "    x = depthwise_separable_block(x, filters)\n",
        "    x = depthwise_separable_block(x, filters*2, strides=2)\n",
        "for _ in range(5):\n",
        "    x = depthwise_separable_block(x, 512)\n",
        "x = depthwise_separable_block(x, 1024, strides=2)\n",
        "x = depthwise_separable_block(x, 1024)\n",
        "\n",
        "x = layers.GlobalAveragePooling2D(keepdims=True)(x)\n",
        "x = layers.Dropout(0.001)(x)\n",
        "x = layers.Conv2D(1000, 1, padding='same')(x)\n",
        "x = layers.Reshape((1000,))(x)\n",
        "outputs = layers.Activation('softmax')(x)\n",
        "\n",
        "model = keras.Model(inputs, outputs)"
      ]
    },
    {
      "cell_type": "code",
      "execution_count": 11,
      "id": "6c5b0874-0757-4929-bea7-a395780723f3",
      "metadata": {
        "colab": {
          "base_uri": "https://localhost:8080/"
        },
        "id": "6c5b0874-0757-4929-bea7-a395780723f3",
        "outputId": "aad34a41-0ac3-4d8c-9a2c-9934ec972324",
        "scrolled": true
      },
      "outputs": [
        {
          "output_type": "stream",
          "name": "stdout",
          "text": [
            "Downloading data from https://storage.googleapis.com/tensorflow/keras-applications/mobilenet/mobilenet_1_0_224_tf.h5\n",
            "\u001b[1m17225924/17225924\u001b[0m \u001b[32m━━━━━━━━━━━━━━━━━━━━\u001b[0m\u001b[37m\u001b[0m \u001b[1m2s\u001b[0m 0us/step\n",
            "\u001b[1m1/1\u001b[0m \u001b[32m━━━━━━━━━━━━━━━━━━━━\u001b[0m\u001b[37m\u001b[0m \u001b[1m2s\u001b[0m 2s/step\n"
          ]
        },
        {
          "output_type": "execute_result",
          "data": {
            "text/plain": [
              "[[('n02099712', 'Labrador_retriever', 0.40903908),\n",
              "  ('n02104029', 'kuvasz', 0.18954755),\n",
              "  ('n02110341', 'dalmatian', 0.1488159),\n",
              "  ('n02111500', 'Great_Pyrenees', 0.04276254),\n",
              "  ('n02099601', 'golden_retriever', 0.027608097)]]"
            ]
          },
          "metadata": {},
          "execution_count": 11
        }
      ],
      "source": [
        "from keras.applications import mobilenet\n",
        "\n",
        "mobile_prep_dog = mobilenet.preprocess_input(dog_png)\n",
        "model = keras.applications.MobileNet()\n",
        "predictions = model.predict(mobile_prep_dog[np.newaxis,:])\n",
        "mobilenet.decode_predictions(predictions)"
      ]
    }
  ],
  "metadata": {
    "accelerator": "GPU",
    "colab": {
      "gpuType": "T4",
      "provenance": []
    },
    "kernelspec": {
      "display_name": "Python 3.10 on Backend.AI",
      "language": "python",
      "name": "python3"
    },
    "language_info": {
      "codemirror_mode": {
        "name": "ipython",
        "version": 3
      },
      "file_extension": ".py",
      "mimetype": "text/x-python",
      "name": "python",
      "nbconvert_exporter": "python",
      "pygments_lexer": "ipython3",
      "version": "3.10.8"
    }
  },
  "nbformat": 4,
  "nbformat_minor": 5
}