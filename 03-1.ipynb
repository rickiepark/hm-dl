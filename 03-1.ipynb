{
 "cells": [
  {
   "cell_type": "markdown",
   "id": "2312e428-c551-4995-8a95-abb8930d0367",
   "metadata": {
    "id": "2312e428-c551-4995-8a95-abb8930d0367"
   },
   "source": [
    "# 02-2 고급 CNN 모델과 전이 학습"
   ]
  },
  {
   "cell_type": "markdown",
   "id": "91796895-26dc-4af6-bbbd-bad2f7f05379",
   "metadata": {
    "id": "91796895-26dc-4af6-bbbd-bad2f7f05379"
   },
   "source": [
    "<table align=\"left\"><tr><td>\n",
    "<a href=\"https://colab.research.google.com/github/rickiepark/hm-dl/blob/main/03-1.ipynb\" target=\"_parent\"><img src=\"https://colab.research.google.com/assets/colab-badge.svg\" alt=\"코랩에서 실행하기\"/></a>\n",
    "</td></tr></table>"
   ]
  },
  {
   "cell_type": "markdown",
   "id": "727c8e10-fb1d-4fca-8ca1-5fa56acdcc5c",
   "metadata": {
    "id": "727c8e10-fb1d-4fca-8ca1-5fa56acdcc5c"
   },
   "source": [
    "## DenseNet"
   ]
  },
  {
   "cell_type": "code",
   "execution_count": null,
   "id": "85e25c4f-fdfa-4496-9a18-a94106224147",
   "metadata": {
    "id": "85e25c4f-fdfa-4496-9a18-a94106224147"
   },
   "outputs": [],
   "source": [
    "import keras\n",
    "from keras import layers"
   ]
  },
  {
   "cell_type": "code",
   "execution_count": null,
   "id": "e107a1e3-7321-47c9-a053-b4633d3b0517",
   "metadata": {
    "id": "e107a1e3-7321-47c9-a053-b4633d3b0517"
   },
   "outputs": [],
   "source": [
    "def dense_block(x, blocks):\n",
    "    for _ in range(blocks):\n",
    "        x1 = layers.BatchNormalization(epsilon=1e-5)(x)\n",
    "        x1 = layers.Activation('relu')(x1)\n",
    "        x1 = layers.Conv2D(128, 1, use_bias=False)(x1)\n",
    "        x1 = layers.BatchNormalization(epsilon=1e-5)(x1)\n",
    "        x1 = layers.Activation('relu')(x1)\n",
    "        x1 = layers.Conv2D(32, 3, padding='same', use_bias=False)(x1)\n",
    "        x = layers.Concatenate()([x, x1])\n",
    "    return x"
   ]
  },
  {
   "cell_type": "code",
   "execution_count": null,
   "id": "2931e037-ab6f-46e9-8e9e-0fe273e4a4c9",
   "metadata": {
    "id": "2931e037-ab6f-46e9-8e9e-0fe273e4a4c9"
   },
   "outputs": [],
   "source": [
    "def transition_block(x):\n",
    "    x = layers.BatchNormalization(epsilon=1e-5)(x)\n",
    "    x = layers.Activation('relu')(x)\n",
    "    x = layers.Conv2D(int(x.shape[-1]/2), 1, use_bias=False)(x)\n",
    "    x = layers.AveragePooling2D(2)(x)\n",
    "    return x"
   ]
  },
  {
   "cell_type": "code",
   "execution_count": null,
   "id": "dde087fd-7dc0-423c-b2d2-0ccceac58c6a",
   "metadata": {
    "id": "dde087fd-7dc0-423c-b2d2-0ccceac58c6a"
   },
   "outputs": [],
   "source": [
    "inputs = layers.Input(shape=(224, 224, 3))\n",
    "\n",
    "x = layers.ZeroPadding2D(padding=3)(inputs)\n",
    "x = layers.Conv2D(64, 7, strides=2, use_bias=False)(x)\n",
    "x = layers.BatchNormalization(epsilon=1e-5)(x)\n",
    "x = layers.Activation('relu')(x)\n",
    "x = layers.ZeroPadding2D(padding=1)(x)\n",
    "x = layers.MaxPooling2D(3, strides=2)(x)\n",
    "\n",
    "for blocks in (6, 12, 24):\n",
    "    x = dense_block(x, blocks)\n",
    "    x = transition_block(x)\n",
    "x = dense_block(x, 16)\n",
    "\n",
    "x = layers.BatchNormalization(epsilon=1e-5)(x)\n",
    "x = layers.Activation('relu')(x)\n",
    "x = layers.GlobalAveragePooling2D()(x)\n",
    "outputs = layers.Dense(1000, activation='softmax')(x)\n",
    "model = keras.Model(inputs, outputs)"
   ]
  },
  {
   "cell_type": "code",
   "execution_count": null,
   "id": "IWQUzNYrqIeb",
   "metadata": {
    "colab": {
     "base_uri": "https://localhost:8080/"
    },
    "id": "IWQUzNYrqIeb",
    "outputId": "5fadfafb-bb6b-4098-9d4d-fe9c681a8188"
   },
   "outputs": [
    {
     "name": "stdout",
     "output_type": "stream",
     "text": [
      "Downloading...\n",
      "From: https://drive.google.com/uc?id=1xGkTT3uwYt4myj6eJJeYtdEFgTi2Sj8C\n",
      "To: /content/cat-dog-images.zip\n",
      "\r",
      "  0% 0.00/182k [00:00<?, ?B/s]\r",
      "100% 182k/182k [00:00<00:00, 117MB/s]\n",
      "Archive:  cat-dog-images.zip\n",
      "   creating: images/\n",
      "  inflating: images/dog.png          \n",
      "  inflating: images/cat.png          \n"
     ]
    }
   ],
   "source": [
    "# 코랩의 경우 구글 드라이브에서 샘플 이미지를 다운로드하여 압축을 풉니다.\n",
    "!gdown 1xGkTT3uwYt4myj6eJJeYtdEFgTi2Sj8C\n",
    "!unzip cat-dog-images.zip"
   ]
  },
  {
   "cell_type": "code",
   "execution_count": null,
   "id": "089357cc-56af-4263-93a8-c4bb16ab69a4",
   "metadata": {
    "id": "089357cc-56af-4263-93a8-c4bb16ab69a4"
   },
   "outputs": [],
   "source": [
    "import numpy as np\n",
    "from PIL import Image\n",
    "\n",
    "dog_png = np.array(Image.open('images/dog.png'))"
   ]
  },
  {
   "cell_type": "code",
   "execution_count": null,
   "id": "bc9b88a5-2c5f-4eee-85de-b8330ebf7afb",
   "metadata": {
    "id": "bc9b88a5-2c5f-4eee-85de-b8330ebf7afb"
   },
   "outputs": [],
   "source": [
    "from keras.applications import densenet\n",
    "\n",
    "dense_prep_dog = densenet.preprocess_input(dog_png)"
   ]
  },
  {
   "cell_type": "code",
   "execution_count": null,
   "id": "860f3ba5-9194-451f-b64d-385db3bf9ba9",
   "metadata": {
    "colab": {
     "base_uri": "https://localhost:8080/"
    },
    "id": "860f3ba5-9194-451f-b64d-385db3bf9ba9",
    "outputId": "b1c8b818-7239-46d0-9e82-7a4bfba37a82"
   },
   "outputs": [
    {
     "name": "stdout",
     "output_type": "stream",
     "text": [
      "Downloading data from https://storage.googleapis.com/tensorflow/keras-applications/densenet/densenet201_weights_tf_dim_ordering_tf_kernels.h5\n",
      "82524592/82524592 [==============================] - 4s 0us/step\n",
      "1/1 [==============================] - 7s 7s/step\n",
      "Downloading data from https://storage.googleapis.com/download.tensorflow.org/data/imagenet_class_index.json\n",
      "35363/35363 [==============================] - 0s 1us/step\n"
     ]
    },
    {
     "data": {
      "text/plain": [
       "[[('n02099712', 'Labrador_retriever', 0.52812),\n",
       "  ('n04409515', 'tennis_ball', 0.19857815),\n",
       "  ('n02104029', 'kuvasz', 0.060605355),\n",
       "  ('n02111500', 'Great_Pyrenees', 0.027188243),\n",
       "  ('n02099601', 'golden_retriever', 0.017613882)]]"
      ]
     },
     "execution_count": 9,
     "metadata": {},
     "output_type": "execute_result"
    }
   ],
   "source": [
    "densenet201 = keras.applications.DenseNet201()\n",
    "predictions = densenet201.predict(dense_prep_dog[np.newaxis,:])\n",
    "densenet.decode_predictions(predictions)"
   ]
  },
  {
   "cell_type": "markdown",
   "id": "cbafb04f-28cb-4486-9473-7e4f92fcd9c7",
   "metadata": {
    "id": "cbafb04f-28cb-4486-9473-7e4f92fcd9c7"
   },
   "source": [
    "## MobileNet"
   ]
  },
  {
   "cell_type": "code",
   "execution_count": null,
   "id": "9f5ede57-9d23-402f-b3b3-d935a26d12fc",
   "metadata": {
    "id": "9f5ede57-9d23-402f-b3b3-d935a26d12fc"
   },
   "outputs": [],
   "source": [
    "def depthwise_separable_block(inputs, filters, strides=1):\n",
    "    if strides == 1:\n",
    "        x = inputs\n",
    "    else:\n",
    "        x = layers.ZeroPadding2D(padding=((0, 1), (0, 1)))(inputs)\n",
    "\n",
    "    x = layers.DepthwiseConv2D(3, padding='same' if strides == 1 else 'valid',\n",
    "                               strides=strides, use_bias=False)(x)\n",
    "    x = layers.BatchNormalization(epsilon=1e-5)(x)\n",
    "    x = layers.ReLU(max_value=6.0)(x)\n",
    "    x = layers.Conv2D(filters, 1, padding='same', use_bias=False)(x)\n",
    "    x = layers.BatchNormalization(epsilon=1e-5)(x)\n",
    "    x = layers.ReLU(max_value=6.0)(x)\n",
    "    return x"
   ]
  },
  {
   "cell_type": "code",
   "execution_count": null,
   "id": "b17d4a3f-aa8f-45a1-9e22-e8e3c881a7db",
   "metadata": {
    "id": "b17d4a3f-aa8f-45a1-9e22-e8e3c881a7db"
   },
   "outputs": [],
   "source": [
    "inputs = layers.Input(shape=(224, 224, 3))\n",
    "\n",
    "x = layers.Conv2D(32, 3, padding='same', strides=2, use_bias=False)(inputs)\n",
    "x = layers.BatchNormalization(epsilon=1e-5)(x)\n",
    "x = layers.ReLU(max_value=6.0)(x)\n",
    "\n",
    "for filters in (64, 128, 256):\n",
    "    x = depthwise_separable_block(x, filters)\n",
    "    x = depthwise_separable_block(x, filters*2, strides=2)\n",
    "for _ in range(5):\n",
    "    x = depthwise_separable_block(x, 512)\n",
    "x = depthwise_separable_block(x, 1024, strides=2)\n",
    "x = depthwise_separable_block(x, 1024)\n",
    "\n",
    "x = layers.GlobalAveragePooling2D(keepdims=True)(x)\n",
    "x = layers.Dropout(0.001)(x)\n",
    "x = layers.Conv2D(1000, 1, padding='same')(x)\n",
    "x = layers.Reshape((1000,))(x)\n",
    "outputs = layers.Activation('softmax')(x)\n",
    "\n",
    "model = keras.Model(inputs, outputs)"
   ]
  },
  {
   "cell_type": "code",
   "execution_count": null,
   "id": "6c5b0874-0757-4929-bea7-a395780723f3",
   "metadata": {
    "colab": {
     "base_uri": "https://localhost:8080/"
    },
    "id": "6c5b0874-0757-4929-bea7-a395780723f3",
    "outputId": "32f59617-1fd3-45e3-f3d8-7e87e3baddc1",
    "scrolled": true
   },
   "outputs": [
    {
     "name": "stdout",
     "output_type": "stream",
     "text": [
      "Downloading data from https://storage.googleapis.com/tensorflow/keras-applications/mobilenet/mobilenet_1_0_224_tf.h5\n",
      "17225924/17225924 [==============================] - 2s 0us/step\n",
      "1/1 [==============================] - 1s 1s/step\n"
     ]
    },
    {
     "data": {
      "text/plain": [
       "[[('n02099712', 'Labrador_retriever', 0.40903673),\n",
       "  ('n02104029', 'kuvasz', 0.18954755),\n",
       "  ('n02110341', 'dalmatian', 0.14881718),\n",
       "  ('n02111500', 'Great_Pyrenees', 0.042762745),\n",
       "  ('n02099601', 'golden_retriever', 0.027608255)]]"
      ]
     },
     "execution_count": 12,
     "metadata": {},
     "output_type": "execute_result"
    }
   ],
   "source": [
    "from keras.applications import mobilenet\n",
    "\n",
    "mobile_prep_dog = mobilenet.preprocess_input(dog_png)\n",
    "model = keras.applications.MobileNet()\n",
    "predictions = model.predict(mobile_prep_dog[np.newaxis,:])\n",
    "mobilenet.decode_predictions(predictions)"
   ]
  }
 ],
 "metadata": {
  "accelerator": "GPU",
  "colab": {
   "gpuType": "T4",
   "provenance": []
  },
  "kernelspec": {
   "display_name": "Python 3.10 on Backend.AI",
   "language": "python",
   "name": "python3"
  },
  "language_info": {
   "codemirror_mode": {
    "name": "ipython",
    "version": 3
   },
   "file_extension": ".py",
   "mimetype": "text/x-python",
   "name": "python",
   "nbconvert_exporter": "python",
   "pygments_lexer": "ipython3",
   "version": "3.10.8"
  },
  "widgets": {
   "application/vnd.jupyter.widget-state+json": {
    "02c4a11370d145e7b82c9a3942dbc4b3": {
     "model_module": "@jupyter-widgets/base",
     "model_module_version": "1.2.0",
     "model_name": "LayoutModel",
     "state": {
      "_model_module": "@jupyter-widgets/base",
      "_model_module_version": "1.2.0",
      "_model_name": "LayoutModel",
      "_view_count": null,
      "_view_module": "@jupyter-widgets/base",
      "_view_module_version": "1.2.0",
      "_view_name": "LayoutView",
      "align_content": null,
      "align_items": null,
      "align_self": null,
      "border": null,
      "bottom": null,
      "display": null,
      "flex": null,
      "flex_flow": null,
      "grid_area": null,
      "grid_auto_columns": null,
      "grid_auto_flow": null,
      "grid_auto_rows": null,
      "grid_column": null,
      "grid_gap": null,
      "grid_row": null,
      "grid_template_areas": null,
      "grid_template_columns": null,
      "grid_template_rows": null,
      "height": null,
      "justify_content": null,
      "justify_items": null,
      "left": null,
      "margin": null,
      "max_height": null,
      "max_width": null,
      "min_height": null,
      "min_width": null,
      "object_fit": null,
      "object_position": null,
      "order": null,
      "overflow": null,
      "overflow_x": null,
      "overflow_y": null,
      "padding": null,
      "right": null,
      "top": null,
      "visibility": null,
      "width": null
     }
    },
    "030abf94a3e34b3c862f62ef9f2129a3": {
     "model_module": "@jupyter-widgets/base",
     "model_module_version": "1.2.0",
     "model_name": "LayoutModel",
     "state": {
      "_model_module": "@jupyter-widgets/base",
      "_model_module_version": "1.2.0",
      "_model_name": "LayoutModel",
      "_view_count": null,
      "_view_module": "@jupyter-widgets/base",
      "_view_module_version": "1.2.0",
      "_view_name": "LayoutView",
      "align_content": null,
      "align_items": null,
      "align_self": null,
      "border": null,
      "bottom": null,
      "display": null,
      "flex": null,
      "flex_flow": null,
      "grid_area": null,
      "grid_auto_columns": null,
      "grid_auto_flow": null,
      "grid_auto_rows": null,
      "grid_column": null,
      "grid_gap": null,
      "grid_row": null,
      "grid_template_areas": null,
      "grid_template_columns": null,
      "grid_template_rows": null,
      "height": null,
      "justify_content": null,
      "justify_items": null,
      "left": null,
      "margin": null,
      "max_height": null,
      "max_width": null,
      "min_height": null,
      "min_width": null,
      "object_fit": null,
      "object_position": null,
      "order": null,
      "overflow": null,
      "overflow_x": null,
      "overflow_y": null,
      "padding": null,
      "right": null,
      "top": null,
      "visibility": null,
      "width": null
     }
    },
    "0ec382c178db443eb4c0cda8bb07bc9c": {
     "model_module": "@jupyter-widgets/controls",
     "model_module_version": "1.5.0",
     "model_name": "HTMLModel",
     "state": {
      "_dom_classes": [],
      "_model_module": "@jupyter-widgets/controls",
      "_model_module_version": "1.5.0",
      "_model_name": "HTMLModel",
      "_view_count": null,
      "_view_module": "@jupyter-widgets/controls",
      "_view_module_version": "1.5.0",
      "_view_name": "HTMLView",
      "description": "",
      "description_tooltip": null,
      "layout": "IPY_MODEL_030abf94a3e34b3c862f62ef9f2129a3",
      "placeholder": "​",
      "style": "IPY_MODEL_995fd4f2063a484ea1a1276bf0729ba2",
      "value": "pytorch_model.bin: 100%"
     }
    },
    "180fbbbec6c64de9b3aef69511edf8ac": {
     "model_module": "@jupyter-widgets/base",
     "model_module_version": "1.2.0",
     "model_name": "LayoutModel",
     "state": {
      "_model_module": "@jupyter-widgets/base",
      "_model_module_version": "1.2.0",
      "_model_name": "LayoutModel",
      "_view_count": null,
      "_view_module": "@jupyter-widgets/base",
      "_view_module_version": "1.2.0",
      "_view_name": "LayoutView",
      "align_content": null,
      "align_items": null,
      "align_self": null,
      "border": null,
      "bottom": null,
      "display": null,
      "flex": null,
      "flex_flow": null,
      "grid_area": null,
      "grid_auto_columns": null,
      "grid_auto_flow": null,
      "grid_auto_rows": null,
      "grid_column": null,
      "grid_gap": null,
      "grid_row": null,
      "grid_template_areas": null,
      "grid_template_columns": null,
      "grid_template_rows": null,
      "height": null,
      "justify_content": null,
      "justify_items": null,
      "left": null,
      "margin": null,
      "max_height": null,
      "max_width": null,
      "min_height": null,
      "min_width": null,
      "object_fit": null,
      "object_position": null,
      "order": null,
      "overflow": null,
      "overflow_x": null,
      "overflow_y": null,
      "padding": null,
      "right": null,
      "top": null,
      "visibility": null,
      "width": null
     }
    },
    "2121c527dee147a2af8c8cef1245bb63": {
     "model_module": "@jupyter-widgets/base",
     "model_module_version": "1.2.0",
     "model_name": "LayoutModel",
     "state": {
      "_model_module": "@jupyter-widgets/base",
      "_model_module_version": "1.2.0",
      "_model_name": "LayoutModel",
      "_view_count": null,
      "_view_module": "@jupyter-widgets/base",
      "_view_module_version": "1.2.0",
      "_view_name": "LayoutView",
      "align_content": null,
      "align_items": null,
      "align_self": null,
      "border": null,
      "bottom": null,
      "display": null,
      "flex": null,
      "flex_flow": null,
      "grid_area": null,
      "grid_auto_columns": null,
      "grid_auto_flow": null,
      "grid_auto_rows": null,
      "grid_column": null,
      "grid_gap": null,
      "grid_row": null,
      "grid_template_areas": null,
      "grid_template_columns": null,
      "grid_template_rows": null,
      "height": null,
      "justify_content": null,
      "justify_items": null,
      "left": null,
      "margin": null,
      "max_height": null,
      "max_width": null,
      "min_height": null,
      "min_width": null,
      "object_fit": null,
      "object_position": null,
      "order": null,
      "overflow": null,
      "overflow_x": null,
      "overflow_y": null,
      "padding": null,
      "right": null,
      "top": null,
      "visibility": null,
      "width": null
     }
    },
    "21423f189db9476d935a4ecb377ee725": {
     "model_module": "@jupyter-widgets/controls",
     "model_module_version": "1.5.0",
     "model_name": "ProgressStyleModel",
     "state": {
      "_model_module": "@jupyter-widgets/controls",
      "_model_module_version": "1.5.0",
      "_model_name": "ProgressStyleModel",
      "_view_count": null,
      "_view_module": "@jupyter-widgets/base",
      "_view_module_version": "1.2.0",
      "_view_name": "StyleView",
      "bar_color": null,
      "description_width": ""
     }
    },
    "280279923cb14c2689d65f5b0f1be177": {
     "model_module": "@jupyter-widgets/controls",
     "model_module_version": "1.5.0",
     "model_name": "ProgressStyleModel",
     "state": {
      "_model_module": "@jupyter-widgets/controls",
      "_model_module_version": "1.5.0",
      "_model_name": "ProgressStyleModel",
      "_view_count": null,
      "_view_module": "@jupyter-widgets/base",
      "_view_module_version": "1.2.0",
      "_view_name": "StyleView",
      "bar_color": null,
      "description_width": ""
     }
    },
    "327515212b7549a49393328c8eec84cb": {
     "model_module": "@jupyter-widgets/base",
     "model_module_version": "1.2.0",
     "model_name": "LayoutModel",
     "state": {
      "_model_module": "@jupyter-widgets/base",
      "_model_module_version": "1.2.0",
      "_model_name": "LayoutModel",
      "_view_count": null,
      "_view_module": "@jupyter-widgets/base",
      "_view_module_version": "1.2.0",
      "_view_name": "LayoutView",
      "align_content": null,
      "align_items": null,
      "align_self": null,
      "border": null,
      "bottom": null,
      "display": null,
      "flex": null,
      "flex_flow": null,
      "grid_area": null,
      "grid_auto_columns": null,
      "grid_auto_flow": null,
      "grid_auto_rows": null,
      "grid_column": null,
      "grid_gap": null,
      "grid_row": null,
      "grid_template_areas": null,
      "grid_template_columns": null,
      "grid_template_rows": null,
      "height": null,
      "justify_content": null,
      "justify_items": null,
      "left": null,
      "margin": null,
      "max_height": null,
      "max_width": null,
      "min_height": null,
      "min_width": null,
      "object_fit": null,
      "object_position": null,
      "order": null,
      "overflow": null,
      "overflow_x": null,
      "overflow_y": null,
      "padding": null,
      "right": null,
      "top": null,
      "visibility": null,
      "width": null
     }
    },
    "37d8d78539b54025b8b5b328206af6f0": {
     "model_module": "@jupyter-widgets/controls",
     "model_module_version": "1.5.0",
     "model_name": "HBoxModel",
     "state": {
      "_dom_classes": [],
      "_model_module": "@jupyter-widgets/controls",
      "_model_module_version": "1.5.0",
      "_model_name": "HBoxModel",
      "_view_count": null,
      "_view_module": "@jupyter-widgets/controls",
      "_view_module_version": "1.5.0",
      "_view_name": "HBoxView",
      "box_style": "",
      "children": [
       "IPY_MODEL_55344fa281df406a9c179a42f7a232c5",
       "IPY_MODEL_e1ead5ad3fbf40d6bcb315b2eb988da9",
       "IPY_MODEL_f051c405e74d436a94f5f260a4a73cf8"
      ],
      "layout": "IPY_MODEL_a0086a16d87143539d159b10d1f2cd69"
     }
    },
    "4614d56e74de4b8caa434902983b7c89": {
     "model_module": "@jupyter-widgets/base",
     "model_module_version": "1.2.0",
     "model_name": "LayoutModel",
     "state": {
      "_model_module": "@jupyter-widgets/base",
      "_model_module_version": "1.2.0",
      "_model_name": "LayoutModel",
      "_view_count": null,
      "_view_module": "@jupyter-widgets/base",
      "_view_module_version": "1.2.0",
      "_view_name": "LayoutView",
      "align_content": null,
      "align_items": null,
      "align_self": null,
      "border": null,
      "bottom": null,
      "display": null,
      "flex": null,
      "flex_flow": null,
      "grid_area": null,
      "grid_auto_columns": null,
      "grid_auto_flow": null,
      "grid_auto_rows": null,
      "grid_column": null,
      "grid_gap": null,
      "grid_row": null,
      "grid_template_areas": null,
      "grid_template_columns": null,
      "grid_template_rows": null,
      "height": null,
      "justify_content": null,
      "justify_items": null,
      "left": null,
      "margin": null,
      "max_height": null,
      "max_width": null,
      "min_height": null,
      "min_width": null,
      "object_fit": null,
      "object_position": null,
      "order": null,
      "overflow": null,
      "overflow_x": null,
      "overflow_y": null,
      "padding": null,
      "right": null,
      "top": null,
      "visibility": null,
      "width": null
     }
    },
    "509dd6268e63475389f4dc7d85c73d21": {
     "model_module": "@jupyter-widgets/controls",
     "model_module_version": "1.5.0",
     "model_name": "FloatProgressModel",
     "state": {
      "_dom_classes": [],
      "_model_module": "@jupyter-widgets/controls",
      "_model_module_version": "1.5.0",
      "_model_name": "FloatProgressModel",
      "_view_count": null,
      "_view_module": "@jupyter-widgets/controls",
      "_view_module_version": "1.5.0",
      "_view_name": "ProgressView",
      "bar_style": "success",
      "description": "",
      "description_tooltip": null,
      "layout": "IPY_MODEL_2121c527dee147a2af8c8cef1245bb63",
      "max": 472,
      "min": 0,
      "orientation": "horizontal",
      "style": "IPY_MODEL_7eb040d96603451e9d65212a8d585bfa",
      "value": 472
     }
    },
    "55344fa281df406a9c179a42f7a232c5": {
     "model_module": "@jupyter-widgets/controls",
     "model_module_version": "1.5.0",
     "model_name": "HTMLModel",
     "state": {
      "_dom_classes": [],
      "_model_module": "@jupyter-widgets/controls",
      "_model_module_version": "1.5.0",
      "_model_name": "HTMLModel",
      "_view_count": null,
      "_view_module": "@jupyter-widgets/controls",
      "_view_module_version": "1.5.0",
      "_view_name": "HTMLView",
      "description": "",
      "description_tooltip": null,
      "layout": "IPY_MODEL_327515212b7549a49393328c8eec84cb",
      "placeholder": "​",
      "style": "IPY_MODEL_fcdeede84ab14e86b7a94ef0f0d9333a",
      "value": "config.json: 100%"
     }
    },
    "726421fc4e424d45bc6bd81a85dfd87c": {
     "model_module": "@jupyter-widgets/controls",
     "model_module_version": "1.5.0",
     "model_name": "HBoxModel",
     "state": {
      "_dom_classes": [],
      "_model_module": "@jupyter-widgets/controls",
      "_model_module_version": "1.5.0",
      "_model_name": "HBoxModel",
      "_view_count": null,
      "_view_module": "@jupyter-widgets/controls",
      "_view_module_version": "1.5.0",
      "_view_name": "HBoxView",
      "box_style": "",
      "children": [
       "IPY_MODEL_89822087ec094710ae6763ebb38af0e7",
       "IPY_MODEL_509dd6268e63475389f4dc7d85c73d21",
       "IPY_MODEL_bc9ab959e7dc4415b2b0a4fef9448d1b"
      ],
      "layout": "IPY_MODEL_a907c956be374c2fa770d58920dbc180"
     }
    },
    "7eb040d96603451e9d65212a8d585bfa": {
     "model_module": "@jupyter-widgets/controls",
     "model_module_version": "1.5.0",
     "model_name": "ProgressStyleModel",
     "state": {
      "_model_module": "@jupyter-widgets/controls",
      "_model_module_version": "1.5.0",
      "_model_name": "ProgressStyleModel",
      "_view_count": null,
      "_view_module": "@jupyter-widgets/base",
      "_view_module_version": "1.2.0",
      "_view_name": "StyleView",
      "bar_color": null,
      "description_width": ""
     }
    },
    "89822087ec094710ae6763ebb38af0e7": {
     "model_module": "@jupyter-widgets/controls",
     "model_module_version": "1.5.0",
     "model_name": "HTMLModel",
     "state": {
      "_dom_classes": [],
      "_model_module": "@jupyter-widgets/controls",
      "_model_module_version": "1.5.0",
      "_model_name": "HTMLModel",
      "_view_count": null,
      "_view_module": "@jupyter-widgets/controls",
      "_view_module_version": "1.5.0",
      "_view_name": "HTMLView",
      "description": "",
      "description_tooltip": null,
      "layout": "IPY_MODEL_f9d5394737f54cd4a465d50b738f2cdf",
      "placeholder": "​",
      "style": "IPY_MODEL_d4e17dfd27cd4f3792d72b42a2c63fe7",
      "value": "preprocessor_config.json: 100%"
     }
    },
    "8c004e04adb1470a979b3f0e5d5e2e15": {
     "model_module": "@jupyter-widgets/controls",
     "model_module_version": "1.5.0",
     "model_name": "HBoxModel",
     "state": {
      "_dom_classes": [],
      "_model_module": "@jupyter-widgets/controls",
      "_model_module_version": "1.5.0",
      "_model_name": "HBoxModel",
      "_view_count": null,
      "_view_module": "@jupyter-widgets/controls",
      "_view_module_version": "1.5.0",
      "_view_name": "HBoxView",
      "box_style": "",
      "children": [
       "IPY_MODEL_0ec382c178db443eb4c0cda8bb07bc9c",
       "IPY_MODEL_c6eb592536d54275a017aff6b9cb628f",
       "IPY_MODEL_bee0892ffc4543eb982f9145e5f2fe0c"
      ],
      "layout": "IPY_MODEL_02c4a11370d145e7b82c9a3942dbc4b3"
     }
    },
    "995fd4f2063a484ea1a1276bf0729ba2": {
     "model_module": "@jupyter-widgets/controls",
     "model_module_version": "1.5.0",
     "model_name": "DescriptionStyleModel",
     "state": {
      "_model_module": "@jupyter-widgets/controls",
      "_model_module_version": "1.5.0",
      "_model_name": "DescriptionStyleModel",
      "_view_count": null,
      "_view_module": "@jupyter-widgets/base",
      "_view_module_version": "1.2.0",
      "_view_name": "StyleView",
      "description_width": ""
     }
    },
    "a0086a16d87143539d159b10d1f2cd69": {
     "model_module": "@jupyter-widgets/base",
     "model_module_version": "1.2.0",
     "model_name": "LayoutModel",
     "state": {
      "_model_module": "@jupyter-widgets/base",
      "_model_module_version": "1.2.0",
      "_model_name": "LayoutModel",
      "_view_count": null,
      "_view_module": "@jupyter-widgets/base",
      "_view_module_version": "1.2.0",
      "_view_name": "LayoutView",
      "align_content": null,
      "align_items": null,
      "align_self": null,
      "border": null,
      "bottom": null,
      "display": null,
      "flex": null,
      "flex_flow": null,
      "grid_area": null,
      "grid_auto_columns": null,
      "grid_auto_flow": null,
      "grid_auto_rows": null,
      "grid_column": null,
      "grid_gap": null,
      "grid_row": null,
      "grid_template_areas": null,
      "grid_template_columns": null,
      "grid_template_rows": null,
      "height": null,
      "justify_content": null,
      "justify_items": null,
      "left": null,
      "margin": null,
      "max_height": null,
      "max_width": null,
      "min_height": null,
      "min_width": null,
      "object_fit": null,
      "object_position": null,
      "order": null,
      "overflow": null,
      "overflow_x": null,
      "overflow_y": null,
      "padding": null,
      "right": null,
      "top": null,
      "visibility": null,
      "width": null
     }
    },
    "a907c956be374c2fa770d58920dbc180": {
     "model_module": "@jupyter-widgets/base",
     "model_module_version": "1.2.0",
     "model_name": "LayoutModel",
     "state": {
      "_model_module": "@jupyter-widgets/base",
      "_model_module_version": "1.2.0",
      "_model_name": "LayoutModel",
      "_view_count": null,
      "_view_module": "@jupyter-widgets/base",
      "_view_module_version": "1.2.0",
      "_view_name": "LayoutView",
      "align_content": null,
      "align_items": null,
      "align_self": null,
      "border": null,
      "bottom": null,
      "display": null,
      "flex": null,
      "flex_flow": null,
      "grid_area": null,
      "grid_auto_columns": null,
      "grid_auto_flow": null,
      "grid_auto_rows": null,
      "grid_column": null,
      "grid_gap": null,
      "grid_row": null,
      "grid_template_areas": null,
      "grid_template_columns": null,
      "grid_template_rows": null,
      "height": null,
      "justify_content": null,
      "justify_items": null,
      "left": null,
      "margin": null,
      "max_height": null,
      "max_width": null,
      "min_height": null,
      "min_width": null,
      "object_fit": null,
      "object_position": null,
      "order": null,
      "overflow": null,
      "overflow_x": null,
      "overflow_y": null,
      "padding": null,
      "right": null,
      "top": null,
      "visibility": null,
      "width": null
     }
    },
    "b557f9cf389a4ec5acc08298440d72ff": {
     "model_module": "@jupyter-widgets/base",
     "model_module_version": "1.2.0",
     "model_name": "LayoutModel",
     "state": {
      "_model_module": "@jupyter-widgets/base",
      "_model_module_version": "1.2.0",
      "_model_name": "LayoutModel",
      "_view_count": null,
      "_view_module": "@jupyter-widgets/base",
      "_view_module_version": "1.2.0",
      "_view_name": "LayoutView",
      "align_content": null,
      "align_items": null,
      "align_self": null,
      "border": null,
      "bottom": null,
      "display": null,
      "flex": null,
      "flex_flow": null,
      "grid_area": null,
      "grid_auto_columns": null,
      "grid_auto_flow": null,
      "grid_auto_rows": null,
      "grid_column": null,
      "grid_gap": null,
      "grid_row": null,
      "grid_template_areas": null,
      "grid_template_columns": null,
      "grid_template_rows": null,
      "height": null,
      "justify_content": null,
      "justify_items": null,
      "left": null,
      "margin": null,
      "max_height": null,
      "max_width": null,
      "min_height": null,
      "min_width": null,
      "object_fit": null,
      "object_position": null,
      "order": null,
      "overflow": null,
      "overflow_x": null,
      "overflow_y": null,
      "padding": null,
      "right": null,
      "top": null,
      "visibility": null,
      "width": null
     }
    },
    "b68fc3948950466e8653bc39169e39f8": {
     "model_module": "@jupyter-widgets/controls",
     "model_module_version": "1.5.0",
     "model_name": "DescriptionStyleModel",
     "state": {
      "_model_module": "@jupyter-widgets/controls",
      "_model_module_version": "1.5.0",
      "_model_name": "DescriptionStyleModel",
      "_view_count": null,
      "_view_module": "@jupyter-widgets/base",
      "_view_module_version": "1.2.0",
      "_view_name": "StyleView",
      "description_width": ""
     }
    },
    "ba7b2925354c49bd98053ba0737e11bf": {
     "model_module": "@jupyter-widgets/controls",
     "model_module_version": "1.5.0",
     "model_name": "DescriptionStyleModel",
     "state": {
      "_model_module": "@jupyter-widgets/controls",
      "_model_module_version": "1.5.0",
      "_model_name": "DescriptionStyleModel",
      "_view_count": null,
      "_view_module": "@jupyter-widgets/base",
      "_view_module_version": "1.2.0",
      "_view_name": "StyleView",
      "description_width": ""
     }
    },
    "bc9ab959e7dc4415b2b0a4fef9448d1b": {
     "model_module": "@jupyter-widgets/controls",
     "model_module_version": "1.5.0",
     "model_name": "HTMLModel",
     "state": {
      "_dom_classes": [],
      "_model_module": "@jupyter-widgets/controls",
      "_model_module_version": "1.5.0",
      "_model_name": "HTMLModel",
      "_view_count": null,
      "_view_module": "@jupyter-widgets/controls",
      "_view_module_version": "1.5.0",
      "_view_name": "HTMLView",
      "description": "",
      "description_tooltip": null,
      "layout": "IPY_MODEL_d4ef92bbba3b43248a12c2c0253c486a",
      "placeholder": "​",
      "style": "IPY_MODEL_ba7b2925354c49bd98053ba0737e11bf",
      "value": " 472/472 [00:00&lt;00:00, 28.6kB/s]"
     }
    },
    "bee0892ffc4543eb982f9145e5f2fe0c": {
     "model_module": "@jupyter-widgets/controls",
     "model_module_version": "1.5.0",
     "model_name": "HTMLModel",
     "state": {
      "_dom_classes": [],
      "_model_module": "@jupyter-widgets/controls",
      "_model_module_version": "1.5.0",
      "_model_name": "HTMLModel",
      "_view_count": null,
      "_view_module": "@jupyter-widgets/controls",
      "_view_module_version": "1.5.0",
      "_view_name": "HTMLView",
      "description": "",
      "description_tooltip": null,
      "layout": "IPY_MODEL_180fbbbec6c64de9b3aef69511edf8ac",
      "placeholder": "​",
      "style": "IPY_MODEL_b68fc3948950466e8653bc39169e39f8",
      "value": " 21.4M/21.4M [00:02&lt;00:00, 7.97MB/s]"
     }
    },
    "c6eb592536d54275a017aff6b9cb628f": {
     "model_module": "@jupyter-widgets/controls",
     "model_module_version": "1.5.0",
     "model_name": "FloatProgressModel",
     "state": {
      "_dom_classes": [],
      "_model_module": "@jupyter-widgets/controls",
      "_model_module_version": "1.5.0",
      "_model_name": "FloatProgressModel",
      "_view_count": null,
      "_view_module": "@jupyter-widgets/controls",
      "_view_module_version": "1.5.0",
      "_view_name": "ProgressView",
      "bar_style": "success",
      "description": "",
      "description_tooltip": null,
      "layout": "IPY_MODEL_e83649231d1842c282ee63861933850e",
      "max": 21444205,
      "min": 0,
      "orientation": "horizontal",
      "style": "IPY_MODEL_21423f189db9476d935a4ecb377ee725",
      "value": 21444205
     }
    },
    "d1b4731182b44e6c8b46cee16fcf25ea": {
     "model_module": "@jupyter-widgets/controls",
     "model_module_version": "1.5.0",
     "model_name": "DescriptionStyleModel",
     "state": {
      "_model_module": "@jupyter-widgets/controls",
      "_model_module_version": "1.5.0",
      "_model_name": "DescriptionStyleModel",
      "_view_count": null,
      "_view_module": "@jupyter-widgets/base",
      "_view_module_version": "1.2.0",
      "_view_name": "StyleView",
      "description_width": ""
     }
    },
    "d4e17dfd27cd4f3792d72b42a2c63fe7": {
     "model_module": "@jupyter-widgets/controls",
     "model_module_version": "1.5.0",
     "model_name": "DescriptionStyleModel",
     "state": {
      "_model_module": "@jupyter-widgets/controls",
      "_model_module_version": "1.5.0",
      "_model_name": "DescriptionStyleModel",
      "_view_count": null,
      "_view_module": "@jupyter-widgets/base",
      "_view_module_version": "1.2.0",
      "_view_name": "StyleView",
      "description_width": ""
     }
    },
    "d4ef92bbba3b43248a12c2c0253c486a": {
     "model_module": "@jupyter-widgets/base",
     "model_module_version": "1.2.0",
     "model_name": "LayoutModel",
     "state": {
      "_model_module": "@jupyter-widgets/base",
      "_model_module_version": "1.2.0",
      "_model_name": "LayoutModel",
      "_view_count": null,
      "_view_module": "@jupyter-widgets/base",
      "_view_module_version": "1.2.0",
      "_view_name": "LayoutView",
      "align_content": null,
      "align_items": null,
      "align_self": null,
      "border": null,
      "bottom": null,
      "display": null,
      "flex": null,
      "flex_flow": null,
      "grid_area": null,
      "grid_auto_columns": null,
      "grid_auto_flow": null,
      "grid_auto_rows": null,
      "grid_column": null,
      "grid_gap": null,
      "grid_row": null,
      "grid_template_areas": null,
      "grid_template_columns": null,
      "grid_template_rows": null,
      "height": null,
      "justify_content": null,
      "justify_items": null,
      "left": null,
      "margin": null,
      "max_height": null,
      "max_width": null,
      "min_height": null,
      "min_width": null,
      "object_fit": null,
      "object_position": null,
      "order": null,
      "overflow": null,
      "overflow_x": null,
      "overflow_y": null,
      "padding": null,
      "right": null,
      "top": null,
      "visibility": null,
      "width": null
     }
    },
    "e1ead5ad3fbf40d6bcb315b2eb988da9": {
     "model_module": "@jupyter-widgets/controls",
     "model_module_version": "1.5.0",
     "model_name": "FloatProgressModel",
     "state": {
      "_dom_classes": [],
      "_model_module": "@jupyter-widgets/controls",
      "_model_module_version": "1.5.0",
      "_model_name": "FloatProgressModel",
      "_view_count": null,
      "_view_module": "@jupyter-widgets/controls",
      "_view_module_version": "1.5.0",
      "_view_name": "ProgressView",
      "bar_style": "success",
      "description": "",
      "description_tooltip": null,
      "layout": "IPY_MODEL_4614d56e74de4b8caa434902983b7c89",
      "max": 70330,
      "min": 0,
      "orientation": "horizontal",
      "style": "IPY_MODEL_280279923cb14c2689d65f5b0f1be177",
      "value": 70330
     }
    },
    "e83649231d1842c282ee63861933850e": {
     "model_module": "@jupyter-widgets/base",
     "model_module_version": "1.2.0",
     "model_name": "LayoutModel",
     "state": {
      "_model_module": "@jupyter-widgets/base",
      "_model_module_version": "1.2.0",
      "_model_name": "LayoutModel",
      "_view_count": null,
      "_view_module": "@jupyter-widgets/base",
      "_view_module_version": "1.2.0",
      "_view_name": "LayoutView",
      "align_content": null,
      "align_items": null,
      "align_self": null,
      "border": null,
      "bottom": null,
      "display": null,
      "flex": null,
      "flex_flow": null,
      "grid_area": null,
      "grid_auto_columns": null,
      "grid_auto_flow": null,
      "grid_auto_rows": null,
      "grid_column": null,
      "grid_gap": null,
      "grid_row": null,
      "grid_template_areas": null,
      "grid_template_columns": null,
      "grid_template_rows": null,
      "height": null,
      "justify_content": null,
      "justify_items": null,
      "left": null,
      "margin": null,
      "max_height": null,
      "max_width": null,
      "min_height": null,
      "min_width": null,
      "object_fit": null,
      "object_position": null,
      "order": null,
      "overflow": null,
      "overflow_x": null,
      "overflow_y": null,
      "padding": null,
      "right": null,
      "top": null,
      "visibility": null,
      "width": null
     }
    },
    "f051c405e74d436a94f5f260a4a73cf8": {
     "model_module": "@jupyter-widgets/controls",
     "model_module_version": "1.5.0",
     "model_name": "HTMLModel",
     "state": {
      "_dom_classes": [],
      "_model_module": "@jupyter-widgets/controls",
      "_model_module_version": "1.5.0",
      "_model_name": "HTMLModel",
      "_view_count": null,
      "_view_module": "@jupyter-widgets/controls",
      "_view_module_version": "1.5.0",
      "_view_name": "HTMLView",
      "description": "",
      "description_tooltip": null,
      "layout": "IPY_MODEL_b557f9cf389a4ec5acc08298440d72ff",
      "placeholder": "​",
      "style": "IPY_MODEL_d1b4731182b44e6c8b46cee16fcf25ea",
      "value": " 70.3k/70.3k [00:00&lt;00:00, 3.92MB/s]"
     }
    },
    "f9d5394737f54cd4a465d50b738f2cdf": {
     "model_module": "@jupyter-widgets/base",
     "model_module_version": "1.2.0",
     "model_name": "LayoutModel",
     "state": {
      "_model_module": "@jupyter-widgets/base",
      "_model_module_version": "1.2.0",
      "_model_name": "LayoutModel",
      "_view_count": null,
      "_view_module": "@jupyter-widgets/base",
      "_view_module_version": "1.2.0",
      "_view_name": "LayoutView",
      "align_content": null,
      "align_items": null,
      "align_self": null,
      "border": null,
      "bottom": null,
      "display": null,
      "flex": null,
      "flex_flow": null,
      "grid_area": null,
      "grid_auto_columns": null,
      "grid_auto_flow": null,
      "grid_auto_rows": null,
      "grid_column": null,
      "grid_gap": null,
      "grid_row": null,
      "grid_template_areas": null,
      "grid_template_columns": null,
      "grid_template_rows": null,
      "height": null,
      "justify_content": null,
      "justify_items": null,
      "left": null,
      "margin": null,
      "max_height": null,
      "max_width": null,
      "min_height": null,
      "min_width": null,
      "object_fit": null,
      "object_position": null,
      "order": null,
      "overflow": null,
      "overflow_x": null,
      "overflow_y": null,
      "padding": null,
      "right": null,
      "top": null,
      "visibility": null,
      "width": null
     }
    },
    "fcdeede84ab14e86b7a94ef0f0d9333a": {
     "model_module": "@jupyter-widgets/controls",
     "model_module_version": "1.5.0",
     "model_name": "DescriptionStyleModel",
     "state": {
      "_model_module": "@jupyter-widgets/controls",
      "_model_module_version": "1.5.0",
      "_model_name": "DescriptionStyleModel",
      "_view_count": null,
      "_view_module": "@jupyter-widgets/base",
      "_view_module_version": "1.2.0",
      "_view_name": "StyleView",
      "description_width": ""
     }
    }
   }
  }
 },
 "nbformat": 4,
 "nbformat_minor": 5
}
