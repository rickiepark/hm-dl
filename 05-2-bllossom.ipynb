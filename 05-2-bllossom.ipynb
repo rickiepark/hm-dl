{
  "cells": [
    {
      "cell_type": "markdown",
      "id": "cb145d9f-dc9d-4804-870f-b4866db0244e",
      "metadata": {
        "id": "cb145d9f-dc9d-4804-870f-b4866db0244e"
      },
      "source": [
        "# 05-2 Llama 모델로 텍스트 생성하기"
      ]
    },
    {
      "cell_type": "markdown",
      "id": "30f3b4d4-5717-4b1c-a8a9-c4c98056667c",
      "metadata": {
        "id": "30f3b4d4-5717-4b1c-a8a9-c4c98056667c"
      },
      "source": [
        "<table align=\"left\"><tr><td>\n",
        "<a href=\"https://colab.research.google.com/github/rickiepark/hm-dl/blob/main/05-2-bllossom.ipynb\" target=\"_parent\"><img src=\"https://colab.research.google.com/assets/colab-badge.svg\" alt=\"코랩에서 실행하기\"/></a>\n",
        "</td></tr></table>"
      ]
    },
    {
      "cell_type": "markdown",
      "id": "yCXoZXSjKXXb",
      "metadata": {
        "id": "yCXoZXSjKXXb"
      },
      "source": [
        "코랩에서 이 노트북을 실행하려면 A100이나 High-RAM CPU 런타임을 사용해야 합니다."
      ]
    },
    {
      "cell_type": "code",
      "execution_count": null,
      "id": "be063b41-ccd7-4293-9a44-9dca457febf0",
      "metadata": {
        "gather": {
          "logged": 1716293065766
        },
        "id": "be063b41-ccd7-4293-9a44-9dca457febf0",
        "jupyter": {
          "outputs_hidden": false,
          "source_hidden": false
        },
        "nteract": {
          "transient": {
            "deleting": false
          }
        }
      },
      "outputs": [],
      "source": [
        "from transformers import pipeline, set_seed"
      ]
    },
    {
      "cell_type": "markdown",
      "id": "k0lDCzHErw8v",
      "metadata": {
        "id": "k0lDCzHErw8v"
      },
      "source": [
        "### Llama-3와 미세 튜닝 모델 사용하기"
      ]
    },
    {
      "cell_type": "code",
      "execution_count": null,
      "id": "f77cd7d6-8487-4bac-840e-89d70fc36969",
      "metadata": {
        "colab": {
          "base_uri": "https://localhost:8080/",
          "height": 437,
          "referenced_widgets": [
            "2ef0f54fc6b74d88abd0dd4127bb6d48",
            "31b99738dda949ceaba45e1a17f5498b",
            "c03ea66582094684a3357b5f2ca800ec",
            "79870696a3ad486d9919d1e0e5d5f5c9",
            "9c31abcf4d064e74879c0fee5c58890b",
            "07808fe89a6c416b907d77fa06b3924b",
            "370380e81c534e9984f991eacbd6169f",
            "da393afcd5e24628a593c73b1dded1cc",
            "ac4fb00feb4f4be0be72a8f9d6d5963a",
            "0cf4056c8bb0445297055c7bd3fae108",
            "a33f4af818bf4e9a818cf8ed0bafbdb2",
            "8681599f60bc444e9f6a7dbdb5963d91",
            "03094b4ff88f430f9a1d615bf7fd746b",
            "32dcd598ddeb4a8383992aa5a63bd245",
            "60c0280e82ee4d5eb1813708e693c16e",
            "3fa0e2eaa3364b82ace72468667a33e6",
            "d1cfe03454064332a6a215f7276652ec",
            "9c32dabd826b4025b07e903f53382560",
            "175bcd63df7448c68c5935d4ecff2f43",
            "95ffb714c41548b6a946c198483d9587",
            "eab5ab6175454a6cb39e8fe81b5e95fc",
            "39ebbb445e3e4973a5d55c63afb3926f",
            "a3c8cc1551c247bb872fac8d1fa1ec45",
            "a3b22f35a74742cdb4855175e9885038",
            "287626ba5f0645a39d2f66a98440da5d",
            "7e0e28f75418481d87e184ef75ac5f63",
            "ec085886f82648f68fda969c70193198",
            "fa0598f47a89461bbf24633d32750ced",
            "9abe26c63a2748ab88e9059c2bb5bab4",
            "d33e5ab20a0d4d69912bf1db48d8e65a",
            "f01fbd60aaf64c338b05e9444b38fc96",
            "57935cfc5e8245db8870b771ba0f871a",
            "2baeb3554bfc48e2ac588bf93b12c3e2",
            "16c911c10b4b414da5b1136a0df4d85b",
            "d00f3830346347c88e3604241b6d7488",
            "df4a571bbd5a450389c15a1112d98c41",
            "7b9c0d476df94ea9bd2dd2b57c14e3a7",
            "ff8a9a618efc4a64a22eeb55a9f4a1c0",
            "ef22f330b3244930999d4097e786f1d3",
            "836e7622d6884f80a7635cf1eba2a2a7",
            "4da4821b8a264cc6a5251c6af7ea02a6",
            "88c5c9591202499d97aff1648ed824a9",
            "73736c3fc6a64362bbeb8e9b5a58c764",
            "526504dea851476eb5747871b52af1bd",
            "11b54f8ef41541ec83ff66e479a17065",
            "8bf969194a114ba2bbfb52d1f3ddfa56",
            "9e2813944dc545b79b0917686408439f",
            "17fcf9d2ea84404ca8d2e5568eaafb84",
            "7bd31c7a857a44fc9580819afc9dc0fa",
            "a316df1354494a0bb72241fd5cfccd1a",
            "afc8d9d3badb400c9707992c44b9c4f4",
            "74140bf33e3f4fbb8ef8634e060c062e",
            "42d3231649a2422c96fbdc29310c0e5b",
            "648def24d0934c5c9fbf140680a9d59c",
            "58f86309701d46b9a8df99aa393ac9ab",
            "94643304216a4284ae3bfbade2c809ef",
            "5bf7ba806afc4a108971e161a731b34c",
            "b9910fe0a256484ea246c14debc67ffc",
            "d955228784ba40d2a5f648f68b8d04e9",
            "3b233de256da4634b81884577916dd52",
            "3d14cedf147b4502a653d7c84fb17433",
            "be87e465f1cd49fa9cc21678646cbce7",
            "a7353ec5aaac4170bc6e669691c6db6f",
            "1c6c3f5cb42045308ef63109ddd92ed0",
            "06f9cde4cb54460d92696199edf76978",
            "98fafa084f4a4ef39e103e5aba725620",
            "4496dbc1bb964e1291e9bc59fecbc121",
            "26df2f0a0dd9416ea30a7967af991afc",
            "3265c4b2224348169b7b5d03ba05d01e",
            "25c5e352087044a887a5fb7c2039eda8",
            "17ab9c1b6c974d6582bb5b0fddc766a2",
            "90cefd435f2e4b54a516fd9c93bba3cc",
            "2ca3932f40944f2f80ddb68898a98206",
            "b1bf8088c10a4243b50e7e91fff1d561",
            "debfb0c2bdd144e2b273f0d79ea8b910",
            "a81e9ba77dcb409d87656b77d816e4b1",
            "72a2624e9d2a4c868c0a93db8337d133",
            "0de277678e3c422c88968d2136e35593",
            "b361f755727f4c62a91aca47a95bf1d2",
            "cae07264ae354a3592ebee3b649160cb",
            "09d4d9c274be43ba87bb3f2f72abf346",
            "db55345dbebf446b862a5a976d2cd657",
            "22d1df0cc0ea4033b3561ed8de9a9b9c",
            "251e108be47c4a66b4b07a99f384fccc",
            "d7372d3a0d124987aeeecb6ac80f6c14",
            "73eea86aa37e4b648fbbf9c3d5f77abc",
            "4cd86e71476e485c8aa8c93e637b4b26",
            "a409a0c7f45e44aeafc13df3f7ba041e",
            "9c6a0c70495e4e80857b65b1e0fc56a3",
            "625d38aed7f745f8b7ffc111f45ce55f",
            "dcf852c3e479475a8064e7a7eb427ed7",
            "c4e54677416c4278a38318c6997eaeac",
            "1c3d0d536aa94224b4d524beffc7bc76",
            "953f273ea6dc4e45acd4e948afeea0c0",
            "6b0dded9b2254d14a46d916c6305725b",
            "182bf310be2e4d63b6e7a95e5db3330b",
            "56b6b8d8365545de96e2ef60a5e924d0",
            "4b5f0bef150646e6a4e3d4ab3769be5a",
            "eab3dbae5af048049f2fb02f857a9e08",
            "7078319de8ba407b9052c08f30bb7777",
            "1dc190bcdce14079be606d30a9b67b6e",
            "e0f47f090a2a400ca14564378e002c09",
            "c6b0520239f145a7b3b43dd6c0bda71b",
            "82654ec2a52a4582b53d5831adddd665",
            "cc57596829b247739883096c48269407",
            "58625e35e78a4f23b338ae74d6dbeab5",
            "c8cb7a9ecfa2401d8b191df36c5f0545",
            "8802eeff5f5e454db1a0199b5993a9f6",
            "0ad2daa46c0847f9ab900c11e4134a4c",
            "61ba25d0e0904f5db38d630f51bd667e",
            "adacb7a805984d468597469483e7eb6d",
            "b20400b2b93444958397ee04929a846a",
            "6486226b9dab40ebb3c82a6481d8e7e4",
            "2e5d3c723dd343b8be8f06466f4bba44",
            "1137f1c5900540508acd37b5670751af",
            "a41b424329964b5caff3a53cdaa166c5",
            "99350eca2ee345dc8fe94a112ee9ea3a",
            "7dc6b635c14d4f778597f735816c62f4",
            "b1af6a8b738643d2b7f1c3958bea4756",
            "341795276f23429b8d535913d3b536e0",
            "fcbfdaf27fd44265b71d92d2aa71cd9c",
            "6c0a45dfcd3c4e6ab8fc31e7c062769d",
            "7d75b9570466476aa4986db901852246",
            "34a6b5607430434ca395126b269c5b22",
            "e8be072fef584dd29e19f3c17f6fc622",
            "ed712ecec4234391b8897b18703dd5e3",
            "c39bbe053afa48299009d14379618c7e",
            "0eb6dc5ee3c54a2f9a39da2c973f33da",
            "7faa45b4e41f4dd782a2ed81b56155a8",
            "df28fb4e141e45938ba2c452eb8f0e67",
            "29ef762774924585a5c846205fd85424",
            "94728471816948c9838da01f8096ecf9"
          ]
        },
        "gather": {
          "logged": 1716294213721
        },
        "id": "f77cd7d6-8487-4bac-840e-89d70fc36969",
        "jupyter": {
          "outputs_hidden": false,
          "source_hidden": false
        },
        "nteract": {
          "transient": {
            "deleting": false
          }
        },
        "outputId": "34ea01ec-670f-41e1-ff20-0fc75631d4e1"
      },
      "outputs": [
        {
          "output_type": "display_data",
          "data": {
            "text/plain": [
              "config.json:   0%|          | 0.00/710 [00:00<?, ?B/s]"
            ],
            "application/vnd.jupyter.widget-view+json": {
              "version_major": 2,
              "version_minor": 0,
              "model_id": "2ef0f54fc6b74d88abd0dd4127bb6d48"
            }
          },
          "metadata": {}
        },
        {
          "output_type": "display_data",
          "data": {
            "text/plain": [
              "model.safetensors.index.json:   0%|          | 0.00/23.9k [00:00<?, ?B/s]"
            ],
            "application/vnd.jupyter.widget-view+json": {
              "version_major": 2,
              "version_minor": 0,
              "model_id": "8681599f60bc444e9f6a7dbdb5963d91"
            }
          },
          "metadata": {}
        },
        {
          "output_type": "display_data",
          "data": {
            "text/plain": [
              "Downloading shards:   0%|          | 0/4 [00:00<?, ?it/s]"
            ],
            "application/vnd.jupyter.widget-view+json": {
              "version_major": 2,
              "version_minor": 0,
              "model_id": "a3c8cc1551c247bb872fac8d1fa1ec45"
            }
          },
          "metadata": {}
        },
        {
          "output_type": "display_data",
          "data": {
            "text/plain": [
              "model-00001-of-00004.safetensors:   0%|          | 0.00/4.98G [00:00<?, ?B/s]"
            ],
            "application/vnd.jupyter.widget-view+json": {
              "version_major": 2,
              "version_minor": 0,
              "model_id": "16c911c10b4b414da5b1136a0df4d85b"
            }
          },
          "metadata": {}
        },
        {
          "output_type": "display_data",
          "data": {
            "text/plain": [
              "model-00002-of-00004.safetensors:   0%|          | 0.00/5.00G [00:00<?, ?B/s]"
            ],
            "application/vnd.jupyter.widget-view+json": {
              "version_major": 2,
              "version_minor": 0,
              "model_id": "11b54f8ef41541ec83ff66e479a17065"
            }
          },
          "metadata": {}
        },
        {
          "output_type": "display_data",
          "data": {
            "text/plain": [
              "model-00003-of-00004.safetensors:   0%|          | 0.00/4.92G [00:00<?, ?B/s]"
            ],
            "application/vnd.jupyter.widget-view+json": {
              "version_major": 2,
              "version_minor": 0,
              "model_id": "94643304216a4284ae3bfbade2c809ef"
            }
          },
          "metadata": {}
        },
        {
          "output_type": "display_data",
          "data": {
            "text/plain": [
              "model-00004-of-00004.safetensors:   0%|          | 0.00/1.17G [00:00<?, ?B/s]"
            ],
            "application/vnd.jupyter.widget-view+json": {
              "version_major": 2,
              "version_minor": 0,
              "model_id": "4496dbc1bb964e1291e9bc59fecbc121"
            }
          },
          "metadata": {}
        },
        {
          "output_type": "display_data",
          "data": {
            "text/plain": [
              "Loading checkpoint shards:   0%|          | 0/4 [00:00<?, ?it/s]"
            ],
            "application/vnd.jupyter.widget-view+json": {
              "version_major": 2,
              "version_minor": 0,
              "model_id": "0de277678e3c422c88968d2136e35593"
            }
          },
          "metadata": {}
        },
        {
          "output_type": "display_data",
          "data": {
            "text/plain": [
              "generation_config.json:   0%|          | 0.00/172 [00:00<?, ?B/s]"
            ],
            "application/vnd.jupyter.widget-view+json": {
              "version_major": 2,
              "version_minor": 0,
              "model_id": "9c6a0c70495e4e80857b65b1e0fc56a3"
            }
          },
          "metadata": {}
        },
        {
          "output_type": "display_data",
          "data": {
            "text/plain": [
              "tokenizer_config.json:   0%|          | 0.00/51.1k [00:00<?, ?B/s]"
            ],
            "application/vnd.jupyter.widget-view+json": {
              "version_major": 2,
              "version_minor": 0,
              "model_id": "7078319de8ba407b9052c08f30bb7777"
            }
          },
          "metadata": {}
        },
        {
          "output_type": "display_data",
          "data": {
            "text/plain": [
              "tokenizer.json:   0%|          | 0.00/9.09M [00:00<?, ?B/s]"
            ],
            "application/vnd.jupyter.widget-view+json": {
              "version_major": 2,
              "version_minor": 0,
              "model_id": "adacb7a805984d468597469483e7eb6d"
            }
          },
          "metadata": {}
        },
        {
          "output_type": "display_data",
          "data": {
            "text/plain": [
              "special_tokens_map.json:   0%|          | 0.00/444 [00:00<?, ?B/s]"
            ],
            "application/vnd.jupyter.widget-view+json": {
              "version_major": 2,
              "version_minor": 0,
              "model_id": "6c0a45dfcd3c4e6ab8fc31e7c062769d"
            }
          },
          "metadata": {}
        },
        {
          "output_type": "stream",
          "name": "stderr",
          "text": [
            "Device set to use cuda:0\n"
          ]
        },
        {
          "output_type": "execute_result",
          "data": {
            "text/plain": [
              "[{'generated_text': '봄이 오면 자연 속에서 다양한 색과 향을 만날 수 있다. 특히'}]"
            ]
          },
          "metadata": {},
          "execution_count": 2
        }
      ],
      "source": [
        "llama3_bllossom = pipeline(\"text-generation\", model=\"MLP-KTLim/llama-3-Korean-Bllossom-8B\")\n",
        "set_seed(42)\n",
        "llama3_bllossom('봄이 오면', max_length=20, truncation=True)"
      ]
    }
  ],
  "metadata": {
    "accelerator": "GPU",
    "colab": {
      "gpuType": "A100",
      "machine_shape": "hm",
      "provenance": []
    },
    "kernel_info": {
      "name": "py310_tf216_keras3"
    },
    "kernelspec": {
      "display_name": "Python 3 (ipykernel)",
      "language": "python",
      "name": "python3"
    },
    "language_info": {
      "codemirror_mode": {
        "name": "ipython",
        "version": 3
      },
      "file_extension": ".py",
      "mimetype": "text/x-python",
      "name": "python",
      "nbconvert_exporter": "python",
      "pygments_lexer": "ipython3",
      "version": "3.8.18"
    },
    "microsoft": {
      "host": {
        "AzureML": {
          "notebookHasBeenCompleted": true
        }
      },
      "ms_spell_check": {
        "ms_spell_check_language": "en"
      }
    },
    "nteract": {
      "version": "nteract-front-end@1.0.0"
    }
  },
  "nbformat": 4,
  "nbformat_minor": 5
}