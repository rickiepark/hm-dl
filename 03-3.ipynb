{
 "cells": [
  {
   "cell_type": "markdown",
   "id": "2312e428-c551-4995-8a95-abb8930d0367",
   "metadata": {
    "id": "2312e428-c551-4995-8a95-abb8930d0367"
   },
   "source": [
    "# 03-3 사전 훈련된 모델을 새로운 문제에 적용하기"
   ]
  },
  {
   "cell_type": "markdown",
   "id": "91796895-26dc-4af6-bbbd-bad2f7f05379",
   "metadata": {
    "id": "91796895-26dc-4af6-bbbd-bad2f7f05379"
   },
   "source": [
    "<table align=\"left\"><tr><td>\n",
    "<a href=\"https://colab.research.google.com/github/rickiepark/hm-dl/blob/main/03-3.ipynb\" target=\"_parent\"><img src=\"https://colab.research.google.com/assets/colab-badge.svg\" alt=\"코랩에서 실행하기\"/></a>\n",
    "</td></tr></table>"
   ]
  },
  {
   "cell_type": "markdown",
   "id": "B5kU60QgvYkx",
   "metadata": {
    "id": "B5kU60QgvYkx"
   },
   "source": [
    "## 텐서플로 허브로 강아지 사진 분류하기"
   ]
  },
  {
   "cell_type": "code",
   "execution_count": 1,
   "id": "Xs3FOYBZFIW7",
   "metadata": {
    "id": "Xs3FOYBZFIW7"
   },
   "outputs": [],
   "source": [
    "import tf_keras as keras\n",
    "from tf_keras import layers\n",
    "import tensorflow_hub as hub"
   ]
  },
  {
   "cell_type": "code",
   "execution_count": 2,
   "id": "P7dGqLCpFjeR",
   "metadata": {
    "id": "P7dGqLCpFjeR"
   },
   "outputs": [],
   "source": [
    "hub_efficientb0 = keras.Sequential([\n",
    "    layers.Input(shape=(224, 224, 3)),\n",
    "    layers.Rescaling(1.0 / 255.0),\n",
    "    hub.KerasLayer(\"https://www.kaggle.com/models/tensorflow/efficientnet/frameworks/TensorFlow2/variations/b0-classification/versions/1\")\n",
    "])"
   ]
  },
  {
   "cell_type": "code",
   "execution_count": 3,
   "id": "GdogVqnuFdt6",
   "metadata": {
    "colab": {
     "base_uri": "https://localhost:8080/"
    },
    "id": "GdogVqnuFdt6",
    "outputId": "6dc8cad9-ff85-45a9-b22a-543420bb768d"
   },
   "outputs": [
    {
     "name": "stdout",
     "output_type": "stream",
     "text": [
      "Downloading...\n",
      "From: https://drive.google.com/uc?id=1xGkTT3uwYt4myj6eJJeYtdEFgTi2Sj8C\n",
      "To: /content/cat-dog-images.zip\n",
      "\r",
      "  0% 0.00/182k [00:00<?, ?B/s]\r",
      "100% 182k/182k [00:00<00:00, 95.8MB/s]\n",
      "Archive:  cat-dog-images.zip\n",
      "   creating: images/\n",
      "  inflating: images/dog.png          \n",
      "  inflating: images/cat.png          \n"
     ]
    }
   ],
   "source": [
    "!gdown 1xGkTT3uwYt4myj6eJJeYtdEFgTi2Sj8C\n",
    "!unzip cat-dog-images.zip"
   ]
  },
  {
   "cell_type": "code",
   "execution_count": 4,
   "id": "kUffncA2FX25",
   "metadata": {
    "id": "kUffncA2FX25"
   },
   "outputs": [],
   "source": [
    "import numpy as np\n",
    "from PIL import Image\n",
    "\n",
    "dog_png = np.array(Image.open('images/dog.png'))"
   ]
  },
  {
   "cell_type": "code",
   "execution_count": 5,
   "id": "22e4a001-b5dd-4d51-b0df-578a9cb0c445",
   "metadata": {
    "colab": {
     "base_uri": "https://localhost:8080/"
    },
    "id": "22e4a001-b5dd-4d51-b0df-578a9cb0c445",
    "outputId": "72035d03-f427-4871-f65b-096f1acd0659"
   },
   "outputs": [
    {
     "name": "stdout",
     "output_type": "stream",
     "text": [
      "1/1 [==============================] - 4s 4s/step\n",
      "Downloading data from https://storage.googleapis.com/download.tensorflow.org/data/imagenet_class_index.json\n",
      "\u001b[1m35363/35363\u001b[0m \u001b[32m━━━━━━━━━━━━━━━━━━━━\u001b[0m\u001b[37m\u001b[0m \u001b[1m0s\u001b[0m 0us/step\n"
     ]
    },
    {
     "data": {
      "text/plain": [
       "[[('n02099712', 'Labrador_retriever', np.float32(0.3682942)),\n",
       "  ('n02104029', 'kuvasz', np.float32(0.19339868)),\n",
       "  ('n02099601', 'golden_retriever', np.float32(0.061458193)),\n",
       "  ('n02111500', 'Great_Pyrenees', np.float32(0.05779694)),\n",
       "  ('n02095889', 'Sealyham_terrier', np.float32(0.017902788))]]"
      ]
     },
     "execution_count": 5,
     "metadata": {},
     "output_type": "execute_result"
    }
   ],
   "source": [
    "from keras.applications import efficientnet\n",
    "\n",
    "predictions = hub_efficientb0.predict(dog_png[np.newaxis,:])\n",
    "efficientnet.decode_predictions(predictions)"
   ]
  },
  {
   "cell_type": "markdown",
   "id": "xPwufqOFFA6F",
   "metadata": {
    "id": "xPwufqOFFA6F"
   },
   "source": [
    "## 허깅페이스로 강아지 사진 분류하기"
   ]
  },
  {
   "cell_type": "code",
   "execution_count": 6,
   "id": "a293273a-665c-4d08-b7fa-13dcb52f759a",
   "metadata": {
    "colab": {
     "base_uri": "https://localhost:8080/",
     "height": 289,
     "referenced_widgets": [
      "c76c43ba91554979b4b942aaaaf6c3dc",
      "fe8c6ed0dc6a48a4b2df7fa75ca21aa0",
      "703305598a8f405a913bf7542b5c006c",
      "f2e12b4b2dc242f9b7bd1264346d1a21",
      "92da8f7abfaa4d57b83c7cf86468bf42",
      "a9f8067bccd94127afe480ac4b158127",
      "ad7a97153453416584d5ee49e7710980",
      "dc72010f4fc743d1b813842cec8379a4",
      "7ca0ed96ae3c40f0acd44a2eb5c038ef",
      "3b9a50091d464b2cabe9b7e4adb7d8f9",
      "99b1110621644b3bb2b6f7b207c1f7ed",
      "7573eab7292c44d193f12c6703da0c96",
      "013038b630d24784a930d2ccaa478a3c",
      "1d6e77e77ceb4cbaaa9b48ca55537aee",
      "ede92a0ced3b42a099770b6caf4a50d2",
      "01eeabc25f20463c82cb2bd1260bdcac",
      "ff70b1854d044aa386018328fcc6a0e1",
      "366f7822a170405db8c5aee1fc554abc",
      "9957cad9c90c4208b3ba2562a7027c68",
      "ee3b79c9caa84a26a0ad45845acb1429",
      "f322c07a89d34c46a2941f71fa64c937",
      "4ad04750923d45708cd8851b6dce2800",
      "5c7da57fbaeb4a118f007c49b890c166",
      "b88f0f87441c460bbd7e7856219c4d4e",
      "18ac620ee9ce40d8b78e4f5cdef5f5e8",
      "7cb41103aba448e9b021965ce10d5456",
      "c20fe39229eb4d539c2db1cc03768b9c",
      "ad718a33ab9e4d1eb1d9015ec796eff0",
      "b2f7d50d76f148dba70544ad9fb52b5b",
      "749b652b3a5446c5b8bb39326a124a96",
      "d86a5577d4954cd5af1368591d5e076e",
      "a251d59a1e1944ffaa5a61991815b2df",
      "b9cd05d672544612955801c98574c1c7",
      "dc095bdddecf48ff8e729f8970de2212",
      "7e51f8ebb30e44cbb9c02fe6a7fe7561",
      "e453c0d579664d4e869bb170aba25dce",
      "55c0990920f045569b8667e578d42972",
      "8a8ae2189a0b4d3a96ec5fd8819ef506",
      "93b9a180c77c46c0978f289d896234ab",
      "27804ef7632e4568b9288510cd188417",
      "686ffa8234614bb796e65c96ab1bc8b2",
      "c5f4b25491234cb0827b2f3bbf4cdf97",
      "eb12811e3dcf4f61bca6d12701c667d4",
      "a5a18279bfba4eca87380c37cfc503a5"
     ]
    },
    "id": "a293273a-665c-4d08-b7fa-13dcb52f759a",
    "outputId": "c6bd935a-24a2-408c-dca9-b3e94f2877de"
   },
   "outputs": [
    {
     "data": {
      "application/vnd.jupyter.widget-view+json": {
       "model_id": "c76c43ba91554979b4b942aaaaf6c3dc",
       "version_major": 2,
       "version_minor": 0
      },
      "text/plain": [
       "config.json:   0%|          | 0.00/70.3k [00:00<?, ?B/s]"
      ]
     },
     "metadata": {},
     "output_type": "display_data"
    },
    {
     "data": {
      "application/vnd.jupyter.widget-view+json": {
       "model_id": "7573eab7292c44d193f12c6703da0c96",
       "version_major": 2,
       "version_minor": 0
      },
      "text/plain": [
       "pytorch_model.bin:   0%|          | 0.00/21.4M [00:00<?, ?B/s]"
      ]
     },
     "metadata": {},
     "output_type": "display_data"
    },
    {
     "data": {
      "application/vnd.jupyter.widget-view+json": {
       "model_id": "5c7da57fbaeb4a118f007c49b890c166",
       "version_major": 2,
       "version_minor": 0
      },
      "text/plain": [
       "preprocessor_config.json:   0%|          | 0.00/472 [00:00<?, ?B/s]"
      ]
     },
     "metadata": {},
     "output_type": "display_data"
    },
    {
     "name": "stderr",
     "output_type": "stream",
     "text": [
      "Using a slow image processor as `use_fast` is unset and a slow processor was saved with this model. `use_fast=True` will be the default behavior in v4.52, even if the model was saved with a slow processor. This will result in minor differences in outputs. You'll still be able to use a slow processor with `use_fast=False`.\n",
      "Device set to use cuda:0\n"
     ]
    },
    {
     "data": {
      "application/vnd.jupyter.widget-view+json": {
       "model_id": "dc095bdddecf48ff8e729f8970de2212",
       "version_major": 2,
       "version_minor": 0
      },
      "text/plain": [
       "model.safetensors:   0%|          | 0.00/21.4M [00:00<?, ?B/s]"
      ]
     },
     "metadata": {},
     "output_type": "display_data"
    },
    {
     "data": {
      "text/plain": [
       "[{'label': 'Labrador retriever', 'score': 0.36829379200935364},\n",
       " {'label': 'kuvasz', 'score': 0.19339875876903534},\n",
       " {'label': 'golden retriever', 'score': 0.06145830079913139},\n",
       " {'label': 'Great Pyrenees', 'score': 0.057797010987997055},\n",
       " {'label': 'Sealyham terrier, Sealyham', 'score': 0.01790277287364006}]"
      ]
     },
     "execution_count": 6,
     "metadata": {},
     "output_type": "execute_result"
    }
   ],
   "source": [
    "from transformers import pipeline\n",
    "\n",
    "pipe = pipeline(task='image-classification', device=0,\n",
    "                model='google/efficientnet-b0')\n",
    "pipe('images/dog.png')"
   ]
  },
  {
   "cell_type": "markdown",
   "id": "c6222c43-b850-4b9e-a93f-fb3d3d26fe71",
   "metadata": {
    "id": "c6222c43-b850-4b9e-a93f-fb3d3d26fe71"
   },
   "source": [
    "## 전이 학습으로 피스타치오 품종 분류하기"
   ]
  },
  {
   "cell_type": "markdown",
   "id": "uXaCDT74xIbG",
   "metadata": {
    "id": "uXaCDT74xIbG"
   },
   "source": [
    "### 사전 훈련된 모델로 피스타치오 품종 분류하기"
   ]
  },
  {
   "cell_type": "code",
   "execution_count": 7,
   "id": "w-RSHY9FkatW",
   "metadata": {
    "colab": {
     "base_uri": "https://localhost:8080/",
     "height": 88
    },
    "id": "w-RSHY9FkatW",
    "outputId": "5cc5938d-79d1-49ee-a318-9a24e87822f5"
   },
   "outputs": [
    {
     "name": "stdout",
     "output_type": "stream",
     "text": [
      "Downloading...\n",
      "From: https://drive.google.com/uc?id=10bnEC6-ZfXZFZ2mb3zoWd38TjYufanWo\n",
      "To: /content/Pistachio_Image_Dataset.zip\n",
      "100% 25.9M/25.9M [00:00<00:00, 34.4MB/s]\n"
     ]
    }
   ],
   "source": [
    "!gdown 10bnEC6-ZfXZFZ2mb3zoWd38TjYufanWo\n",
    "!unzip -q Pistachio_Image_Dataset.zip"
   ]
  },
  {
   "cell_type": "code",
   "execution_count": 8,
   "id": "8a12732d-78d6-4bf1-98a4-33594d16ba24",
   "metadata": {
    "colab": {
     "base_uri": "https://localhost:8080/"
    },
    "id": "8a12732d-78d6-4bf1-98a4-33594d16ba24",
    "outputId": "14fa4742-57be-491c-a1e3-767a8cf378a3"
   },
   "outputs": [
    {
     "data": {
      "text/plain": [
       "(600, 600, 3)"
      ]
     },
     "execution_count": 8,
     "metadata": {},
     "output_type": "execute_result"
    }
   ],
   "source": [
    "pistachio_sample = np.array(Image.open('Pistachio_Image_Dataset/Kirmizi_Pistachio/kirmizi (1).jpg'))\n",
    "pistachio_sample.shape"
   ]
  },
  {
   "cell_type": "code",
   "execution_count": 9,
   "id": "F2nRD1Wg7JCE",
   "metadata": {
    "colab": {
     "base_uri": "https://localhost:8080/"
    },
    "id": "F2nRD1Wg7JCE",
    "outputId": "fa6c5855-0ef8-4cf7-b672-671a52b87473"
   },
   "outputs": [
    {
     "name": "stdout",
     "output_type": "stream",
     "text": [
      "Downloading data from https://storage.googleapis.com/keras-applications/efficientnetb7.h5\n",
      "268326632/268326632 [==============================] - 7s 0us/step\n",
      "1/1 [==============================] - 7s 7s/step\n"
     ]
    },
    {
     "data": {
      "text/plain": [
       "[[('n01950731', 'sea_slug', np.float32(0.23482428)),\n",
       "  ('n01924916', 'flatworm', np.float32(0.20674421)),\n",
       "  ('n01943899', 'conch', np.float32(0.08622336)),\n",
       "  ('n01945685', 'slug', np.float32(0.08500543)),\n",
       "  ('n01955084', 'chiton', np.float32(0.02824293))]]"
      ]
     },
     "execution_count": 9,
     "metadata": {},
     "output_type": "execute_result"
    }
   ],
   "source": [
    "efficientb7 = keras.applications.EfficientNetB7()\n",
    "predictions = efficientb7.predict(pistachio_sample[np.newaxis,:])\n",
    "efficientnet.decode_predictions(predictions)"
   ]
  },
  {
   "cell_type": "markdown",
   "id": "gvzDqKE-xVDk",
   "metadata": {
    "id": "gvzDqKE-xVDk"
   },
   "source": [
    "### 전이 학습으로 피스타치오 품종 분류하기"
   ]
  },
  {
   "cell_type": "code",
   "execution_count": 10,
   "id": "f20125d2-ec7d-4c2e-94db-bd32ffdc3bbc",
   "metadata": {
    "colab": {
     "base_uri": "https://localhost:8080/"
    },
    "id": "f20125d2-ec7d-4c2e-94db-bd32ffdc3bbc",
    "outputId": "f568fcdd-d7c4-4367-cd64-a8cf46c0a0c8",
    "scrolled": true
   },
   "outputs": [
    {
     "name": "stdout",
     "output_type": "stream",
     "text": [
      "Downloading data from https://storage.googleapis.com/keras-applications/efficientnetb0_notop.h5\n",
      "16705208/16705208 [==============================] - 1s 0us/step\n"
     ]
    },
    {
     "data": {
      "text/plain": [
       "TensorShape([1, 18, 18, 1280])"
      ]
     },
     "execution_count": 10,
     "metadata": {},
     "output_type": "execute_result"
    }
   ],
   "source": [
    "keras_efficientb0_base = keras.applications.EfficientNetB0(include_top=False)\n",
    "feature_map = keras_efficientb0_base(pistachio_sample[np.newaxis,:])\n",
    "feature_map.shape"
   ]
  },
  {
   "cell_type": "code",
   "execution_count": 11,
   "id": "b8039236",
   "metadata": {
    "colab": {
     "base_uri": "https://localhost:8080/"
    },
    "id": "b8039236",
    "outputId": "4dcb51d9-618d-4c65-be72-31bd682ac2db"
   },
   "outputs": [
    {
     "name": "stdout",
     "output_type": "stream",
     "text": [
      "Found 2148 files belonging to 2 classes.\n",
      "Using 1719 files for training.\n",
      "Using 429 files for validation.\n"
     ]
    }
   ],
   "source": [
    "train_ds, val_ds = keras.utils.image_dataset_from_directory(\n",
    "    'Pistachio_Image_Dataset', image_size=(224, 224), batch_size=16,\n",
    "    validation_split=0.2, subset='both', seed=42\n",
    ")"
   ]
  },
  {
   "cell_type": "code",
   "execution_count": 12,
   "id": "O1eXhxNGxdA3",
   "metadata": {
    "id": "O1eXhxNGxdA3"
   },
   "outputs": [],
   "source": [
    "keras_efficientb0_base.trainable = False"
   ]
  },
  {
   "cell_type": "code",
   "execution_count": 13,
   "id": "aIPEIPYPiM6G",
   "metadata": {
    "id": "aIPEIPYPiM6G"
   },
   "outputs": [],
   "source": [
    "inputs = keras.Input(shape=(224, 224, 3))\n",
    "x = keras_efficientb0_base(inputs)\n",
    "x = layers.GlobalAveragePooling2D()(x)\n",
    "x = layers.Dense(128, activation='relu')(x)\n",
    "outputs = layers.Dense(1, activation=\"sigmoid\")(x)\n",
    "model = keras.Model(inputs, outputs)"
   ]
  },
  {
   "cell_type": "code",
   "execution_count": 14,
   "id": "AW_i5wkgxfOc",
   "metadata": {
    "colab": {
     "base_uri": "https://localhost:8080/"
    },
    "id": "AW_i5wkgxfOc",
    "outputId": "5bb22793-84e1-4835-b476-cbdfb9c490db"
   },
   "outputs": [
    {
     "name": "stdout",
     "output_type": "stream",
     "text": [
      "Epoch 1/20\n",
      "108/108 [==============================] - 18s 91ms/step - loss: 0.4898 - accuracy: 0.8173 - val_loss: 0.3589 - val_accuracy: 0.9091\n",
      "Epoch 2/20\n",
      "108/108 [==============================] - 5s 46ms/step - loss: 0.3160 - accuracy: 0.9110 - val_loss: 0.2491 - val_accuracy: 0.9301\n",
      "Epoch 3/20\n",
      "108/108 [==============================] - 5s 41ms/step - loss: 0.2351 - accuracy: 0.9290 - val_loss: 0.1937 - val_accuracy: 0.9487\n",
      "Epoch 4/20\n",
      "108/108 [==============================] - 5s 47ms/step - loss: 0.1920 - accuracy: 0.9476 - val_loss: 0.1634 - val_accuracy: 0.9464\n",
      "Epoch 5/20\n",
      "108/108 [==============================] - 5s 41ms/step - loss: 0.1619 - accuracy: 0.9506 - val_loss: 0.1396 - val_accuracy: 0.9604\n",
      "Epoch 6/20\n",
      "108/108 [==============================] - 5s 41ms/step - loss: 0.1359 - accuracy: 0.9622 - val_loss: 0.1233 - val_accuracy: 0.9650\n",
      "Epoch 7/20\n",
      "108/108 [==============================] - 5s 48ms/step - loss: 0.1262 - accuracy: 0.9645 - val_loss: 0.1135 - val_accuracy: 0.9697\n",
      "Epoch 8/20\n",
      "108/108 [==============================] - 5s 41ms/step - loss: 0.1106 - accuracy: 0.9703 - val_loss: 0.1043 - val_accuracy: 0.9697\n",
      "Epoch 9/20\n",
      "108/108 [==============================] - 5s 46ms/step - loss: 0.1083 - accuracy: 0.9657 - val_loss: 0.0981 - val_accuracy: 0.9720\n",
      "Epoch 10/20\n",
      "108/108 [==============================] - 5s 46ms/step - loss: 0.0934 - accuracy: 0.9674 - val_loss: 0.0933 - val_accuracy: 0.9744\n",
      "Epoch 11/20\n",
      "108/108 [==============================] - 5s 48ms/step - loss: 0.0876 - accuracy: 0.9744 - val_loss: 0.0874 - val_accuracy: 0.9767\n",
      "Epoch 12/20\n",
      "108/108 [==============================] - 5s 41ms/step - loss: 0.0850 - accuracy: 0.9715 - val_loss: 0.0844 - val_accuracy: 0.9767\n",
      "Epoch 13/20\n",
      "108/108 [==============================] - 5s 48ms/step - loss: 0.0781 - accuracy: 0.9756 - val_loss: 0.0814 - val_accuracy: 0.9744\n",
      "Epoch 14/20\n",
      "108/108 [==============================] - 5s 41ms/step - loss: 0.0754 - accuracy: 0.9773 - val_loss: 0.0775 - val_accuracy: 0.9767\n",
      "Epoch 15/20\n",
      "108/108 [==============================] - 5s 44ms/step - loss: 0.0692 - accuracy: 0.9773 - val_loss: 0.0749 - val_accuracy: 0.9767\n",
      "Epoch 16/20\n",
      "108/108 [==============================] - 5s 45ms/step - loss: 0.0683 - accuracy: 0.9761 - val_loss: 0.0731 - val_accuracy: 0.9790\n",
      "Epoch 17/20\n",
      "108/108 [==============================] - 5s 42ms/step - loss: 0.0667 - accuracy: 0.9767 - val_loss: 0.0714 - val_accuracy: 0.9790\n",
      "Epoch 18/20\n",
      "108/108 [==============================] - 6s 51ms/step - loss: 0.0620 - accuracy: 0.9808 - val_loss: 0.0701 - val_accuracy: 0.9790\n",
      "Epoch 19/20\n",
      "108/108 [==============================] - 5s 46ms/step - loss: 0.0627 - accuracy: 0.9814 - val_loss: 0.0687 - val_accuracy: 0.9790\n",
      "Epoch 20/20\n",
      "108/108 [==============================] - 5s 42ms/step - loss: 0.0601 - accuracy: 0.9808 - val_loss: 0.0673 - val_accuracy: 0.9790\n"
     ]
    }
   ],
   "source": [
    "rmsprop = keras.optimizers.RMSprop(learning_rate=5e-5)\n",
    "model.compile(optimizer=rmsprop, loss='binary_crossentropy', metrics=['accuracy'])\n",
    "hist = model.fit(train_ds, epochs=20, validation_data=val_ds)"
   ]
  },
  {
   "cell_type": "code",
   "execution_count": 15,
   "id": "IntxvaRB8PWP",
   "metadata": {
    "colab": {
     "base_uri": "https://localhost:8080/",
     "height": 388
    },
    "id": "IntxvaRB8PWP",
    "outputId": "be964679-b13d-470c-9609-7918dd3d2f0e"
   },
   "outputs": [
    {
     "data": {
      "image/png": "[encoded data removed]",
      "text/plain": [
       "<Figure size 1200x400 with 2 Axes>"
      ]
     },
     "metadata": {},
     "output_type": "display_data"
    }
   ],
   "source": [
    "import matplotlib.pyplot as plt\n",
    "\n",
    "fig, axs = plt.subplots(1, 2, figsize=(12, 4))\n",
    "axs[0].plot(range(1, 21), hist.history['loss'], label='loss')\n",
    "axs[0].plot(range(1, 21), hist.history['val_loss'], label='val_loss')\n",
    "axs[0].set_xticks(range(1, 21))\n",
    "axs[0].set_xlabel('epoch')\n",
    "axs[0].set_ylabel('loss')\n",
    "axs[0].legend()\n",
    "axs[1].plot(range(1, 21), hist.history['accuracy'], label='accuracy')\n",
    "axs[1].plot(range(1, 21), hist.history['val_accuracy'], label='val_accuracy')\n",
    "axs[1].set_xticks(range(1, 21))\n",
    "axs[1].set_xlabel('epoch')\n",
    "axs[1].set_ylabel('accuracy')\n",
    "axs[1].legend()\n",
    "plt.show()"
   ]
  },
  {
   "cell_type": "markdown",
   "id": "66gPs0bw8VD2",
   "metadata": {
    "id": "66gPs0bw8VD2"
   },
   "source": [
    "## 미니 프로젝트"
   ]
  },
  {
   "cell_type": "code",
   "execution_count": 16,
   "id": "fajYV5Wc7pAU",
   "metadata": {
    "id": "fajYV5Wc7pAU"
   },
   "outputs": [],
   "source": [
    "kaggle_efficientb0_base = hub.KerasLayer('https://www.kaggle.com/models/tensorflow/efficientnet/frameworks/TensorFlow2/variations/b0-feature-vector/versions/1')\n",
    "\n",
    "inputs = keras.Input(shape=(224, 224, 3))\n",
    "x = layers.Rescaling(1.0 / 255.0)(inputs)\n",
    "x = kaggle_efficientb0_base(x)\n",
    "x = layers.Dense(128, activation='relu')(x)\n",
    "outputs = layers.Dense(1, activation='sigmoid')(x)\n",
    "model = keras.Model(inputs, outputs)"
   ]
  },
  {
   "cell_type": "code",
   "execution_count": 17,
   "id": "480f4d8b-0fbd-4731-9d15-2af6c1ae2b14",
   "metadata": {
    "colab": {
     "base_uri": "https://localhost:8080/"
    },
    "id": "480f4d8b-0fbd-4731-9d15-2af6c1ae2b14",
    "outputId": "45955a9a-5a2b-400c-8c06-a176a87a2ff2"
   },
   "outputs": [
    {
     "name": "stdout",
     "output_type": "stream",
     "text": [
      "Epoch 1/20\n",
      "108/108 [==============================] - 16s 52ms/step - loss: 0.4000 - accuracy: 0.8534 - val_loss: 0.2474 - val_accuracy: 0.9277\n",
      "Epoch 2/20\n",
      "108/108 [==============================] - 5s 42ms/step - loss: 0.2003 - accuracy: 0.9459 - val_loss: 0.1597 - val_accuracy: 0.9604\n",
      "Epoch 3/20\n",
      "108/108 [==============================] - 5s 42ms/step - loss: 0.1402 - accuracy: 0.9628 - val_loss: 0.1271 - val_accuracy: 0.9650\n",
      "Epoch 4/20\n",
      "108/108 [==============================] - 4s 39ms/step - loss: 0.1098 - accuracy: 0.9697 - val_loss: 0.1234 - val_accuracy: 0.9604\n",
      "Epoch 5/20\n",
      "108/108 [==============================] - 5s 46ms/step - loss: 0.0913 - accuracy: 0.9727 - val_loss: 0.1035 - val_accuracy: 0.9650\n",
      "Epoch 6/20\n",
      "108/108 [==============================] - 4s 40ms/step - loss: 0.0776 - accuracy: 0.9791 - val_loss: 0.0906 - val_accuracy: 0.9744\n",
      "Epoch 7/20\n",
      "108/108 [==============================] - 4s 39ms/step - loss: 0.0684 - accuracy: 0.9808 - val_loss: 0.0803 - val_accuracy: 0.9767\n",
      "Epoch 8/20\n",
      "108/108 [==============================] - 5s 47ms/step - loss: 0.0616 - accuracy: 0.9814 - val_loss: 0.0744 - val_accuracy: 0.9790\n",
      "Epoch 9/20\n",
      "108/108 [==============================] - 4s 39ms/step - loss: 0.0562 - accuracy: 0.9860 - val_loss: 0.0703 - val_accuracy: 0.9814\n",
      "Epoch 10/20\n",
      "108/108 [==============================] - 6s 57ms/step - loss: 0.0500 - accuracy: 0.9866 - val_loss: 0.0723 - val_accuracy: 0.9767\n",
      "Epoch 11/20\n",
      "108/108 [==============================] - 4s 40ms/step - loss: 0.0458 - accuracy: 0.9901 - val_loss: 0.0679 - val_accuracy: 0.9767\n",
      "Epoch 12/20\n",
      "108/108 [==============================] - 7s 65ms/step - loss: 0.0423 - accuracy: 0.9907 - val_loss: 0.0620 - val_accuracy: 0.9814\n",
      "Epoch 13/20\n",
      "108/108 [==============================] - 4s 39ms/step - loss: 0.0396 - accuracy: 0.9878 - val_loss: 0.0597 - val_accuracy: 0.9837\n",
      "Epoch 14/20\n",
      "108/108 [==============================] - 5s 47ms/step - loss: 0.0366 - accuracy: 0.9907 - val_loss: 0.0582 - val_accuracy: 0.9837\n",
      "Epoch 15/20\n",
      "108/108 [==============================] - 4s 39ms/step - loss: 0.0337 - accuracy: 0.9919 - val_loss: 0.0562 - val_accuracy: 0.9814\n",
      "Epoch 16/20\n",
      "108/108 [==============================] - 5s 41ms/step - loss: 0.0319 - accuracy: 0.9924 - val_loss: 0.0553 - val_accuracy: 0.9837\n",
      "Epoch 17/20\n",
      "108/108 [==============================] - 5s 44ms/step - loss: 0.0295 - accuracy: 0.9930 - val_loss: 0.0542 - val_accuracy: 0.9814\n",
      "Epoch 18/20\n",
      "108/108 [==============================] - 4s 39ms/step - loss: 0.0278 - accuracy: 0.9948 - val_loss: 0.0535 - val_accuracy: 0.9814\n",
      "Epoch 19/20\n",
      "108/108 [==============================] - 5s 46ms/step - loss: 0.0253 - accuracy: 0.9942 - val_loss: 0.0529 - val_accuracy: 0.9814\n",
      "Epoch 20/20\n",
      "108/108 [==============================] - 4s 39ms/step - loss: 0.0239 - accuracy: 0.9965 - val_loss: 0.0535 - val_accuracy: 0.9814\n"
     ]
    }
   ],
   "source": [
    "rmsprop = keras.optimizers.RMSprop(learning_rate=1e-4)\n",
    "model.compile(optimizer=rmsprop, loss='binary_crossentropy', metrics=['accuracy'])\n",
    "hist = model.fit(train_ds, epochs=20, validation_data=val_ds)"
   ]
  },
  {
   "cell_type": "code",
   "execution_count": 18,
   "id": "trvmgmnGSM77",
   "metadata": {
    "colab": {
     "base_uri": "https://localhost:8080/",
     "height": 388
    },
    "id": "trvmgmnGSM77",
    "outputId": "32c7955a-c00e-4ac7-8280-8ffc69ac7516"
   },
   "outputs": [
    {
     "data": {
      "image/png": "[encoded data removed]",
      "text/plain": [
       "<Figure size 1200x400 with 2 Axes>"
      ]
     },
     "metadata": {},
     "output_type": "display_data"
    }
   ],
   "source": [
    "fig, axs = plt.subplots(1, 2, figsize=(12, 4))\n",
    "axs[0].plot(range(1, 21), hist.history['loss'], label='loss')\n",
    "axs[0].plot(range(1, 21), hist.history['val_loss'], label='val_loss')\n",
    "axs[0].set_xticks(range(1, 21))\n",
    "axs[0].set_xlabel('epoch')\n",
    "axs[0].set_ylabel('loss')\n",
    "axs[0].legend()\n",
    "axs[1].plot(range(1, 21), hist.history['accuracy'], label='accuracy')\n",
    "axs[1].plot(range(1, 21), hist.history['val_accuracy'], label='val_accuracy')\n",
    "axs[1].set_xticks(range(1, 21))\n",
    "axs[1].set_xlabel('epoch')\n",
    "axs[1].set_ylabel('accuracy')\n",
    "axs[1].legend()\n",
    "plt.show()"
   ]
  }
 ],
 "metadata": {
  "accelerator": "GPU",
  "colab": {
   "gpuType": "T4",
   "provenance": []
  },
  "kernelspec": {
   "display_name": "Python 3 (ipykernel)",
   "language": "python",
   "name": "python3"
  },
  "language_info": {
   "codemirror_mode": {
    "name": "ipython",
    "version": 3
   },
   "file_extension": ".py",
   "mimetype": "text/x-python",
   "name": "python",
   "nbconvert_exporter": "python",
   "pygments_lexer": "ipython3",
   "version": "3.8.18"
  }
 },
 "nbformat": 4,
 "nbformat_minor": 5
}
