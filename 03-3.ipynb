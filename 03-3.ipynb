{
  "cells": [
    {
      "cell_type": "markdown",
      "id": "2312e428-c551-4995-8a95-abb8930d0367",
      "metadata": {
        "id": "2312e428-c551-4995-8a95-abb8930d0367"
      },
      "source": [
        "# 03-3 모델 저장소와 전이 학습"
      ]
    },
    {
      "cell_type": "markdown",
      "id": "91796895-26dc-4af6-bbbd-bad2f7f05379",
      "metadata": {
        "id": "91796895-26dc-4af6-bbbd-bad2f7f05379"
      },
      "source": [
        "<table align=\"left\"><tr><td>\n",
        "<a href=\"https://colab.research.google.com/github/rickiepark/hm-dl/blob/main/03-3.ipynb\" target=\"_parent\"><img src=\"https://colab.research.google.com/assets/colab-badge.svg\" alt=\"코랩에서 실행하기\"/></a>\n",
        "</td></tr></table>"
      ]
    },
    {
      "cell_type": "markdown",
      "id": "B5kU60QgvYkx",
      "metadata": {
        "id": "B5kU60QgvYkx"
      },
      "source": [
        "## 텐서플로 허브"
      ]
    },
    {
      "cell_type": "code",
      "source": [
        "import tf_keras as keras\n",
        "from tf_keras import layers\n",
        "import tensorflow_hub as hub"
      ],
      "metadata": {
        "id": "Xs3FOYBZFIW7"
      },
      "id": "Xs3FOYBZFIW7",
      "execution_count": 1,
      "outputs": []
    },
    {
      "cell_type": "code",
      "source": [
        "hub_efficientb0 = keras.Sequential([\n",
        "    layers.Input(shape=(224, 224, 3)),\n",
        "    layers.Rescaling(1.0 / 255.0),\n",
        "    hub.KerasLayer(\"https://www.kaggle.com/models/tensorflow/efficientnet/frameworks/TensorFlow2/variations/b0-classification/versions/1\")\n",
        "])"
      ],
      "metadata": {
        "id": "P7dGqLCpFjeR"
      },
      "id": "P7dGqLCpFjeR",
      "execution_count": 2,
      "outputs": []
    },
    {
      "cell_type": "code",
      "source": [
        "!gdown 1xGkTT3uwYt4myj6eJJeYtdEFgTi2Sj8C\n",
        "!unzip cat-dog-images.zip"
      ],
      "metadata": {
        "id": "GdogVqnuFdt6",
        "outputId": "12b2d2f4-89b9-4c40-87c7-ac1fbefdbe83",
        "colab": {
          "base_uri": "https://localhost:8080/"
        }
      },
      "id": "GdogVqnuFdt6",
      "execution_count": 3,
      "outputs": [
        {
          "output_type": "stream",
          "name": "stdout",
          "text": [
            "Downloading...\n",
            "From: https://drive.google.com/uc?id=1xGkTT3uwYt4myj6eJJeYtdEFgTi2Sj8C\n",
            "To: /content/cat-dog-images.zip\n",
            "\r  0% 0.00/182k [00:00<?, ?B/s]\r100% 182k/182k [00:00<00:00, 92.9MB/s]\n",
            "Archive:  cat-dog-images.zip\n",
            "   creating: images/\n",
            "  inflating: images/dog.png          \n",
            "  inflating: images/cat.png          \n"
          ]
        }
      ]
    },
    {
      "cell_type": "code",
      "source": [
        "import numpy as np\n",
        "from PIL import Image\n",
        "\n",
        "dog_png = np.array(Image.open('images/dog.png'))"
      ],
      "metadata": {
        "id": "kUffncA2FX25"
      },
      "id": "kUffncA2FX25",
      "execution_count": 4,
      "outputs": []
    },
    {
      "cell_type": "code",
      "execution_count": 5,
      "id": "22e4a001-b5dd-4d51-b0df-578a9cb0c445",
      "metadata": {
        "colab": {
          "base_uri": "https://localhost:8080/"
        },
        "id": "22e4a001-b5dd-4d51-b0df-578a9cb0c445",
        "outputId": "a88aac56-4c36-4796-bca2-21ff679a9954"
      },
      "outputs": [
        {
          "output_type": "stream",
          "name": "stdout",
          "text": [
            "1/1 [==============================] - 4s 4s/step\n",
            "Downloading data from https://storage.googleapis.com/download.tensorflow.org/data/imagenet_class_index.json\n",
            "\u001b[1m35363/35363\u001b[0m \u001b[32m━━━━━━━━━━━━━━━━━━━━\u001b[0m\u001b[37m\u001b[0m \u001b[1m0s\u001b[0m 1us/step\n"
          ]
        },
        {
          "output_type": "execute_result",
          "data": {
            "text/plain": [
              "[[('n02099712', 'Labrador_retriever', 0.36829433),\n",
              "  ('n02104029', 'kuvasz', 0.19339874),\n",
              "  ('n02099601', 'golden_retriever', 0.06145818),\n",
              "  ('n02111500', 'Great_Pyrenees', 0.057796925),\n",
              "  ('n02095889', 'Sealyham_terrier', 0.017902749)]]"
            ]
          },
          "metadata": {},
          "execution_count": 5
        }
      ],
      "source": [
        "from keras.applications import efficientnet\n",
        "\n",
        "predictions = hub_efficientb0.predict(dog_png[np.newaxis,:])\n",
        "efficientnet.decode_predictions(predictions)"
      ]
    },
    {
      "cell_type": "markdown",
      "source": [
        "## 허깅페이스 모델 저장소"
      ],
      "metadata": {
        "id": "xPwufqOFFA6F"
      },
      "id": "xPwufqOFFA6F"
    },
    {
      "cell_type": "code",
      "execution_count": 6,
      "id": "a293273a-665c-4d08-b7fa-13dcb52f759a",
      "metadata": {
        "colab": {
          "base_uri": "https://localhost:8080/",
          "height": 334,
          "referenced_widgets": [
            "784bfee458844124a4840cdb2bfbcd6e",
            "9c0c4fb598d94ed5ab8b4aaf25bfa387",
            "312badd452d843c5af8937c52ba0d7fc",
            "bb143df679c844659cb402157701ce7c",
            "fc28c1b080bd465abf9aedc6af405a33",
            "a06fcd1f15194a3abae46fff7d6dfc0b",
            "8e674746bad84a218174471ca79e98d9",
            "5b679762e6404ae1a6d0ec1c28ca623f",
            "102816d58510440cbd179dea6bfe9ed2",
            "bfb047bb80d344cea4d95f8c4e4e36cc",
            "772ed2f7e10940bd9ba658e448ed22a2",
            "7c5ef311db9f4baeb62851800053fb2e",
            "7991b3d8e30b4104aa3bf2af65da0991",
            "3b34483878c743d0bd03d63801e572ec",
            "908776136f104c7594aaa2a73a841932",
            "0cd61746354542ecae6f448553e29c43",
            "075f092f910a475f9405de7532c7959b",
            "e3327d2c8f7241d29f7a59b3b9dee06a",
            "6fe8d857b3ad45adaf38c4129b8ca069",
            "684e3cd04743432792187b03bfc79ff2",
            "2c97fffbd15f4c95bd290d4b888a3127",
            "6caf43cef65c404dadf92fef3f559b66",
            "d4423ac799834c7caa7dca53031e643c",
            "9908c3b7b14a4e578aa1b23527f072bc",
            "b988c13d478f42d996ef9b2a47bd1ac7",
            "d54f75051a554b51a03f472c793f2836",
            "63e5b42581f04086b599244b01841da9",
            "7643873aaa5c41098f5310ca8dd643b3",
            "2b4188ade24142aa86f68a0a61c582d4",
            "a89e5d63698a426bb146a3d3fed1c191",
            "d1e5bf7ec0474ab3b92fc66293ec2874",
            "09007a3112bd4e839d74417074cdae45",
            "ee11add4f91045d2abcc2c5590fb7c62"
          ]
        },
        "id": "a293273a-665c-4d08-b7fa-13dcb52f759a",
        "outputId": "8cbd2c8d-b1c4-45d0-a46f-7351d362df30"
      },
      "outputs": [
        {
          "output_type": "stream",
          "name": "stderr",
          "text": [
            "/usr/local/lib/python3.10/dist-packages/huggingface_hub/utils/_token.py:89: UserWarning: \n",
            "The secret `HF_TOKEN` does not exist in your Colab secrets.\n",
            "To authenticate with the Hugging Face Hub, create a token in your settings tab (https://huggingface.co/settings/tokens), set it as secret in your Google Colab and restart your session.\n",
            "You will be able to reuse this secret in all of your notebooks.\n",
            "Please note that authentication is recommended but still optional to access public models or datasets.\n",
            "  warnings.warn(\n"
          ]
        },
        {
          "output_type": "display_data",
          "data": {
            "text/plain": [
              "config.json:   0%|          | 0.00/70.3k [00:00<?, ?B/s]"
            ],
            "application/vnd.jupyter.widget-view+json": {
              "version_major": 2,
              "version_minor": 0,
              "model_id": "784bfee458844124a4840cdb2bfbcd6e"
            }
          },
          "metadata": {}
        },
        {
          "output_type": "display_data",
          "data": {
            "text/plain": [
              "pytorch_model.bin:   0%|          | 0.00/21.4M [00:00<?, ?B/s]"
            ],
            "application/vnd.jupyter.widget-view+json": {
              "version_major": 2,
              "version_minor": 0,
              "model_id": "7c5ef311db9f4baeb62851800053fb2e"
            }
          },
          "metadata": {}
        },
        {
          "output_type": "display_data",
          "data": {
            "text/plain": [
              "preprocessor_config.json:   0%|          | 0.00/472 [00:00<?, ?B/s]"
            ],
            "application/vnd.jupyter.widget-view+json": {
              "version_major": 2,
              "version_minor": 0,
              "model_id": "d4423ac799834c7caa7dca53031e643c"
            }
          },
          "metadata": {}
        },
        {
          "output_type": "execute_result",
          "data": {
            "text/plain": [
              "[{'label': 'Labrador retriever', 'score': 0.36829379200935364},\n",
              " {'label': 'kuvasz', 'score': 0.19339875876903534},\n",
              " {'label': 'golden retriever', 'score': 0.06145830079913139},\n",
              " {'label': 'Great Pyrenees', 'score': 0.057797010987997055},\n",
              " {'label': 'Sealyham terrier, Sealyham', 'score': 0.01790277287364006}]"
            ]
          },
          "metadata": {},
          "execution_count": 6
        }
      ],
      "source": [
        "from transformers import pipeline\n",
        "\n",
        "pipe = pipeline(task='image-classification', device=0,\n",
        "                model='google/efficientnet-b0')\n",
        "pipe('images/dog.png')"
      ]
    },
    {
      "cell_type": "markdown",
      "id": "c6222c43-b850-4b9e-a93f-fb3d3d26fe71",
      "metadata": {
        "id": "c6222c43-b850-4b9e-a93f-fb3d3d26fe71"
      },
      "source": [
        "## 전이 학습"
      ]
    },
    {
      "cell_type": "code",
      "execution_count": 7,
      "id": "w-RSHY9FkatW",
      "metadata": {
        "colab": {
          "base_uri": "https://localhost:8080/"
        },
        "id": "w-RSHY9FkatW",
        "outputId": "ee1c34b6-3567-4ce2-8ec1-0d99a327dac3"
      },
      "outputs": [
        {
          "output_type": "stream",
          "name": "stdout",
          "text": [
            "Downloading...\n",
            "From: https://drive.google.com/uc?id=10bnEC6-ZfXZFZ2mb3zoWd38TjYufanWo\n",
            "To: /content/Pistachio_Image_Dataset.zip\n",
            "100% 25.9M/25.9M [00:00<00:00, 175MB/s]\n"
          ]
        }
      ],
      "source": [
        "!gdown 10bnEC6-ZfXZFZ2mb3zoWd38TjYufanWo"
      ]
    },
    {
      "cell_type": "code",
      "execution_count": 8,
      "id": "u8up9YuvoDw-",
      "metadata": {
        "id": "u8up9YuvoDw-"
      },
      "outputs": [],
      "source": [
        "!unzip -q Pistachio_Image_Dataset.zip"
      ]
    },
    {
      "cell_type": "code",
      "execution_count": 9,
      "id": "8a12732d-78d6-4bf1-98a4-33594d16ba24",
      "metadata": {
        "id": "8a12732d-78d6-4bf1-98a4-33594d16ba24"
      },
      "outputs": [],
      "source": [
        "pistachio_sample = np.array(Image.open('Pistachio_Image_Dataset/Kirmizi_Pistachio/kirmizi (1).jpg'))"
      ]
    },
    {
      "cell_type": "code",
      "execution_count": 10,
      "id": "18a82a19",
      "metadata": {
        "colab": {
          "base_uri": "https://localhost:8080/"
        },
        "id": "18a82a19",
        "outputId": "f5827efe-6bfd-4f37-8400-1bbeaa32d4f8"
      },
      "outputs": [
        {
          "output_type": "execute_result",
          "data": {
            "text/plain": [
              "(600, 600, 3)"
            ]
          },
          "metadata": {},
          "execution_count": 10
        }
      ],
      "source": [
        "pistachio_sample.shape"
      ]
    },
    {
      "cell_type": "code",
      "execution_count": 11,
      "id": "F2nRD1Wg7JCE",
      "metadata": {
        "colab": {
          "base_uri": "https://localhost:8080/"
        },
        "id": "F2nRD1Wg7JCE",
        "outputId": "42816643-cd8d-460e-af50-b637f5f6e83a"
      },
      "outputs": [
        {
          "output_type": "stream",
          "name": "stdout",
          "text": [
            "Downloading data from https://storage.googleapis.com/keras-applications/efficientnetb7.h5\n",
            "268326632/268326632 [==============================] - 15s 0us/step\n",
            "1/1 [==============================] - 8s 8s/step\n"
          ]
        },
        {
          "output_type": "execute_result",
          "data": {
            "text/plain": [
              "[[('n01950731', 'sea_slug', 0.23482406),\n",
              "  ('n01924916', 'flatworm', 0.20674424),\n",
              "  ('n01943899', 'conch', 0.086223446),\n",
              "  ('n01945685', 'slug', 0.08500543),\n",
              "  ('n01955084', 'chiton', 0.028242959)]]"
            ]
          },
          "metadata": {},
          "execution_count": 11
        }
      ],
      "source": [
        "efficientb7 = keras.applications.EfficientNetB7()\n",
        "\n",
        "predictions = efficientb7.predict(pistachio_sample[np.newaxis,:])\n",
        "efficientnet.decode_predictions(predictions)"
      ]
    },
    {
      "cell_type": "code",
      "execution_count": 12,
      "id": "f20125d2-ec7d-4c2e-94db-bd32ffdc3bbc",
      "metadata": {
        "colab": {
          "base_uri": "https://localhost:8080/"
        },
        "id": "f20125d2-ec7d-4c2e-94db-bd32ffdc3bbc",
        "outputId": "16f7f96e-52ba-40bc-e799-b069391cc848",
        "scrolled": true
      },
      "outputs": [
        {
          "output_type": "stream",
          "name": "stdout",
          "text": [
            "Downloading data from https://storage.googleapis.com/keras-applications/efficientnetb0_notop.h5\n",
            "16705208/16705208 [==============================] - 2s 0us/step\n"
          ]
        },
        {
          "output_type": "execute_result",
          "data": {
            "text/plain": [
              "TensorShape([1, 18, 18, 1280])"
            ]
          },
          "metadata": {},
          "execution_count": 12
        }
      ],
      "source": [
        "keras_efficientb0_base = keras.applications.EfficientNetB0(include_top=False)\n",
        "feature_map = keras_efficientb0_base(pistachio_sample[np.newaxis,:])\n",
        "feature_map.shape"
      ]
    },
    {
      "cell_type": "code",
      "execution_count": 13,
      "id": "b8039236",
      "metadata": {
        "colab": {
          "base_uri": "https://localhost:8080/"
        },
        "id": "b8039236",
        "outputId": "62a3677a-6795-4a16-fa7e-549697d968ed"
      },
      "outputs": [
        {
          "output_type": "stream",
          "name": "stdout",
          "text": [
            "Found 2148 files belonging to 2 classes.\n",
            "Using 1719 files for training.\n",
            "Using 429 files for validation.\n"
          ]
        }
      ],
      "source": [
        "train_ds, val_ds = keras.utils.image_dataset_from_directory(\n",
        "    'Pistachio_Image_Dataset', image_size=(224, 224), batch_size=16,\n",
        "    validation_split=0.2, subset='both', seed=42\n",
        ")"
      ]
    },
    {
      "cell_type": "code",
      "execution_count": 14,
      "id": "aIPEIPYPiM6G",
      "metadata": {
        "colab": {
          "base_uri": "https://localhost:8080/"
        },
        "id": "aIPEIPYPiM6G",
        "outputId": "d9057662-d4ea-483e-d2ea-e8c59daa5f80"
      },
      "outputs": [
        {
          "output_type": "stream",
          "name": "stdout",
          "text": [
            "Epoch 1/20\n",
            "108/108 [==============================] - 23s 100ms/step - loss: 0.5370 - accuracy: 0.7807 - val_loss: 0.3887 - val_accuracy: 0.8951\n",
            "Epoch 2/20\n",
            "108/108 [==============================] - 5s 49ms/step - loss: 0.3398 - accuracy: 0.9023 - val_loss: 0.2601 - val_accuracy: 0.9301\n",
            "Epoch 3/20\n",
            "108/108 [==============================] - 6s 52ms/step - loss: 0.2448 - accuracy: 0.9348 - val_loss: 0.1987 - val_accuracy: 0.9464\n",
            "Epoch 4/20\n",
            "108/108 [==============================] - 5s 45ms/step - loss: 0.1954 - accuracy: 0.9459 - val_loss: 0.1663 - val_accuracy: 0.9534\n",
            "Epoch 5/20\n",
            "108/108 [==============================] - 5s 44ms/step - loss: 0.1613 - accuracy: 0.9575 - val_loss: 0.1414 - val_accuracy: 0.9627\n",
            "Epoch 6/20\n",
            "108/108 [==============================] - 9s 78ms/step - loss: 0.1426 - accuracy: 0.9581 - val_loss: 0.1259 - val_accuracy: 0.9674\n",
            "Epoch 7/20\n",
            "108/108 [==============================] - 5s 44ms/step - loss: 0.1246 - accuracy: 0.9674 - val_loss: 0.1178 - val_accuracy: 0.9720\n",
            "Epoch 8/20\n",
            "108/108 [==============================] - 6s 58ms/step - loss: 0.1108 - accuracy: 0.9680 - val_loss: 0.1061 - val_accuracy: 0.9674\n",
            "Epoch 9/20\n",
            "108/108 [==============================] - 5s 43ms/step - loss: 0.1025 - accuracy: 0.9692 - val_loss: 0.1026 - val_accuracy: 0.9674\n",
            "Epoch 10/20\n",
            "108/108 [==============================] - 5s 48ms/step - loss: 0.0893 - accuracy: 0.9721 - val_loss: 0.0942 - val_accuracy: 0.9744\n",
            "Epoch 11/20\n",
            "108/108 [==============================] - 5s 43ms/step - loss: 0.0853 - accuracy: 0.9761 - val_loss: 0.0896 - val_accuracy: 0.9767\n",
            "Epoch 12/20\n",
            "108/108 [==============================] - 6s 57ms/step - loss: 0.0846 - accuracy: 0.9732 - val_loss: 0.0854 - val_accuracy: 0.9767\n",
            "Epoch 13/20\n",
            "108/108 [==============================] - 5s 43ms/step - loss: 0.0794 - accuracy: 0.9744 - val_loss: 0.0829 - val_accuracy: 0.9697\n",
            "Epoch 14/20\n",
            "108/108 [==============================] - 7s 59ms/step - loss: 0.0724 - accuracy: 0.9761 - val_loss: 0.0793 - val_accuracy: 0.9744\n",
            "Epoch 15/20\n",
            "108/108 [==============================] - 5s 43ms/step - loss: 0.0711 - accuracy: 0.9779 - val_loss: 0.0766 - val_accuracy: 0.9720\n",
            "Epoch 16/20\n",
            "108/108 [==============================] - 5s 47ms/step - loss: 0.0656 - accuracy: 0.9802 - val_loss: 0.0750 - val_accuracy: 0.9767\n",
            "Epoch 17/20\n",
            "108/108 [==============================] - 6s 53ms/step - loss: 0.0623 - accuracy: 0.9837 - val_loss: 0.0738 - val_accuracy: 0.9790\n",
            "Epoch 18/20\n",
            "108/108 [==============================] - 6s 52ms/step - loss: 0.0620 - accuracy: 0.9808 - val_loss: 0.0713 - val_accuracy: 0.9744\n",
            "Epoch 19/20\n",
            "108/108 [==============================] - 5s 47ms/step - loss: 0.0606 - accuracy: 0.9837 - val_loss: 0.0695 - val_accuracy: 0.9767\n",
            "Epoch 20/20\n",
            "108/108 [==============================] - 5s 43ms/step - loss: 0.0557 - accuracy: 0.9855 - val_loss: 0.0705 - val_accuracy: 0.9767\n"
          ]
        }
      ],
      "source": [
        "keras_efficientb0_base.trainable = False\n",
        "\n",
        "inputs = keras.Input(shape=(224, 224, 3))\n",
        "x = keras_efficientb0_base(inputs)\n",
        "x = layers.GlobalAveragePooling2D()(x)\n",
        "x = layers.Dense(128, activation='relu')(x)\n",
        "outputs = layers.Dense(1, activation=\"sigmoid\")(x)\n",
        "model = keras.Model(inputs, outputs)\n",
        "\n",
        "rmsprop = keras.optimizers.RMSprop(learning_rate=5e-5)\n",
        "model.compile(optimizer=rmsprop, loss='binary_crossentropy', metrics=['accuracy'])\n",
        "hist = model.fit(train_ds, epochs=20, validation_data=val_ds)"
      ]
    },
    {
      "cell_type": "code",
      "execution_count": 15,
      "id": "IntxvaRB8PWP",
      "metadata": {
        "colab": {
          "base_uri": "https://localhost:8080/",
          "height": 388
        },
        "id": "IntxvaRB8PWP",
        "outputId": "3547deb5-cba3-420a-8bc2-a68986a74350"
      },
      "outputs": [
        {
          "output_type": "display_data",
          "data": {
            "text/plain": [
              "<Figure size 1200x400 with 2 Axes>"
            ],
            "image/png": "[encoded data removed]"
          },
          "metadata": {}
        }
      ],
      "source": [
        "import matplotlib.pyplot as plt\n",
        "\n",
        "fig, axs = plt.subplots(1, 2, figsize=(12, 4))\n",
        "axs[0].plot(range(1, 21), hist.history['loss'], label='loss')\n",
        "axs[0].plot(range(1, 21), hist.history['val_loss'], label='val_loss')\n",
        "axs[0].set_xticks(range(1, 21))\n",
        "axs[0].set_xlabel('epoch')\n",
        "axs[0].set_ylabel('loss')\n",
        "axs[0].legend()\n",
        "axs[1].plot(range(1, 21), hist.history['accuracy'], label='accuracy')\n",
        "axs[1].plot(range(1, 21), hist.history['val_accuracy'], label='val_accuracy')\n",
        "axs[1].set_xticks(range(1, 21))\n",
        "axs[1].set_xlabel('epoch')\n",
        "axs[1].set_ylabel('accuracy')\n",
        "axs[1].legend()\n",
        "plt.show()"
      ]
    },
    {
      "cell_type": "markdown",
      "id": "66gPs0bw8VD2",
      "metadata": {
        "id": "66gPs0bw8VD2"
      },
      "source": [
        "## 심화 학습"
      ]
    },
    {
      "cell_type": "code",
      "execution_count": 16,
      "id": "fajYV5Wc7pAU",
      "metadata": {
        "id": "fajYV5Wc7pAU"
      },
      "outputs": [],
      "source": [
        "kaggle_efficientb0_base = hub.KerasLayer('https://www.kaggle.com/models/tensorflow/efficientnet/frameworks/TensorFlow2/variations/b0-feature-vector/versions/1')\n",
        "\n",
        "inputs = keras.Input(shape=(224, 224, 3))\n",
        "x = layers.Rescaling(1.0 / 255.0)(inputs)\n",
        "x = kaggle_efficientb0_base(x)\n",
        "x = layers.Dense(128, activation='relu')(x)\n",
        "outputs = layers.Dense(1, activation='sigmoid')(x)\n",
        "model = keras.Model(inputs, outputs)"
      ]
    },
    {
      "cell_type": "code",
      "execution_count": 17,
      "id": "480f4d8b-0fbd-4731-9d15-2af6c1ae2b14",
      "metadata": {
        "colab": {
          "base_uri": "https://localhost:8080/"
        },
        "id": "480f4d8b-0fbd-4731-9d15-2af6c1ae2b14",
        "outputId": "220fa153-6f5c-43cf-f692-2bb6d6a130a0"
      },
      "outputs": [
        {
          "output_type": "stream",
          "name": "stdout",
          "text": [
            "Epoch 1/20\n",
            "108/108 [==============================] - 16s 58ms/step - loss: 0.3690 - accuracy: 0.8709 - val_loss: 0.2398 - val_accuracy: 0.9277\n",
            "Epoch 2/20\n",
            "108/108 [==============================] - 6s 57ms/step - loss: 0.1970 - accuracy: 0.9436 - val_loss: 0.1579 - val_accuracy: 0.9557\n",
            "Epoch 3/20\n",
            "108/108 [==============================] - 5s 41ms/step - loss: 0.1383 - accuracy: 0.9622 - val_loss: 0.1266 - val_accuracy: 0.9697\n",
            "Epoch 4/20\n",
            "108/108 [==============================] - 6s 58ms/step - loss: 0.1087 - accuracy: 0.9709 - val_loss: 0.1204 - val_accuracy: 0.9604\n",
            "Epoch 5/20\n",
            "108/108 [==============================] - 5s 41ms/step - loss: 0.0905 - accuracy: 0.9732 - val_loss: 0.1032 - val_accuracy: 0.9697\n",
            "Epoch 6/20\n",
            "108/108 [==============================] - 6s 57ms/step - loss: 0.0769 - accuracy: 0.9791 - val_loss: 0.0907 - val_accuracy: 0.9720\n",
            "Epoch 7/20\n",
            "108/108 [==============================] - 5s 40ms/step - loss: 0.0679 - accuracy: 0.9825 - val_loss: 0.0807 - val_accuracy: 0.9767\n",
            "Epoch 8/20\n",
            "108/108 [==============================] - 7s 60ms/step - loss: 0.0612 - accuracy: 0.9814 - val_loss: 0.0751 - val_accuracy: 0.9790\n",
            "Epoch 9/20\n",
            "108/108 [==============================] - 5s 41ms/step - loss: 0.0558 - accuracy: 0.9872 - val_loss: 0.0709 - val_accuracy: 0.9744\n",
            "Epoch 10/20\n",
            "108/108 [==============================] - 5s 46ms/step - loss: 0.0497 - accuracy: 0.9878 - val_loss: 0.0719 - val_accuracy: 0.9744\n",
            "Epoch 11/20\n",
            "108/108 [==============================] - 7s 63ms/step - loss: 0.0455 - accuracy: 0.9878 - val_loss: 0.0685 - val_accuracy: 0.9744\n",
            "Epoch 12/20\n",
            "108/108 [==============================] - 5s 41ms/step - loss: 0.0421 - accuracy: 0.9907 - val_loss: 0.0628 - val_accuracy: 0.9790\n",
            "Epoch 13/20\n",
            "108/108 [==============================] - 7s 60ms/step - loss: 0.0393 - accuracy: 0.9884 - val_loss: 0.0606 - val_accuracy: 0.9790\n",
            "Epoch 14/20\n",
            "108/108 [==============================] - 5s 42ms/step - loss: 0.0364 - accuracy: 0.9919 - val_loss: 0.0593 - val_accuracy: 0.9790\n",
            "Epoch 15/20\n",
            "108/108 [==============================] - 6s 56ms/step - loss: 0.0333 - accuracy: 0.9919 - val_loss: 0.0576 - val_accuracy: 0.9814\n",
            "Epoch 16/20\n",
            "108/108 [==============================] - 5s 45ms/step - loss: 0.0316 - accuracy: 0.9919 - val_loss: 0.0567 - val_accuracy: 0.9837\n",
            "Epoch 17/20\n",
            "108/108 [==============================] - 6s 58ms/step - loss: 0.0292 - accuracy: 0.9930 - val_loss: 0.0556 - val_accuracy: 0.9814\n",
            "Epoch 18/20\n",
            "108/108 [==============================] - 5s 42ms/step - loss: 0.0275 - accuracy: 0.9948 - val_loss: 0.0551 - val_accuracy: 0.9814\n",
            "Epoch 19/20\n",
            "108/108 [==============================] - 6s 56ms/step - loss: 0.0251 - accuracy: 0.9942 - val_loss: 0.0543 - val_accuracy: 0.9837\n",
            "Epoch 20/20\n",
            "108/108 [==============================] - 5s 45ms/step - loss: 0.0236 - accuracy: 0.9965 - val_loss: 0.0556 - val_accuracy: 0.9814\n"
          ]
        }
      ],
      "source": [
        "rmsprop = keras.optimizers.RMSprop(learning_rate=1e-4)\n",
        "model.compile(optimizer=rmsprop, loss='binary_crossentropy', metrics=['accuracy'])\n",
        "hist = model.fit(train_ds, epochs=20, validation_data=val_ds)"
      ]
    },
    {
      "cell_type": "code",
      "execution_count": 18,
      "id": "trvmgmnGSM77",
      "metadata": {
        "colab": {
          "base_uri": "https://localhost:8080/",
          "height": 388
        },
        "id": "trvmgmnGSM77",
        "outputId": "6dbc11e3-8bf1-4253-8575-09f993b2f458"
      },
      "outputs": [
        {
          "output_type": "display_data",
          "data": {
            "text/plain": [
              "<Figure size 1200x400 with 2 Axes>"
            ],
            "image/png": "[encoded data removed]"
          },
          "metadata": {}
        }
      ],
      "source": [
        "fig, axs = plt.subplots(1, 2, figsize=(12, 4))\n",
        "axs[0].plot(range(1, 21), hist.history['loss'], label='loss')\n",
        "axs[0].plot(range(1, 21), hist.history['val_loss'], label='val_loss')\n",
        "axs[0].set_xticks(range(1, 21))\n",
        "axs[0].set_xlabel('epoch')\n",
        "axs[0].set_ylabel('loss')\n",
        "axs[0].legend()\n",
        "axs[1].plot(range(1, 21), hist.history['accuracy'], label='accuracy')\n",
        "axs[1].plot(range(1, 21), hist.history['val_accuracy'], label='val_accuracy')\n",
        "axs[1].set_xticks(range(1, 21))\n",
        "axs[1].set_xlabel('epoch')\n",
        "axs[1].set_ylabel('accuracy')\n",
        "axs[1].legend()\n",
        "plt.show()"
      ]
    }
  ],
  "metadata": {
    "accelerator": "GPU",
    "colab": {
      "gpuType": "T4",
      "provenance": []
    },
    "kernelspec": {
      "display_name": "Python 3.10 on Backend.AI",
      "language": "python",
      "name": "python3"
    },
    "language_info": {
      "codemirror_mode": {
        "name": "ipython",
        "version": 3
      },
      "file_extension": ".py",
      "mimetype": "text/x-python",
      "name": "python",
      "nbconvert_exporter": "python",
      "pygments_lexer": "ipython3",
      "version": "3.10.8"
    },
    "widgets": {
      "application/vnd.jupyter.widget-state+json": {
        "784bfee458844124a4840cdb2bfbcd6e": {
          "model_module": "@jupyter-widgets/controls",
          "model_name": "HBoxModel",
          "model_module_version": "1.5.0",
          "state": {
            "_dom_classes": [],
            "_model_module": "@jupyter-widgets/controls",
            "_model_module_version": "1.5.0",
            "_model_name": "HBoxModel",
            "_view_count": null,
            "_view_module": "@jupyter-widgets/controls",
            "_view_module_version": "1.5.0",
            "_view_name": "HBoxView",
            "box_style": "",
            "children": [
              "IPY_MODEL_9c0c4fb598d94ed5ab8b4aaf25bfa387",
              "IPY_MODEL_312badd452d843c5af8937c52ba0d7fc",
              "IPY_MODEL_bb143df679c844659cb402157701ce7c"
            ],
            "layout": "IPY_MODEL_fc28c1b080bd465abf9aedc6af405a33"
          }
        },
        "9c0c4fb598d94ed5ab8b4aaf25bfa387": {
          "model_module": "@jupyter-widgets/controls",
          "model_name": "HTMLModel",
          "model_module_version": "1.5.0",
          "state": {
            "_dom_classes": [],
            "_model_module": "@jupyter-widgets/controls",
            "_model_module_version": "1.5.0",
            "_model_name": "HTMLModel",
            "_view_count": null,
            "_view_module": "@jupyter-widgets/controls",
            "_view_module_version": "1.5.0",
            "_view_name": "HTMLView",
            "description": "",
            "description_tooltip": null,
            "layout": "IPY_MODEL_a06fcd1f15194a3abae46fff7d6dfc0b",
            "placeholder": "​",
            "style": "IPY_MODEL_8e674746bad84a218174471ca79e98d9",
            "value": "config.json: 100%"
          }
        },
        "312badd452d843c5af8937c52ba0d7fc": {
          "model_module": "@jupyter-widgets/controls",
          "model_name": "FloatProgressModel",
          "model_module_version": "1.5.0",
          "state": {
            "_dom_classes": [],
            "_model_module": "@jupyter-widgets/controls",
            "_model_module_version": "1.5.0",
            "_model_name": "FloatProgressModel",
            "_view_count": null,
            "_view_module": "@jupyter-widgets/controls",
            "_view_module_version": "1.5.0",
            "_view_name": "ProgressView",
            "bar_style": "success",
            "description": "",
            "description_tooltip": null,
            "layout": "IPY_MODEL_5b679762e6404ae1a6d0ec1c28ca623f",
            "max": 70330,
            "min": 0,
            "orientation": "horizontal",
            "style": "IPY_MODEL_102816d58510440cbd179dea6bfe9ed2",
            "value": 70330
          }
        },
        "bb143df679c844659cb402157701ce7c": {
          "model_module": "@jupyter-widgets/controls",
          "model_name": "HTMLModel",
          "model_module_version": "1.5.0",
          "state": {
            "_dom_classes": [],
            "_model_module": "@jupyter-widgets/controls",
            "_model_module_version": "1.5.0",
            "_model_name": "HTMLModel",
            "_view_count": null,
            "_view_module": "@jupyter-widgets/controls",
            "_view_module_version": "1.5.0",
            "_view_name": "HTMLView",
            "description": "",
            "description_tooltip": null,
            "layout": "IPY_MODEL_bfb047bb80d344cea4d95f8c4e4e36cc",
            "placeholder": "​",
            "style": "IPY_MODEL_772ed2f7e10940bd9ba658e448ed22a2",
            "value": " 70.3k/70.3k [00:00&lt;00:00, 3.28MB/s]"
          }
        },
        "fc28c1b080bd465abf9aedc6af405a33": {
          "model_module": "@jupyter-widgets/base",
          "model_name": "LayoutModel",
          "model_module_version": "1.2.0",
          "state": {
            "_model_module": "@jupyter-widgets/base",
            "_model_module_version": "1.2.0",
            "_model_name": "LayoutModel",
            "_view_count": null,
            "_view_module": "@jupyter-widgets/base",
            "_view_module_version": "1.2.0",
            "_view_name": "LayoutView",
            "align_content": null,
            "align_items": null,
            "align_self": null,
            "border": null,
            "bottom": null,
            "display": null,
            "flex": null,
            "flex_flow": null,
            "grid_area": null,
            "grid_auto_columns": null,
            "grid_auto_flow": null,
            "grid_auto_rows": null,
            "grid_column": null,
            "grid_gap": null,
            "grid_row": null,
            "grid_template_areas": null,
            "grid_template_columns": null,
            "grid_template_rows": null,
            "height": null,
            "justify_content": null,
            "justify_items": null,
            "left": null,
            "margin": null,
            "max_height": null,
            "max_width": null,
            "min_height": null,
            "min_width": null,
            "object_fit": null,
            "object_position": null,
            "order": null,
            "overflow": null,
            "overflow_x": null,
            "overflow_y": null,
            "padding": null,
            "right": null,
            "top": null,
            "visibility": null,
            "width": null
          }
        },
        "a06fcd1f15194a3abae46fff7d6dfc0b": {
          "model_module": "@jupyter-widgets/base",
          "model_name": "LayoutModel",
          "model_module_version": "1.2.0",
          "state": {
            "_model_module": "@jupyter-widgets/base",
            "_model_module_version": "1.2.0",
            "_model_name": "LayoutModel",
            "_view_count": null,
            "_view_module": "@jupyter-widgets/base",
            "_view_module_version": "1.2.0",
            "_view_name": "LayoutView",
            "align_content": null,
            "align_items": null,
            "align_self": null,
            "border": null,
            "bottom": null,
            "display": null,
            "flex": null,
            "flex_flow": null,
            "grid_area": null,
            "grid_auto_columns": null,
            "grid_auto_flow": null,
            "grid_auto_rows": null,
            "grid_column": null,
            "grid_gap": null,
            "grid_row": null,
            "grid_template_areas": null,
            "grid_template_columns": null,
            "grid_template_rows": null,
            "height": null,
            "justify_content": null,
            "justify_items": null,
            "left": null,
            "margin": null,
            "max_height": null,
            "max_width": null,
            "min_height": null,
            "min_width": null,
            "object_fit": null,
            "object_position": null,
            "order": null,
            "overflow": null,
            "overflow_x": null,
            "overflow_y": null,
            "padding": null,
            "right": null,
            "top": null,
            "visibility": null,
            "width": null
          }
        },
        "8e674746bad84a218174471ca79e98d9": {
          "model_module": "@jupyter-widgets/controls",
          "model_name": "DescriptionStyleModel",
          "model_module_version": "1.5.0",
          "state": {
            "_model_module": "@jupyter-widgets/controls",
            "_model_module_version": "1.5.0",
            "_model_name": "DescriptionStyleModel",
            "_view_count": null,
            "_view_module": "@jupyter-widgets/base",
            "_view_module_version": "1.2.0",
            "_view_name": "StyleView",
            "description_width": ""
          }
        },
        "5b679762e6404ae1a6d0ec1c28ca623f": {
          "model_module": "@jupyter-widgets/base",
          "model_name": "LayoutModel",
          "model_module_version": "1.2.0",
          "state": {
            "_model_module": "@jupyter-widgets/base",
            "_model_module_version": "1.2.0",
            "_model_name": "LayoutModel",
            "_view_count": null,
            "_view_module": "@jupyter-widgets/base",
            "_view_module_version": "1.2.0",
            "_view_name": "LayoutView",
            "align_content": null,
            "align_items": null,
            "align_self": null,
            "border": null,
            "bottom": null,
            "display": null,
            "flex": null,
            "flex_flow": null,
            "grid_area": null,
            "grid_auto_columns": null,
            "grid_auto_flow": null,
            "grid_auto_rows": null,
            "grid_column": null,
            "grid_gap": null,
            "grid_row": null,
            "grid_template_areas": null,
            "grid_template_columns": null,
            "grid_template_rows": null,
            "height": null,
            "justify_content": null,
            "justify_items": null,
            "left": null,
            "margin": null,
            "max_height": null,
            "max_width": null,
            "min_height": null,
            "min_width": null,
            "object_fit": null,
            "object_position": null,
            "order": null,
            "overflow": null,
            "overflow_x": null,
            "overflow_y": null,
            "padding": null,
            "right": null,
            "top": null,
            "visibility": null,
            "width": null
          }
        },
        "102816d58510440cbd179dea6bfe9ed2": {
          "model_module": "@jupyter-widgets/controls",
          "model_name": "ProgressStyleModel",
          "model_module_version": "1.5.0",
          "state": {
            "_model_module": "@jupyter-widgets/controls",
            "_model_module_version": "1.5.0",
            "_model_name": "ProgressStyleModel",
            "_view_count": null,
            "_view_module": "@jupyter-widgets/base",
            "_view_module_version": "1.2.0",
            "_view_name": "StyleView",
            "bar_color": null,
            "description_width": ""
          }
        },
        "bfb047bb80d344cea4d95f8c4e4e36cc": {
          "model_module": "@jupyter-widgets/base",
          "model_name": "LayoutModel",
          "model_module_version": "1.2.0",
          "state": {
            "_model_module": "@jupyter-widgets/base",
            "_model_module_version": "1.2.0",
            "_model_name": "LayoutModel",
            "_view_count": null,
            "_view_module": "@jupyter-widgets/base",
            "_view_module_version": "1.2.0",
            "_view_name": "LayoutView",
            "align_content": null,
            "align_items": null,
            "align_self": null,
            "border": null,
            "bottom": null,
            "display": null,
            "flex": null,
            "flex_flow": null,
            "grid_area": null,
            "grid_auto_columns": null,
            "grid_auto_flow": null,
            "grid_auto_rows": null,
            "grid_column": null,
            "grid_gap": null,
            "grid_row": null,
            "grid_template_areas": null,
            "grid_template_columns": null,
            "grid_template_rows": null,
            "height": null,
            "justify_content": null,
            "justify_items": null,
            "left": null,
            "margin": null,
            "max_height": null,
            "max_width": null,
            "min_height": null,
            "min_width": null,
            "object_fit": null,
            "object_position": null,
            "order": null,
            "overflow": null,
            "overflow_x": null,
            "overflow_y": null,
            "padding": null,
            "right": null,
            "top": null,
            "visibility": null,
            "width": null
          }
        },
        "772ed2f7e10940bd9ba658e448ed22a2": {
          "model_module": "@jupyter-widgets/controls",
          "model_name": "DescriptionStyleModel",
          "model_module_version": "1.5.0",
          "state": {
            "_model_module": "@jupyter-widgets/controls",
            "_model_module_version": "1.5.0",
            "_model_name": "DescriptionStyleModel",
            "_view_count": null,
            "_view_module": "@jupyter-widgets/base",
            "_view_module_version": "1.2.0",
            "_view_name": "StyleView",
            "description_width": ""
          }
        },
        "7c5ef311db9f4baeb62851800053fb2e": {
          "model_module": "@jupyter-widgets/controls",
          "model_name": "HBoxModel",
          "model_module_version": "1.5.0",
          "state": {
            "_dom_classes": [],
            "_model_module": "@jupyter-widgets/controls",
            "_model_module_version": "1.5.0",
            "_model_name": "HBoxModel",
            "_view_count": null,
            "_view_module": "@jupyter-widgets/controls",
            "_view_module_version": "1.5.0",
            "_view_name": "HBoxView",
            "box_style": "",
            "children": [
              "IPY_MODEL_7991b3d8e30b4104aa3bf2af65da0991",
              "IPY_MODEL_3b34483878c743d0bd03d63801e572ec",
              "IPY_MODEL_908776136f104c7594aaa2a73a841932"
            ],
            "layout": "IPY_MODEL_0cd61746354542ecae6f448553e29c43"
          }
        },
        "7991b3d8e30b4104aa3bf2af65da0991": {
          "model_module": "@jupyter-widgets/controls",
          "model_name": "HTMLModel",
          "model_module_version": "1.5.0",
          "state": {
            "_dom_classes": [],
            "_model_module": "@jupyter-widgets/controls",
            "_model_module_version": "1.5.0",
            "_model_name": "HTMLModel",
            "_view_count": null,
            "_view_module": "@jupyter-widgets/controls",
            "_view_module_version": "1.5.0",
            "_view_name": "HTMLView",
            "description": "",
            "description_tooltip": null,
            "layout": "IPY_MODEL_075f092f910a475f9405de7532c7959b",
            "placeholder": "​",
            "style": "IPY_MODEL_e3327d2c8f7241d29f7a59b3b9dee06a",
            "value": "pytorch_model.bin: 100%"
          }
        },
        "3b34483878c743d0bd03d63801e572ec": {
          "model_module": "@jupyter-widgets/controls",
          "model_name": "FloatProgressModel",
          "model_module_version": "1.5.0",
          "state": {
            "_dom_classes": [],
            "_model_module": "@jupyter-widgets/controls",
            "_model_module_version": "1.5.0",
            "_model_name": "FloatProgressModel",
            "_view_count": null,
            "_view_module": "@jupyter-widgets/controls",
            "_view_module_version": "1.5.0",
            "_view_name": "ProgressView",
            "bar_style": "success",
            "description": "",
            "description_tooltip": null,
            "layout": "IPY_MODEL_6fe8d857b3ad45adaf38c4129b8ca069",
            "max": 21444205,
            "min": 0,
            "orientation": "horizontal",
            "style": "IPY_MODEL_684e3cd04743432792187b03bfc79ff2",
            "value": 21444205
          }
        },
        "908776136f104c7594aaa2a73a841932": {
          "model_module": "@jupyter-widgets/controls",
          "model_name": "HTMLModel",
          "model_module_version": "1.5.0",
          "state": {
            "_dom_classes": [],
            "_model_module": "@jupyter-widgets/controls",
            "_model_module_version": "1.5.0",
            "_model_name": "HTMLModel",
            "_view_count": null,
            "_view_module": "@jupyter-widgets/controls",
            "_view_module_version": "1.5.0",
            "_view_name": "HTMLView",
            "description": "",
            "description_tooltip": null,
            "layout": "IPY_MODEL_2c97fffbd15f4c95bd290d4b888a3127",
            "placeholder": "​",
            "style": "IPY_MODEL_6caf43cef65c404dadf92fef3f559b66",
            "value": " 21.4M/21.4M [00:00&lt;00:00, 163MB/s]"
          }
        },
        "0cd61746354542ecae6f448553e29c43": {
          "model_module": "@jupyter-widgets/base",
          "model_name": "LayoutModel",
          "model_module_version": "1.2.0",
          "state": {
            "_model_module": "@jupyter-widgets/base",
            "_model_module_version": "1.2.0",
            "_model_name": "LayoutModel",
            "_view_count": null,
            "_view_module": "@jupyter-widgets/base",
            "_view_module_version": "1.2.0",
            "_view_name": "LayoutView",
            "align_content": null,
            "align_items": null,
            "align_self": null,
            "border": null,
            "bottom": null,
            "display": null,
            "flex": null,
            "flex_flow": null,
            "grid_area": null,
            "grid_auto_columns": null,
            "grid_auto_flow": null,
            "grid_auto_rows": null,
            "grid_column": null,
            "grid_gap": null,
            "grid_row": null,
            "grid_template_areas": null,
            "grid_template_columns": null,
            "grid_template_rows": null,
            "height": null,
            "justify_content": null,
            "justify_items": null,
            "left": null,
            "margin": null,
            "max_height": null,
            "max_width": null,
            "min_height": null,
            "min_width": null,
            "object_fit": null,
            "object_position": null,
            "order": null,
            "overflow": null,
            "overflow_x": null,
            "overflow_y": null,
            "padding": null,
            "right": null,
            "top": null,
            "visibility": null,
            "width": null
          }
        },
        "075f092f910a475f9405de7532c7959b": {
          "model_module": "@jupyter-widgets/base",
          "model_name": "LayoutModel",
          "model_module_version": "1.2.0",
          "state": {
            "_model_module": "@jupyter-widgets/base",
            "_model_module_version": "1.2.0",
            "_model_name": "LayoutModel",
            "_view_count": null,
            "_view_module": "@jupyter-widgets/base",
            "_view_module_version": "1.2.0",
            "_view_name": "LayoutView",
            "align_content": null,
            "align_items": null,
            "align_self": null,
            "border": null,
            "bottom": null,
            "display": null,
            "flex": null,
            "flex_flow": null,
            "grid_area": null,
            "grid_auto_columns": null,
            "grid_auto_flow": null,
            "grid_auto_rows": null,
            "grid_column": null,
            "grid_gap": null,
            "grid_row": null,
            "grid_template_areas": null,
            "grid_template_columns": null,
            "grid_template_rows": null,
            "height": null,
            "justify_content": null,
            "justify_items": null,
            "left": null,
            "margin": null,
            "max_height": null,
            "max_width": null,
            "min_height": null,
            "min_width": null,
            "object_fit": null,
            "object_position": null,
            "order": null,
            "overflow": null,
            "overflow_x": null,
            "overflow_y": null,
            "padding": null,
            "right": null,
            "top": null,
            "visibility": null,
            "width": null
          }
        },
        "e3327d2c8f7241d29f7a59b3b9dee06a": {
          "model_module": "@jupyter-widgets/controls",
          "model_name": "DescriptionStyleModel",
          "model_module_version": "1.5.0",
          "state": {
            "_model_module": "@jupyter-widgets/controls",
            "_model_module_version": "1.5.0",
            "_model_name": "DescriptionStyleModel",
            "_view_count": null,
            "_view_module": "@jupyter-widgets/base",
            "_view_module_version": "1.2.0",
            "_view_name": "StyleView",
            "description_width": ""
          }
        },
        "6fe8d857b3ad45adaf38c4129b8ca069": {
          "model_module": "@jupyter-widgets/base",
          "model_name": "LayoutModel",
          "model_module_version": "1.2.0",
          "state": {
            "_model_module": "@jupyter-widgets/base",
            "_model_module_version": "1.2.0",
            "_model_name": "LayoutModel",
            "_view_count": null,
            "_view_module": "@jupyter-widgets/base",
            "_view_module_version": "1.2.0",
            "_view_name": "LayoutView",
            "align_content": null,
            "align_items": null,
            "align_self": null,
            "border": null,
            "bottom": null,
            "display": null,
            "flex": null,
            "flex_flow": null,
            "grid_area": null,
            "grid_auto_columns": null,
            "grid_auto_flow": null,
            "grid_auto_rows": null,
            "grid_column": null,
            "grid_gap": null,
            "grid_row": null,
            "grid_template_areas": null,
            "grid_template_columns": null,
            "grid_template_rows": null,
            "height": null,
            "justify_content": null,
            "justify_items": null,
            "left": null,
            "margin": null,
            "max_height": null,
            "max_width": null,
            "min_height": null,
            "min_width": null,
            "object_fit": null,
            "object_position": null,
            "order": null,
            "overflow": null,
            "overflow_x": null,
            "overflow_y": null,
            "padding": null,
            "right": null,
            "top": null,
            "visibility": null,
            "width": null
          }
        },
        "684e3cd04743432792187b03bfc79ff2": {
          "model_module": "@jupyter-widgets/controls",
          "model_name": "ProgressStyleModel",
          "model_module_version": "1.5.0",
          "state": {
            "_model_module": "@jupyter-widgets/controls",
            "_model_module_version": "1.5.0",
            "_model_name": "ProgressStyleModel",
            "_view_count": null,
            "_view_module": "@jupyter-widgets/base",
            "_view_module_version": "1.2.0",
            "_view_name": "StyleView",
            "bar_color": null,
            "description_width": ""
          }
        },
        "2c97fffbd15f4c95bd290d4b888a3127": {
          "model_module": "@jupyter-widgets/base",
          "model_name": "LayoutModel",
          "model_module_version": "1.2.0",
          "state": {
            "_model_module": "@jupyter-widgets/base",
            "_model_module_version": "1.2.0",
            "_model_name": "LayoutModel",
            "_view_count": null,
            "_view_module": "@jupyter-widgets/base",
            "_view_module_version": "1.2.0",
            "_view_name": "LayoutView",
            "align_content": null,
            "align_items": null,
            "align_self": null,
            "border": null,
            "bottom": null,
            "display": null,
            "flex": null,
            "flex_flow": null,
            "grid_area": null,
            "grid_auto_columns": null,
            "grid_auto_flow": null,
            "grid_auto_rows": null,
            "grid_column": null,
            "grid_gap": null,
            "grid_row": null,
            "grid_template_areas": null,
            "grid_template_columns": null,
            "grid_template_rows": null,
            "height": null,
            "justify_content": null,
            "justify_items": null,
            "left": null,
            "margin": null,
            "max_height": null,
            "max_width": null,
            "min_height": null,
            "min_width": null,
            "object_fit": null,
            "object_position": null,
            "order": null,
            "overflow": null,
            "overflow_x": null,
            "overflow_y": null,
            "padding": null,
            "right": null,
            "top": null,
            "visibility": null,
            "width": null
          }
        },
        "6caf43cef65c404dadf92fef3f559b66": {
          "model_module": "@jupyter-widgets/controls",
          "model_name": "DescriptionStyleModel",
          "model_module_version": "1.5.0",
          "state": {
            "_model_module": "@jupyter-widgets/controls",
            "_model_module_version": "1.5.0",
            "_model_name": "DescriptionStyleModel",
            "_view_count": null,
            "_view_module": "@jupyter-widgets/base",
            "_view_module_version": "1.2.0",
            "_view_name": "StyleView",
            "description_width": ""
          }
        },
        "d4423ac799834c7caa7dca53031e643c": {
          "model_module": "@jupyter-widgets/controls",
          "model_name": "HBoxModel",
          "model_module_version": "1.5.0",
          "state": {
            "_dom_classes": [],
            "_model_module": "@jupyter-widgets/controls",
            "_model_module_version": "1.5.0",
            "_model_name": "HBoxModel",
            "_view_count": null,
            "_view_module": "@jupyter-widgets/controls",
            "_view_module_version": "1.5.0",
            "_view_name": "HBoxView",
            "box_style": "",
            "children": [
              "IPY_MODEL_9908c3b7b14a4e578aa1b23527f072bc",
              "IPY_MODEL_b988c13d478f42d996ef9b2a47bd1ac7",
              "IPY_MODEL_d54f75051a554b51a03f472c793f2836"
            ],
            "layout": "IPY_MODEL_63e5b42581f04086b599244b01841da9"
          }
        },
        "9908c3b7b14a4e578aa1b23527f072bc": {
          "model_module": "@jupyter-widgets/controls",
          "model_name": "HTMLModel",
          "model_module_version": "1.5.0",
          "state": {
            "_dom_classes": [],
            "_model_module": "@jupyter-widgets/controls",
            "_model_module_version": "1.5.0",
            "_model_name": "HTMLModel",
            "_view_count": null,
            "_view_module": "@jupyter-widgets/controls",
            "_view_module_version": "1.5.0",
            "_view_name": "HTMLView",
            "description": "",
            "description_tooltip": null,
            "layout": "IPY_MODEL_7643873aaa5c41098f5310ca8dd643b3",
            "placeholder": "​",
            "style": "IPY_MODEL_2b4188ade24142aa86f68a0a61c582d4",
            "value": "preprocessor_config.json: 100%"
          }
        },
        "b988c13d478f42d996ef9b2a47bd1ac7": {
          "model_module": "@jupyter-widgets/controls",
          "model_name": "FloatProgressModel",
          "model_module_version": "1.5.0",
          "state": {
            "_dom_classes": [],
            "_model_module": "@jupyter-widgets/controls",
            "_model_module_version": "1.5.0",
            "_model_name": "FloatProgressModel",
            "_view_count": null,
            "_view_module": "@jupyter-widgets/controls",
            "_view_module_version": "1.5.0",
            "_view_name": "ProgressView",
            "bar_style": "success",
            "description": "",
            "description_tooltip": null,
            "layout": "IPY_MODEL_a89e5d63698a426bb146a3d3fed1c191",
            "max": 472,
            "min": 0,
            "orientation": "horizontal",
            "style": "IPY_MODEL_d1e5bf7ec0474ab3b92fc66293ec2874",
            "value": 472
          }
        },
        "d54f75051a554b51a03f472c793f2836": {
          "model_module": "@jupyter-widgets/controls",
          "model_name": "HTMLModel",
          "model_module_version": "1.5.0",
          "state": {
            "_dom_classes": [],
            "_model_module": "@jupyter-widgets/controls",
            "_model_module_version": "1.5.0",
            "_model_name": "HTMLModel",
            "_view_count": null,
            "_view_module": "@jupyter-widgets/controls",
            "_view_module_version": "1.5.0",
            "_view_name": "HTMLView",
            "description": "",
            "description_tooltip": null,
            "layout": "IPY_MODEL_09007a3112bd4e839d74417074cdae45",
            "placeholder": "​",
            "style": "IPY_MODEL_ee11add4f91045d2abcc2c5590fb7c62",
            "value": " 472/472 [00:00&lt;00:00, 18.1kB/s]"
          }
        },
        "63e5b42581f04086b599244b01841da9": {
          "model_module": "@jupyter-widgets/base",
          "model_name": "LayoutModel",
          "model_module_version": "1.2.0",
          "state": {
            "_model_module": "@jupyter-widgets/base",
            "_model_module_version": "1.2.0",
            "_model_name": "LayoutModel",
            "_view_count": null,
            "_view_module": "@jupyter-widgets/base",
            "_view_module_version": "1.2.0",
            "_view_name": "LayoutView",
            "align_content": null,
            "align_items": null,
            "align_self": null,
            "border": null,
            "bottom": null,
            "display": null,
            "flex": null,
            "flex_flow": null,
            "grid_area": null,
            "grid_auto_columns": null,
            "grid_auto_flow": null,
            "grid_auto_rows": null,
            "grid_column": null,
            "grid_gap": null,
            "grid_row": null,
            "grid_template_areas": null,
            "grid_template_columns": null,
            "grid_template_rows": null,
            "height": null,
            "justify_content": null,
            "justify_items": null,
            "left": null,
            "margin": null,
            "max_height": null,
            "max_width": null,
            "min_height": null,
            "min_width": null,
            "object_fit": null,
            "object_position": null,
            "order": null,
            "overflow": null,
            "overflow_x": null,
            "overflow_y": null,
            "padding": null,
            "right": null,
            "top": null,
            "visibility": null,
            "width": null
          }
        },
        "7643873aaa5c41098f5310ca8dd643b3": {
          "model_module": "@jupyter-widgets/base",
          "model_name": "LayoutModel",
          "model_module_version": "1.2.0",
          "state": {
            "_model_module": "@jupyter-widgets/base",
            "_model_module_version": "1.2.0",
            "_model_name": "LayoutModel",
            "_view_count": null,
            "_view_module": "@jupyter-widgets/base",
            "_view_module_version": "1.2.0",
            "_view_name": "LayoutView",
            "align_content": null,
            "align_items": null,
            "align_self": null,
            "border": null,
            "bottom": null,
            "display": null,
            "flex": null,
            "flex_flow": null,
            "grid_area": null,
            "grid_auto_columns": null,
            "grid_auto_flow": null,
            "grid_auto_rows": null,
            "grid_column": null,
            "grid_gap": null,
            "grid_row": null,
            "grid_template_areas": null,
            "grid_template_columns": null,
            "grid_template_rows": null,
            "height": null,
            "justify_content": null,
            "justify_items": null,
            "left": null,
            "margin": null,
            "max_height": null,
            "max_width": null,
            "min_height": null,
            "min_width": null,
            "object_fit": null,
            "object_position": null,
            "order": null,
            "overflow": null,
            "overflow_x": null,
            "overflow_y": null,
            "padding": null,
            "right": null,
            "top": null,
            "visibility": null,
            "width": null
          }
        },
        "2b4188ade24142aa86f68a0a61c582d4": {
          "model_module": "@jupyter-widgets/controls",
          "model_name": "DescriptionStyleModel",
          "model_module_version": "1.5.0",
          "state": {
            "_model_module": "@jupyter-widgets/controls",
            "_model_module_version": "1.5.0",
            "_model_name": "DescriptionStyleModel",
            "_view_count": null,
            "_view_module": "@jupyter-widgets/base",
            "_view_module_version": "1.2.0",
            "_view_name": "StyleView",
            "description_width": ""
          }
        },
        "a89e5d63698a426bb146a3d3fed1c191": {
          "model_module": "@jupyter-widgets/base",
          "model_name": "LayoutModel",
          "model_module_version": "1.2.0",
          "state": {
            "_model_module": "@jupyter-widgets/base",
            "_model_module_version": "1.2.0",
            "_model_name": "LayoutModel",
            "_view_count": null,
            "_view_module": "@jupyter-widgets/base",
            "_view_module_version": "1.2.0",
            "_view_name": "LayoutView",
            "align_content": null,
            "align_items": null,
            "align_self": null,
            "border": null,
            "bottom": null,
            "display": null,
            "flex": null,
            "flex_flow": null,
            "grid_area": null,
            "grid_auto_columns": null,
            "grid_auto_flow": null,
            "grid_auto_rows": null,
            "grid_column": null,
            "grid_gap": null,
            "grid_row": null,
            "grid_template_areas": null,
            "grid_template_columns": null,
            "grid_template_rows": null,
            "height": null,
            "justify_content": null,
            "justify_items": null,
            "left": null,
            "margin": null,
            "max_height": null,
            "max_width": null,
            "min_height": null,
            "min_width": null,
            "object_fit": null,
            "object_position": null,
            "order": null,
            "overflow": null,
            "overflow_x": null,
            "overflow_y": null,
            "padding": null,
            "right": null,
            "top": null,
            "visibility": null,
            "width": null
          }
        },
        "d1e5bf7ec0474ab3b92fc66293ec2874": {
          "model_module": "@jupyter-widgets/controls",
          "model_name": "ProgressStyleModel",
          "model_module_version": "1.5.0",
          "state": {
            "_model_module": "@jupyter-widgets/controls",
            "_model_module_version": "1.5.0",
            "_model_name": "ProgressStyleModel",
            "_view_count": null,
            "_view_module": "@jupyter-widgets/base",
            "_view_module_version": "1.2.0",
            "_view_name": "StyleView",
            "bar_color": null,
            "description_width": ""
          }
        },
        "09007a3112bd4e839d74417074cdae45": {
          "model_module": "@jupyter-widgets/base",
          "model_name": "LayoutModel",
          "model_module_version": "1.2.0",
          "state": {
            "_model_module": "@jupyter-widgets/base",
            "_model_module_version": "1.2.0",
            "_model_name": "LayoutModel",
            "_view_count": null,
            "_view_module": "@jupyter-widgets/base",
            "_view_module_version": "1.2.0",
            "_view_name": "LayoutView",
            "align_content": null,
            "align_items": null,
            "align_self": null,
            "border": null,
            "bottom": null,
            "display": null,
            "flex": null,
            "flex_flow": null,
            "grid_area": null,
            "grid_auto_columns": null,
            "grid_auto_flow": null,
            "grid_auto_rows": null,
            "grid_column": null,
            "grid_gap": null,
            "grid_row": null,
            "grid_template_areas": null,
            "grid_template_columns": null,
            "grid_template_rows": null,
            "height": null,
            "justify_content": null,
            "justify_items": null,
            "left": null,
            "margin": null,
            "max_height": null,
            "max_width": null,
            "min_height": null,
            "min_width": null,
            "object_fit": null,
            "object_position": null,
            "order": null,
            "overflow": null,
            "overflow_x": null,
            "overflow_y": null,
            "padding": null,
            "right": null,
            "top": null,
            "visibility": null,
            "width": null
          }
        },
        "ee11add4f91045d2abcc2c5590fb7c62": {
          "model_module": "@jupyter-widgets/controls",
          "model_name": "DescriptionStyleModel",
          "model_module_version": "1.5.0",
          "state": {
            "_model_module": "@jupyter-widgets/controls",
            "_model_module_version": "1.5.0",
            "_model_name": "DescriptionStyleModel",
            "_view_count": null,
            "_view_module": "@jupyter-widgets/base",
            "_view_module_version": "1.2.0",
            "_view_name": "StyleView",
            "description_width": ""
          }
        }
      }
    }
  },
  "nbformat": 4,
  "nbformat_minor": 5
}