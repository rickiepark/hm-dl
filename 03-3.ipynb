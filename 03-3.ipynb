{
  "cells": [
    {
      "cell_type": "markdown",
      "id": "2312e428-c551-4995-8a95-abb8930d0367",
      "metadata": {
        "id": "2312e428-c551-4995-8a95-abb8930d0367"
      },
      "source": [
        "# 03-3 모델 저장소와 전이 학습"
      ]
    },
    {
      "cell_type": "markdown",
      "id": "91796895-26dc-4af6-bbbd-bad2f7f05379",
      "metadata": {
        "id": "91796895-26dc-4af6-bbbd-bad2f7f05379"
      },
      "source": [
        "<table align=\"left\"><tr><td>\n",
        "<a href=\"https://colab.research.google.com/github/rickiepark/hm-dl/blob/main/03-3.ipynb\" target=\"_parent\"><img src=\"https://colab.research.google.com/assets/colab-badge.svg\" alt=\"코랩에서 실행하기\"/></a>\n",
        "</td></tr></table>"
      ]
    },
    {
      "cell_type": "markdown",
      "id": "B5kU60QgvYkx",
      "metadata": {
        "id": "B5kU60QgvYkx"
      },
      "source": [
        "## 텐서플로 허브"
      ]
    },
    {
      "cell_type": "code",
      "source": [
        "import tf_keras as keras\n",
        "from tf_keras import layers\n",
        "import tensorflow_hub as hub"
      ],
      "metadata": {
        "id": "Xs3FOYBZFIW7"
      },
      "id": "Xs3FOYBZFIW7",
      "execution_count": 1,
      "outputs": []
    },
    {
      "cell_type": "code",
      "source": [
        "hub_efficientb0 = keras.Sequential([\n",
        "    layers.Input(shape=(224, 224, 3)),\n",
        "    layers.Rescaling(1.0 / 255.0),\n",
        "    hub.KerasLayer(\"https://www.kaggle.com/models/tensorflow/efficientnet/frameworks/TensorFlow2/variations/b0-classification/versions/1\")\n",
        "])"
      ],
      "metadata": {
        "id": "P7dGqLCpFjeR"
      },
      "id": "P7dGqLCpFjeR",
      "execution_count": 2,
      "outputs": []
    },
    {
      "cell_type": "code",
      "source": [
        "!gdown 1xGkTT3uwYt4myj6eJJeYtdEFgTi2Sj8C\n",
        "!unzip cat-dog-images.zip"
      ],
      "metadata": {
        "id": "GdogVqnuFdt6",
        "outputId": "4323be0a-4e85-4acd-82ea-841dffdcfdeb",
        "colab": {
          "base_uri": "https://localhost:8080/"
        }
      },
      "id": "GdogVqnuFdt6",
      "execution_count": 3,
      "outputs": [
        {
          "output_type": "stream",
          "name": "stdout",
          "text": [
            "Downloading...\n",
            "From: https://drive.google.com/uc?id=1xGkTT3uwYt4myj6eJJeYtdEFgTi2Sj8C\n",
            "To: /content/cat-dog-images.zip\n",
            "\r  0% 0.00/182k [00:00<?, ?B/s]\r100% 182k/182k [00:00<00:00, 7.37MB/s]\n",
            "Archive:  cat-dog-images.zip\n",
            "   creating: images/\n",
            "  inflating: images/dog.png          \n",
            "  inflating: images/cat.png          \n"
          ]
        }
      ]
    },
    {
      "cell_type": "code",
      "source": [
        "import numpy as np\n",
        "from PIL import Image\n",
        "\n",
        "dog_png = np.array(Image.open('images/dog.png'))"
      ],
      "metadata": {
        "id": "kUffncA2FX25"
      },
      "id": "kUffncA2FX25",
      "execution_count": 4,
      "outputs": []
    },
    {
      "cell_type": "code",
      "execution_count": 5,
      "id": "22e4a001-b5dd-4d51-b0df-578a9cb0c445",
      "metadata": {
        "colab": {
          "base_uri": "https://localhost:8080/"
        },
        "id": "22e4a001-b5dd-4d51-b0df-578a9cb0c445",
        "outputId": "38b81dd7-aac0-42a1-b370-0f92a94303e2"
      },
      "outputs": [
        {
          "output_type": "stream",
          "name": "stdout",
          "text": [
            "1/1 [==============================] - 8s 8s/step\n",
            "Downloading data from https://storage.googleapis.com/download.tensorflow.org/data/imagenet_class_index.json\n",
            "\u001b[1m35363/35363\u001b[0m \u001b[32m━━━━━━━━━━━━━━━━━━━━\u001b[0m\u001b[37m\u001b[0m \u001b[1m0s\u001b[0m 0us/step\n"
          ]
        },
        {
          "output_type": "execute_result",
          "data": {
            "text/plain": [
              "[[('n02099712', 'Labrador_retriever', 0.36829397),\n",
              "  ('n02104029', 'kuvasz', 0.19339873),\n",
              "  ('n02099601', 'golden_retriever', 0.061458185),\n",
              "  ('n02111500', 'Great_Pyrenees', 0.05779695),\n",
              "  ('n02095889', 'Sealyham_terrier', 0.017902765)]]"
            ]
          },
          "metadata": {},
          "execution_count": 5
        }
      ],
      "source": [
        "from keras.applications import efficientnet\n",
        "\n",
        "predictions = hub_efficientb0.predict(dog_png[np.newaxis,:])\n",
        "efficientnet.decode_predictions(predictions)"
      ]
    },
    {
      "cell_type": "markdown",
      "source": [
        "## 허깅페이스 모델 저장소"
      ],
      "metadata": {
        "id": "xPwufqOFFA6F"
      },
      "id": "xPwufqOFFA6F"
    },
    {
      "cell_type": "code",
      "execution_count": 6,
      "id": "a293273a-665c-4d08-b7fa-13dcb52f759a",
      "metadata": {
        "colab": {
          "base_uri": "https://localhost:8080/",
          "height": 352,
          "referenced_widgets": [
            "428e5e11bf0146e996b0a9d10380a9e4",
            "fcd1bf287e27447d861a279d876494d3",
            "f8aff263d7b142a5b5ea837be68fad27",
            "111e858adfec434faebcfd58d9d07465",
            "622b3d1bfa3f45b5b5ce640b2a8661fc",
            "652eee4013e44b1197a7304899acb5b3",
            "c1f54bf96da24f7ea2fb7be7e4ee715f",
            "aec715cf7712486397df64d7c5db1efb",
            "7305a54c01fe47e3971e363535c41c7e",
            "379ba769bdc3462888f224dfe7995526",
            "afb409e440dd48a3981081b804eae2fb",
            "d968aefad9ca428a84c9dcbd3d15b41b",
            "696b24a52a194b4ca2f5ac6de5b30542",
            "6857130ca28f463a8fb0850963275743",
            "8d857433914e448491d98d18e6a4ecc4",
            "e21ed303decc4b96bbcf814660b2c8f7",
            "7034532fd59640e3b9a7de309421924c",
            "7946cebd5f0a4c7fa46fde59f4430802",
            "e2d8ffaa8dee47d4b1a3d05293a5e58c",
            "ef73d3aeb4264d89ae2d8eafdcc1719f",
            "f9bd35d911654985aa757c7dfbca0f74",
            "89d98a5c091945c391ac2e224908ff2b",
            "250c373332b743ab9675549d96257bb3",
            "5c4dd830a1474dcfadc8b4d1cbcb7556",
            "4367f9413ef141e28f7d39c27602ef1a",
            "50b9ad59bf0e468788cdbbfa7b8e3ea8",
            "d11569d336a34daeac55523d3d56c0a1",
            "5e9a4bf1bf264dd59004d7e48658c5bd",
            "f6739489ffce42bf8f8741ff0e93beaf",
            "47e0a67f9b3b43dc84752325681c8e1b",
            "da04ef90999f40fd922de747c0a6f20d",
            "23947639926a44d1a51286ec1c085138",
            "ad1bdb45cad34f1ea22c0e944970010c"
          ]
        },
        "id": "a293273a-665c-4d08-b7fa-13dcb52f759a",
        "outputId": "ba28304d-9afa-408f-ed17-15c1f71e28fa"
      },
      "outputs": [
        {
          "output_type": "stream",
          "name": "stderr",
          "text": [
            "/usr/local/lib/python3.10/dist-packages/huggingface_hub/utils/_token.py:89: UserWarning: \n",
            "The secret `HF_TOKEN` does not exist in your Colab secrets.\n",
            "To authenticate with the Hugging Face Hub, create a token in your settings tab (https://huggingface.co/settings/tokens), set it as secret in your Google Colab and restart your session.\n",
            "You will be able to reuse this secret in all of your notebooks.\n",
            "Please note that authentication is recommended but still optional to access public models or datasets.\n",
            "  warnings.warn(\n"
          ]
        },
        {
          "output_type": "display_data",
          "data": {
            "text/plain": [
              "config.json:   0%|          | 0.00/70.3k [00:00<?, ?B/s]"
            ],
            "application/vnd.jupyter.widget-view+json": {
              "version_major": 2,
              "version_minor": 0,
              "model_id": "428e5e11bf0146e996b0a9d10380a9e4"
            }
          },
          "metadata": {}
        },
        {
          "output_type": "display_data",
          "data": {
            "text/plain": [
              "pytorch_model.bin:   0%|          | 0.00/21.4M [00:00<?, ?B/s]"
            ],
            "application/vnd.jupyter.widget-view+json": {
              "version_major": 2,
              "version_minor": 0,
              "model_id": "d968aefad9ca428a84c9dcbd3d15b41b"
            }
          },
          "metadata": {}
        },
        {
          "output_type": "display_data",
          "data": {
            "text/plain": [
              "preprocessor_config.json:   0%|          | 0.00/472 [00:00<?, ?B/s]"
            ],
            "application/vnd.jupyter.widget-view+json": {
              "version_major": 2,
              "version_minor": 0,
              "model_id": "250c373332b743ab9675549d96257bb3"
            }
          },
          "metadata": {}
        },
        {
          "output_type": "stream",
          "name": "stderr",
          "text": [
            "Hardware accelerator e.g. GPU is available in the environment, but no `device` argument is passed to the `Pipeline` object. Model will be on CPU.\n"
          ]
        },
        {
          "output_type": "execute_result",
          "data": {
            "text/plain": [
              "[{'label': 'Labrador retriever', 'score': 0.368294358253479},\n",
              " {'label': 'kuvasz', 'score': 0.19339904189109802},\n",
              " {'label': 'golden retriever', 'score': 0.061458274722099304},\n",
              " {'label': 'Great Pyrenees', 'score': 0.057796820998191833},\n",
              " {'label': 'Sealyham terrier, Sealyham', 'score': 0.017902739346027374}]"
            ]
          },
          "metadata": {},
          "execution_count": 6
        }
      ],
      "source": [
        "from transformers import pipeline\n",
        "\n",
        "pipe = pipeline(task='image-classification', model='google/efficientnet-b0')\n",
        "pipe('images/dog.png')"
      ]
    },
    {
      "cell_type": "markdown",
      "id": "c6222c43-b850-4b9e-a93f-fb3d3d26fe71",
      "metadata": {
        "id": "c6222c43-b850-4b9e-a93f-fb3d3d26fe71"
      },
      "source": [
        "## 전이 학습"
      ]
    },
    {
      "cell_type": "code",
      "execution_count": 7,
      "id": "w-RSHY9FkatW",
      "metadata": {
        "colab": {
          "base_uri": "https://localhost:8080/"
        },
        "id": "w-RSHY9FkatW",
        "outputId": "1d0ff338-d6f1-4db7-b00a-b55c7c05e521"
      },
      "outputs": [
        {
          "output_type": "stream",
          "name": "stdout",
          "text": [
            "Downloading...\n",
            "From: https://drive.google.com/uc?id=10bnEC6-ZfXZFZ2mb3zoWd38TjYufanWo\n",
            "To: /content/Pistachio_Image_Dataset.zip\n",
            "100% 25.9M/25.9M [00:01<00:00, 21.4MB/s]\n"
          ]
        }
      ],
      "source": [
        "!gdown 10bnEC6-ZfXZFZ2mb3zoWd38TjYufanWo"
      ]
    },
    {
      "cell_type": "code",
      "execution_count": 8,
      "id": "u8up9YuvoDw-",
      "metadata": {
        "id": "u8up9YuvoDw-"
      },
      "outputs": [],
      "source": [
        "!unzip -q Pistachio_Image_Dataset.zip"
      ]
    },
    {
      "cell_type": "code",
      "execution_count": 9,
      "id": "8a12732d-78d6-4bf1-98a4-33594d16ba24",
      "metadata": {
        "id": "8a12732d-78d6-4bf1-98a4-33594d16ba24"
      },
      "outputs": [],
      "source": [
        "pistachio_sample = np.array(Image.open('Pistachio_Image_Dataset/Kirmizi_Pistachio/kirmizi (1).jpg'))"
      ]
    },
    {
      "cell_type": "code",
      "execution_count": 10,
      "id": "18a82a19",
      "metadata": {
        "colab": {
          "base_uri": "https://localhost:8080/"
        },
        "id": "18a82a19",
        "outputId": "96e35bc1-611a-4884-e356-6c5914034b06"
      },
      "outputs": [
        {
          "output_type": "execute_result",
          "data": {
            "text/plain": [
              "(600, 600, 3)"
            ]
          },
          "metadata": {},
          "execution_count": 10
        }
      ],
      "source": [
        "pistachio_sample.shape"
      ]
    },
    {
      "cell_type": "code",
      "execution_count": 11,
      "id": "F2nRD1Wg7JCE",
      "metadata": {
        "colab": {
          "base_uri": "https://localhost:8080/"
        },
        "id": "F2nRD1Wg7JCE",
        "outputId": "beb66e64-cd99-419a-cec4-61f113615f10"
      },
      "outputs": [
        {
          "output_type": "stream",
          "name": "stdout",
          "text": [
            "Downloading data from https://storage.googleapis.com/keras-applications/efficientnetb7.h5\n",
            "268326632/268326632 [==============================] - 3s 0us/step\n",
            "1/1 [==============================] - 8s 8s/step\n"
          ]
        },
        {
          "output_type": "execute_result",
          "data": {
            "text/plain": [
              "[[('n01950731', 'sea_slug', 0.23482412),\n",
              "  ('n01924916', 'flatworm', 0.20674428),\n",
              "  ('n01943899', 'conch', 0.08622342),\n",
              "  ('n01945685', 'slug', 0.08500538),\n",
              "  ('n01955084', 'chiton', 0.028242925)]]"
            ]
          },
          "metadata": {},
          "execution_count": 11
        }
      ],
      "source": [
        "efficientb7 = keras.applications.EfficientNetB7()\n",
        "\n",
        "predictions = efficientb7.predict(pistachio_sample[np.newaxis,:])\n",
        "efficientnet.decode_predictions(predictions)"
      ]
    },
    {
      "cell_type": "code",
      "execution_count": 12,
      "id": "f20125d2-ec7d-4c2e-94db-bd32ffdc3bbc",
      "metadata": {
        "colab": {
          "base_uri": "https://localhost:8080/"
        },
        "id": "f20125d2-ec7d-4c2e-94db-bd32ffdc3bbc",
        "outputId": "e4b6e64a-dec2-4d18-d36a-ab11d2ca5007",
        "scrolled": true
      },
      "outputs": [
        {
          "output_type": "stream",
          "name": "stdout",
          "text": [
            "Downloading data from https://storage.googleapis.com/keras-applications/efficientnetb0_notop.h5\n",
            "16705208/16705208 [==============================] - 0s 0us/step\n"
          ]
        },
        {
          "output_type": "execute_result",
          "data": {
            "text/plain": [
              "TensorShape([1, 18, 18, 1280])"
            ]
          },
          "metadata": {},
          "execution_count": 12
        }
      ],
      "source": [
        "keras_efficientb0_base = keras.applications.EfficientNetB0(include_top=False)\n",
        "feature_map = keras_efficientb0_base(pistachio_sample[np.newaxis,:])\n",
        "feature_map.shape"
      ]
    },
    {
      "cell_type": "code",
      "execution_count": 13,
      "id": "b8039236",
      "metadata": {
        "colab": {
          "base_uri": "https://localhost:8080/"
        },
        "id": "b8039236",
        "outputId": "c539db18-0860-4794-aff6-3ffbe555448c"
      },
      "outputs": [
        {
          "output_type": "stream",
          "name": "stdout",
          "text": [
            "Found 2148 files belonging to 2 classes.\n",
            "Using 1719 files for training.\n",
            "Using 429 files for validation.\n"
          ]
        }
      ],
      "source": [
        "train_ds, val_ds = keras.utils.image_dataset_from_directory(\n",
        "    'Pistachio_Image_Dataset', image_size=(224, 224), batch_size=16,\n",
        "    validation_split=0.2, subset='both', seed=42\n",
        ")"
      ]
    },
    {
      "cell_type": "code",
      "execution_count": 14,
      "id": "aIPEIPYPiM6G",
      "metadata": {
        "colab": {
          "base_uri": "https://localhost:8080/"
        },
        "id": "aIPEIPYPiM6G",
        "outputId": "900deb2e-4d3a-4315-8bdf-2d5d3f681711"
      },
      "outputs": [
        {
          "output_type": "stream",
          "name": "stdout",
          "text": [
            "Epoch 1/20\n",
            "108/108 [==============================] - 21s 117ms/step - loss: 0.4900 - accuracy: 0.8162 - val_loss: 0.3636 - val_accuracy: 0.9091\n",
            "Epoch 2/20\n",
            "108/108 [==============================] - 8s 67ms/step - loss: 0.3210 - accuracy: 0.9092 - val_loss: 0.2555 - val_accuracy: 0.9301\n",
            "Epoch 3/20\n",
            "108/108 [==============================] - 5s 44ms/step - loss: 0.2442 - accuracy: 0.9290 - val_loss: 0.2001 - val_accuracy: 0.9441\n",
            "Epoch 4/20\n",
            "108/108 [==============================] - 6s 57ms/step - loss: 0.1959 - accuracy: 0.9453 - val_loss: 0.1685 - val_accuracy: 0.9534\n",
            "Epoch 5/20\n",
            "108/108 [==============================] - 5s 48ms/step - loss: 0.1645 - accuracy: 0.9523 - val_loss: 0.1442 - val_accuracy: 0.9580\n",
            "Epoch 6/20\n",
            "108/108 [==============================] - 5s 45ms/step - loss: 0.1413 - accuracy: 0.9639 - val_loss: 0.1291 - val_accuracy: 0.9650\n",
            "Epoch 7/20\n",
            "108/108 [==============================] - 6s 55ms/step - loss: 0.1267 - accuracy: 0.9639 - val_loss: 0.1181 - val_accuracy: 0.9720\n",
            "Epoch 8/20\n",
            "108/108 [==============================] - 5s 48ms/step - loss: 0.1151 - accuracy: 0.9651 - val_loss: 0.1075 - val_accuracy: 0.9697\n",
            "Epoch 9/20\n",
            "108/108 [==============================] - 5s 45ms/step - loss: 0.1036 - accuracy: 0.9686 - val_loss: 0.1017 - val_accuracy: 0.9674\n",
            "Epoch 10/20\n",
            "108/108 [==============================] - 6s 57ms/step - loss: 0.0936 - accuracy: 0.9756 - val_loss: 0.0950 - val_accuracy: 0.9744\n",
            "Epoch 11/20\n",
            "108/108 [==============================] - 5s 44ms/step - loss: 0.0891 - accuracy: 0.9744 - val_loss: 0.0903 - val_accuracy: 0.9767\n",
            "Epoch 12/20\n",
            "108/108 [==============================] - 6s 50ms/step - loss: 0.0818 - accuracy: 0.9761 - val_loss: 0.0861 - val_accuracy: 0.9767\n",
            "Epoch 13/20\n",
            "108/108 [==============================] - 5s 45ms/step - loss: 0.0798 - accuracy: 0.9744 - val_loss: 0.0830 - val_accuracy: 0.9744\n",
            "Epoch 14/20\n",
            "108/108 [==============================] - 6s 57ms/step - loss: 0.0739 - accuracy: 0.9785 - val_loss: 0.0795 - val_accuracy: 0.9744\n",
            "Epoch 15/20\n",
            "108/108 [==============================] - 5s 44ms/step - loss: 0.0718 - accuracy: 0.9767 - val_loss: 0.0768 - val_accuracy: 0.9744\n",
            "Epoch 16/20\n",
            "108/108 [==============================] - 7s 60ms/step - loss: 0.0688 - accuracy: 0.9802 - val_loss: 0.0748 - val_accuracy: 0.9767\n",
            "Epoch 17/20\n",
            "108/108 [==============================] - 5s 45ms/step - loss: 0.0642 - accuracy: 0.9785 - val_loss: 0.0732 - val_accuracy: 0.9767\n",
            "Epoch 18/20\n",
            "108/108 [==============================] - 5s 48ms/step - loss: 0.0567 - accuracy: 0.9831 - val_loss: 0.0716 - val_accuracy: 0.9744\n",
            "Epoch 19/20\n",
            "108/108 [==============================] - 6s 53ms/step - loss: 0.0588 - accuracy: 0.9808 - val_loss: 0.0701 - val_accuracy: 0.9790\n",
            "Epoch 20/20\n",
            "108/108 [==============================] - 5s 44ms/step - loss: 0.0570 - accuracy: 0.9837 - val_loss: 0.0692 - val_accuracy: 0.9790\n"
          ]
        }
      ],
      "source": [
        "keras_efficientb0_base.trainable = False\n",
        "\n",
        "inputs = keras.Input(shape=(224, 224, 3))\n",
        "x = keras_efficientb0_base(inputs)\n",
        "x = layers.GlobalAveragePooling2D()(x)\n",
        "x = layers.Dense(128, activation='relu')(x)\n",
        "outputs = layers.Dense(1, activation=\"sigmoid\")(x)\n",
        "model = keras.Model(inputs, outputs)\n",
        "\n",
        "rmsprop = keras.optimizers.RMSprop(learning_rate=5e-5)\n",
        "model.compile(optimizer=rmsprop, loss='binary_crossentropy', metrics=['accuracy'])\n",
        "hist = model.fit(train_ds, epochs=20, validation_data=val_ds)"
      ]
    },
    {
      "cell_type": "code",
      "execution_count": 15,
      "id": "IntxvaRB8PWP",
      "metadata": {
        "colab": {
          "base_uri": "https://localhost:8080/",
          "height": 388
        },
        "id": "IntxvaRB8PWP",
        "outputId": "b2fb48ed-841a-4a1b-e11f-f276d2b3cfc0"
      },
      "outputs": [
        {
          "output_type": "display_data",
          "data": {
            "text/plain": [
              "<Figure size 1200x400 with 2 Axes>"
            ],
            "image/png": "[encoded data removed]"
          },
          "metadata": {}
        }
      ],
      "source": [
        "import matplotlib.pyplot as plt\n",
        "\n",
        "fig, axs = plt.subplots(1, 2, figsize=(12, 4))\n",
        "axs[0].plot(range(1, 21), hist.history['loss'], label='loss')\n",
        "axs[0].plot(range(1, 21), hist.history['val_loss'], label='val_loss')\n",
        "axs[0].set_xticks(range(1, 21))\n",
        "axs[0].set_xlabel('epoch')\n",
        "axs[0].set_ylabel('loss')\n",
        "axs[0].legend()\n",
        "axs[1].plot(range(1, 21), hist.history['accuracy'], label='accuracy')\n",
        "axs[1].plot(range(1, 21), hist.history['val_accuracy'], label='val_accuracy')\n",
        "axs[1].set_xticks(range(1, 21))\n",
        "axs[1].set_xlabel('epoch')\n",
        "axs[1].set_ylabel('accuracy')\n",
        "axs[1].legend()\n",
        "plt.show()"
      ]
    },
    {
      "cell_type": "markdown",
      "id": "66gPs0bw8VD2",
      "metadata": {
        "id": "66gPs0bw8VD2"
      },
      "source": [
        "## 심화 학습"
      ]
    },
    {
      "cell_type": "code",
      "execution_count": 16,
      "id": "fajYV5Wc7pAU",
      "metadata": {
        "id": "fajYV5Wc7pAU"
      },
      "outputs": [],
      "source": [
        "kaggle_efficientb0_base = hub.KerasLayer('https://www.kaggle.com/models/tensorflow/efficientnet/frameworks/TensorFlow2/variations/b0-feature-vector/versions/1')\n",
        "\n",
        "inputs = keras.Input(shape=(224, 224, 3))\n",
        "x = layers.Rescaling(1.0 / 255.0)(inputs)\n",
        "x = kaggle_efficientb0_base(x)\n",
        "x = layers.Dense(128, activation='relu')(x)\n",
        "outputs = layers.Dense(1, activation='sigmoid')(x)\n",
        "model = keras.Model(inputs, outputs)"
      ]
    },
    {
      "cell_type": "code",
      "execution_count": 17,
      "id": "480f4d8b-0fbd-4731-9d15-2af6c1ae2b14",
      "metadata": {
        "colab": {
          "base_uri": "https://localhost:8080/"
        },
        "id": "480f4d8b-0fbd-4731-9d15-2af6c1ae2b14",
        "outputId": "06a367f9-051f-4740-fb4a-41e608297871"
      },
      "outputs": [
        {
          "output_type": "stream",
          "name": "stdout",
          "text": [
            "Epoch 1/20\n",
            "108/108 [==============================] - 16s 60ms/step - loss: 0.3523 - accuracy: 0.8802 - val_loss: 0.2208 - val_accuracy: 0.9371\n",
            "Epoch 2/20\n",
            "108/108 [==============================] - 5s 46ms/step - loss: 0.1843 - accuracy: 0.9482 - val_loss: 0.1458 - val_accuracy: 0.9580\n",
            "Epoch 3/20\n",
            "108/108 [==============================] - 5s 43ms/step - loss: 0.1311 - accuracy: 0.9657 - val_loss: 0.1181 - val_accuracy: 0.9720\n",
            "Epoch 4/20\n",
            "108/108 [==============================] - 5s 42ms/step - loss: 0.1036 - accuracy: 0.9721 - val_loss: 0.1174 - val_accuracy: 0.9627\n",
            "Epoch 5/20\n",
            "108/108 [==============================] - 6s 55ms/step - loss: 0.0870 - accuracy: 0.9709 - val_loss: 0.0996 - val_accuracy: 0.9650\n",
            "Epoch 6/20\n",
            "108/108 [==============================] - 5s 43ms/step - loss: 0.0739 - accuracy: 0.9796 - val_loss: 0.0849 - val_accuracy: 0.9767\n",
            "Epoch 7/20\n",
            "108/108 [==============================] - 5s 45ms/step - loss: 0.0655 - accuracy: 0.9808 - val_loss: 0.0762 - val_accuracy: 0.9767\n",
            "Epoch 8/20\n",
            "108/108 [==============================] - 6s 55ms/step - loss: 0.0591 - accuracy: 0.9808 - val_loss: 0.0711 - val_accuracy: 0.9790\n",
            "Epoch 9/20\n",
            "108/108 [==============================] - 5s 42ms/step - loss: 0.0540 - accuracy: 0.9849 - val_loss: 0.0672 - val_accuracy: 0.9790\n",
            "Epoch 10/20\n",
            "108/108 [==============================] - 6s 55ms/step - loss: 0.0479 - accuracy: 0.9872 - val_loss: 0.0676 - val_accuracy: 0.9767\n",
            "Epoch 11/20\n",
            "108/108 [==============================] - 5s 42ms/step - loss: 0.0436 - accuracy: 0.9913 - val_loss: 0.0652 - val_accuracy: 0.9790\n",
            "Epoch 12/20\n",
            "108/108 [==============================] - 6s 54ms/step - loss: 0.0402 - accuracy: 0.9907 - val_loss: 0.0592 - val_accuracy: 0.9790\n",
            "Epoch 13/20\n",
            "108/108 [==============================] - 6s 57ms/step - loss: 0.0375 - accuracy: 0.9895 - val_loss: 0.0571 - val_accuracy: 0.9837\n",
            "Epoch 14/20\n",
            "108/108 [==============================] - 5s 41ms/step - loss: 0.0346 - accuracy: 0.9913 - val_loss: 0.0558 - val_accuracy: 0.9837\n",
            "Epoch 15/20\n",
            "108/108 [==============================] - 6s 53ms/step - loss: 0.0317 - accuracy: 0.9924 - val_loss: 0.0540 - val_accuracy: 0.9814\n",
            "Epoch 16/20\n",
            "108/108 [==============================] - 5s 41ms/step - loss: 0.0300 - accuracy: 0.9924 - val_loss: 0.0534 - val_accuracy: 0.9837\n",
            "Epoch 17/20\n",
            "108/108 [==============================] - 5s 45ms/step - loss: 0.0277 - accuracy: 0.9942 - val_loss: 0.0523 - val_accuracy: 0.9837\n",
            "Epoch 18/20\n",
            "108/108 [==============================] - 6s 48ms/step - loss: 0.0259 - accuracy: 0.9953 - val_loss: 0.0522 - val_accuracy: 0.9860\n",
            "Epoch 19/20\n",
            "108/108 [==============================] - 5s 41ms/step - loss: 0.0236 - accuracy: 0.9942 - val_loss: 0.0512 - val_accuracy: 0.9837\n",
            "Epoch 20/20\n",
            "108/108 [==============================] - 6s 51ms/step - loss: 0.0221 - accuracy: 0.9965 - val_loss: 0.0526 - val_accuracy: 0.9814\n"
          ]
        }
      ],
      "source": [
        "rmsprop = keras.optimizers.RMSprop(learning_rate=1e-4)\n",
        "model.compile(optimizer=rmsprop, loss='binary_crossentropy', metrics=['accuracy'])\n",
        "hist = model.fit(train_ds, epochs=20, validation_data=val_ds)"
      ]
    },
    {
      "cell_type": "code",
      "execution_count": 18,
      "id": "trvmgmnGSM77",
      "metadata": {
        "colab": {
          "base_uri": "https://localhost:8080/",
          "height": 388
        },
        "id": "trvmgmnGSM77",
        "outputId": "22cf3729-9b13-4810-b02a-57a319dfa83c"
      },
      "outputs": [
        {
          "output_type": "display_data",
          "data": {
            "text/plain": [
              "<Figure size 1200x400 with 2 Axes>"
            ],
            "image/png": "[encoded data removed]"
          },
          "metadata": {}
        }
      ],
      "source": [
        "fig, axs = plt.subplots(1, 2, figsize=(12, 4))\n",
        "axs[0].plot(range(1, 21), hist.history['loss'], label='loss')\n",
        "axs[0].plot(range(1, 21), hist.history['val_loss'], label='val_loss')\n",
        "axs[0].set_xticks(range(1, 21))\n",
        "axs[0].set_xlabel('epoch')\n",
        "axs[0].set_ylabel('loss')\n",
        "axs[0].legend()\n",
        "axs[1].plot(range(1, 21), hist.history['accuracy'], label='accuracy')\n",
        "axs[1].plot(range(1, 21), hist.history['val_accuracy'], label='val_accuracy')\n",
        "axs[1].set_xticks(range(1, 21))\n",
        "axs[1].set_xlabel('epoch')\n",
        "axs[1].set_ylabel('accuracy')\n",
        "axs[1].legend()\n",
        "plt.show()"
      ]
    }
  ],
  "metadata": {
    "accelerator": "GPU",
    "colab": {
      "gpuType": "T4",
      "provenance": []
    },
    "kernelspec": {
      "display_name": "Python 3.10 on Backend.AI",
      "language": "python",
      "name": "python3"
    },
    "language_info": {
      "codemirror_mode": {
        "name": "ipython",
        "version": 3
      },
      "file_extension": ".py",
      "mimetype": "text/x-python",
      "name": "python",
      "nbconvert_exporter": "python",
      "pygments_lexer": "ipython3",
      "version": "3.10.8"
    },
    "widgets": {
      "application/vnd.jupyter.widget-state+json": {
        "428e5e11bf0146e996b0a9d10380a9e4": {
          "model_module": "@jupyter-widgets/controls",
          "model_name": "HBoxModel",
          "model_module_version": "1.5.0",
          "state": {
            "_dom_classes": [],
            "_model_module": "@jupyter-widgets/controls",
            "_model_module_version": "1.5.0",
            "_model_name": "HBoxModel",
            "_view_count": null,
            "_view_module": "@jupyter-widgets/controls",
            "_view_module_version": "1.5.0",
            "_view_name": "HBoxView",
            "box_style": "",
            "children": [
              "IPY_MODEL_fcd1bf287e27447d861a279d876494d3",
              "IPY_MODEL_f8aff263d7b142a5b5ea837be68fad27",
              "IPY_MODEL_111e858adfec434faebcfd58d9d07465"
            ],
            "layout": "IPY_MODEL_622b3d1bfa3f45b5b5ce640b2a8661fc"
          }
        },
        "fcd1bf287e27447d861a279d876494d3": {
          "model_module": "@jupyter-widgets/controls",
          "model_name": "HTMLModel",
          "model_module_version": "1.5.0",
          "state": {
            "_dom_classes": [],
            "_model_module": "@jupyter-widgets/controls",
            "_model_module_version": "1.5.0",
            "_model_name": "HTMLModel",
            "_view_count": null,
            "_view_module": "@jupyter-widgets/controls",
            "_view_module_version": "1.5.0",
            "_view_name": "HTMLView",
            "description": "",
            "description_tooltip": null,
            "layout": "IPY_MODEL_652eee4013e44b1197a7304899acb5b3",
            "placeholder": "​",
            "style": "IPY_MODEL_c1f54bf96da24f7ea2fb7be7e4ee715f",
            "value": "config.json: 100%"
          }
        },
        "f8aff263d7b142a5b5ea837be68fad27": {
          "model_module": "@jupyter-widgets/controls",
          "model_name": "FloatProgressModel",
          "model_module_version": "1.5.0",
          "state": {
            "_dom_classes": [],
            "_model_module": "@jupyter-widgets/controls",
            "_model_module_version": "1.5.0",
            "_model_name": "FloatProgressModel",
            "_view_count": null,
            "_view_module": "@jupyter-widgets/controls",
            "_view_module_version": "1.5.0",
            "_view_name": "ProgressView",
            "bar_style": "success",
            "description": "",
            "description_tooltip": null,
            "layout": "IPY_MODEL_aec715cf7712486397df64d7c5db1efb",
            "max": 70330,
            "min": 0,
            "orientation": "horizontal",
            "style": "IPY_MODEL_7305a54c01fe47e3971e363535c41c7e",
            "value": 70330
          }
        },
        "111e858adfec434faebcfd58d9d07465": {
          "model_module": "@jupyter-widgets/controls",
          "model_name": "HTMLModel",
          "model_module_version": "1.5.0",
          "state": {
            "_dom_classes": [],
            "_model_module": "@jupyter-widgets/controls",
            "_model_module_version": "1.5.0",
            "_model_name": "HTMLModel",
            "_view_count": null,
            "_view_module": "@jupyter-widgets/controls",
            "_view_module_version": "1.5.0",
            "_view_name": "HTMLView",
            "description": "",
            "description_tooltip": null,
            "layout": "IPY_MODEL_379ba769bdc3462888f224dfe7995526",
            "placeholder": "​",
            "style": "IPY_MODEL_afb409e440dd48a3981081b804eae2fb",
            "value": " 70.3k/70.3k [00:00&lt;00:00, 2.70MB/s]"
          }
        },
        "622b3d1bfa3f45b5b5ce640b2a8661fc": {
          "model_module": "@jupyter-widgets/base",
          "model_name": "LayoutModel",
          "model_module_version": "1.2.0",
          "state": {
            "_model_module": "@jupyter-widgets/base",
            "_model_module_version": "1.2.0",
            "_model_name": "LayoutModel",
            "_view_count": null,
            "_view_module": "@jupyter-widgets/base",
            "_view_module_version": "1.2.0",
            "_view_name": "LayoutView",
            "align_content": null,
            "align_items": null,
            "align_self": null,
            "border": null,
            "bottom": null,
            "display": null,
            "flex": null,
            "flex_flow": null,
            "grid_area": null,
            "grid_auto_columns": null,
            "grid_auto_flow": null,
            "grid_auto_rows": null,
            "grid_column": null,
            "grid_gap": null,
            "grid_row": null,
            "grid_template_areas": null,
            "grid_template_columns": null,
            "grid_template_rows": null,
            "height": null,
            "justify_content": null,
            "justify_items": null,
            "left": null,
            "margin": null,
            "max_height": null,
            "max_width": null,
            "min_height": null,
            "min_width": null,
            "object_fit": null,
            "object_position": null,
            "order": null,
            "overflow": null,
            "overflow_x": null,
            "overflow_y": null,
            "padding": null,
            "right": null,
            "top": null,
            "visibility": null,
            "width": null
          }
        },
        "652eee4013e44b1197a7304899acb5b3": {
          "model_module": "@jupyter-widgets/base",
          "model_name": "LayoutModel",
          "model_module_version": "1.2.0",
          "state": {
            "_model_module": "@jupyter-widgets/base",
            "_model_module_version": "1.2.0",
            "_model_name": "LayoutModel",
            "_view_count": null,
            "_view_module": "@jupyter-widgets/base",
            "_view_module_version": "1.2.0",
            "_view_name": "LayoutView",
            "align_content": null,
            "align_items": null,
            "align_self": null,
            "border": null,
            "bottom": null,
            "display": null,
            "flex": null,
            "flex_flow": null,
            "grid_area": null,
            "grid_auto_columns": null,
            "grid_auto_flow": null,
            "grid_auto_rows": null,
            "grid_column": null,
            "grid_gap": null,
            "grid_row": null,
            "grid_template_areas": null,
            "grid_template_columns": null,
            "grid_template_rows": null,
            "height": null,
            "justify_content": null,
            "justify_items": null,
            "left": null,
            "margin": null,
            "max_height": null,
            "max_width": null,
            "min_height": null,
            "min_width": null,
            "object_fit": null,
            "object_position": null,
            "order": null,
            "overflow": null,
            "overflow_x": null,
            "overflow_y": null,
            "padding": null,
            "right": null,
            "top": null,
            "visibility": null,
            "width": null
          }
        },
        "c1f54bf96da24f7ea2fb7be7e4ee715f": {
          "model_module": "@jupyter-widgets/controls",
          "model_name": "DescriptionStyleModel",
          "model_module_version": "1.5.0",
          "state": {
            "_model_module": "@jupyter-widgets/controls",
            "_model_module_version": "1.5.0",
            "_model_name": "DescriptionStyleModel",
            "_view_count": null,
            "_view_module": "@jupyter-widgets/base",
            "_view_module_version": "1.2.0",
            "_view_name": "StyleView",
            "description_width": ""
          }
        },
        "aec715cf7712486397df64d7c5db1efb": {
          "model_module": "@jupyter-widgets/base",
          "model_name": "LayoutModel",
          "model_module_version": "1.2.0",
          "state": {
            "_model_module": "@jupyter-widgets/base",
            "_model_module_version": "1.2.0",
            "_model_name": "LayoutModel",
            "_view_count": null,
            "_view_module": "@jupyter-widgets/base",
            "_view_module_version": "1.2.0",
            "_view_name": "LayoutView",
            "align_content": null,
            "align_items": null,
            "align_self": null,
            "border": null,
            "bottom": null,
            "display": null,
            "flex": null,
            "flex_flow": null,
            "grid_area": null,
            "grid_auto_columns": null,
            "grid_auto_flow": null,
            "grid_auto_rows": null,
            "grid_column": null,
            "grid_gap": null,
            "grid_row": null,
            "grid_template_areas": null,
            "grid_template_columns": null,
            "grid_template_rows": null,
            "height": null,
            "justify_content": null,
            "justify_items": null,
            "left": null,
            "margin": null,
            "max_height": null,
            "max_width": null,
            "min_height": null,
            "min_width": null,
            "object_fit": null,
            "object_position": null,
            "order": null,
            "overflow": null,
            "overflow_x": null,
            "overflow_y": null,
            "padding": null,
            "right": null,
            "top": null,
            "visibility": null,
            "width": null
          }
        },
        "7305a54c01fe47e3971e363535c41c7e": {
          "model_module": "@jupyter-widgets/controls",
          "model_name": "ProgressStyleModel",
          "model_module_version": "1.5.0",
          "state": {
            "_model_module": "@jupyter-widgets/controls",
            "_model_module_version": "1.5.0",
            "_model_name": "ProgressStyleModel",
            "_view_count": null,
            "_view_module": "@jupyter-widgets/base",
            "_view_module_version": "1.2.0",
            "_view_name": "StyleView",
            "bar_color": null,
            "description_width": ""
          }
        },
        "379ba769bdc3462888f224dfe7995526": {
          "model_module": "@jupyter-widgets/base",
          "model_name": "LayoutModel",
          "model_module_version": "1.2.0",
          "state": {
            "_model_module": "@jupyter-widgets/base",
            "_model_module_version": "1.2.0",
            "_model_name": "LayoutModel",
            "_view_count": null,
            "_view_module": "@jupyter-widgets/base",
            "_view_module_version": "1.2.0",
            "_view_name": "LayoutView",
            "align_content": null,
            "align_items": null,
            "align_self": null,
            "border": null,
            "bottom": null,
            "display": null,
            "flex": null,
            "flex_flow": null,
            "grid_area": null,
            "grid_auto_columns": null,
            "grid_auto_flow": null,
            "grid_auto_rows": null,
            "grid_column": null,
            "grid_gap": null,
            "grid_row": null,
            "grid_template_areas": null,
            "grid_template_columns": null,
            "grid_template_rows": null,
            "height": null,
            "justify_content": null,
            "justify_items": null,
            "left": null,
            "margin": null,
            "max_height": null,
            "max_width": null,
            "min_height": null,
            "min_width": null,
            "object_fit": null,
            "object_position": null,
            "order": null,
            "overflow": null,
            "overflow_x": null,
            "overflow_y": null,
            "padding": null,
            "right": null,
            "top": null,
            "visibility": null,
            "width": null
          }
        },
        "afb409e440dd48a3981081b804eae2fb": {
          "model_module": "@jupyter-widgets/controls",
          "model_name": "DescriptionStyleModel",
          "model_module_version": "1.5.0",
          "state": {
            "_model_module": "@jupyter-widgets/controls",
            "_model_module_version": "1.5.0",
            "_model_name": "DescriptionStyleModel",
            "_view_count": null,
            "_view_module": "@jupyter-widgets/base",
            "_view_module_version": "1.2.0",
            "_view_name": "StyleView",
            "description_width": ""
          }
        },
        "d968aefad9ca428a84c9dcbd3d15b41b": {
          "model_module": "@jupyter-widgets/controls",
          "model_name": "HBoxModel",
          "model_module_version": "1.5.0",
          "state": {
            "_dom_classes": [],
            "_model_module": "@jupyter-widgets/controls",
            "_model_module_version": "1.5.0",
            "_model_name": "HBoxModel",
            "_view_count": null,
            "_view_module": "@jupyter-widgets/controls",
            "_view_module_version": "1.5.0",
            "_view_name": "HBoxView",
            "box_style": "",
            "children": [
              "IPY_MODEL_696b24a52a194b4ca2f5ac6de5b30542",
              "IPY_MODEL_6857130ca28f463a8fb0850963275743",
              "IPY_MODEL_8d857433914e448491d98d18e6a4ecc4"
            ],
            "layout": "IPY_MODEL_e21ed303decc4b96bbcf814660b2c8f7"
          }
        },
        "696b24a52a194b4ca2f5ac6de5b30542": {
          "model_module": "@jupyter-widgets/controls",
          "model_name": "HTMLModel",
          "model_module_version": "1.5.0",
          "state": {
            "_dom_classes": [],
            "_model_module": "@jupyter-widgets/controls",
            "_model_module_version": "1.5.0",
            "_model_name": "HTMLModel",
            "_view_count": null,
            "_view_module": "@jupyter-widgets/controls",
            "_view_module_version": "1.5.0",
            "_view_name": "HTMLView",
            "description": "",
            "description_tooltip": null,
            "layout": "IPY_MODEL_7034532fd59640e3b9a7de309421924c",
            "placeholder": "​",
            "style": "IPY_MODEL_7946cebd5f0a4c7fa46fde59f4430802",
            "value": "pytorch_model.bin: 100%"
          }
        },
        "6857130ca28f463a8fb0850963275743": {
          "model_module": "@jupyter-widgets/controls",
          "model_name": "FloatProgressModel",
          "model_module_version": "1.5.0",
          "state": {
            "_dom_classes": [],
            "_model_module": "@jupyter-widgets/controls",
            "_model_module_version": "1.5.0",
            "_model_name": "FloatProgressModel",
            "_view_count": null,
            "_view_module": "@jupyter-widgets/controls",
            "_view_module_version": "1.5.0",
            "_view_name": "ProgressView",
            "bar_style": "success",
            "description": "",
            "description_tooltip": null,
            "layout": "IPY_MODEL_e2d8ffaa8dee47d4b1a3d05293a5e58c",
            "max": 21444205,
            "min": 0,
            "orientation": "horizontal",
            "style": "IPY_MODEL_ef73d3aeb4264d89ae2d8eafdcc1719f",
            "value": 21444205
          }
        },
        "8d857433914e448491d98d18e6a4ecc4": {
          "model_module": "@jupyter-widgets/controls",
          "model_name": "HTMLModel",
          "model_module_version": "1.5.0",
          "state": {
            "_dom_classes": [],
            "_model_module": "@jupyter-widgets/controls",
            "_model_module_version": "1.5.0",
            "_model_name": "HTMLModel",
            "_view_count": null,
            "_view_module": "@jupyter-widgets/controls",
            "_view_module_version": "1.5.0",
            "_view_name": "HTMLView",
            "description": "",
            "description_tooltip": null,
            "layout": "IPY_MODEL_f9bd35d911654985aa757c7dfbca0f74",
            "placeholder": "​",
            "style": "IPY_MODEL_89d98a5c091945c391ac2e224908ff2b",
            "value": " 21.4M/21.4M [00:00&lt;00:00, 70.6MB/s]"
          }
        },
        "e21ed303decc4b96bbcf814660b2c8f7": {
          "model_module": "@jupyter-widgets/base",
          "model_name": "LayoutModel",
          "model_module_version": "1.2.0",
          "state": {
            "_model_module": "@jupyter-widgets/base",
            "_model_module_version": "1.2.0",
            "_model_name": "LayoutModel",
            "_view_count": null,
            "_view_module": "@jupyter-widgets/base",
            "_view_module_version": "1.2.0",
            "_view_name": "LayoutView",
            "align_content": null,
            "align_items": null,
            "align_self": null,
            "border": null,
            "bottom": null,
            "display": null,
            "flex": null,
            "flex_flow": null,
            "grid_area": null,
            "grid_auto_columns": null,
            "grid_auto_flow": null,
            "grid_auto_rows": null,
            "grid_column": null,
            "grid_gap": null,
            "grid_row": null,
            "grid_template_areas": null,
            "grid_template_columns": null,
            "grid_template_rows": null,
            "height": null,
            "justify_content": null,
            "justify_items": null,
            "left": null,
            "margin": null,
            "max_height": null,
            "max_width": null,
            "min_height": null,
            "min_width": null,
            "object_fit": null,
            "object_position": null,
            "order": null,
            "overflow": null,
            "overflow_x": null,
            "overflow_y": null,
            "padding": null,
            "right": null,
            "top": null,
            "visibility": null,
            "width": null
          }
        },
        "7034532fd59640e3b9a7de309421924c": {
          "model_module": "@jupyter-widgets/base",
          "model_name": "LayoutModel",
          "model_module_version": "1.2.0",
          "state": {
            "_model_module": "@jupyter-widgets/base",
            "_model_module_version": "1.2.0",
            "_model_name": "LayoutModel",
            "_view_count": null,
            "_view_module": "@jupyter-widgets/base",
            "_view_module_version": "1.2.0",
            "_view_name": "LayoutView",
            "align_content": null,
            "align_items": null,
            "align_self": null,
            "border": null,
            "bottom": null,
            "display": null,
            "flex": null,
            "flex_flow": null,
            "grid_area": null,
            "grid_auto_columns": null,
            "grid_auto_flow": null,
            "grid_auto_rows": null,
            "grid_column": null,
            "grid_gap": null,
            "grid_row": null,
            "grid_template_areas": null,
            "grid_template_columns": null,
            "grid_template_rows": null,
            "height": null,
            "justify_content": null,
            "justify_items": null,
            "left": null,
            "margin": null,
            "max_height": null,
            "max_width": null,
            "min_height": null,
            "min_width": null,
            "object_fit": null,
            "object_position": null,
            "order": null,
            "overflow": null,
            "overflow_x": null,
            "overflow_y": null,
            "padding": null,
            "right": null,
            "top": null,
            "visibility": null,
            "width": null
          }
        },
        "7946cebd5f0a4c7fa46fde59f4430802": {
          "model_module": "@jupyter-widgets/controls",
          "model_name": "DescriptionStyleModel",
          "model_module_version": "1.5.0",
          "state": {
            "_model_module": "@jupyter-widgets/controls",
            "_model_module_version": "1.5.0",
            "_model_name": "DescriptionStyleModel",
            "_view_count": null,
            "_view_module": "@jupyter-widgets/base",
            "_view_module_version": "1.2.0",
            "_view_name": "StyleView",
            "description_width": ""
          }
        },
        "e2d8ffaa8dee47d4b1a3d05293a5e58c": {
          "model_module": "@jupyter-widgets/base",
          "model_name": "LayoutModel",
          "model_module_version": "1.2.0",
          "state": {
            "_model_module": "@jupyter-widgets/base",
            "_model_module_version": "1.2.0",
            "_model_name": "LayoutModel",
            "_view_count": null,
            "_view_module": "@jupyter-widgets/base",
            "_view_module_version": "1.2.0",
            "_view_name": "LayoutView",
            "align_content": null,
            "align_items": null,
            "align_self": null,
            "border": null,
            "bottom": null,
            "display": null,
            "flex": null,
            "flex_flow": null,
            "grid_area": null,
            "grid_auto_columns": null,
            "grid_auto_flow": null,
            "grid_auto_rows": null,
            "grid_column": null,
            "grid_gap": null,
            "grid_row": null,
            "grid_template_areas": null,
            "grid_template_columns": null,
            "grid_template_rows": null,
            "height": null,
            "justify_content": null,
            "justify_items": null,
            "left": null,
            "margin": null,
            "max_height": null,
            "max_width": null,
            "min_height": null,
            "min_width": null,
            "object_fit": null,
            "object_position": null,
            "order": null,
            "overflow": null,
            "overflow_x": null,
            "overflow_y": null,
            "padding": null,
            "right": null,
            "top": null,
            "visibility": null,
            "width": null
          }
        },
        "ef73d3aeb4264d89ae2d8eafdcc1719f": {
          "model_module": "@jupyter-widgets/controls",
          "model_name": "ProgressStyleModel",
          "model_module_version": "1.5.0",
          "state": {
            "_model_module": "@jupyter-widgets/controls",
            "_model_module_version": "1.5.0",
            "_model_name": "ProgressStyleModel",
            "_view_count": null,
            "_view_module": "@jupyter-widgets/base",
            "_view_module_version": "1.2.0",
            "_view_name": "StyleView",
            "bar_color": null,
            "description_width": ""
          }
        },
        "f9bd35d911654985aa757c7dfbca0f74": {
          "model_module": "@jupyter-widgets/base",
          "model_name": "LayoutModel",
          "model_module_version": "1.2.0",
          "state": {
            "_model_module": "@jupyter-widgets/base",
            "_model_module_version": "1.2.0",
            "_model_name": "LayoutModel",
            "_view_count": null,
            "_view_module": "@jupyter-widgets/base",
            "_view_module_version": "1.2.0",
            "_view_name": "LayoutView",
            "align_content": null,
            "align_items": null,
            "align_self": null,
            "border": null,
            "bottom": null,
            "display": null,
            "flex": null,
            "flex_flow": null,
            "grid_area": null,
            "grid_auto_columns": null,
            "grid_auto_flow": null,
            "grid_auto_rows": null,
            "grid_column": null,
            "grid_gap": null,
            "grid_row": null,
            "grid_template_areas": null,
            "grid_template_columns": null,
            "grid_template_rows": null,
            "height": null,
            "justify_content": null,
            "justify_items": null,
            "left": null,
            "margin": null,
            "max_height": null,
            "max_width": null,
            "min_height": null,
            "min_width": null,
            "object_fit": null,
            "object_position": null,
            "order": null,
            "overflow": null,
            "overflow_x": null,
            "overflow_y": null,
            "padding": null,
            "right": null,
            "top": null,
            "visibility": null,
            "width": null
          }
        },
        "89d98a5c091945c391ac2e224908ff2b": {
          "model_module": "@jupyter-widgets/controls",
          "model_name": "DescriptionStyleModel",
          "model_module_version": "1.5.0",
          "state": {
            "_model_module": "@jupyter-widgets/controls",
            "_model_module_version": "1.5.0",
            "_model_name": "DescriptionStyleModel",
            "_view_count": null,
            "_view_module": "@jupyter-widgets/base",
            "_view_module_version": "1.2.0",
            "_view_name": "StyleView",
            "description_width": ""
          }
        },
        "250c373332b743ab9675549d96257bb3": {
          "model_module": "@jupyter-widgets/controls",
          "model_name": "HBoxModel",
          "model_module_version": "1.5.0",
          "state": {
            "_dom_classes": [],
            "_model_module": "@jupyter-widgets/controls",
            "_model_module_version": "1.5.0",
            "_model_name": "HBoxModel",
            "_view_count": null,
            "_view_module": "@jupyter-widgets/controls",
            "_view_module_version": "1.5.0",
            "_view_name": "HBoxView",
            "box_style": "",
            "children": [
              "IPY_MODEL_5c4dd830a1474dcfadc8b4d1cbcb7556",
              "IPY_MODEL_4367f9413ef141e28f7d39c27602ef1a",
              "IPY_MODEL_50b9ad59bf0e468788cdbbfa7b8e3ea8"
            ],
            "layout": "IPY_MODEL_d11569d336a34daeac55523d3d56c0a1"
          }
        },
        "5c4dd830a1474dcfadc8b4d1cbcb7556": {
          "model_module": "@jupyter-widgets/controls",
          "model_name": "HTMLModel",
          "model_module_version": "1.5.0",
          "state": {
            "_dom_classes": [],
            "_model_module": "@jupyter-widgets/controls",
            "_model_module_version": "1.5.0",
            "_model_name": "HTMLModel",
            "_view_count": null,
            "_view_module": "@jupyter-widgets/controls",
            "_view_module_version": "1.5.0",
            "_view_name": "HTMLView",
            "description": "",
            "description_tooltip": null,
            "layout": "IPY_MODEL_5e9a4bf1bf264dd59004d7e48658c5bd",
            "placeholder": "​",
            "style": "IPY_MODEL_f6739489ffce42bf8f8741ff0e93beaf",
            "value": "preprocessor_config.json: 100%"
          }
        },
        "4367f9413ef141e28f7d39c27602ef1a": {
          "model_module": "@jupyter-widgets/controls",
          "model_name": "FloatProgressModel",
          "model_module_version": "1.5.0",
          "state": {
            "_dom_classes": [],
            "_model_module": "@jupyter-widgets/controls",
            "_model_module_version": "1.5.0",
            "_model_name": "FloatProgressModel",
            "_view_count": null,
            "_view_module": "@jupyter-widgets/controls",
            "_view_module_version": "1.5.0",
            "_view_name": "ProgressView",
            "bar_style": "success",
            "description": "",
            "description_tooltip": null,
            "layout": "IPY_MODEL_47e0a67f9b3b43dc84752325681c8e1b",
            "max": 472,
            "min": 0,
            "orientation": "horizontal",
            "style": "IPY_MODEL_da04ef90999f40fd922de747c0a6f20d",
            "value": 472
          }
        },
        "50b9ad59bf0e468788cdbbfa7b8e3ea8": {
          "model_module": "@jupyter-widgets/controls",
          "model_name": "HTMLModel",
          "model_module_version": "1.5.0",
          "state": {
            "_dom_classes": [],
            "_model_module": "@jupyter-widgets/controls",
            "_model_module_version": "1.5.0",
            "_model_name": "HTMLModel",
            "_view_count": null,
            "_view_module": "@jupyter-widgets/controls",
            "_view_module_version": "1.5.0",
            "_view_name": "HTMLView",
            "description": "",
            "description_tooltip": null,
            "layout": "IPY_MODEL_23947639926a44d1a51286ec1c085138",
            "placeholder": "​",
            "style": "IPY_MODEL_ad1bdb45cad34f1ea22c0e944970010c",
            "value": " 472/472 [00:00&lt;00:00, 35.8kB/s]"
          }
        },
        "d11569d336a34daeac55523d3d56c0a1": {
          "model_module": "@jupyter-widgets/base",
          "model_name": "LayoutModel",
          "model_module_version": "1.2.0",
          "state": {
            "_model_module": "@jupyter-widgets/base",
            "_model_module_version": "1.2.0",
            "_model_name": "LayoutModel",
            "_view_count": null,
            "_view_module": "@jupyter-widgets/base",
            "_view_module_version": "1.2.0",
            "_view_name": "LayoutView",
            "align_content": null,
            "align_items": null,
            "align_self": null,
            "border": null,
            "bottom": null,
            "display": null,
            "flex": null,
            "flex_flow": null,
            "grid_area": null,
            "grid_auto_columns": null,
            "grid_auto_flow": null,
            "grid_auto_rows": null,
            "grid_column": null,
            "grid_gap": null,
            "grid_row": null,
            "grid_template_areas": null,
            "grid_template_columns": null,
            "grid_template_rows": null,
            "height": null,
            "justify_content": null,
            "justify_items": null,
            "left": null,
            "margin": null,
            "max_height": null,
            "max_width": null,
            "min_height": null,
            "min_width": null,
            "object_fit": null,
            "object_position": null,
            "order": null,
            "overflow": null,
            "overflow_x": null,
            "overflow_y": null,
            "padding": null,
            "right": null,
            "top": null,
            "visibility": null,
            "width": null
          }
        },
        "5e9a4bf1bf264dd59004d7e48658c5bd": {
          "model_module": "@jupyter-widgets/base",
          "model_name": "LayoutModel",
          "model_module_version": "1.2.0",
          "state": {
            "_model_module": "@jupyter-widgets/base",
            "_model_module_version": "1.2.0",
            "_model_name": "LayoutModel",
            "_view_count": null,
            "_view_module": "@jupyter-widgets/base",
            "_view_module_version": "1.2.0",
            "_view_name": "LayoutView",
            "align_content": null,
            "align_items": null,
            "align_self": null,
            "border": null,
            "bottom": null,
            "display": null,
            "flex": null,
            "flex_flow": null,
            "grid_area": null,
            "grid_auto_columns": null,
            "grid_auto_flow": null,
            "grid_auto_rows": null,
            "grid_column": null,
            "grid_gap": null,
            "grid_row": null,
            "grid_template_areas": null,
            "grid_template_columns": null,
            "grid_template_rows": null,
            "height": null,
            "justify_content": null,
            "justify_items": null,
            "left": null,
            "margin": null,
            "max_height": null,
            "max_width": null,
            "min_height": null,
            "min_width": null,
            "object_fit": null,
            "object_position": null,
            "order": null,
            "overflow": null,
            "overflow_x": null,
            "overflow_y": null,
            "padding": null,
            "right": null,
            "top": null,
            "visibility": null,
            "width": null
          }
        },
        "f6739489ffce42bf8f8741ff0e93beaf": {
          "model_module": "@jupyter-widgets/controls",
          "model_name": "DescriptionStyleModel",
          "model_module_version": "1.5.0",
          "state": {
            "_model_module": "@jupyter-widgets/controls",
            "_model_module_version": "1.5.0",
            "_model_name": "DescriptionStyleModel",
            "_view_count": null,
            "_view_module": "@jupyter-widgets/base",
            "_view_module_version": "1.2.0",
            "_view_name": "StyleView",
            "description_width": ""
          }
        },
        "47e0a67f9b3b43dc84752325681c8e1b": {
          "model_module": "@jupyter-widgets/base",
          "model_name": "LayoutModel",
          "model_module_version": "1.2.0",
          "state": {
            "_model_module": "@jupyter-widgets/base",
            "_model_module_version": "1.2.0",
            "_model_name": "LayoutModel",
            "_view_count": null,
            "_view_module": "@jupyter-widgets/base",
            "_view_module_version": "1.2.0",
            "_view_name": "LayoutView",
            "align_content": null,
            "align_items": null,
            "align_self": null,
            "border": null,
            "bottom": null,
            "display": null,
            "flex": null,
            "flex_flow": null,
            "grid_area": null,
            "grid_auto_columns": null,
            "grid_auto_flow": null,
            "grid_auto_rows": null,
            "grid_column": null,
            "grid_gap": null,
            "grid_row": null,
            "grid_template_areas": null,
            "grid_template_columns": null,
            "grid_template_rows": null,
            "height": null,
            "justify_content": null,
            "justify_items": null,
            "left": null,
            "margin": null,
            "max_height": null,
            "max_width": null,
            "min_height": null,
            "min_width": null,
            "object_fit": null,
            "object_position": null,
            "order": null,
            "overflow": null,
            "overflow_x": null,
            "overflow_y": null,
            "padding": null,
            "right": null,
            "top": null,
            "visibility": null,
            "width": null
          }
        },
        "da04ef90999f40fd922de747c0a6f20d": {
          "model_module": "@jupyter-widgets/controls",
          "model_name": "ProgressStyleModel",
          "model_module_version": "1.5.0",
          "state": {
            "_model_module": "@jupyter-widgets/controls",
            "_model_module_version": "1.5.0",
            "_model_name": "ProgressStyleModel",
            "_view_count": null,
            "_view_module": "@jupyter-widgets/base",
            "_view_module_version": "1.2.0",
            "_view_name": "StyleView",
            "bar_color": null,
            "description_width": ""
          }
        },
        "23947639926a44d1a51286ec1c085138": {
          "model_module": "@jupyter-widgets/base",
          "model_name": "LayoutModel",
          "model_module_version": "1.2.0",
          "state": {
            "_model_module": "@jupyter-widgets/base",
            "_model_module_version": "1.2.0",
            "_model_name": "LayoutModel",
            "_view_count": null,
            "_view_module": "@jupyter-widgets/base",
            "_view_module_version": "1.2.0",
            "_view_name": "LayoutView",
            "align_content": null,
            "align_items": null,
            "align_self": null,
            "border": null,
            "bottom": null,
            "display": null,
            "flex": null,
            "flex_flow": null,
            "grid_area": null,
            "grid_auto_columns": null,
            "grid_auto_flow": null,
            "grid_auto_rows": null,
            "grid_column": null,
            "grid_gap": null,
            "grid_row": null,
            "grid_template_areas": null,
            "grid_template_columns": null,
            "grid_template_rows": null,
            "height": null,
            "justify_content": null,
            "justify_items": null,
            "left": null,
            "margin": null,
            "max_height": null,
            "max_width": null,
            "min_height": null,
            "min_width": null,
            "object_fit": null,
            "object_position": null,
            "order": null,
            "overflow": null,
            "overflow_x": null,
            "overflow_y": null,
            "padding": null,
            "right": null,
            "top": null,
            "visibility": null,
            "width": null
          }
        },
        "ad1bdb45cad34f1ea22c0e944970010c": {
          "model_module": "@jupyter-widgets/controls",
          "model_name": "DescriptionStyleModel",
          "model_module_version": "1.5.0",
          "state": {
            "_model_module": "@jupyter-widgets/controls",
            "_model_module_version": "1.5.0",
            "_model_name": "DescriptionStyleModel",
            "_view_count": null,
            "_view_module": "@jupyter-widgets/base",
            "_view_module_version": "1.2.0",
            "_view_name": "StyleView",
            "description_width": ""
          }
        }
      }
    }
  },
  "nbformat": 4,
  "nbformat_minor": 5
}