{
  "cells": [
    {
      "cell_type": "markdown",
      "id": "2312e428-c551-4995-8a95-abb8930d0367",
      "metadata": {
        "id": "2312e428-c551-4995-8a95-abb8930d0367"
      },
      "source": [
        "# 02-2 고급 CNN 모델과 전이 학습"
      ]
    },
    {
      "cell_type": "markdown",
      "id": "91796895-26dc-4af6-bbbd-bad2f7f05379",
      "metadata": {
        "id": "91796895-26dc-4af6-bbbd-bad2f7f05379"
      },
      "source": [
        "<table align=\"left\"><tr><td>\n",
        "<a href=\"https://colab.research.google.com/github/rickiepark/hm-dl/blob/main/02-2.ipynb\" target=\"_parent\"><img src=\"https://colab.research.google.com/assets/colab-badge.svg\" alt=\"코랩에서 실행하기\"/></a>\n",
        "</td></tr></table>"
      ]
    },
    {
      "cell_type": "markdown",
      "id": "727c8e10-fb1d-4fca-8ca1-5fa56acdcc5c",
      "metadata": {
        "id": "727c8e10-fb1d-4fca-8ca1-5fa56acdcc5c"
      },
      "source": [
        "## DenseNet"
      ]
    },
    {
      "cell_type": "code",
      "execution_count": 1,
      "id": "85e25c4f-fdfa-4496-9a18-a94106224147",
      "metadata": {
        "id": "85e25c4f-fdfa-4496-9a18-a94106224147"
      },
      "outputs": [],
      "source": [
        "import keras\n",
        "from keras import layers"
      ]
    },
    {
      "cell_type": "code",
      "execution_count": 2,
      "id": "e107a1e3-7321-47c9-a053-b4633d3b0517",
      "metadata": {
        "id": "e107a1e3-7321-47c9-a053-b4633d3b0517"
      },
      "outputs": [],
      "source": [
        "def dense_block(x, blocks):\n",
        "    for _ in range(blocks):\n",
        "        x1 = layers.BatchNormalization(epsilon=1e-5)(x)\n",
        "        x1 = layers.Activation('relu')(x1)\n",
        "        x1 = layers.Conv2D(128, 1, use_bias=False)(x1)\n",
        "        x1 = layers.BatchNormalization(epsilon=1e-5)(x1)\n",
        "        x1 = layers.Activation('relu')(x1)\n",
        "        x1 = layers.Conv2D(32, 3, padding='same', use_bias=False)(x1)\n",
        "        x = layers.Concatenate()([x, x1])\n",
        "    return x"
      ]
    },
    {
      "cell_type": "code",
      "execution_count": 3,
      "id": "2931e037-ab6f-46e9-8e9e-0fe273e4a4c9",
      "metadata": {
        "id": "2931e037-ab6f-46e9-8e9e-0fe273e4a4c9"
      },
      "outputs": [],
      "source": [
        "def transition_block(x):\n",
        "    x = layers.BatchNormalization(epsilon=1e-5)(x)\n",
        "    x = layers.Activation('relu')(x)\n",
        "    x = layers.Conv2D(int(x.shape[-1]/2), 1, use_bias=False)(x)\n",
        "    x = layers.AveragePooling2D(2)(x)\n",
        "    return x"
      ]
    },
    {
      "cell_type": "code",
      "execution_count": 5,
      "id": "dde087fd-7dc0-423c-b2d2-0ccceac58c6a",
      "metadata": {
        "id": "dde087fd-7dc0-423c-b2d2-0ccceac58c6a"
      },
      "outputs": [],
      "source": [
        "inputs = layers.Input(shape=(224, 224, 3))\n",
        "\n",
        "x = layers.ZeroPadding2D(padding=3)(inputs)\n",
        "x = layers.Conv2D(64, 7, strides=2, use_bias=False)(x)\n",
        "x = layers.BatchNormalization(epsilon=1e-5)(x)\n",
        "x = layers.Activation('relu')(x)\n",
        "x = layers.ZeroPadding2D(padding=1)(x)\n",
        "x = layers.MaxPooling2D(3, strides=2)(x)\n",
        "\n",
        "for blocks in (6, 12, 24):\n",
        "    x = dense_block(x, blocks)\n",
        "    x = transition_block(x)\n",
        "x = dense_block(x, 16)\n",
        "\n",
        "x = layers.BatchNormalization(epsilon=1e-5)(x)\n",
        "x = layers.Activation('relu')(x)\n",
        "x = layers.GlobalAveragePooling2D()(x)\n",
        "outputs = layers.Dense(1000, activation='softmax')(x)\n",
        "model = keras.Model(inputs, outputs)"
      ]
    },
    {
      "cell_type": "code",
      "source": [
        "# 코랩의 경우 구글 드라이브에서 샘플 이미지를 다운로드하여 압축을 풉니다.\n",
        "!gdown 1xGkTT3uwYt4myj6eJJeYtdEFgTi2Sj8C\n",
        "!unzip cat-dog-images.zip"
      ],
      "metadata": {
        "colab": {
          "base_uri": "https://localhost:8080/"
        },
        "id": "IWQUzNYrqIeb",
        "outputId": "5fadfafb-bb6b-4098-9d4d-fe9c681a8188"
      },
      "id": "IWQUzNYrqIeb",
      "execution_count": 6,
      "outputs": [
        {
          "output_type": "stream",
          "name": "stdout",
          "text": [
            "Downloading...\n",
            "From: https://drive.google.com/uc?id=1xGkTT3uwYt4myj6eJJeYtdEFgTi2Sj8C\n",
            "To: /content/cat-dog-images.zip\n",
            "\r  0% 0.00/182k [00:00<?, ?B/s]\r100% 182k/182k [00:00<00:00, 117MB/s]\n",
            "Archive:  cat-dog-images.zip\n",
            "   creating: images/\n",
            "  inflating: images/dog.png          \n",
            "  inflating: images/cat.png          \n"
          ]
        }
      ]
    },
    {
      "cell_type": "code",
      "execution_count": 7,
      "id": "089357cc-56af-4263-93a8-c4bb16ab69a4",
      "metadata": {
        "id": "089357cc-56af-4263-93a8-c4bb16ab69a4"
      },
      "outputs": [],
      "source": [
        "import numpy as np\n",
        "from PIL import Image\n",
        "\n",
        "dog_png = np.array(Image.open('images/dog.png'))"
      ]
    },
    {
      "cell_type": "code",
      "execution_count": 8,
      "id": "bc9b88a5-2c5f-4eee-85de-b8330ebf7afb",
      "metadata": {
        "id": "bc9b88a5-2c5f-4eee-85de-b8330ebf7afb"
      },
      "outputs": [],
      "source": [
        "from keras.applications import densenet\n",
        "\n",
        "dense_prep_dog = densenet.preprocess_input(dog_png)"
      ]
    },
    {
      "cell_type": "code",
      "execution_count": 9,
      "id": "860f3ba5-9194-451f-b64d-385db3bf9ba9",
      "metadata": {
        "id": "860f3ba5-9194-451f-b64d-385db3bf9ba9",
        "outputId": "b1c8b818-7239-46d0-9e82-7a4bfba37a82",
        "colab": {
          "base_uri": "https://localhost:8080/"
        }
      },
      "outputs": [
        {
          "output_type": "stream",
          "name": "stdout",
          "text": [
            "Downloading data from https://storage.googleapis.com/tensorflow/keras-applications/densenet/densenet201_weights_tf_dim_ordering_tf_kernels.h5\n",
            "82524592/82524592 [==============================] - 4s 0us/step\n",
            "1/1 [==============================] - 7s 7s/step\n",
            "Downloading data from https://storage.googleapis.com/download.tensorflow.org/data/imagenet_class_index.json\n",
            "35363/35363 [==============================] - 0s 1us/step\n"
          ]
        },
        {
          "output_type": "execute_result",
          "data": {
            "text/plain": [
              "[[('n02099712', 'Labrador_retriever', 0.52812),\n",
              "  ('n04409515', 'tennis_ball', 0.19857815),\n",
              "  ('n02104029', 'kuvasz', 0.060605355),\n",
              "  ('n02111500', 'Great_Pyrenees', 0.027188243),\n",
              "  ('n02099601', 'golden_retriever', 0.017613882)]]"
            ]
          },
          "metadata": {},
          "execution_count": 9
        }
      ],
      "source": [
        "densenet201 = keras.applications.DenseNet201()\n",
        "predictions = densenet201.predict(dense_prep_dog[np.newaxis,:])\n",
        "densenet.decode_predictions(predictions)"
      ]
    },
    {
      "cell_type": "markdown",
      "id": "cbafb04f-28cb-4486-9473-7e4f92fcd9c7",
      "metadata": {
        "id": "cbafb04f-28cb-4486-9473-7e4f92fcd9c7"
      },
      "source": [
        "## MobileNet"
      ]
    },
    {
      "cell_type": "code",
      "execution_count": 10,
      "id": "9f5ede57-9d23-402f-b3b3-d935a26d12fc",
      "metadata": {
        "id": "9f5ede57-9d23-402f-b3b3-d935a26d12fc"
      },
      "outputs": [],
      "source": [
        "def depthwise_separable_block(inputs, filters, strides=1):\n",
        "    if strides == 1:\n",
        "        x = inputs\n",
        "    else:\n",
        "        x = layers.ZeroPadding2D(padding=((0, 1), (0, 1)))(inputs)\n",
        "\n",
        "    x = layers.DepthwiseConv2D(3, padding='same' if strides == 1 else 'valid',\n",
        "                               strides=strides, use_bias=False)(x)\n",
        "    x = layers.BatchNormalization(epsilon=1e-5)(x)\n",
        "    x = layers.ReLU(max_value=6.0)(x)\n",
        "    x = layers.Conv2D(filters, 1, padding='same', use_bias=False)(x)\n",
        "    x = layers.BatchNormalization(epsilon=1e-5)(x)\n",
        "    x = layers.ReLU(max_value=6.0)(x)\n",
        "    return x"
      ]
    },
    {
      "cell_type": "code",
      "execution_count": 11,
      "id": "b17d4a3f-aa8f-45a1-9e22-e8e3c881a7db",
      "metadata": {
        "id": "b17d4a3f-aa8f-45a1-9e22-e8e3c881a7db"
      },
      "outputs": [],
      "source": [
        "inputs = layers.Input(shape=(224, 224, 3))\n",
        "\n",
        "x = layers.Conv2D(32, 3, padding='same', strides=2, use_bias=False)(inputs)\n",
        "x = layers.BatchNormalization(epsilon=1e-5)(x)\n",
        "x = layers.ReLU(max_value=6.0)(x)\n",
        "\n",
        "for filters in (64, 128, 256):\n",
        "    x = depthwise_separable_block(x, filters)\n",
        "    x = depthwise_separable_block(x, filters*2, strides=2)\n",
        "for _ in range(5):\n",
        "    x = depthwise_separable_block(x, 512)\n",
        "x = depthwise_separable_block(x, 1024, strides=2)\n",
        "x = depthwise_separable_block(x, 1024)\n",
        "\n",
        "x = layers.GlobalAveragePooling2D(keepdims=True)(x)\n",
        "x = layers.Dropout(0.001)(x)\n",
        "x = layers.Conv2D(1000, 1, padding='same')(x)\n",
        "x = layers.Reshape((1000,))(x)\n",
        "outputs = layers.Activation('softmax')(x)\n",
        "\n",
        "model = keras.Model(inputs, outputs)"
      ]
    },
    {
      "cell_type": "code",
      "execution_count": 12,
      "id": "6c5b0874-0757-4929-bea7-a395780723f3",
      "metadata": {
        "scrolled": true,
        "id": "6c5b0874-0757-4929-bea7-a395780723f3",
        "outputId": "32f59617-1fd3-45e3-f3d8-7e87e3baddc1",
        "colab": {
          "base_uri": "https://localhost:8080/"
        }
      },
      "outputs": [
        {
          "output_type": "stream",
          "name": "stdout",
          "text": [
            "Downloading data from https://storage.googleapis.com/tensorflow/keras-applications/mobilenet/mobilenet_1_0_224_tf.h5\n",
            "17225924/17225924 [==============================] - 2s 0us/step\n",
            "1/1 [==============================] - 1s 1s/step\n"
          ]
        },
        {
          "output_type": "execute_result",
          "data": {
            "text/plain": [
              "[[('n02099712', 'Labrador_retriever', 0.40903673),\n",
              "  ('n02104029', 'kuvasz', 0.18954755),\n",
              "  ('n02110341', 'dalmatian', 0.14881718),\n",
              "  ('n02111500', 'Great_Pyrenees', 0.042762745),\n",
              "  ('n02099601', 'golden_retriever', 0.027608255)]]"
            ]
          },
          "metadata": {},
          "execution_count": 12
        }
      ],
      "source": [
        "from keras.applications import mobilenet\n",
        "\n",
        "mobile_prep_dog = mobilenet.preprocess_input(dog_png)\n",
        "model = keras.applications.MobileNet()\n",
        "predictions = model.predict(mobile_prep_dog[np.newaxis,:])\n",
        "mobilenet.decode_predictions(predictions)"
      ]
    },
    {
      "cell_type": "markdown",
      "id": "ae1c51b8-d1b6-4f93-8610-042eeef931a5",
      "metadata": {
        "id": "ae1c51b8-d1b6-4f93-8610-042eeef931a5"
      },
      "source": [
        "## EfficientNet"
      ]
    },
    {
      "cell_type": "code",
      "execution_count": 13,
      "id": "04985753-aead-4324-9b08-87116d3fb82e",
      "metadata": {
        "id": "04985753-aead-4324-9b08-87116d3fb82e",
        "outputId": "37f820da-1654-489e-c21f-b497d7913867",
        "colab": {
          "base_uri": "https://localhost:8080/",
          "height": 449
        }
      },
      "outputs": [
        {
          "output_type": "display_data",
          "data": {
            "text/plain": [
              "<Figure size 640x480 with 1 Axes>"
            ],
            "image/png": "[encoded data removed]"
          },
          "metadata": {}
        }
      ],
      "source": [
        "import numpy as np\n",
        "import matplotlib.pyplot as plt\n",
        "from scipy.special import expit\n",
        "\n",
        "x = np.arange(-10, 10, 0.2)\n",
        "\n",
        "plt.plot(x, x.clip(0), label='relu')\n",
        "plt.plot(x, x * expit(x), label='swish')\n",
        "plt.xlabel('x')\n",
        "plt.ylabel('f(x)')\n",
        "plt.legend()\n",
        "plt.show()"
      ]
    },
    {
      "cell_type": "code",
      "execution_count": 14,
      "id": "ac504c34-6e87-4c97-9d10-621cb104000c",
      "metadata": {
        "id": "ac504c34-6e87-4c97-9d10-621cb104000c",
        "outputId": "2659b3d6-04cb-49ec-d6cf-6160b08d648c",
        "colab": {
          "base_uri": "https://localhost:8080/",
          "height": 449
        }
      },
      "outputs": [
        {
          "output_type": "display_data",
          "data": {
            "text/plain": [
              "<Figure size 640x480 with 1 Axes>"
            ],
            "image/png": "[encoded data removed]"
          },
          "metadata": {}
        }
      ],
      "source": [
        "def relu6(x):\n",
        "    return np.minimum(np.maximum(x, 0), 6)\n",
        "\n",
        "x = np.arange(-10, 10, 0.2)\n",
        "\n",
        "plt.plot(x, x * expit(x), label='swish')\n",
        "plt.plot(x, x * relu6(x+3)/6, label='hard-swish')\n",
        "plt.xlabel('x')\n",
        "plt.ylabel('f(x)')\n",
        "plt.legend()\n",
        "plt.show()"
      ]
    },
    {
      "cell_type": "code",
      "execution_count": 15,
      "id": "632bb8cd-3def-458d-8c9d-93a6d97ee6b9",
      "metadata": {
        "id": "632bb8cd-3def-458d-8c9d-93a6d97ee6b9"
      },
      "outputs": [],
      "source": [
        "def inv_res_block(inputs, filters_out, kernel_size, strides, dropout_rate, expand_ratio):\n",
        "    # 팽창 단계\n",
        "    filters_in = inputs.shape[-1]\n",
        "    filters = filters_in * expand_ratio\n",
        "    if expand_ratio > 1:\n",
        "        x = layers.Conv2D(filters, 1, padding='same', use_bias=False)(inputs)\n",
        "        x = layers.BatchNormalization()(x)\n",
        "        x = layers.Activation('swish')(x)\n",
        "    else:\n",
        "        x = inputs\n",
        "\n",
        "    # 깊이별 분리 합성곱\n",
        "    if strides == 2:\n",
        "        x = layers.ZeroPadding2D(padding=padding_size(x.shape, kernel_size))(x)\n",
        "    x = layers.DepthwiseConv2D(kernel_size, strides=strides, use_bias=False,\n",
        "                               padding='same' if strides == 1 else 'valid')(x)\n",
        "    x = layers.BatchNormalization()(x)\n",
        "    x = layers.Activation('swish')(x)\n",
        "\n",
        "    # SE 블록\n",
        "    se_input = x\n",
        "    x = layers.GlobalAveragePooling2D(keepdims=True)(x)\n",
        "    x = layers.Conv2D(filters_in * 0.25, 1, padding='same', activation='swish')(x)\n",
        "    x = layers.Conv2D(filters, 1, padding='same', activation='sigmoid')(x)\n",
        "    x = layers.Multiply()([se_input, x])\n",
        "\n",
        "    # 출력 단계\n",
        "    x = layers.Conv2D(filters_out, 1, padding='same', use_bias=False)(x)\n",
        "    x = layers.BatchNormalization()(x)\n",
        "    if strides == 1 and filters_in == filters_out:\n",
        "        if dropout_rate > 0:\n",
        "            x = layers.Dropout(dropout_rate, noise_shape=(None, 1, 1, 1))(x)\n",
        "            x = layers.Add()([x, inputs])\n",
        "    return x"
      ]
    },
    {
      "cell_type": "code",
      "execution_count": 16,
      "id": "dfe087eb-0a01-4e6f-8004-a5fdce676259",
      "metadata": {
        "id": "dfe087eb-0a01-4e6f-8004-a5fdce676259"
      },
      "outputs": [],
      "source": [
        "def padding_size(input_size, kernel_size):\n",
        "    # 입력 크기가 짝수이면 아래쪽과 오른쪽만 패딩합니다.\n",
        "    padding = kernel_size // 2\n",
        "    if input_size[1] % 2 == 0:\n",
        "        return ((padding - 1, padding),\n",
        "                (padding - 1, padding))\n",
        "    else:\n",
        "        return padding"
      ]
    },
    {
      "cell_type": "code",
      "execution_count": 17,
      "id": "0a966956-f4c2-46fd-ac30-8f78c2beab3e",
      "metadata": {
        "id": "0a966956-f4c2-46fd-ac30-8f78c2beab3e"
      },
      "outputs": [],
      "source": [
        "import math\n",
        "\n",
        "def round_repeats(repeats, depth):\n",
        "    \"\"\"repeats * depth 보다 큰 정수를 반환합니다\"\"\"\n",
        "    return int(math.ceil(repeats * depth))\n",
        "\n",
        "def round_filters(filters, width):\n",
        "    \"\"\"filters * width 보다 크고 8의 배수가 되도록 만듭니다\"\"\"\n",
        "    filters *= width\n",
        "    new_filters = max(8, int(filters + 4) // 8 * 8)\n",
        "    if new_filters < 0.9 * filters:\n",
        "        new_filters += 8\n",
        "    return int(new_filters)"
      ]
    },
    {
      "cell_type": "code",
      "execution_count": 18,
      "id": "bfd481ac-ddcc-4b45-a602-d8a8ea9d3377",
      "metadata": {
        "id": "bfd481ac-ddcc-4b45-a602-d8a8ea9d3377"
      },
      "outputs": [],
      "source": [
        "width = 1.0\n",
        "depth = 1.0\n",
        "inputs = layers.Input(shape=(224, 224, 3))\n",
        "\n",
        "x = layers.Rescaling(1.0 / 255.0)(inputs)\n",
        "x = layers.Normalization()(x)\n",
        "x = layers.Rescaling(1.0 / np.sqrt([0.229, 0.224, 0.225]))(x)\n",
        "x = layers.ZeroPadding2D(padding=padding_size(x.shape, 3))(x)\n",
        "x = layers.Conv2D(round_filters(32, width), 3, strides=2, padding='valid', use_bias=False)(x)\n",
        "x = layers.BatchNormalization()(x)\n",
        "x = layers.Activation('swish')(x)"
      ]
    },
    {
      "cell_type": "code",
      "execution_count": 19,
      "id": "48dfbba3-eb3a-4d0d-b725-85c010064f00",
      "metadata": {
        "id": "48dfbba3-eb3a-4d0d-b725-85c010064f00"
      },
      "outputs": [],
      "source": [
        "blocks_params = [\n",
        "    {\n",
        "        \"kernel_size\": 3,\n",
        "        \"repeats\": 1,\n",
        "        \"filters_out\": 16,\n",
        "        \"strides\": 1\n",
        "    },\n",
        "    {\n",
        "        \"kernel_size\": 3,\n",
        "        \"repeats\": 2,\n",
        "        \"filters_out\": 24,\n",
        "        \"strides\": 2\n",
        "    },\n",
        "    {\n",
        "        \"kernel_size\": 5,\n",
        "        \"repeats\": 2,\n",
        "        \"filters_out\": 40,\n",
        "        \"strides\": 2\n",
        "    },\n",
        "    {\n",
        "        \"kernel_size\": 3,\n",
        "        \"repeats\": 3,\n",
        "        \"filters_out\": 80,\n",
        "        \"strides\": 2\n",
        "    },\n",
        "    {\n",
        "        \"kernel_size\": 5,\n",
        "        \"repeats\": 3,\n",
        "        \"filters_out\": 112,\n",
        "        \"strides\": 1\n",
        "    },\n",
        "    {\n",
        "        \"kernel_size\": 5,\n",
        "        \"repeats\": 4,\n",
        "        \"filters_out\": 192,\n",
        "        \"strides\": 2\n",
        "    },\n",
        "    {\n",
        "        \"kernel_size\": 3,\n",
        "        \"repeats\": 1,\n",
        "        \"filters_out\": 320,\n",
        "        \"strides\": 1\n",
        "    },\n",
        "]"
      ]
    },
    {
      "cell_type": "code",
      "execution_count": 20,
      "id": "4a7d5406-9a5b-4d12-9e86-bee8ed0477ca",
      "metadata": {
        "id": "4a7d5406-9a5b-4d12-9e86-bee8ed0477ca"
      },
      "outputs": [],
      "source": [
        "filter_expand_ratio = 1\n",
        "block_count = 0\n",
        "total_blocks = float(sum(round_repeats(params[\"repeats\"], depth) for params in blocks_params))\n",
        "for params in blocks_params:\n",
        "    # depth에 따라 블록의 입력과 출력 필터를 늘립니다.\n",
        "    filters_out = round_filters(params['filters_out'], width)\n",
        "    strides = params[\"strides\"]\n",
        "    for j in range(round_repeats(params[\"repeats\"], depth)):\n",
        "        # 반복의 첫 번째 블록을 제외한 나머지 블록은 스트라이드 1입니다.\n",
        "        if j > 0:\n",
        "            strides = 1\n",
        "        dropout_rate = 0.2 * block_count / total_blocks\n",
        "        x = inv_res_block(x, filters_out, params['kernel_size'],\n",
        "                          strides, dropout_rate, filter_expand_ratio)\n",
        "        block_count += 1\n",
        "    filter_expand_ratio = 6"
      ]
    },
    {
      "cell_type": "code",
      "execution_count": 21,
      "id": "e066840e-de15-4fe3-8947-36acba989df0",
      "metadata": {
        "id": "e066840e-de15-4fe3-8947-36acba989df0"
      },
      "outputs": [],
      "source": [
        "x = layers.Conv2D(round_filters(1280, width), 1, padding='same', use_bias=False)(x)\n",
        "x = layers.BatchNormalization()(x)\n",
        "x = layers.Activation('swish')(x)\n",
        "\n",
        "x = layers.GlobalAveragePooling2D()(x)\n",
        "x = layers.Dropout(0.2)(x)\n",
        "outputs = layers.Dense(1000, activation='softmax')(x)\n",
        "\n",
        "model = keras.Model(inputs, outputs)"
      ]
    },
    {
      "cell_type": "code",
      "execution_count": 22,
      "id": "e80dec65-7344-4709-83b1-daf74a32bf1f",
      "metadata": {
        "id": "e80dec65-7344-4709-83b1-daf74a32bf1f",
        "outputId": "30fcf5f7-eec4-41c2-e083-5e6cb179ef8d",
        "colab": {
          "base_uri": "https://localhost:8080/"
        }
      },
      "outputs": [
        {
          "output_type": "stream",
          "name": "stdout",
          "text": [
            "Downloading data from https://storage.googleapis.com/keras-applications/efficientnetb0.h5\n",
            "21834768/21834768 [==============================] - 2s 0us/step\n",
            "1/1 [==============================] - 3s 3s/step\n"
          ]
        },
        {
          "output_type": "execute_result",
          "data": {
            "text/plain": [
              "[[('n02099712', 'Labrador_retriever', 0.368294),\n",
              "  ('n02104029', 'kuvasz', 0.19339865),\n",
              "  ('n02099601', 'golden_retriever', 0.061458245),\n",
              "  ('n02111500', 'Great_Pyrenees', 0.057797015),\n",
              "  ('n02095889', 'Sealyham_terrier', 0.017902777)]]"
            ]
          },
          "metadata": {},
          "execution_count": 22
        }
      ],
      "source": [
        "from keras.applications import efficientnet\n",
        "\n",
        "efficientb0 = keras.applications.EfficientNetB0()\n",
        "predictions = efficientb0.predict(dog_png[np.newaxis,:])\n",
        "efficientnet.decode_predictions(predictions)"
      ]
    },
    {
      "cell_type": "markdown",
      "source": [
        "## 모델 저장소 사용하기"
      ],
      "metadata": {
        "id": "B5kU60QgvYkx"
      },
      "id": "B5kU60QgvYkx"
    },
    {
      "cell_type": "code",
      "execution_count": 23,
      "id": "22e4a001-b5dd-4d51-b0df-578a9cb0c445",
      "metadata": {
        "id": "22e4a001-b5dd-4d51-b0df-578a9cb0c445",
        "outputId": "9267647e-6791-4590-dc0f-e128dbf9d6f2",
        "colab": {
          "base_uri": "https://localhost:8080/"
        }
      },
      "outputs": [
        {
          "output_type": "stream",
          "name": "stdout",
          "text": [
            "1/1 [==============================] - 1s 845ms/step\n"
          ]
        },
        {
          "output_type": "execute_result",
          "data": {
            "text/plain": [
              "[[('n02099712', 'Labrador_retriever', 0.3682942),\n",
              "  ('n02104029', 'kuvasz', 0.19339868),\n",
              "  ('n02099601', 'golden_retriever', 0.061458193),\n",
              "  ('n02111500', 'Great_Pyrenees', 0.05779694),\n",
              "  ('n02095889', 'Sealyham_terrier', 0.017902788)]]"
            ]
          },
          "metadata": {},
          "execution_count": 23
        }
      ],
      "source": [
        "import tensorflow as tf\n",
        "import tensorflow_hub as hub\n",
        "\n",
        "hub_efficientb0 = tf.keras.Sequential([\n",
        "    layers.Rescaling(1.0 / 255.0, input_shape=(224, 224, 3)),\n",
        "    hub.KerasLayer(\"https://www.kaggle.com/models/tensorflow/efficientnet/frameworks/TensorFlow2/variations/b0-classification/versions/1\")\n",
        "])\n",
        "\n",
        "predictions = hub_efficientb0.predict(dog_png[np.newaxis,:])\n",
        "efficientnet.decode_predictions(predictions)"
      ]
    },
    {
      "cell_type": "code",
      "execution_count": 24,
      "id": "a293273a-665c-4d08-b7fa-13dcb52f759a",
      "metadata": {
        "id": "a293273a-665c-4d08-b7fa-13dcb52f759a",
        "outputId": "0142bab4-8be0-4f2f-ddf5-2795a3af48e0",
        "colab": {
          "base_uri": "https://localhost:8080/",
          "height": 334,
          "referenced_widgets": [
            "37d8d78539b54025b8b5b328206af6f0",
            "55344fa281df406a9c179a42f7a232c5",
            "e1ead5ad3fbf40d6bcb315b2eb988da9",
            "f051c405e74d436a94f5f260a4a73cf8",
            "a0086a16d87143539d159b10d1f2cd69",
            "327515212b7549a49393328c8eec84cb",
            "fcdeede84ab14e86b7a94ef0f0d9333a",
            "4614d56e74de4b8caa434902983b7c89",
            "280279923cb14c2689d65f5b0f1be177",
            "b557f9cf389a4ec5acc08298440d72ff",
            "d1b4731182b44e6c8b46cee16fcf25ea",
            "8c004e04adb1470a979b3f0e5d5e2e15",
            "0ec382c178db443eb4c0cda8bb07bc9c",
            "c6eb592536d54275a017aff6b9cb628f",
            "bee0892ffc4543eb982f9145e5f2fe0c",
            "02c4a11370d145e7b82c9a3942dbc4b3",
            "030abf94a3e34b3c862f62ef9f2129a3",
            "995fd4f2063a484ea1a1276bf0729ba2",
            "e83649231d1842c282ee63861933850e",
            "21423f189db9476d935a4ecb377ee725",
            "180fbbbec6c64de9b3aef69511edf8ac",
            "b68fc3948950466e8653bc39169e39f8",
            "726421fc4e424d45bc6bd81a85dfd87c",
            "89822087ec094710ae6763ebb38af0e7",
            "509dd6268e63475389f4dc7d85c73d21",
            "bc9ab959e7dc4415b2b0a4fef9448d1b",
            "a907c956be374c2fa770d58920dbc180",
            "f9d5394737f54cd4a465d50b738f2cdf",
            "d4e17dfd27cd4f3792d72b42a2c63fe7",
            "2121c527dee147a2af8c8cef1245bb63",
            "7eb040d96603451e9d65212a8d585bfa",
            "d4ef92bbba3b43248a12c2c0253c486a",
            "ba7b2925354c49bd98053ba0737e11bf"
          ]
        }
      },
      "outputs": [
        {
          "output_type": "stream",
          "name": "stderr",
          "text": [
            "/usr/local/lib/python3.10/dist-packages/huggingface_hub/utils/_token.py:88: UserWarning: \n",
            "The secret `HF_TOKEN` does not exist in your Colab secrets.\n",
            "To authenticate with the Hugging Face Hub, create a token in your settings tab (https://huggingface.co/settings/tokens), set it as secret in your Google Colab and restart your session.\n",
            "You will be able to reuse this secret in all of your notebooks.\n",
            "Please note that authentication is recommended but still optional to access public models or datasets.\n",
            "  warnings.warn(\n"
          ]
        },
        {
          "output_type": "display_data",
          "data": {
            "text/plain": [
              "config.json:   0%|          | 0.00/70.3k [00:00<?, ?B/s]"
            ],
            "application/vnd.jupyter.widget-view+json": {
              "version_major": 2,
              "version_minor": 0,
              "model_id": "37d8d78539b54025b8b5b328206af6f0"
            }
          },
          "metadata": {}
        },
        {
          "output_type": "display_data",
          "data": {
            "text/plain": [
              "pytorch_model.bin:   0%|          | 0.00/21.4M [00:00<?, ?B/s]"
            ],
            "application/vnd.jupyter.widget-view+json": {
              "version_major": 2,
              "version_minor": 0,
              "model_id": "8c004e04adb1470a979b3f0e5d5e2e15"
            }
          },
          "metadata": {}
        },
        {
          "output_type": "display_data",
          "data": {
            "text/plain": [
              "preprocessor_config.json:   0%|          | 0.00/472 [00:00<?, ?B/s]"
            ],
            "application/vnd.jupyter.widget-view+json": {
              "version_major": 2,
              "version_minor": 0,
              "model_id": "726421fc4e424d45bc6bd81a85dfd87c"
            }
          },
          "metadata": {}
        },
        {
          "output_type": "execute_result",
          "data": {
            "text/plain": [
              "[{'label': 'Labrador retriever', 'score': 0.368294358253479},\n",
              " {'label': 'kuvasz', 'score': 0.19339904189109802},\n",
              " {'label': 'golden retriever', 'score': 0.061458274722099304},\n",
              " {'label': 'Great Pyrenees', 'score': 0.057796820998191833},\n",
              " {'label': 'Sealyham terrier, Sealyham', 'score': 0.017902739346027374}]"
            ]
          },
          "metadata": {},
          "execution_count": 24
        }
      ],
      "source": [
        "from transformers import pipeline\n",
        "\n",
        "pipe = pipeline(task='image-classification', model='google/efficientnet-b0')\n",
        "pipe('images/dog.png')"
      ]
    },
    {
      "cell_type": "markdown",
      "source": [
        "## 전이 학습"
      ],
      "metadata": {
        "id": "c6222c43-b850-4b9e-a93f-fb3d3d26fe71"
      },
      "id": "c6222c43-b850-4b9e-a93f-fb3d3d26fe71"
    },
    {
      "cell_type": "code",
      "source": [
        "!gdown 10bnEC6-ZfXZFZ2mb3zoWd38TjYufanWo"
      ],
      "metadata": {
        "id": "w-RSHY9FkatW",
        "outputId": "34870f49-920b-4b3f-a532-b7fc24fff57f",
        "colab": {
          "base_uri": "https://localhost:8080/"
        }
      },
      "id": "w-RSHY9FkatW",
      "execution_count": 25,
      "outputs": [
        {
          "output_type": "stream",
          "name": "stdout",
          "text": [
            "Downloading...\n",
            "From: https://drive.google.com/uc?id=10bnEC6-ZfXZFZ2mb3zoWd38TjYufanWo\n",
            "To: /content/Pistachio_Image_Dataset.zip\n",
            "100% 25.9M/25.9M [00:00<00:00, 52.2MB/s]\n"
          ]
        }
      ]
    },
    {
      "cell_type": "code",
      "source": [
        "!unzip -q Pistachio_Image_Dataset.zip"
      ],
      "metadata": {
        "id": "u8up9YuvoDw-"
      },
      "id": "u8up9YuvoDw-",
      "execution_count": 26,
      "outputs": []
    },
    {
      "cell_type": "code",
      "execution_count": 27,
      "id": "8a12732d-78d6-4bf1-98a4-33594d16ba24",
      "metadata": {
        "id": "8a12732d-78d6-4bf1-98a4-33594d16ba24"
      },
      "outputs": [],
      "source": [
        "pistachio_sample = np.array(Image.open('Pistachio_Image_Dataset/Kirmizi_Pistachio/kirmizi (1).jpg'))"
      ]
    },
    {
      "cell_type": "code",
      "execution_count": 28,
      "id": "18a82a19",
      "metadata": {
        "id": "18a82a19",
        "outputId": "643b9234-9917-4ff3-9679-4829b2925406",
        "colab": {
          "base_uri": "https://localhost:8080/"
        }
      },
      "outputs": [
        {
          "output_type": "execute_result",
          "data": {
            "text/plain": [
              "(600, 600, 3)"
            ]
          },
          "metadata": {},
          "execution_count": 28
        }
      ],
      "source": [
        "pistachio_sample.shape"
      ]
    },
    {
      "cell_type": "code",
      "source": [
        "efficientb7 = keras.applications.EfficientNetB7()\n",
        "\n",
        "predictions = efficientb7.predict(pistachio_sample[np.newaxis,:])\n",
        "efficientnet.decode_predictions(predictions)"
      ],
      "metadata": {
        "colab": {
          "base_uri": "https://localhost:8080/"
        },
        "id": "F2nRD1Wg7JCE",
        "outputId": "5ee664ff-5cbc-4732-a107-099c7f279634"
      },
      "id": "F2nRD1Wg7JCE",
      "execution_count": 29,
      "outputs": [
        {
          "output_type": "stream",
          "name": "stdout",
          "text": [
            "Downloading data from https://storage.googleapis.com/keras-applications/efficientnetb7.h5\n",
            "268326632/268326632 [==============================] - 15s 0us/step\n"
          ]
        },
        {
          "output_type": "stream",
          "name": "stderr",
          "text": [
            "WARNING:tensorflow:5 out of the last 5 calls to <function Model.make_predict_function.<locals>.predict_function at 0x795aa55a5f30> triggered tf.function retracing. Tracing is expensive and the excessive number of tracings could be due to (1) creating @tf.function repeatedly in a loop, (2) passing tensors with different shapes, (3) passing Python objects instead of tensors. For (1), please define your @tf.function outside of the loop. For (2), @tf.function has reduce_retracing=True option that can avoid unnecessary retracing. For (3), please refer to https://www.tensorflow.org/guide/function#controlling_retracing and https://www.tensorflow.org/api_docs/python/tf/function for  more details.\n"
          ]
        },
        {
          "output_type": "stream",
          "name": "stdout",
          "text": [
            "1/1 [==============================] - 8s 8s/step\n"
          ]
        },
        {
          "output_type": "execute_result",
          "data": {
            "text/plain": [
              "[[('n01950731', 'sea_slug', 0.23482406),\n",
              "  ('n01924916', 'flatworm', 0.20674424),\n",
              "  ('n01943899', 'conch', 0.086223446),\n",
              "  ('n01945685', 'slug', 0.08500548),\n",
              "  ('n01955084', 'chiton', 0.028242918)]]"
            ]
          },
          "metadata": {},
          "execution_count": 29
        }
      ]
    },
    {
      "cell_type": "code",
      "execution_count": 30,
      "id": "f20125d2-ec7d-4c2e-94db-bd32ffdc3bbc",
      "metadata": {
        "scrolled": true,
        "id": "f20125d2-ec7d-4c2e-94db-bd32ffdc3bbc",
        "outputId": "d8f31dda-92bd-44be-e89e-d5e1616c0152",
        "colab": {
          "base_uri": "https://localhost:8080/"
        }
      },
      "outputs": [
        {
          "output_type": "stream",
          "name": "stdout",
          "text": [
            "Downloading data from https://storage.googleapis.com/keras-applications/efficientnetb0_notop.h5\n",
            "16705208/16705208 [==============================] - 2s 0us/step\n"
          ]
        },
        {
          "output_type": "execute_result",
          "data": {
            "text/plain": [
              "TensorShape([1, 18, 18, 1280])"
            ]
          },
          "metadata": {},
          "execution_count": 30
        }
      ],
      "source": [
        "keras_efficientb0_base = keras.applications.EfficientNetB0(include_top=False)\n",
        "feature_map = keras_efficientb0_base(pistachio_sample[np.newaxis,:])\n",
        "feature_map.shape"
      ]
    },
    {
      "cell_type": "code",
      "execution_count": 31,
      "id": "b8039236",
      "metadata": {
        "id": "b8039236",
        "outputId": "2ffe9e1f-0d4b-44d5-f016-891eb87913b3",
        "colab": {
          "base_uri": "https://localhost:8080/"
        }
      },
      "outputs": [
        {
          "output_type": "stream",
          "name": "stdout",
          "text": [
            "Found 2148 files belonging to 2 classes.\n",
            "Using 1719 files for training.\n",
            "Using 429 files for validation.\n"
          ]
        }
      ],
      "source": [
        "train_ds, val_ds = keras.utils.image_dataset_from_directory(\n",
        "    'Pistachio_Image_Dataset', image_size=(224, 224), batch_size=16,\n",
        "    validation_split=0.2, subset='both', seed=42\n",
        ")"
      ]
    },
    {
      "cell_type": "code",
      "source": [
        "keras_efficientb0_base.trainable = False\n",
        "\n",
        "inputs = keras.Input(shape=(224, 224, 3))\n",
        "x = keras_efficientb0_base(inputs)\n",
        "x = layers.GlobalAveragePooling2D()(x)\n",
        "x = layers.Dense(128, activation='relu')(x)\n",
        "outputs = layers.Dense(1, activation=\"sigmoid\")(x)\n",
        "model = keras.Model(inputs, outputs)\n",
        "\n",
        "rmsprop = keras.optimizers.RMSprop(learning_rate=5e-5)\n",
        "model.compile(optimizer=rmsprop, loss='binary_crossentropy', metrics=['accuracy'])\n",
        "hist = model.fit(train_ds, epochs=20, validation_data=val_ds)"
      ],
      "metadata": {
        "id": "aIPEIPYPiM6G",
        "colab": {
          "base_uri": "https://localhost:8080/"
        },
        "outputId": "8e603fcd-578a-45aa-b5b9-cd5c64bc3dcd"
      },
      "id": "aIPEIPYPiM6G",
      "execution_count": 32,
      "outputs": [
        {
          "output_type": "stream",
          "name": "stdout",
          "text": [
            "Epoch 1/20\n",
            "108/108 [==============================] - 29s 91ms/step - loss: 0.4931 - accuracy: 0.8005 - val_loss: 0.3528 - val_accuracy: 0.9184\n",
            "Epoch 2/20\n",
            "108/108 [==============================] - 5s 43ms/step - loss: 0.3164 - accuracy: 0.9133 - val_loss: 0.2431 - val_accuracy: 0.9394\n",
            "Epoch 3/20\n",
            "108/108 [==============================] - 5s 47ms/step - loss: 0.2343 - accuracy: 0.9331 - val_loss: 0.1890 - val_accuracy: 0.9441\n",
            "Epoch 4/20\n",
            "108/108 [==============================] - 5s 46ms/step - loss: 0.1837 - accuracy: 0.9459 - val_loss: 0.1585 - val_accuracy: 0.9510\n",
            "Epoch 5/20\n",
            "108/108 [==============================] - 5s 46ms/step - loss: 0.1524 - accuracy: 0.9552 - val_loss: 0.1371 - val_accuracy: 0.9650\n",
            "Epoch 6/20\n",
            "108/108 [==============================] - 5s 43ms/step - loss: 0.1385 - accuracy: 0.9604 - val_loss: 0.1231 - val_accuracy: 0.9674\n",
            "Epoch 7/20\n",
            "108/108 [==============================] - 6s 51ms/step - loss: 0.1200 - accuracy: 0.9674 - val_loss: 0.1141 - val_accuracy: 0.9697\n",
            "Epoch 8/20\n",
            "108/108 [==============================] - 5s 47ms/step - loss: 0.1087 - accuracy: 0.9668 - val_loss: 0.1042 - val_accuracy: 0.9697\n",
            "Epoch 9/20\n",
            "108/108 [==============================] - 5s 46ms/step - loss: 0.0972 - accuracy: 0.9727 - val_loss: 0.0989 - val_accuracy: 0.9720\n",
            "Epoch 10/20\n",
            "108/108 [==============================] - 6s 53ms/step - loss: 0.0955 - accuracy: 0.9668 - val_loss: 0.0929 - val_accuracy: 0.9767\n",
            "Epoch 11/20\n",
            "108/108 [==============================] - 5s 43ms/step - loss: 0.0854 - accuracy: 0.9744 - val_loss: 0.0892 - val_accuracy: 0.9767\n",
            "Epoch 12/20\n",
            "108/108 [==============================] - 6s 50ms/step - loss: 0.0801 - accuracy: 0.9785 - val_loss: 0.0857 - val_accuracy: 0.9744\n",
            "Epoch 13/20\n",
            "108/108 [==============================] - 5s 47ms/step - loss: 0.0787 - accuracy: 0.9738 - val_loss: 0.0828 - val_accuracy: 0.9744\n",
            "Epoch 14/20\n",
            "108/108 [==============================] - 5s 43ms/step - loss: 0.0721 - accuracy: 0.9767 - val_loss: 0.0789 - val_accuracy: 0.9744\n",
            "Epoch 15/20\n",
            "108/108 [==============================] - 6s 51ms/step - loss: 0.0653 - accuracy: 0.9808 - val_loss: 0.0758 - val_accuracy: 0.9744\n",
            "Epoch 16/20\n",
            "108/108 [==============================] - 7s 63ms/step - loss: 0.0690 - accuracy: 0.9767 - val_loss: 0.0736 - val_accuracy: 0.9767\n",
            "Epoch 17/20\n",
            "108/108 [==============================] - 6s 51ms/step - loss: 0.0630 - accuracy: 0.9820 - val_loss: 0.0720 - val_accuracy: 0.9767\n",
            "Epoch 18/20\n",
            "108/108 [==============================] - 6s 49ms/step - loss: 0.0629 - accuracy: 0.9779 - val_loss: 0.0702 - val_accuracy: 0.9767\n",
            "Epoch 19/20\n",
            "108/108 [==============================] - 5s 43ms/step - loss: 0.0605 - accuracy: 0.9831 - val_loss: 0.0689 - val_accuracy: 0.9767\n",
            "Epoch 20/20\n",
            "108/108 [==============================] - 6s 53ms/step - loss: 0.0545 - accuracy: 0.9860 - val_loss: 0.0676 - val_accuracy: 0.9790\n"
          ]
        }
      ]
    },
    {
      "cell_type": "code",
      "source": [
        "fig, axs = plt.subplots(1, 2, figsize=(12, 4))\n",
        "axs[0].plot(range(1, 21), hist.history['loss'], label='loss')\n",
        "axs[0].plot(range(1, 21), hist.history['val_loss'], label='val_loss')\n",
        "axs[0].set_xticks(range(1, 21))\n",
        "axs[0].set_xlabel('epoch')\n",
        "axs[0].set_ylabel('loss')\n",
        "axs[0].legend()\n",
        "axs[1].plot(range(1, 21), hist.history['accuracy'], label='accuracy')\n",
        "axs[1].plot(range(1, 21), hist.history['val_accuracy'], label='val_accuracy')\n",
        "axs[1].set_xticks(range(1, 21))\n",
        "axs[1].set_xlabel('epoch')\n",
        "axs[1].set_ylabel('accuracy')\n",
        "axs[1].legend()\n",
        "plt.show()"
      ],
      "metadata": {
        "colab": {
          "base_uri": "https://localhost:8080/",
          "height": 388
        },
        "id": "IntxvaRB8PWP",
        "outputId": "ff64124b-2535-40e1-c4d8-5542dd547b4d"
      },
      "id": "IntxvaRB8PWP",
      "execution_count": 33,
      "outputs": [
        {
          "output_type": "display_data",
          "data": {
            "text/plain": [
              "<Figure size 1200x400 with 2 Axes>"
            ],
            "image/png": "[encoded data removed]"
          },
          "metadata": {}
        }
      ]
    },
    {
      "cell_type": "markdown",
      "source": [
        "## 심화 학습"
      ],
      "metadata": {
        "id": "66gPs0bw8VD2"
      },
      "id": "66gPs0bw8VD2"
    },
    {
      "cell_type": "code",
      "source": [
        "kaggle_efficientb0_base = hub.KerasLayer('https://www.kaggle.com/models/tensorflow/efficientnet/frameworks/TensorFlow2/variations/b0-feature-vector/versions/1')\n",
        "\n",
        "inputs = keras.Input(shape=(224, 224, 3))\n",
        "x = layers.Rescaling(1.0 / 255.0)(inputs)\n",
        "x = kaggle_efficientb0_base(x)\n",
        "x = layers.Dense(128, activation='relu')(x)\n",
        "outputs = layers.Dense(1, activation='sigmoid')(x)\n",
        "model = keras.Model(inputs, outputs)"
      ],
      "metadata": {
        "id": "fajYV5Wc7pAU"
      },
      "id": "fajYV5Wc7pAU",
      "execution_count": 34,
      "outputs": []
    },
    {
      "cell_type": "code",
      "execution_count": null,
      "id": "480f4d8b-0fbd-4731-9d15-2af6c1ae2b14",
      "metadata": {
        "id": "480f4d8b-0fbd-4731-9d15-2af6c1ae2b14",
        "outputId": "9e3863be-8a29-476d-f72d-6c082f14766c",
        "colab": {
          "base_uri": "https://localhost:8080/"
        }
      },
      "outputs": [
        {
          "output_type": "stream",
          "name": "stdout",
          "text": [
            "Epoch 1/20\n",
            "108/108 [==============================] - 17s 74ms/step - loss: 0.4052 - accuracy: 0.8499 - val_loss: 0.2592 - val_accuracy: 0.9324\n",
            "Epoch 2/20\n",
            "108/108 [==============================] - 5s 45ms/step - loss: 0.2070 - accuracy: 0.9407 - val_loss: 0.1658 - val_accuracy: 0.9487\n",
            "Epoch 3/20\n",
            "108/108 [==============================] - 5s 44ms/step - loss: 0.1429 - accuracy: 0.9616 - val_loss: 0.1323 - val_accuracy: 0.9557\n",
            "Epoch 4/20\n",
            "108/108 [==============================] - 5s 41ms/step - loss: 0.1115 - accuracy: 0.9709 - val_loss: 0.1240 - val_accuracy: 0.9604\n",
            "Epoch 5/20\n",
            "107/108 [============================>.] - ETA: 0s - loss: 0.0920 - accuracy: 0.9702"
          ]
        }
      ],
      "source": [
        "rmsprop = keras.optimizers.RMSprop(learning_rate=1e-4)\n",
        "model.compile(optimizer=rmsprop, loss='binary_crossentropy', metrics=['accuracy'])\n",
        "hist = model.fit(train_ds, epochs=20, validation_data=val_ds)"
      ]
    },
    {
      "cell_type": "code",
      "source": [
        "fig, axs = plt.subplots(1, 2, figsize=(12, 4))\n",
        "axs[0].plot(range(1, 21), hist.history['loss'], label='loss')\n",
        "axs[0].plot(range(1, 21), hist.history['val_loss'], label='val_loss')\n",
        "axs[0].set_xticks(range(1, 21))\n",
        "axs[0].set_xlabel('epoch')\n",
        "axs[0].set_ylabel('loss')\n",
        "axs[0].legend()\n",
        "axs[1].plot(range(1, 21), hist.history['accuracy'], label='accuracy')\n",
        "axs[1].plot(range(1, 21), hist.history['val_accuracy'], label='val_accuracy')\n",
        "axs[1].set_xticks(range(1, 21))\n",
        "axs[1].set_xlabel('epoch')\n",
        "axs[1].set_ylabel('accuracy')\n",
        "axs[1].legend()\n",
        "plt.show()"
      ],
      "metadata": {
        "id": "trvmgmnGSM77"
      },
      "id": "trvmgmnGSM77",
      "execution_count": null,
      "outputs": []
    }
  ],
  "metadata": {
    "kernelspec": {
      "display_name": "Python 3",
      "name": "python3"
    },
    "language_info": {
      "codemirror_mode": {
        "name": "ipython",
        "version": 3
      },
      "file_extension": ".py",
      "mimetype": "text/x-python",
      "name": "python",
      "nbconvert_exporter": "python",
      "pygments_lexer": "ipython3",
      "version": "3.9.13"
    },
    "colab": {
      "provenance": [],
      "gpuType": "T4"
    },
    "accelerator": "GPU",
    "widgets": {
      "application/vnd.jupyter.widget-state+json": {
        "37d8d78539b54025b8b5b328206af6f0": {
          "model_module": "@jupyter-widgets/controls",
          "model_name": "HBoxModel",
          "model_module_version": "1.5.0",
          "state": {
            "_dom_classes": [],
            "_model_module": "@jupyter-widgets/controls",
            "_model_module_version": "1.5.0",
            "_model_name": "HBoxModel",
            "_view_count": null,
            "_view_module": "@jupyter-widgets/controls",
            "_view_module_version": "1.5.0",
            "_view_name": "HBoxView",
            "box_style": "",
            "children": [
              "IPY_MODEL_55344fa281df406a9c179a42f7a232c5",
              "IPY_MODEL_e1ead5ad3fbf40d6bcb315b2eb988da9",
              "IPY_MODEL_f051c405e74d436a94f5f260a4a73cf8"
            ],
            "layout": "IPY_MODEL_a0086a16d87143539d159b10d1f2cd69"
          }
        },
        "55344fa281df406a9c179a42f7a232c5": {
          "model_module": "@jupyter-widgets/controls",
          "model_name": "HTMLModel",
          "model_module_version": "1.5.0",
          "state": {
            "_dom_classes": [],
            "_model_module": "@jupyter-widgets/controls",
            "_model_module_version": "1.5.0",
            "_model_name": "HTMLModel",
            "_view_count": null,
            "_view_module": "@jupyter-widgets/controls",
            "_view_module_version": "1.5.0",
            "_view_name": "HTMLView",
            "description": "",
            "description_tooltip": null,
            "layout": "IPY_MODEL_327515212b7549a49393328c8eec84cb",
            "placeholder": "​",
            "style": "IPY_MODEL_fcdeede84ab14e86b7a94ef0f0d9333a",
            "value": "config.json: 100%"
          }
        },
        "e1ead5ad3fbf40d6bcb315b2eb988da9": {
          "model_module": "@jupyter-widgets/controls",
          "model_name": "FloatProgressModel",
          "model_module_version": "1.5.0",
          "state": {
            "_dom_classes": [],
            "_model_module": "@jupyter-widgets/controls",
            "_model_module_version": "1.5.0",
            "_model_name": "FloatProgressModel",
            "_view_count": null,
            "_view_module": "@jupyter-widgets/controls",
            "_view_module_version": "1.5.0",
            "_view_name": "ProgressView",
            "bar_style": "success",
            "description": "",
            "description_tooltip": null,
            "layout": "IPY_MODEL_4614d56e74de4b8caa434902983b7c89",
            "max": 70330,
            "min": 0,
            "orientation": "horizontal",
            "style": "IPY_MODEL_280279923cb14c2689d65f5b0f1be177",
            "value": 70330
          }
        },
        "f051c405e74d436a94f5f260a4a73cf8": {
          "model_module": "@jupyter-widgets/controls",
          "model_name": "HTMLModel",
          "model_module_version": "1.5.0",
          "state": {
            "_dom_classes": [],
            "_model_module": "@jupyter-widgets/controls",
            "_model_module_version": "1.5.0",
            "_model_name": "HTMLModel",
            "_view_count": null,
            "_view_module": "@jupyter-widgets/controls",
            "_view_module_version": "1.5.0",
            "_view_name": "HTMLView",
            "description": "",
            "description_tooltip": null,
            "layout": "IPY_MODEL_b557f9cf389a4ec5acc08298440d72ff",
            "placeholder": "​",
            "style": "IPY_MODEL_d1b4731182b44e6c8b46cee16fcf25ea",
            "value": " 70.3k/70.3k [00:00&lt;00:00, 3.92MB/s]"
          }
        },
        "a0086a16d87143539d159b10d1f2cd69": {
          "model_module": "@jupyter-widgets/base",
          "model_name": "LayoutModel",
          "model_module_version": "1.2.0",
          "state": {
            "_model_module": "@jupyter-widgets/base",
            "_model_module_version": "1.2.0",
            "_model_name": "LayoutModel",
            "_view_count": null,
            "_view_module": "@jupyter-widgets/base",
            "_view_module_version": "1.2.0",
            "_view_name": "LayoutView",
            "align_content": null,
            "align_items": null,
            "align_self": null,
            "border": null,
            "bottom": null,
            "display": null,
            "flex": null,
            "flex_flow": null,
            "grid_area": null,
            "grid_auto_columns": null,
            "grid_auto_flow": null,
            "grid_auto_rows": null,
            "grid_column": null,
            "grid_gap": null,
            "grid_row": null,
            "grid_template_areas": null,
            "grid_template_columns": null,
            "grid_template_rows": null,
            "height": null,
            "justify_content": null,
            "justify_items": null,
            "left": null,
            "margin": null,
            "max_height": null,
            "max_width": null,
            "min_height": null,
            "min_width": null,
            "object_fit": null,
            "object_position": null,
            "order": null,
            "overflow": null,
            "overflow_x": null,
            "overflow_y": null,
            "padding": null,
            "right": null,
            "top": null,
            "visibility": null,
            "width": null
          }
        },
        "327515212b7549a49393328c8eec84cb": {
          "model_module": "@jupyter-widgets/base",
          "model_name": "LayoutModel",
          "model_module_version": "1.2.0",
          "state": {
            "_model_module": "@jupyter-widgets/base",
            "_model_module_version": "1.2.0",
            "_model_name": "LayoutModel",
            "_view_count": null,
            "_view_module": "@jupyter-widgets/base",
            "_view_module_version": "1.2.0",
            "_view_name": "LayoutView",
            "align_content": null,
            "align_items": null,
            "align_self": null,
            "border": null,
            "bottom": null,
            "display": null,
            "flex": null,
            "flex_flow": null,
            "grid_area": null,
            "grid_auto_columns": null,
            "grid_auto_flow": null,
            "grid_auto_rows": null,
            "grid_column": null,
            "grid_gap": null,
            "grid_row": null,
            "grid_template_areas": null,
            "grid_template_columns": null,
            "grid_template_rows": null,
            "height": null,
            "justify_content": null,
            "justify_items": null,
            "left": null,
            "margin": null,
            "max_height": null,
            "max_width": null,
            "min_height": null,
            "min_width": null,
            "object_fit": null,
            "object_position": null,
            "order": null,
            "overflow": null,
            "overflow_x": null,
            "overflow_y": null,
            "padding": null,
            "right": null,
            "top": null,
            "visibility": null,
            "width": null
          }
        },
        "fcdeede84ab14e86b7a94ef0f0d9333a": {
          "model_module": "@jupyter-widgets/controls",
          "model_name": "DescriptionStyleModel",
          "model_module_version": "1.5.0",
          "state": {
            "_model_module": "@jupyter-widgets/controls",
            "_model_module_version": "1.5.0",
            "_model_name": "DescriptionStyleModel",
            "_view_count": null,
            "_view_module": "@jupyter-widgets/base",
            "_view_module_version": "1.2.0",
            "_view_name": "StyleView",
            "description_width": ""
          }
        },
        "4614d56e74de4b8caa434902983b7c89": {
          "model_module": "@jupyter-widgets/base",
          "model_name": "LayoutModel",
          "model_module_version": "1.2.0",
          "state": {
            "_model_module": "@jupyter-widgets/base",
            "_model_module_version": "1.2.0",
            "_model_name": "LayoutModel",
            "_view_count": null,
            "_view_module": "@jupyter-widgets/base",
            "_view_module_version": "1.2.0",
            "_view_name": "LayoutView",
            "align_content": null,
            "align_items": null,
            "align_self": null,
            "border": null,
            "bottom": null,
            "display": null,
            "flex": null,
            "flex_flow": null,
            "grid_area": null,
            "grid_auto_columns": null,
            "grid_auto_flow": null,
            "grid_auto_rows": null,
            "grid_column": null,
            "grid_gap": null,
            "grid_row": null,
            "grid_template_areas": null,
            "grid_template_columns": null,
            "grid_template_rows": null,
            "height": null,
            "justify_content": null,
            "justify_items": null,
            "left": null,
            "margin": null,
            "max_height": null,
            "max_width": null,
            "min_height": null,
            "min_width": null,
            "object_fit": null,
            "object_position": null,
            "order": null,
            "overflow": null,
            "overflow_x": null,
            "overflow_y": null,
            "padding": null,
            "right": null,
            "top": null,
            "visibility": null,
            "width": null
          }
        },
        "280279923cb14c2689d65f5b0f1be177": {
          "model_module": "@jupyter-widgets/controls",
          "model_name": "ProgressStyleModel",
          "model_module_version": "1.5.0",
          "state": {
            "_model_module": "@jupyter-widgets/controls",
            "_model_module_version": "1.5.0",
            "_model_name": "ProgressStyleModel",
            "_view_count": null,
            "_view_module": "@jupyter-widgets/base",
            "_view_module_version": "1.2.0",
            "_view_name": "StyleView",
            "bar_color": null,
            "description_width": ""
          }
        },
        "b557f9cf389a4ec5acc08298440d72ff": {
          "model_module": "@jupyter-widgets/base",
          "model_name": "LayoutModel",
          "model_module_version": "1.2.0",
          "state": {
            "_model_module": "@jupyter-widgets/base",
            "_model_module_version": "1.2.0",
            "_model_name": "LayoutModel",
            "_view_count": null,
            "_view_module": "@jupyter-widgets/base",
            "_view_module_version": "1.2.0",
            "_view_name": "LayoutView",
            "align_content": null,
            "align_items": null,
            "align_self": null,
            "border": null,
            "bottom": null,
            "display": null,
            "flex": null,
            "flex_flow": null,
            "grid_area": null,
            "grid_auto_columns": null,
            "grid_auto_flow": null,
            "grid_auto_rows": null,
            "grid_column": null,
            "grid_gap": null,
            "grid_row": null,
            "grid_template_areas": null,
            "grid_template_columns": null,
            "grid_template_rows": null,
            "height": null,
            "justify_content": null,
            "justify_items": null,
            "left": null,
            "margin": null,
            "max_height": null,
            "max_width": null,
            "min_height": null,
            "min_width": null,
            "object_fit": null,
            "object_position": null,
            "order": null,
            "overflow": null,
            "overflow_x": null,
            "overflow_y": null,
            "padding": null,
            "right": null,
            "top": null,
            "visibility": null,
            "width": null
          }
        },
        "d1b4731182b44e6c8b46cee16fcf25ea": {
          "model_module": "@jupyter-widgets/controls",
          "model_name": "DescriptionStyleModel",
          "model_module_version": "1.5.0",
          "state": {
            "_model_module": "@jupyter-widgets/controls",
            "_model_module_version": "1.5.0",
            "_model_name": "DescriptionStyleModel",
            "_view_count": null,
            "_view_module": "@jupyter-widgets/base",
            "_view_module_version": "1.2.0",
            "_view_name": "StyleView",
            "description_width": ""
          }
        },
        "8c004e04adb1470a979b3f0e5d5e2e15": {
          "model_module": "@jupyter-widgets/controls",
          "model_name": "HBoxModel",
          "model_module_version": "1.5.0",
          "state": {
            "_dom_classes": [],
            "_model_module": "@jupyter-widgets/controls",
            "_model_module_version": "1.5.0",
            "_model_name": "HBoxModel",
            "_view_count": null,
            "_view_module": "@jupyter-widgets/controls",
            "_view_module_version": "1.5.0",
            "_view_name": "HBoxView",
            "box_style": "",
            "children": [
              "IPY_MODEL_0ec382c178db443eb4c0cda8bb07bc9c",
              "IPY_MODEL_c6eb592536d54275a017aff6b9cb628f",
              "IPY_MODEL_bee0892ffc4543eb982f9145e5f2fe0c"
            ],
            "layout": "IPY_MODEL_02c4a11370d145e7b82c9a3942dbc4b3"
          }
        },
        "0ec382c178db443eb4c0cda8bb07bc9c": {
          "model_module": "@jupyter-widgets/controls",
          "model_name": "HTMLModel",
          "model_module_version": "1.5.0",
          "state": {
            "_dom_classes": [],
            "_model_module": "@jupyter-widgets/controls",
            "_model_module_version": "1.5.0",
            "_model_name": "HTMLModel",
            "_view_count": null,
            "_view_module": "@jupyter-widgets/controls",
            "_view_module_version": "1.5.0",
            "_view_name": "HTMLView",
            "description": "",
            "description_tooltip": null,
            "layout": "IPY_MODEL_030abf94a3e34b3c862f62ef9f2129a3",
            "placeholder": "​",
            "style": "IPY_MODEL_995fd4f2063a484ea1a1276bf0729ba2",
            "value": "pytorch_model.bin: 100%"
          }
        },
        "c6eb592536d54275a017aff6b9cb628f": {
          "model_module": "@jupyter-widgets/controls",
          "model_name": "FloatProgressModel",
          "model_module_version": "1.5.0",
          "state": {
            "_dom_classes": [],
            "_model_module": "@jupyter-widgets/controls",
            "_model_module_version": "1.5.0",
            "_model_name": "FloatProgressModel",
            "_view_count": null,
            "_view_module": "@jupyter-widgets/controls",
            "_view_module_version": "1.5.0",
            "_view_name": "ProgressView",
            "bar_style": "success",
            "description": "",
            "description_tooltip": null,
            "layout": "IPY_MODEL_e83649231d1842c282ee63861933850e",
            "max": 21444205,
            "min": 0,
            "orientation": "horizontal",
            "style": "IPY_MODEL_21423f189db9476d935a4ecb377ee725",
            "value": 21444205
          }
        },
        "bee0892ffc4543eb982f9145e5f2fe0c": {
          "model_module": "@jupyter-widgets/controls",
          "model_name": "HTMLModel",
          "model_module_version": "1.5.0",
          "state": {
            "_dom_classes": [],
            "_model_module": "@jupyter-widgets/controls",
            "_model_module_version": "1.5.0",
            "_model_name": "HTMLModel",
            "_view_count": null,
            "_view_module": "@jupyter-widgets/controls",
            "_view_module_version": "1.5.0",
            "_view_name": "HTMLView",
            "description": "",
            "description_tooltip": null,
            "layout": "IPY_MODEL_180fbbbec6c64de9b3aef69511edf8ac",
            "placeholder": "​",
            "style": "IPY_MODEL_b68fc3948950466e8653bc39169e39f8",
            "value": " 21.4M/21.4M [00:02&lt;00:00, 7.97MB/s]"
          }
        },
        "02c4a11370d145e7b82c9a3942dbc4b3": {
          "model_module": "@jupyter-widgets/base",
          "model_name": "LayoutModel",
          "model_module_version": "1.2.0",
          "state": {
            "_model_module": "@jupyter-widgets/base",
            "_model_module_version": "1.2.0",
            "_model_name": "LayoutModel",
            "_view_count": null,
            "_view_module": "@jupyter-widgets/base",
            "_view_module_version": "1.2.0",
            "_view_name": "LayoutView",
            "align_content": null,
            "align_items": null,
            "align_self": null,
            "border": null,
            "bottom": null,
            "display": null,
            "flex": null,
            "flex_flow": null,
            "grid_area": null,
            "grid_auto_columns": null,
            "grid_auto_flow": null,
            "grid_auto_rows": null,
            "grid_column": null,
            "grid_gap": null,
            "grid_row": null,
            "grid_template_areas": null,
            "grid_template_columns": null,
            "grid_template_rows": null,
            "height": null,
            "justify_content": null,
            "justify_items": null,
            "left": null,
            "margin": null,
            "max_height": null,
            "max_width": null,
            "min_height": null,
            "min_width": null,
            "object_fit": null,
            "object_position": null,
            "order": null,
            "overflow": null,
            "overflow_x": null,
            "overflow_y": null,
            "padding": null,
            "right": null,
            "top": null,
            "visibility": null,
            "width": null
          }
        },
        "030abf94a3e34b3c862f62ef9f2129a3": {
          "model_module": "@jupyter-widgets/base",
          "model_name": "LayoutModel",
          "model_module_version": "1.2.0",
          "state": {
            "_model_module": "@jupyter-widgets/base",
            "_model_module_version": "1.2.0",
            "_model_name": "LayoutModel",
            "_view_count": null,
            "_view_module": "@jupyter-widgets/base",
            "_view_module_version": "1.2.0",
            "_view_name": "LayoutView",
            "align_content": null,
            "align_items": null,
            "align_self": null,
            "border": null,
            "bottom": null,
            "display": null,
            "flex": null,
            "flex_flow": null,
            "grid_area": null,
            "grid_auto_columns": null,
            "grid_auto_flow": null,
            "grid_auto_rows": null,
            "grid_column": null,
            "grid_gap": null,
            "grid_row": null,
            "grid_template_areas": null,
            "grid_template_columns": null,
            "grid_template_rows": null,
            "height": null,
            "justify_content": null,
            "justify_items": null,
            "left": null,
            "margin": null,
            "max_height": null,
            "max_width": null,
            "min_height": null,
            "min_width": null,
            "object_fit": null,
            "object_position": null,
            "order": null,
            "overflow": null,
            "overflow_x": null,
            "overflow_y": null,
            "padding": null,
            "right": null,
            "top": null,
            "visibility": null,
            "width": null
          }
        },
        "995fd4f2063a484ea1a1276bf0729ba2": {
          "model_module": "@jupyter-widgets/controls",
          "model_name": "DescriptionStyleModel",
          "model_module_version": "1.5.0",
          "state": {
            "_model_module": "@jupyter-widgets/controls",
            "_model_module_version": "1.5.0",
            "_model_name": "DescriptionStyleModel",
            "_view_count": null,
            "_view_module": "@jupyter-widgets/base",
            "_view_module_version": "1.2.0",
            "_view_name": "StyleView",
            "description_width": ""
          }
        },
        "e83649231d1842c282ee63861933850e": {
          "model_module": "@jupyter-widgets/base",
          "model_name": "LayoutModel",
          "model_module_version": "1.2.0",
          "state": {
            "_model_module": "@jupyter-widgets/base",
            "_model_module_version": "1.2.0",
            "_model_name": "LayoutModel",
            "_view_count": null,
            "_view_module": "@jupyter-widgets/base",
            "_view_module_version": "1.2.0",
            "_view_name": "LayoutView",
            "align_content": null,
            "align_items": null,
            "align_self": null,
            "border": null,
            "bottom": null,
            "display": null,
            "flex": null,
            "flex_flow": null,
            "grid_area": null,
            "grid_auto_columns": null,
            "grid_auto_flow": null,
            "grid_auto_rows": null,
            "grid_column": null,
            "grid_gap": null,
            "grid_row": null,
            "grid_template_areas": null,
            "grid_template_columns": null,
            "grid_template_rows": null,
            "height": null,
            "justify_content": null,
            "justify_items": null,
            "left": null,
            "margin": null,
            "max_height": null,
            "max_width": null,
            "min_height": null,
            "min_width": null,
            "object_fit": null,
            "object_position": null,
            "order": null,
            "overflow": null,
            "overflow_x": null,
            "overflow_y": null,
            "padding": null,
            "right": null,
            "top": null,
            "visibility": null,
            "width": null
          }
        },
        "21423f189db9476d935a4ecb377ee725": {
          "model_module": "@jupyter-widgets/controls",
          "model_name": "ProgressStyleModel",
          "model_module_version": "1.5.0",
          "state": {
            "_model_module": "@jupyter-widgets/controls",
            "_model_module_version": "1.5.0",
            "_model_name": "ProgressStyleModel",
            "_view_count": null,
            "_view_module": "@jupyter-widgets/base",
            "_view_module_version": "1.2.0",
            "_view_name": "StyleView",
            "bar_color": null,
            "description_width": ""
          }
        },
        "180fbbbec6c64de9b3aef69511edf8ac": {
          "model_module": "@jupyter-widgets/base",
          "model_name": "LayoutModel",
          "model_module_version": "1.2.0",
          "state": {
            "_model_module": "@jupyter-widgets/base",
            "_model_module_version": "1.2.0",
            "_model_name": "LayoutModel",
            "_view_count": null,
            "_view_module": "@jupyter-widgets/base",
            "_view_module_version": "1.2.0",
            "_view_name": "LayoutView",
            "align_content": null,
            "align_items": null,
            "align_self": null,
            "border": null,
            "bottom": null,
            "display": null,
            "flex": null,
            "flex_flow": null,
            "grid_area": null,
            "grid_auto_columns": null,
            "grid_auto_flow": null,
            "grid_auto_rows": null,
            "grid_column": null,
            "grid_gap": null,
            "grid_row": null,
            "grid_template_areas": null,
            "grid_template_columns": null,
            "grid_template_rows": null,
            "height": null,
            "justify_content": null,
            "justify_items": null,
            "left": null,
            "margin": null,
            "max_height": null,
            "max_width": null,
            "min_height": null,
            "min_width": null,
            "object_fit": null,
            "object_position": null,
            "order": null,
            "overflow": null,
            "overflow_x": null,
            "overflow_y": null,
            "padding": null,
            "right": null,
            "top": null,
            "visibility": null,
            "width": null
          }
        },
        "b68fc3948950466e8653bc39169e39f8": {
          "model_module": "@jupyter-widgets/controls",
          "model_name": "DescriptionStyleModel",
          "model_module_version": "1.5.0",
          "state": {
            "_model_module": "@jupyter-widgets/controls",
            "_model_module_version": "1.5.0",
            "_model_name": "DescriptionStyleModel",
            "_view_count": null,
            "_view_module": "@jupyter-widgets/base",
            "_view_module_version": "1.2.0",
            "_view_name": "StyleView",
            "description_width": ""
          }
        },
        "726421fc4e424d45bc6bd81a85dfd87c": {
          "model_module": "@jupyter-widgets/controls",
          "model_name": "HBoxModel",
          "model_module_version": "1.5.0",
          "state": {
            "_dom_classes": [],
            "_model_module": "@jupyter-widgets/controls",
            "_model_module_version": "1.5.0",
            "_model_name": "HBoxModel",
            "_view_count": null,
            "_view_module": "@jupyter-widgets/controls",
            "_view_module_version": "1.5.0",
            "_view_name": "HBoxView",
            "box_style": "",
            "children": [
              "IPY_MODEL_89822087ec094710ae6763ebb38af0e7",
              "IPY_MODEL_509dd6268e63475389f4dc7d85c73d21",
              "IPY_MODEL_bc9ab959e7dc4415b2b0a4fef9448d1b"
            ],
            "layout": "IPY_MODEL_a907c956be374c2fa770d58920dbc180"
          }
        },
        "89822087ec094710ae6763ebb38af0e7": {
          "model_module": "@jupyter-widgets/controls",
          "model_name": "HTMLModel",
          "model_module_version": "1.5.0",
          "state": {
            "_dom_classes": [],
            "_model_module": "@jupyter-widgets/controls",
            "_model_module_version": "1.5.0",
            "_model_name": "HTMLModel",
            "_view_count": null,
            "_view_module": "@jupyter-widgets/controls",
            "_view_module_version": "1.5.0",
            "_view_name": "HTMLView",
            "description": "",
            "description_tooltip": null,
            "layout": "IPY_MODEL_f9d5394737f54cd4a465d50b738f2cdf",
            "placeholder": "​",
            "style": "IPY_MODEL_d4e17dfd27cd4f3792d72b42a2c63fe7",
            "value": "preprocessor_config.json: 100%"
          }
        },
        "509dd6268e63475389f4dc7d85c73d21": {
          "model_module": "@jupyter-widgets/controls",
          "model_name": "FloatProgressModel",
          "model_module_version": "1.5.0",
          "state": {
            "_dom_classes": [],
            "_model_module": "@jupyter-widgets/controls",
            "_model_module_version": "1.5.0",
            "_model_name": "FloatProgressModel",
            "_view_count": null,
            "_view_module": "@jupyter-widgets/controls",
            "_view_module_version": "1.5.0",
            "_view_name": "ProgressView",
            "bar_style": "success",
            "description": "",
            "description_tooltip": null,
            "layout": "IPY_MODEL_2121c527dee147a2af8c8cef1245bb63",
            "max": 472,
            "min": 0,
            "orientation": "horizontal",
            "style": "IPY_MODEL_7eb040d96603451e9d65212a8d585bfa",
            "value": 472
          }
        },
        "bc9ab959e7dc4415b2b0a4fef9448d1b": {
          "model_module": "@jupyter-widgets/controls",
          "model_name": "HTMLModel",
          "model_module_version": "1.5.0",
          "state": {
            "_dom_classes": [],
            "_model_module": "@jupyter-widgets/controls",
            "_model_module_version": "1.5.0",
            "_model_name": "HTMLModel",
            "_view_count": null,
            "_view_module": "@jupyter-widgets/controls",
            "_view_module_version": "1.5.0",
            "_view_name": "HTMLView",
            "description": "",
            "description_tooltip": null,
            "layout": "IPY_MODEL_d4ef92bbba3b43248a12c2c0253c486a",
            "placeholder": "​",
            "style": "IPY_MODEL_ba7b2925354c49bd98053ba0737e11bf",
            "value": " 472/472 [00:00&lt;00:00, 28.6kB/s]"
          }
        },
        "a907c956be374c2fa770d58920dbc180": {
          "model_module": "@jupyter-widgets/base",
          "model_name": "LayoutModel",
          "model_module_version": "1.2.0",
          "state": {
            "_model_module": "@jupyter-widgets/base",
            "_model_module_version": "1.2.0",
            "_model_name": "LayoutModel",
            "_view_count": null,
            "_view_module": "@jupyter-widgets/base",
            "_view_module_version": "1.2.0",
            "_view_name": "LayoutView",
            "align_content": null,
            "align_items": null,
            "align_self": null,
            "border": null,
            "bottom": null,
            "display": null,
            "flex": null,
            "flex_flow": null,
            "grid_area": null,
            "grid_auto_columns": null,
            "grid_auto_flow": null,
            "grid_auto_rows": null,
            "grid_column": null,
            "grid_gap": null,
            "grid_row": null,
            "grid_template_areas": null,
            "grid_template_columns": null,
            "grid_template_rows": null,
            "height": null,
            "justify_content": null,
            "justify_items": null,
            "left": null,
            "margin": null,
            "max_height": null,
            "max_width": null,
            "min_height": null,
            "min_width": null,
            "object_fit": null,
            "object_position": null,
            "order": null,
            "overflow": null,
            "overflow_x": null,
            "overflow_y": null,
            "padding": null,
            "right": null,
            "top": null,
            "visibility": null,
            "width": null
          }
        },
        "f9d5394737f54cd4a465d50b738f2cdf": {
          "model_module": "@jupyter-widgets/base",
          "model_name": "LayoutModel",
          "model_module_version": "1.2.0",
          "state": {
            "_model_module": "@jupyter-widgets/base",
            "_model_module_version": "1.2.0",
            "_model_name": "LayoutModel",
            "_view_count": null,
            "_view_module": "@jupyter-widgets/base",
            "_view_module_version": "1.2.0",
            "_view_name": "LayoutView",
            "align_content": null,
            "align_items": null,
            "align_self": null,
            "border": null,
            "bottom": null,
            "display": null,
            "flex": null,
            "flex_flow": null,
            "grid_area": null,
            "grid_auto_columns": null,
            "grid_auto_flow": null,
            "grid_auto_rows": null,
            "grid_column": null,
            "grid_gap": null,
            "grid_row": null,
            "grid_template_areas": null,
            "grid_template_columns": null,
            "grid_template_rows": null,
            "height": null,
            "justify_content": null,
            "justify_items": null,
            "left": null,
            "margin": null,
            "max_height": null,
            "max_width": null,
            "min_height": null,
            "min_width": null,
            "object_fit": null,
            "object_position": null,
            "order": null,
            "overflow": null,
            "overflow_x": null,
            "overflow_y": null,
            "padding": null,
            "right": null,
            "top": null,
            "visibility": null,
            "width": null
          }
        },
        "d4e17dfd27cd4f3792d72b42a2c63fe7": {
          "model_module": "@jupyter-widgets/controls",
          "model_name": "DescriptionStyleModel",
          "model_module_version": "1.5.0",
          "state": {
            "_model_module": "@jupyter-widgets/controls",
            "_model_module_version": "1.5.0",
            "_model_name": "DescriptionStyleModel",
            "_view_count": null,
            "_view_module": "@jupyter-widgets/base",
            "_view_module_version": "1.2.0",
            "_view_name": "StyleView",
            "description_width": ""
          }
        },
        "2121c527dee147a2af8c8cef1245bb63": {
          "model_module": "@jupyter-widgets/base",
          "model_name": "LayoutModel",
          "model_module_version": "1.2.0",
          "state": {
            "_model_module": "@jupyter-widgets/base",
            "_model_module_version": "1.2.0",
            "_model_name": "LayoutModel",
            "_view_count": null,
            "_view_module": "@jupyter-widgets/base",
            "_view_module_version": "1.2.0",
            "_view_name": "LayoutView",
            "align_content": null,
            "align_items": null,
            "align_self": null,
            "border": null,
            "bottom": null,
            "display": null,
            "flex": null,
            "flex_flow": null,
            "grid_area": null,
            "grid_auto_columns": null,
            "grid_auto_flow": null,
            "grid_auto_rows": null,
            "grid_column": null,
            "grid_gap": null,
            "grid_row": null,
            "grid_template_areas": null,
            "grid_template_columns": null,
            "grid_template_rows": null,
            "height": null,
            "justify_content": null,
            "justify_items": null,
            "left": null,
            "margin": null,
            "max_height": null,
            "max_width": null,
            "min_height": null,
            "min_width": null,
            "object_fit": null,
            "object_position": null,
            "order": null,
            "overflow": null,
            "overflow_x": null,
            "overflow_y": null,
            "padding": null,
            "right": null,
            "top": null,
            "visibility": null,
            "width": null
          }
        },
        "7eb040d96603451e9d65212a8d585bfa": {
          "model_module": "@jupyter-widgets/controls",
          "model_name": "ProgressStyleModel",
          "model_module_version": "1.5.0",
          "state": {
            "_model_module": "@jupyter-widgets/controls",
            "_model_module_version": "1.5.0",
            "_model_name": "ProgressStyleModel",
            "_view_count": null,
            "_view_module": "@jupyter-widgets/base",
            "_view_module_version": "1.2.0",
            "_view_name": "StyleView",
            "bar_color": null,
            "description_width": ""
          }
        },
        "d4ef92bbba3b43248a12c2c0253c486a": {
          "model_module": "@jupyter-widgets/base",
          "model_name": "LayoutModel",
          "model_module_version": "1.2.0",
          "state": {
            "_model_module": "@jupyter-widgets/base",
            "_model_module_version": "1.2.0",
            "_model_name": "LayoutModel",
            "_view_count": null,
            "_view_module": "@jupyter-widgets/base",
            "_view_module_version": "1.2.0",
            "_view_name": "LayoutView",
            "align_content": null,
            "align_items": null,
            "align_self": null,
            "border": null,
            "bottom": null,
            "display": null,
            "flex": null,
            "flex_flow": null,
            "grid_area": null,
            "grid_auto_columns": null,
            "grid_auto_flow": null,
            "grid_auto_rows": null,
            "grid_column": null,
            "grid_gap": null,
            "grid_row": null,
            "grid_template_areas": null,
            "grid_template_columns": null,
            "grid_template_rows": null,
            "height": null,
            "justify_content": null,
            "justify_items": null,
            "left": null,
            "margin": null,
            "max_height": null,
            "max_width": null,
            "min_height": null,
            "min_width": null,
            "object_fit": null,
            "object_position": null,
            "order": null,
            "overflow": null,
            "overflow_x": null,
            "overflow_y": null,
            "padding": null,
            "right": null,
            "top": null,
            "visibility": null,
            "width": null
          }
        },
        "ba7b2925354c49bd98053ba0737e11bf": {
          "model_module": "@jupyter-widgets/controls",
          "model_name": "DescriptionStyleModel",
          "model_module_version": "1.5.0",
          "state": {
            "_model_module": "@jupyter-widgets/controls",
            "_model_module_version": "1.5.0",
            "_model_name": "DescriptionStyleModel",
            "_view_count": null,
            "_view_module": "@jupyter-widgets/base",
            "_view_module_version": "1.2.0",
            "_view_name": "StyleView",
            "description_width": ""
          }
        }
      }
    }
  },
  "nbformat": 4,
  "nbformat_minor": 5
}