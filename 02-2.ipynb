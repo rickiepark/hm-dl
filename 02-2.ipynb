{
  "cells": [
    {
      "cell_type": "markdown",
      "id": "2312e428-c551-4995-8a95-abb8930d0367",
      "metadata": {
        "id": "2312e428-c551-4995-8a95-abb8930d0367"
      },
      "source": [
        "# 02-2 고급 CNN 모델과 전이 학습"
      ]
    },
    {
      "cell_type": "markdown",
      "id": "91796895-26dc-4af6-bbbd-bad2f7f05379",
      "metadata": {
        "id": "91796895-26dc-4af6-bbbd-bad2f7f05379"
      },
      "source": [
        "<table align=\"left\"><tr><td>\n",
        "<a href=\"https://colab.research.google.com/github/rickiepark/hm-dl/blob/main/02-2.ipynb\" target=\"_parent\"><img src=\"https://colab.research.google.com/assets/colab-badge.svg\" alt=\"코랩에서 실행하기\"/></a>\n",
        "</td></tr></table>"
      ]
    },
    {
      "cell_type": "markdown",
      "id": "727c8e10-fb1d-4fca-8ca1-5fa56acdcc5c",
      "metadata": {
        "id": "727c8e10-fb1d-4fca-8ca1-5fa56acdcc5c"
      },
      "source": [
        "## DenseNet"
      ]
    },
    {
      "cell_type": "code",
      "execution_count": null,
      "id": "85e25c4f-fdfa-4496-9a18-a94106224147",
      "metadata": {
        "id": "85e25c4f-fdfa-4496-9a18-a94106224147"
      },
      "outputs": [],
      "source": [
        "import keras\n",
        "from keras import layers"
      ]
    },
    {
      "cell_type": "code",
      "execution_count": null,
      "id": "e107a1e3-7321-47c9-a053-b4633d3b0517",
      "metadata": {
        "id": "e107a1e3-7321-47c9-a053-b4633d3b0517"
      },
      "outputs": [],
      "source": [
        "def dense_block(x, blocks):\n",
        "    for _ in range(blocks):\n",
        "        x1 = layers.BatchNormalization(epsilon=1e-5)(x)\n",
        "        x1 = layers.Activation('relu')(x1)\n",
        "        x1 = layers.Conv2D(128, 1, use_bias=False)(x1)\n",
        "        x1 = layers.BatchNormalization(epsilon=1e-5)(x1)\n",
        "        x1 = layers.Activation('relu')(x1)\n",
        "        x1 = layers.Conv2D(32, 3, padding='same', use_bias=False)(x1)\n",
        "        x = layers.Concatenate()([x, x1])\n",
        "    return x"
      ]
    },
    {
      "cell_type": "code",
      "execution_count": null,
      "id": "2931e037-ab6f-46e9-8e9e-0fe273e4a4c9",
      "metadata": {
        "id": "2931e037-ab6f-46e9-8e9e-0fe273e4a4c9"
      },
      "outputs": [],
      "source": [
        "def transition_block(x):\n",
        "    x = layers.BatchNormalization(epsilon=1e-5)(x)\n",
        "    x = layers.Activation('relu')(x)\n",
        "    x = layers.Conv2D(int(x.shape[-1]/2), 1, use_bias=False)(x)\n",
        "    x = layers.AveragePooling2D(2)(x)\n",
        "    return x"
      ]
    },
    {
      "cell_type": "code",
      "execution_count": null,
      "id": "dde087fd-7dc0-423c-b2d2-0ccceac58c6a",
      "metadata": {
        "id": "dde087fd-7dc0-423c-b2d2-0ccceac58c6a"
      },
      "outputs": [],
      "source": [
        "inputs = layers.Input(shape=(224, 224, 3))\n",
        "\n",
        "x = layers.ZeroPadding2D(padding=3)(inputs)\n",
        "x = layers.Conv2D(64, 7, strides=2, use_bias=False)(x)\n",
        "x = layers.BatchNormalization(epsilon=1e-5)(x)\n",
        "x = layers.Activation('relu')(x)\n",
        "x = layers.ZeroPadding2D(padding=1)(x)\n",
        "x = layers.MaxPooling2D(3, strides=2)(x)\n",
        "\n",
        "for blocks in (6, 12, 24):\n",
        "    x = dense_block(x, blocks)\n",
        "    x = transition_block(x)\n",
        "x = dense_block(x, 16)\n",
        "\n",
        "x = layers.BatchNormalization(epsilon=1e-5)(x)\n",
        "x = layers.Activation('relu')(x)\n",
        "x = layers.GlobalAveragePooling2D()(x)\n",
        "output = layers.Dense(1000, activation='softmax')(x)\n",
        "model = keras.Model(inputs, outputs)"
      ]
    },
    {
      "cell_type": "code",
      "source": [
        "# 코랩의 경우 구글 드라이브에서 샘플 이미지를 다운로드하여 압축을 풉니다.\n",
        "!gdown 1xGkTT3uwYt4myj6eJJeYtdEFgTi2Sj8C\n",
        "!unzip cat-dog-images.zip"
      ],
      "metadata": {
        "colab": {
          "base_uri": "https://localhost:8080/"
        },
        "id": "IWQUzNYrqIeb",
        "outputId": "3314ce1f-928e-490d-8b2a-898e227bad3e"
      },
      "id": "IWQUzNYrqIeb",
      "execution_count": null,
      "outputs": [
        {
          "output_type": "stream",
          "name": "stdout",
          "text": [
            "Downloading...\n",
            "From: https://drive.google.com/uc?id=1xGkTT3uwYt4myj6eJJeYtdEFgTi2Sj8C\n",
            "To: /content/cat-dog-images.zip\n",
            "\r  0% 0.00/182k [00:00<?, ?B/s]\r100% 182k/182k [00:00<00:00, 87.1MB/s]\n",
            "Archive:  cat-dog-images.zip\n",
            "   creating: images/\n",
            "  inflating: images/dog.png          \n",
            "  inflating: images/cat.png          \n"
          ]
        }
      ]
    },
    {
      "cell_type": "code",
      "execution_count": null,
      "id": "089357cc-56af-4263-93a8-c4bb16ab69a4",
      "metadata": {
        "id": "089357cc-56af-4263-93a8-c4bb16ab69a4"
      },
      "outputs": [],
      "source": [
        "import numpy as np\n",
        "from PIL import Image\n",
        "\n",
        "dog_png = np.array(Image.open('images/dog.png'))"
      ]
    },
    {
      "cell_type": "code",
      "execution_count": null,
      "id": "bc9b88a5-2c5f-4eee-85de-b8330ebf7afb",
      "metadata": {
        "id": "bc9b88a5-2c5f-4eee-85de-b8330ebf7afb"
      },
      "outputs": [],
      "source": [
        "from keras.applications import densenet\n",
        "\n",
        "dense_prep_dog = densenet.preprocess_input(dog_png)"
      ]
    },
    {
      "cell_type": "code",
      "execution_count": null,
      "id": "860f3ba5-9194-451f-b64d-385db3bf9ba9",
      "metadata": {
        "id": "860f3ba5-9194-451f-b64d-385db3bf9ba9",
        "outputId": "23d6ae46-4334-4086-f93f-63bb1356734f",
        "colab": {
          "base_uri": "https://localhost:8080/"
        }
      },
      "outputs": [
        {
          "output_type": "stream",
          "name": "stdout",
          "text": [
            "Downloading data from https://storage.googleapis.com/tensorflow/keras-applications/densenet/densenet201_weights_tf_dim_ordering_tf_kernels.h5\n",
            "82524592/82524592 [==============================] - 5s 0us/step\n",
            "1/1 [==============================] - 12s 12s/step\n",
            "Downloading data from https://storage.googleapis.com/download.tensorflow.org/data/imagenet_class_index.json\n",
            "35363/35363 [==============================] - 0s 0us/step\n"
          ]
        },
        {
          "output_type": "execute_result",
          "data": {
            "text/plain": [
              "[[('n02099712', 'Labrador_retriever', 0.52811986),\n",
              "  ('n04409515', 'tennis_ball', 0.19857867),\n",
              "  ('n02104029', 'kuvasz', 0.06060513),\n",
              "  ('n02111500', 'Great_Pyrenees', 0.02718817),\n",
              "  ('n02099601', 'golden_retriever', 0.017613877)]]"
            ]
          },
          "metadata": {},
          "execution_count": 8
        }
      ],
      "source": [
        "densenet201 = keras.applications.DenseNet201()\n",
        "predictions = densenet201.predict(dense_prep_dog[np.newaxis,:])\n",
        "densenet.decode_predictions(predictions)"
      ]
    },
    {
      "cell_type": "markdown",
      "id": "cbafb04f-28cb-4486-9473-7e4f92fcd9c7",
      "metadata": {
        "id": "cbafb04f-28cb-4486-9473-7e4f92fcd9c7"
      },
      "source": [
        "## MobileNet"
      ]
    },
    {
      "cell_type": "code",
      "execution_count": null,
      "id": "9f5ede57-9d23-402f-b3b3-d935a26d12fc",
      "metadata": {
        "id": "9f5ede57-9d23-402f-b3b3-d935a26d12fc"
      },
      "outputs": [],
      "source": [
        "def depthwise_separable_block(inputs, filters, strides=1):\n",
        "    if strides == 1:\n",
        "        x = inputs\n",
        "    else:\n",
        "        x = layers.ZeroPadding2D(padding=((0, 1), (0, 1)))(inputs)\n",
        "\n",
        "    x = layers.DepthwiseConv2D(3, padding='same' if strides == 1 else 'valid',\n",
        "                               strides=strides, use_bias=False)(x)\n",
        "    x = layers.BatchNormalization(epsilon=1e-5)(x)\n",
        "    x = layers.ReLU(max_value=6.0)(x)\n",
        "    x = layers.Conv2D(filters, 1, padding='same', use_bias=False)(x)\n",
        "    x = layers.BatchNormalization(epsilon=1e-5)(x)\n",
        "    x = layers.ReLU(max_value=6.0)(x)\n",
        "    return x"
      ]
    },
    {
      "cell_type": "code",
      "execution_count": null,
      "id": "b17d4a3f-aa8f-45a1-9e22-e8e3c881a7db",
      "metadata": {
        "id": "b17d4a3f-aa8f-45a1-9e22-e8e3c881a7db"
      },
      "outputs": [],
      "source": [
        "inputs = layers.Input(shape=(224, 224, 3))\n",
        "\n",
        "x = layers.Conv2D(32, 3, padding='same', strides=2, use_bias=False)(inputs)\n",
        "x = layers.BatchNormalization(epsilon=1e-5)(x)\n",
        "x = layers.ReLU(max_value=6.0)(x)\n",
        "\n",
        "for filters in (64, 128, 256):\n",
        "    x = depthwise_separable_block(x, filters)\n",
        "    x = depthwise_separable_block(x, filters*2, strides=2)\n",
        "for _ in range(5):\n",
        "    x = depthwise_separable_block(x, 512)\n",
        "x = depthwise_separable_block(x, 1024, strides=2)\n",
        "x = depthwise_separable_block(x, 1024)\n",
        "\n",
        "x = layers.GlobalAveragePooling2D(keepdims=True)(x)\n",
        "x = layers.Dropout(0.001)(x)\n",
        "x = layers.Conv2D(1000, 1, padding='same')(x)\n",
        "x = layers.Reshape((1000,))(x)\n",
        "outputs = layers.Activation('softmax')(x)\n",
        "\n",
        "model = keras.Model(inputs, outputs)"
      ]
    },
    {
      "cell_type": "code",
      "execution_count": null,
      "id": "6c5b0874-0757-4929-bea7-a395780723f3",
      "metadata": {
        "scrolled": true,
        "id": "6c5b0874-0757-4929-bea7-a395780723f3",
        "outputId": "1843d559-a75b-4410-9331-c0a28ab7e0d4",
        "colab": {
          "base_uri": "https://localhost:8080/"
        }
      },
      "outputs": [
        {
          "output_type": "stream",
          "name": "stdout",
          "text": [
            "Downloading data from https://storage.googleapis.com/tensorflow/keras-applications/mobilenet/mobilenet_1_0_224_tf.h5\n",
            "17225924/17225924 [==============================] - 2s 0us/step\n",
            "1/1 [==============================] - 1s 1s/step\n"
          ]
        },
        {
          "output_type": "execute_result",
          "data": {
            "text/plain": [
              "[[('n02099712', 'Labrador_retriever', 0.40903673),\n",
              "  ('n02104029', 'kuvasz', 0.18954755),\n",
              "  ('n02110341', 'dalmatian', 0.14881718),\n",
              "  ('n02111500', 'Great_Pyrenees', 0.042762745),\n",
              "  ('n02099601', 'golden_retriever', 0.027608255)]]"
            ]
          },
          "metadata": {},
          "execution_count": 11
        }
      ],
      "source": [
        "from keras.applications import mobilenet\n",
        "\n",
        "mobile_prep_dog = mobilenet.preprocess_input(dog_png)\n",
        "model = keras.applications.MobileNet()\n",
        "predictions = model.predict(mobile_prep_dog[np.newaxis,:])\n",
        "mobilenet.decode_predictions(predictions)"
      ]
    },
    {
      "cell_type": "markdown",
      "id": "ae1c51b8-d1b6-4f93-8610-042eeef931a5",
      "metadata": {
        "id": "ae1c51b8-d1b6-4f93-8610-042eeef931a5"
      },
      "source": [
        "## EfficientNet"
      ]
    },
    {
      "cell_type": "code",
      "execution_count": null,
      "id": "04985753-aead-4324-9b08-87116d3fb82e",
      "metadata": {
        "id": "04985753-aead-4324-9b08-87116d3fb82e",
        "outputId": "c19ed17a-0df9-4c9c-9740-7d48952be90e",
        "colab": {
          "base_uri": "https://localhost:8080/",
          "height": 449
        }
      },
      "outputs": [
        {
          "output_type": "display_data",
          "data": {
            "text/plain": [
              "<Figure size 640x480 with 1 Axes>"
            ],
            "image/png": "[encoded data removed]"
          },
          "metadata": {}
        }
      ],
      "source": [
        "import numpy as np\n",
        "import matplotlib.pyplot as plt\n",
        "from scipy.special import expit\n",
        "\n",
        "x = np.arange(-10, 10, 0.2)\n",
        "\n",
        "plt.plot(x, x.clip(0), label='relu')\n",
        "plt.plot(x, x * expit(x), label='swish')\n",
        "plt.xlabel('x')\n",
        "plt.ylabel('f(x)')\n",
        "plt.legend()\n",
        "plt.show()"
      ]
    },
    {
      "cell_type": "code",
      "execution_count": null,
      "id": "ac504c34-6e87-4c97-9d10-621cb104000c",
      "metadata": {
        "id": "ac504c34-6e87-4c97-9d10-621cb104000c",
        "outputId": "373df34d-94fd-415e-f76e-63668ff7eba6",
        "colab": {
          "base_uri": "https://localhost:8080/",
          "height": 449
        }
      },
      "outputs": [
        {
          "output_type": "display_data",
          "data": {
            "text/plain": [
              "<Figure size 640x480 with 1 Axes>"
            ],
            "image/png": "[encoded data removed]"
          },
          "metadata": {}
        }
      ],
      "source": [
        "def relu6(x):\n",
        "    return np.minimum(np.maximum(x, 0), 6)\n",
        "\n",
        "x = np.arange(-10, 10, 0.2)\n",
        "\n",
        "plt.plot(x, x * expit(x), label='swish')\n",
        "plt.plot(x, x * relu6(x+3)/6, label='hard-swish')\n",
        "plt.xlabel('x')\n",
        "plt.ylabel('f(x)')\n",
        "plt.legend()\n",
        "plt.show()"
      ]
    },
    {
      "cell_type": "code",
      "execution_count": null,
      "id": "632bb8cd-3def-458d-8c9d-93a6d97ee6b9",
      "metadata": {
        "id": "632bb8cd-3def-458d-8c9d-93a6d97ee6b9"
      },
      "outputs": [],
      "source": [
        "def inv_res_block(inputs, filters_out, kernel_size, strides, dropout_rate, expand_ratio):\n",
        "    # 팽창 단계\n",
        "    filters_in = inputs.shape[-1]\n",
        "    filters = filters_in * expand_ratio\n",
        "    if expand_ratio > 1:\n",
        "        x = layers.Conv2D(filters, 1, padding='same', use_bias=False)(inputs)\n",
        "        x = layers.BatchNormalization()(x)\n",
        "        x = layers.Activation('swish')(x)\n",
        "    else:\n",
        "        x = inputs\n",
        "\n",
        "    # 깊이별 분리 합성곱\n",
        "    if strides == 2:\n",
        "        x = layers.ZeroPadding2D(padding=padding_size(x.shape, kernel_size))(x)\n",
        "    x = layers.DepthwiseConv2D(kernel_size, strides=strides, use_bias=False,\n",
        "                               padding='same' if strides == 1 else 'valid')(x)\n",
        "    x = layers.BatchNormalization()(x)\n",
        "    x = layers.Activation('swish')(x)\n",
        "\n",
        "    # SE 블록\n",
        "    se_input = x\n",
        "    x = layers.GlobalAveragePooling2D(keepdims=True)(x)\n",
        "    x = layers.Conv2D(filters_in * 0.25, 1, padding='same', activation='swish')(x)\n",
        "    x = layers.Conv2D(filters, 1, padding='same', activation='sigmoid')(x)\n",
        "    x = layers.multiply([se_input, x])\n",
        "\n",
        "    # 출력 단계\n",
        "    x = layers.Conv2D(filters_out, 1, padding='same', use_bias=False)(x)\n",
        "    x = layers.BatchNormalization()(x)\n",
        "    if strides == 1 and filters_in == filters_out:\n",
        "        if dropout_rate > 0:\n",
        "            x = layers.Dropout(dropout_rate, noise_shape=(None, 1, 1, 1))(x)\n",
        "            x = layers.add([x, inputs])\n",
        "    return x"
      ]
    },
    {
      "cell_type": "code",
      "execution_count": null,
      "id": "dfe087eb-0a01-4e6f-8004-a5fdce676259",
      "metadata": {
        "id": "dfe087eb-0a01-4e6f-8004-a5fdce676259"
      },
      "outputs": [],
      "source": [
        "def padding_size(input_size, kernel_size):\n",
        "    # 입력 크기가 짝수이면 아래쪽과 오른쪽만 패딩합니다.\n",
        "    padding = kernel_size // 2\n",
        "    if input_size[1] % 2 == 0:\n",
        "        return ((padding - 1, padding),\n",
        "                (padding - 1, padding))\n",
        "    else:\n",
        "        return padding"
      ]
    },
    {
      "cell_type": "code",
      "execution_count": null,
      "id": "0a966956-f4c2-46fd-ac30-8f78c2beab3e",
      "metadata": {
        "id": "0a966956-f4c2-46fd-ac30-8f78c2beab3e"
      },
      "outputs": [],
      "source": [
        "import math\n",
        "\n",
        "def round_repeats(repeats, depth):\n",
        "    \"\"\"repeats * depth 보다 큰 정수를 반환합니다\"\"\"\n",
        "    return int(math.ceil(repeats * depth))\n",
        "\n",
        "def round_filters(filters, width):\n",
        "    \"\"\"filters * width 보다 크고 8의 배수가 되도록 만듭니다\"\"\"\n",
        "    filters *= width\n",
        "    new_filters = max(8, int(filters + 4) // 8 * 8)\n",
        "    if new_filters < 0.9 * filters:\n",
        "        new_filters += 8\n",
        "    return int(new_filters)"
      ]
    },
    {
      "cell_type": "code",
      "execution_count": null,
      "id": "bfd481ac-ddcc-4b45-a602-d8a8ea9d3377",
      "metadata": {
        "id": "bfd481ac-ddcc-4b45-a602-d8a8ea9d3377"
      },
      "outputs": [],
      "source": [
        "width = 1.0\n",
        "depth = 1.0\n",
        "inputs = layers.Input(shape=(224, 224, 3))\n",
        "\n",
        "x = layers.Rescaling(1.0 / 255.0)(inputs)\n",
        "x = layers.Normalization()(x)\n",
        "x = layers.Rescaling(1.0 / np.sqrt([0.229, 0.224, 0.225]))(x)\n",
        "x = layers.ZeroPadding2D(padding=padding_size(x.shape, 3))(x)\n",
        "x = layers.Conv2D(round_filters(32, width), 3, strides=2, padding='valid', use_bias=False)(x)\n",
        "x = layers.BatchNormalization()(x)\n",
        "x = layers.Activation('swish')(x)"
      ]
    },
    {
      "cell_type": "code",
      "execution_count": null,
      "id": "48dfbba3-eb3a-4d0d-b725-85c010064f00",
      "metadata": {
        "id": "48dfbba3-eb3a-4d0d-b725-85c010064f00"
      },
      "outputs": [],
      "source": [
        "blocks_params = [\n",
        "    {\n",
        "        \"kernel_size\": 3,\n",
        "        \"repeats\": 1,\n",
        "        \"filters_out\": 16,\n",
        "        \"strides\": 1\n",
        "    },\n",
        "    {\n",
        "        \"kernel_size\": 3,\n",
        "        \"repeats\": 2,\n",
        "        \"filters_out\": 24,\n",
        "        \"strides\": 2\n",
        "    },\n",
        "    {\n",
        "        \"kernel_size\": 5,\n",
        "        \"repeats\": 2,\n",
        "        \"filters_out\": 40,\n",
        "        \"strides\": 2\n",
        "    },\n",
        "    {\n",
        "        \"kernel_size\": 3,\n",
        "        \"repeats\": 3,\n",
        "        \"filters_out\": 80,\n",
        "        \"strides\": 2\n",
        "    },\n",
        "    {\n",
        "        \"kernel_size\": 5,\n",
        "        \"repeats\": 3,\n",
        "        \"filters_out\": 112,\n",
        "        \"strides\": 1\n",
        "    },\n",
        "    {\n",
        "        \"kernel_size\": 5,\n",
        "        \"repeats\": 4,\n",
        "        \"filters_out\": 192,\n",
        "        \"strides\": 2\n",
        "    },\n",
        "    {\n",
        "        \"kernel_size\": 3,\n",
        "        \"repeats\": 1,\n",
        "        \"filters_out\": 320,\n",
        "        \"strides\": 1\n",
        "    },\n",
        "]"
      ]
    },
    {
      "cell_type": "code",
      "execution_count": null,
      "id": "4a7d5406-9a5b-4d12-9e86-bee8ed0477ca",
      "metadata": {
        "id": "4a7d5406-9a5b-4d12-9e86-bee8ed0477ca"
      },
      "outputs": [],
      "source": [
        "filter_expand_ratio = 1\n",
        "block_count = 0\n",
        "total_blocks = float(sum(round_repeats(params[\"repeats\"], depth) for params in blocks_params))\n",
        "for params in blocks_params:\n",
        "    # depth에 따라 블록의 입력과 출력 필터를 늘립니다.\n",
        "    filters_out = round_filters(params['filters_out'], width)\n",
        "    strides = params[\"strides\"]\n",
        "    for j in range(round_repeats(params[\"repeats\"], depth)):\n",
        "        # 반복의 첫 번째 블록을 제외한 나머지 블록은 스트라이드 1입니다.\n",
        "        if j > 0:\n",
        "            strides = 1\n",
        "        dropout_rate = 0.2 * block_count / total_blocks\n",
        "        x = inv_res_block(x, filters_out, params['kernel_size'],\n",
        "                          strides, dropout_rate, filter_expand_ratio)\n",
        "        block_count += 1\n",
        "    filter_expand_ratio = 6"
      ]
    },
    {
      "cell_type": "code",
      "execution_count": null,
      "id": "e066840e-de15-4fe3-8947-36acba989df0",
      "metadata": {
        "id": "e066840e-de15-4fe3-8947-36acba989df0"
      },
      "outputs": [],
      "source": [
        "x = layers.Conv2D(round_filters(1280, width), 1, padding='same', use_bias=False)(x)\n",
        "x = layers.BatchNormalization()(x)\n",
        "x = layers.Activation('swish')(x)\n",
        "\n",
        "x = layers.GlobalAveragePooling2D()(x)\n",
        "x = layers.Dropout(0.2)(x)\n",
        "outputs = layers.Dense(1000, activation='softmax')(x)\n",
        "\n",
        "model = keras.Model(inputs, outputs)"
      ]
    },
    {
      "cell_type": "code",
      "execution_count": null,
      "id": "e80dec65-7344-4709-83b1-daf74a32bf1f",
      "metadata": {
        "id": "e80dec65-7344-4709-83b1-daf74a32bf1f",
        "outputId": "e31a80e3-cfd5-4aed-8f14-83d8bc646254",
        "colab": {
          "base_uri": "https://localhost:8080/"
        }
      },
      "outputs": [
        {
          "output_type": "stream",
          "name": "stdout",
          "text": [
            "Downloading data from https://storage.googleapis.com/keras-applications/efficientnetb0.h5\n",
            "21834768/21834768 [==============================] - 2s 0us/step\n",
            "1/1 [==============================] - 4s 4s/step\n"
          ]
        },
        {
          "output_type": "execute_result",
          "data": {
            "text/plain": [
              "[[('n02099712', 'Labrador_retriever', 0.36829403),\n",
              "  ('n02104029', 'kuvasz', 0.1933986),\n",
              "  ('n02099601', 'golden_retriever', 0.06145831),\n",
              "  ('n02111500', 'Great_Pyrenees', 0.057796963),\n",
              "  ('n02095889', 'Sealyham_terrier', 0.017902777)]]"
            ]
          },
          "metadata": {},
          "execution_count": 21
        }
      ],
      "source": [
        "from keras.applications import efficientnet\n",
        "\n",
        "efficientb0 = keras.applications.EfficientNetB0()\n",
        "predictions = efficientb0.predict(dog_png[np.newaxis,:])\n",
        "efficientnet.decode_predictions(predictions)"
      ]
    },
    {
      "cell_type": "markdown",
      "source": [
        "## 모델 저장소 사용하기"
      ],
      "metadata": {
        "id": "B5kU60QgvYkx"
      },
      "id": "B5kU60QgvYkx"
    },
    {
      "cell_type": "code",
      "execution_count": null,
      "id": "22e4a001-b5dd-4d51-b0df-578a9cb0c445",
      "metadata": {
        "id": "22e4a001-b5dd-4d51-b0df-578a9cb0c445",
        "outputId": "759579c1-8d3e-4997-a132-1015af5eb72d",
        "colab": {
          "base_uri": "https://localhost:8080/"
        }
      },
      "outputs": [
        {
          "output_type": "stream",
          "name": "stdout",
          "text": [
            "1/1 [==============================] - 1s 1s/step\n"
          ]
        },
        {
          "output_type": "execute_result",
          "data": {
            "text/plain": [
              "[[('n02099712', 'Labrador_retriever', 0.36829415),\n",
              "  ('n02104029', 'kuvasz', 0.19339874),\n",
              "  ('n02099601', 'golden_retriever', 0.061458156),\n",
              "  ('n02111500', 'Great_Pyrenees', 0.057796955),\n",
              "  ('n02095889', 'Sealyham_terrier', 0.017902784)]]"
            ]
          },
          "metadata": {},
          "execution_count": 22
        }
      ],
      "source": [
        "import tensorflow as tf\n",
        "import tensorflow_hub as hub\n",
        "\n",
        "hub_efficientb0 = tf.keras.Sequential([\n",
        "    layers.Rescaling(1.0 / 255.0, input_shape=(224, 224, 3)),\n",
        "    hub.KerasLayer(\"https://www.kaggle.com/models/tensorflow/efficientnet/frameworks/TensorFlow2/variations/b0-classification/versions/1\")\n",
        "])\n",
        "\n",
        "predictions = hub_efficientb0.predict(dog_png[np.newaxis,:])\n",
        "efficientnet.decode_predictions(predictions)"
      ]
    },
    {
      "cell_type": "code",
      "execution_count": null,
      "id": "a293273a-665c-4d08-b7fa-13dcb52f759a",
      "metadata": {
        "id": "a293273a-665c-4d08-b7fa-13dcb52f759a",
        "outputId": "3111204f-296a-43cd-99dc-eb652c13bd18",
        "colab": {
          "base_uri": "https://localhost:8080/",
          "height": 365,
          "referenced_widgets": [
            "bb66fe06ac914ec7b2501c3c000addf0",
            "04ffe99d13904f2d9f5d1c3b2e44c5d5",
            "d5cb55340d69449bbec868fbb3a74cfa",
            "c8d8d7c06efa4781ad91159402002c4a",
            "f4e76bd9f2ce4889bf00cd7d061b4bb9",
            "d3214b38f1c34c40b1073e1c9b0c70bc",
            "a2006001722648c2bd41b9f04310b067",
            "4c4faa1f687b4790bd2f918cc1b781a5",
            "49c10cb673ae44a0910c10dd6a8490dd",
            "0d780b9ee7d94de0bc3b152e2d453f61",
            "794e3e23537e4b74a1302bffe6787e1d",
            "ceeb06585d5949129a2922c52753be22",
            "3fbe2463a7b5473a94a2308a4ddc1e8c",
            "bb553824d7294c0382525067b859158e",
            "35de9121993942859e821dbd659f68c4",
            "6d4902cb6996483f9456fdd5b6e64c98",
            "045db2e36adf4715b2942a1b110e6c1d",
            "10cdd302887349e2be2d4dc76a6bffb4",
            "4bca5e0511ec4095804e4279bcc684e6",
            "1b1d31b348a846e3a0b130bee85b6b69",
            "8dce78976b4149b3a16ed1c527a5b297",
            "ef62be9045284d2aaccd4106e757c93c",
            "4ed26bccad4d4d19bdb18256f3f903d4",
            "b178fa193b404c029ff9f7aadfc49080",
            "a2df5af494b2494096cc68b6f6dc5a2d",
            "d44a3101e0a04d5e877bd7cdfc82dc5c",
            "42e34fbf2c924f639c7b82dce96a07c5",
            "2ca79e77decf41ff90f7dbc4b4dc1f5c",
            "cb3ac1c940a949aa9c5a37b4b117ca0f",
            "8d4927dbf6a446fd9ce8bf4997c1b0f3",
            "1281321da9d14c3fb84d5f636f1e6714",
            "524cc05de8d84c548925541ed015076f",
            "18a2cdeef6ad4694ad227975bbd05223"
          ]
        }
      },
      "outputs": [
        {
          "output_type": "stream",
          "name": "stderr",
          "text": [
            "/usr/local/lib/python3.10/dist-packages/huggingface_hub/utils/_token.py:88: UserWarning: \n",
            "The secret `HF_TOKEN` does not exist in your Colab secrets.\n",
            "To authenticate with the Hugging Face Hub, create a token in your settings tab (https://huggingface.co/settings/tokens), set it as secret in your Google Colab and restart your session.\n",
            "You will be able to reuse this secret in all of your notebooks.\n",
            "Please note that authentication is recommended but still optional to access public models or datasets.\n",
            "  warnings.warn(\n"
          ]
        },
        {
          "output_type": "display_data",
          "data": {
            "text/plain": [
              "config.json:   0%|          | 0.00/70.3k [00:00<?, ?B/s]"
            ],
            "application/vnd.jupyter.widget-view+json": {
              "version_major": 2,
              "version_minor": 0,
              "model_id": "bb66fe06ac914ec7b2501c3c000addf0"
            }
          },
          "metadata": {}
        },
        {
          "output_type": "display_data",
          "data": {
            "text/plain": [
              "pytorch_model.bin:   0%|          | 0.00/21.4M [00:00<?, ?B/s]"
            ],
            "application/vnd.jupyter.widget-view+json": {
              "version_major": 2,
              "version_minor": 0,
              "model_id": "ceeb06585d5949129a2922c52753be22"
            }
          },
          "metadata": {}
        },
        {
          "output_type": "stream",
          "name": "stderr",
          "text": [
            "/usr/local/lib/python3.10/dist-packages/torch/_utils.py:831: UserWarning: TypedStorage is deprecated. It will be removed in the future and UntypedStorage will be the only storage class. This should only matter to you if you are using storages directly.  To access UntypedStorage directly, use tensor.untyped_storage() instead of tensor.storage()\n",
            "  return self.fget.__get__(instance, owner)()\n"
          ]
        },
        {
          "output_type": "display_data",
          "data": {
            "text/plain": [
              "preprocessor_config.json:   0%|          | 0.00/472 [00:00<?, ?B/s]"
            ],
            "application/vnd.jupyter.widget-view+json": {
              "version_major": 2,
              "version_minor": 0,
              "model_id": "4ed26bccad4d4d19bdb18256f3f903d4"
            }
          },
          "metadata": {}
        },
        {
          "output_type": "execute_result",
          "data": {
            "text/plain": [
              "[{'label': 'Labrador retriever', 'score': 0.368294358253479},\n",
              " {'label': 'kuvasz', 'score': 0.19339904189109802},\n",
              " {'label': 'golden retriever', 'score': 0.061458274722099304},\n",
              " {'label': 'Great Pyrenees', 'score': 0.057796820998191833},\n",
              " {'label': 'Sealyham terrier, Sealyham', 'score': 0.017902739346027374}]"
            ]
          },
          "metadata": {},
          "execution_count": 23
        }
      ],
      "source": [
        "from transformers import pipeline\n",
        "\n",
        "pipe = pipeline(task='image-classification', model='google/efficientnet-b0')\n",
        "pipe('images/dog.png')"
      ]
    },
    {
      "cell_type": "markdown",
      "source": [
        "## 전이 학습"
      ],
      "metadata": {
        "id": "c6222c43-b850-4b9e-a93f-fb3d3d26fe71"
      },
      "id": "c6222c43-b850-4b9e-a93f-fb3d3d26fe71"
    },
    {
      "cell_type": "code",
      "source": [
        "!gdown 10bnEC6-ZfXZFZ2mb3zoWd38TjYufanWo"
      ],
      "metadata": {
        "id": "w-RSHY9FkatW",
        "outputId": "1132da60-f3c8-4cac-d923-5b3b671ff65c",
        "colab": {
          "base_uri": "https://localhost:8080/"
        }
      },
      "id": "w-RSHY9FkatW",
      "execution_count": null,
      "outputs": [
        {
          "output_type": "stream",
          "name": "stdout",
          "text": [
            "Downloading...\n",
            "From: https://drive.google.com/uc?id=10bnEC6-ZfXZFZ2mb3zoWd38TjYufanWo\n",
            "To: /content/Pistachio_Image_Dataset.zip\n",
            "100% 25.9M/25.9M [00:00<00:00, 58.5MB/s]\n"
          ]
        }
      ]
    },
    {
      "cell_type": "code",
      "source": [
        "!unzip -q Pistachio_Image_Dataset.zip"
      ],
      "metadata": {
        "id": "u8up9YuvoDw-"
      },
      "id": "u8up9YuvoDw-",
      "execution_count": null,
      "outputs": []
    },
    {
      "cell_type": "code",
      "execution_count": null,
      "id": "8a12732d-78d6-4bf1-98a4-33594d16ba24",
      "metadata": {
        "id": "8a12732d-78d6-4bf1-98a4-33594d16ba24"
      },
      "outputs": [],
      "source": [
        "pistachio_sample = np.array(Image.open('Pistachio_Image_Dataset/Kirmizi_Pistachio/kirmizi (1).jpg'))"
      ]
    },
    {
      "cell_type": "code",
      "execution_count": null,
      "id": "18a82a19",
      "metadata": {
        "id": "18a82a19",
        "outputId": "76149271-93f6-4e5f-f4c7-881e2bded68f",
        "colab": {
          "base_uri": "https://localhost:8080/"
        }
      },
      "outputs": [
        {
          "output_type": "execute_result",
          "data": {
            "text/plain": [
              "(600, 600, 3)"
            ]
          },
          "metadata": {},
          "execution_count": 27
        }
      ],
      "source": [
        "pistachio_sample.shape"
      ]
    },
    {
      "cell_type": "code",
      "source": [
        "efficientb7 = keras.applications.EfficientNetB7()\n",
        "\n",
        "predictions = efficientb7.predict(pistachio_sample[np.newaxis,:])\n",
        "efficientnet.decode_predictions(predictions)"
      ],
      "metadata": {
        "colab": {
          "base_uri": "https://localhost:8080/"
        },
        "id": "F2nRD1Wg7JCE",
        "outputId": "fbf07fd8-a9d6-4214-9964-a365029eddfe"
      },
      "id": "F2nRD1Wg7JCE",
      "execution_count": null,
      "outputs": [
        {
          "output_type": "stream",
          "name": "stdout",
          "text": [
            "Downloading data from https://storage.googleapis.com/keras-applications/efficientnetb7.h5\n",
            "268326632/268326632 [==============================] - 14s 0us/step\n"
          ]
        },
        {
          "output_type": "stream",
          "name": "stderr",
          "text": [
            "WARNING:tensorflow:5 out of the last 5 calls to <function Model.make_predict_function.<locals>.predict_function at 0x787c90c0ff40> triggered tf.function retracing. Tracing is expensive and the excessive number of tracings could be due to (1) creating @tf.function repeatedly in a loop, (2) passing tensors with different shapes, (3) passing Python objects instead of tensors. For (1), please define your @tf.function outside of the loop. For (2), @tf.function has reduce_retracing=True option that can avoid unnecessary retracing. For (3), please refer to https://www.tensorflow.org/guide/function#controlling_retracing and https://www.tensorflow.org/api_docs/python/tf/function for  more details.\n"
          ]
        },
        {
          "output_type": "stream",
          "name": "stdout",
          "text": [
            "1/1 [==============================] - 7s 7s/step\n"
          ]
        },
        {
          "output_type": "execute_result",
          "data": {
            "text/plain": [
              "[[('n01950731', 'sea_slug', 0.23482428),\n",
              "  ('n01924916', 'flatworm', 0.20674431),\n",
              "  ('n01943899', 'conch', 0.08622328),\n",
              "  ('n01945685', 'slug', 0.08500543),\n",
              "  ('n01955084', 'chiton', 0.028242916)]]"
            ]
          },
          "metadata": {},
          "execution_count": 28
        }
      ]
    },
    {
      "cell_type": "code",
      "execution_count": null,
      "id": "f20125d2-ec7d-4c2e-94db-bd32ffdc3bbc",
      "metadata": {
        "scrolled": true,
        "id": "f20125d2-ec7d-4c2e-94db-bd32ffdc3bbc",
        "outputId": "c0794ea8-9722-40fb-adaa-b5a3a175a9fa",
        "colab": {
          "base_uri": "https://localhost:8080/"
        }
      },
      "outputs": [
        {
          "output_type": "stream",
          "name": "stdout",
          "text": [
            "Downloading data from https://storage.googleapis.com/keras-applications/efficientnetb0_notop.h5\n",
            "16705208/16705208 [==============================] - 2s 0us/step\n"
          ]
        },
        {
          "output_type": "execute_result",
          "data": {
            "text/plain": [
              "TensorShape([1, 18, 18, 1280])"
            ]
          },
          "metadata": {},
          "execution_count": 29
        }
      ],
      "source": [
        "keras_efficientb0_base = keras.applications.EfficientNetB0(include_top=False)\n",
        "feature_map = keras_efficientb0_base(pistachio_sample[np.newaxis,:])\n",
        "feature_map.shape"
      ]
    },
    {
      "cell_type": "code",
      "execution_count": null,
      "id": "b8039236",
      "metadata": {
        "id": "b8039236",
        "outputId": "b1291172-e231-4a64-9faa-2ff5ca2bb108",
        "colab": {
          "base_uri": "https://localhost:8080/"
        }
      },
      "outputs": [
        {
          "output_type": "stream",
          "name": "stdout",
          "text": [
            "Found 2148 files belonging to 2 classes.\n",
            "Using 1719 files for training.\n",
            "Using 429 files for validation.\n"
          ]
        }
      ],
      "source": [
        "train_ds, val_ds = keras.utils.image_dataset_from_directory(\n",
        "    'Pistachio_Image_Dataset', image_size=(224, 224), batch_size=16,\n",
        "    validation_split=0.2, subset='both', seed=42\n",
        ")"
      ]
    },
    {
      "cell_type": "code",
      "source": [
        "keras_efficientb0_base.trainable = False\n",
        "\n",
        "inputs = keras.Input(shape=(224, 224, 3))\n",
        "x = keras_efficientb0_base(inputs)\n",
        "x = layers.GlobalAveragePooling2D()(x)\n",
        "x = layers.Dense(128, activation='relu')(x)\n",
        "outputs = layers.Dense(1, activation=\"sigmoid\")(x)\n",
        "model = keras.Model(inputs, outputs)\n",
        "\n",
        "rmsprop = keras.optimizers.RMSprop(learning_rate=5e-5)\n",
        "model.compile(optimizer=rmsprop, loss='binary_crossentropy', metrics=['accuracy'])\n",
        "hist = model.fit(train_ds, epochs=20, validation_data=val_ds)"
      ],
      "metadata": {
        "id": "aIPEIPYPiM6G",
        "colab": {
          "base_uri": "https://localhost:8080/"
        },
        "outputId": "85f02331-917b-43b1-d6ca-1cc5074dc148"
      },
      "id": "aIPEIPYPiM6G",
      "execution_count": null,
      "outputs": [
        {
          "output_type": "stream",
          "name": "stdout",
          "text": [
            "Epoch 1/20\n",
            "108/108 [==============================] - 20s 98ms/step - loss: 0.4795 - accuracy: 0.8138 - val_loss: 0.3369 - val_accuracy: 0.8928\n",
            "Epoch 2/20\n",
            "108/108 [==============================] - 5s 45ms/step - loss: 0.2935 - accuracy: 0.9127 - val_loss: 0.2279 - val_accuracy: 0.9347\n",
            "Epoch 3/20\n",
            "108/108 [==============================] - 6s 50ms/step - loss: 0.2183 - accuracy: 0.9412 - val_loss: 0.1780 - val_accuracy: 0.9510\n",
            "Epoch 4/20\n",
            "108/108 [==============================] - 5s 47ms/step - loss: 0.1742 - accuracy: 0.9540 - val_loss: 0.1509 - val_accuracy: 0.9534\n",
            "Epoch 5/20\n",
            "108/108 [==============================] - 6s 52ms/step - loss: 0.1464 - accuracy: 0.9587 - val_loss: 0.1296 - val_accuracy: 0.9627\n",
            "Epoch 6/20\n",
            "108/108 [==============================] - 5s 44ms/step - loss: 0.1277 - accuracy: 0.9668 - val_loss: 0.1159 - val_accuracy: 0.9697\n",
            "Epoch 7/20\n",
            "108/108 [==============================] - 6s 51ms/step - loss: 0.1159 - accuracy: 0.9663 - val_loss: 0.1076 - val_accuracy: 0.9720\n",
            "Epoch 8/20\n",
            "108/108 [==============================] - 5s 46ms/step - loss: 0.1016 - accuracy: 0.9686 - val_loss: 0.0994 - val_accuracy: 0.9744\n",
            "Epoch 9/20\n",
            "108/108 [==============================] - 5s 48ms/step - loss: 0.0899 - accuracy: 0.9756 - val_loss: 0.0949 - val_accuracy: 0.9697\n",
            "Epoch 10/20\n",
            "108/108 [==============================] - 6s 52ms/step - loss: 0.0846 - accuracy: 0.9767 - val_loss: 0.0894 - val_accuracy: 0.9720\n",
            "Epoch 11/20\n",
            "108/108 [==============================] - 5s 43ms/step - loss: 0.0843 - accuracy: 0.9721 - val_loss: 0.0850 - val_accuracy: 0.9720\n",
            "Epoch 12/20\n",
            "108/108 [==============================] - 7s 60ms/step - loss: 0.0764 - accuracy: 0.9761 - val_loss: 0.0828 - val_accuracy: 0.9744\n",
            "Epoch 13/20\n",
            "108/108 [==============================] - 5s 43ms/step - loss: 0.0748 - accuracy: 0.9744 - val_loss: 0.0794 - val_accuracy: 0.9720\n",
            "Epoch 14/20\n",
            "108/108 [==============================] - 6s 52ms/step - loss: 0.0728 - accuracy: 0.9744 - val_loss: 0.0771 - val_accuracy: 0.9744\n",
            "Epoch 15/20\n",
            "108/108 [==============================] - 6s 51ms/step - loss: 0.0672 - accuracy: 0.9796 - val_loss: 0.0751 - val_accuracy: 0.9744\n",
            "Epoch 16/20\n",
            "108/108 [==============================] - 5s 48ms/step - loss: 0.0614 - accuracy: 0.9825 - val_loss: 0.0748 - val_accuracy: 0.9744\n",
            "Epoch 17/20\n",
            "108/108 [==============================] - 5s 44ms/step - loss: 0.0622 - accuracy: 0.9808 - val_loss: 0.0703 - val_accuracy: 0.9720\n",
            "Epoch 18/20\n",
            "108/108 [==============================] - 5s 47ms/step - loss: 0.0597 - accuracy: 0.9785 - val_loss: 0.0687 - val_accuracy: 0.9767\n",
            "Epoch 19/20\n",
            "108/108 [==============================] - 6s 53ms/step - loss: 0.0586 - accuracy: 0.9814 - val_loss: 0.0675 - val_accuracy: 0.9744\n",
            "Epoch 20/20\n",
            "108/108 [==============================] - 6s 50ms/step - loss: 0.0540 - accuracy: 0.9843 - val_loss: 0.0689 - val_accuracy: 0.9767\n"
          ]
        }
      ]
    },
    {
      "cell_type": "code",
      "source": [
        "fig, axs = plt.subplots(1, 2, figsize=(12, 4))\n",
        "axs[0].plot(range(1, 21), hist.history['loss'], label='loss')\n",
        "axs[0].plot(range(1, 21), hist.history['val_loss'], label='val_loss')\n",
        "axs[0].set_xticks(range(1, 21))\n",
        "axs[0].set_xlabel('epoch')\n",
        "axs[0].set_ylabel('loss')\n",
        "axs[0].legend()\n",
        "axs[1].plot(range(1, 21), hist.history['accuracy'], label='accuracy')\n",
        "axs[1].plot(range(1, 21), hist.history['val_accuracy'], label='val_accuracy')\n",
        "axs[1].set_xticks(range(1, 21))\n",
        "axs[1].set_xlabel('epoch')\n",
        "axs[1].set_ylabel('accuracy')\n",
        "axs[1].legend()\n",
        "plt.show()"
      ],
      "metadata": {
        "colab": {
          "base_uri": "https://localhost:8080/",
          "height": 393
        },
        "id": "IntxvaRB8PWP",
        "outputId": "ec2b4977-1d1b-4ad3-e04c-e7edf301bfc6"
      },
      "id": "IntxvaRB8PWP",
      "execution_count": null,
      "outputs": [
        {
          "output_type": "display_data",
          "data": {
            "text/plain": [
              "<Figure size 1200x400 with 2 Axes>"
            ],
            "image/png": "[encoded data removed]"
          },
          "metadata": {}
        }
      ]
    },
    {
      "cell_type": "markdown",
      "source": [
        "## 심화 학습"
      ],
      "metadata": {
        "id": "66gPs0bw8VD2"
      },
      "id": "66gPs0bw8VD2"
    },
    {
      "cell_type": "code",
      "source": [
        "kaggle_efficientb0_base = hub.KerasLayer('https://www.kaggle.com/models/tensorflow/efficientnet/frameworks/TensorFlow2/variations/b0-feature-vector/versions/1')\n",
        "\n",
        "inputs = keras.Input(shape=(224, 224, 3))\n",
        "x = layers.Rescaling(1.0 / 255.0)(inputs)\n",
        "x = kaggle_efficientb0_base(x)\n",
        "x = layers.Dense(128, activation='relu')(x)\n",
        "outputs = layers.Dense(1, activation='sigmoid')(x)\n",
        "model = keras.Model(inputs, outputs)"
      ],
      "metadata": {
        "id": "fajYV5Wc7pAU"
      },
      "id": "fajYV5Wc7pAU",
      "execution_count": null,
      "outputs": []
    },
    {
      "cell_type": "code",
      "execution_count": null,
      "id": "480f4d8b-0fbd-4731-9d15-2af6c1ae2b14",
      "metadata": {
        "id": "480f4d8b-0fbd-4731-9d15-2af6c1ae2b14",
        "outputId": "e1eebd0e-2509-4f23-b115-74d3d47759ae",
        "colab": {
          "base_uri": "https://localhost:8080/"
        }
      },
      "outputs": [
        {
          "output_type": "stream",
          "name": "stdout",
          "text": [
            "Epoch 1/20\n",
            "108/108 [==============================] - 17s 73ms/step - loss: 0.3923 - accuracy: 0.8575 - val_loss: 0.2476 - val_accuracy: 0.9277\n",
            "Epoch 2/20\n",
            "108/108 [==============================] - 5s 46ms/step - loss: 0.2061 - accuracy: 0.9436 - val_loss: 0.1605 - val_accuracy: 0.9487\n",
            "Epoch 3/20\n",
            "108/108 [==============================] - 5s 45ms/step - loss: 0.1438 - accuracy: 0.9604 - val_loss: 0.1278 - val_accuracy: 0.9604\n",
            "Epoch 4/20\n",
            "108/108 [==============================] - 6s 52ms/step - loss: 0.1118 - accuracy: 0.9715 - val_loss: 0.1218 - val_accuracy: 0.9580\n",
            "Epoch 5/20\n",
            "108/108 [==============================] - 5s 42ms/step - loss: 0.0927 - accuracy: 0.9721 - val_loss: 0.1047 - val_accuracy: 0.9720\n",
            "Epoch 6/20\n",
            "108/108 [==============================] - 5s 47ms/step - loss: 0.0787 - accuracy: 0.9767 - val_loss: 0.0897 - val_accuracy: 0.9697\n",
            "Epoch 7/20\n",
            "108/108 [==============================] - 5s 42ms/step - loss: 0.0693 - accuracy: 0.9791 - val_loss: 0.0800 - val_accuracy: 0.9720\n",
            "Epoch 8/20\n",
            "108/108 [==============================] - 6s 50ms/step - loss: 0.0626 - accuracy: 0.9802 - val_loss: 0.0748 - val_accuracy: 0.9767\n",
            "Epoch 9/20\n",
            "108/108 [==============================] - 5s 41ms/step - loss: 0.0570 - accuracy: 0.9837 - val_loss: 0.0707 - val_accuracy: 0.9767\n",
            "Epoch 10/20\n",
            "108/108 [==============================] - 5s 49ms/step - loss: 0.0506 - accuracy: 0.9866 - val_loss: 0.0724 - val_accuracy: 0.9767\n",
            "Epoch 11/20\n",
            "108/108 [==============================] - 5s 42ms/step - loss: 0.0462 - accuracy: 0.9872 - val_loss: 0.0679 - val_accuracy: 0.9767\n",
            "Epoch 12/20\n",
            "108/108 [==============================] - 5s 42ms/step - loss: 0.0425 - accuracy: 0.9889 - val_loss: 0.0622 - val_accuracy: 0.9790\n",
            "Epoch 13/20\n",
            "108/108 [==============================] - 6s 51ms/step - loss: 0.0397 - accuracy: 0.9872 - val_loss: 0.0600 - val_accuracy: 0.9814\n",
            "Epoch 14/20\n",
            "108/108 [==============================] - 5s 42ms/step - loss: 0.0367 - accuracy: 0.9907 - val_loss: 0.0586 - val_accuracy: 0.9790\n",
            "Epoch 15/20\n",
            "108/108 [==============================] - 6s 53ms/step - loss: 0.0335 - accuracy: 0.9919 - val_loss: 0.0568 - val_accuracy: 0.9837\n",
            "Epoch 16/20\n",
            "108/108 [==============================] - 5s 46ms/step - loss: 0.0318 - accuracy: 0.9919 - val_loss: 0.0559 - val_accuracy: 0.9837\n",
            "Epoch 17/20\n",
            "108/108 [==============================] - 6s 57ms/step - loss: 0.0293 - accuracy: 0.9930 - val_loss: 0.0549 - val_accuracy: 0.9837\n",
            "Epoch 18/20\n",
            "108/108 [==============================] - 5s 42ms/step - loss: 0.0275 - accuracy: 0.9948 - val_loss: 0.0543 - val_accuracy: 0.9814\n",
            "Epoch 19/20\n",
            "108/108 [==============================] - 6s 50ms/step - loss: 0.0250 - accuracy: 0.9942 - val_loss: 0.0535 - val_accuracy: 0.9837\n",
            "Epoch 20/20\n",
            "108/108 [==============================] - 5s 42ms/step - loss: 0.0235 - accuracy: 0.9959 - val_loss: 0.0552 - val_accuracy: 0.9790\n"
          ]
        }
      ],
      "source": [
        "rmsprop = keras.optimizers.RMSprop(learning_rate=1e-4)\n",
        "model.compile(optimizer=rmsprop, loss='binary_crossentropy', metrics=['accuracy'])\n",
        "hist = model.fit(train_ds, epochs=20, validation_data=val_ds)"
      ]
    },
    {
      "cell_type": "code",
      "source": [
        "fig, axs = plt.subplots(1, 2, figsize=(12, 4))\n",
        "axs[0].plot(range(1, 21), hist.history['loss'], label='loss')\n",
        "axs[0].plot(range(1, 21), hist.history['val_loss'], label='val_loss')\n",
        "axs[0].set_xticks(range(1, 21))\n",
        "axs[0].set_xlabel('epoch')\n",
        "axs[0].set_ylabel('loss')\n",
        "axs[0].legend()\n",
        "axs[1].plot(range(1, 21), hist.history['accuracy'], label='accuracy')\n",
        "axs[1].plot(range(1, 21), hist.history['val_accuracy'], label='val_accuracy')\n",
        "axs[1].set_xticks(range(1, 21))\n",
        "axs[1].set_xlabel('epoch')\n",
        "axs[1].set_ylabel('accuracy')\n",
        "axs[1].legend()\n",
        "plt.show()"
      ],
      "metadata": {
        "colab": {
          "base_uri": "https://localhost:8080/",
          "height": 388
        },
        "id": "trvmgmnGSM77",
        "outputId": "a21c4e92-56ba-4f46-a56c-736846349637"
      },
      "id": "trvmgmnGSM77",
      "execution_count": null,
      "outputs": [
        {
          "output_type": "display_data",
          "data": {
            "text/plain": [
              "<Figure size 1200x400 with 2 Axes>"
            ],
            "image/png": "[encoded data removed]"
          },
          "metadata": {}
        }
      ]
    }
  ],
  "metadata": {
    "kernelspec": {
      "display_name": "Python 3",
      "name": "python3"
    },
    "language_info": {
      "codemirror_mode": {
        "name": "ipython",
        "version": 3
      },
      "file_extension": ".py",
      "mimetype": "text/x-python",
      "name": "python",
      "nbconvert_exporter": "python",
      "pygments_lexer": "ipython3",
      "version": "3.9.13"
    },
    "colab": {
      "provenance": [],
      "gpuType": "T4"
    },
    "accelerator": "GPU",
    "widgets": {
      "application/vnd.jupyter.widget-state+json": {
        "bb66fe06ac914ec7b2501c3c000addf0": {
          "model_module": "@jupyter-widgets/controls",
          "model_name": "HBoxModel",
          "model_module_version": "1.5.0",
          "state": {
            "_dom_classes": [],
            "_model_module": "@jupyter-widgets/controls",
            "_model_module_version": "1.5.0",
            "_model_name": "HBoxModel",
            "_view_count": null,
            "_view_module": "@jupyter-widgets/controls",
            "_view_module_version": "1.5.0",
            "_view_name": "HBoxView",
            "box_style": "",
            "children": [
              "IPY_MODEL_04ffe99d13904f2d9f5d1c3b2e44c5d5",
              "IPY_MODEL_d5cb55340d69449bbec868fbb3a74cfa",
              "IPY_MODEL_c8d8d7c06efa4781ad91159402002c4a"
            ],
            "layout": "IPY_MODEL_f4e76bd9f2ce4889bf00cd7d061b4bb9"
          }
        },
        "04ffe99d13904f2d9f5d1c3b2e44c5d5": {
          "model_module": "@jupyter-widgets/controls",
          "model_name": "HTMLModel",
          "model_module_version": "1.5.0",
          "state": {
            "_dom_classes": [],
            "_model_module": "@jupyter-widgets/controls",
            "_model_module_version": "1.5.0",
            "_model_name": "HTMLModel",
            "_view_count": null,
            "_view_module": "@jupyter-widgets/controls",
            "_view_module_version": "1.5.0",
            "_view_name": "HTMLView",
            "description": "",
            "description_tooltip": null,
            "layout": "IPY_MODEL_d3214b38f1c34c40b1073e1c9b0c70bc",
            "placeholder": "​",
            "style": "IPY_MODEL_a2006001722648c2bd41b9f04310b067",
            "value": "config.json: 100%"
          }
        },
        "d5cb55340d69449bbec868fbb3a74cfa": {
          "model_module": "@jupyter-widgets/controls",
          "model_name": "FloatProgressModel",
          "model_module_version": "1.5.0",
          "state": {
            "_dom_classes": [],
            "_model_module": "@jupyter-widgets/controls",
            "_model_module_version": "1.5.0",
            "_model_name": "FloatProgressModel",
            "_view_count": null,
            "_view_module": "@jupyter-widgets/controls",
            "_view_module_version": "1.5.0",
            "_view_name": "ProgressView",
            "bar_style": "success",
            "description": "",
            "description_tooltip": null,
            "layout": "IPY_MODEL_4c4faa1f687b4790bd2f918cc1b781a5",
            "max": 70330,
            "min": 0,
            "orientation": "horizontal",
            "style": "IPY_MODEL_49c10cb673ae44a0910c10dd6a8490dd",
            "value": 70330
          }
        },
        "c8d8d7c06efa4781ad91159402002c4a": {
          "model_module": "@jupyter-widgets/controls",
          "model_name": "HTMLModel",
          "model_module_version": "1.5.0",
          "state": {
            "_dom_classes": [],
            "_model_module": "@jupyter-widgets/controls",
            "_model_module_version": "1.5.0",
            "_model_name": "HTMLModel",
            "_view_count": null,
            "_view_module": "@jupyter-widgets/controls",
            "_view_module_version": "1.5.0",
            "_view_name": "HTMLView",
            "description": "",
            "description_tooltip": null,
            "layout": "IPY_MODEL_0d780b9ee7d94de0bc3b152e2d453f61",
            "placeholder": "​",
            "style": "IPY_MODEL_794e3e23537e4b74a1302bffe6787e1d",
            "value": " 70.3k/70.3k [00:00&lt;00:00, 3.20MB/s]"
          }
        },
        "f4e76bd9f2ce4889bf00cd7d061b4bb9": {
          "model_module": "@jupyter-widgets/base",
          "model_name": "LayoutModel",
          "model_module_version": "1.2.0",
          "state": {
            "_model_module": "@jupyter-widgets/base",
            "_model_module_version": "1.2.0",
            "_model_name": "LayoutModel",
            "_view_count": null,
            "_view_module": "@jupyter-widgets/base",
            "_view_module_version": "1.2.0",
            "_view_name": "LayoutView",
            "align_content": null,
            "align_items": null,
            "align_self": null,
            "border": null,
            "bottom": null,
            "display": null,
            "flex": null,
            "flex_flow": null,
            "grid_area": null,
            "grid_auto_columns": null,
            "grid_auto_flow": null,
            "grid_auto_rows": null,
            "grid_column": null,
            "grid_gap": null,
            "grid_row": null,
            "grid_template_areas": null,
            "grid_template_columns": null,
            "grid_template_rows": null,
            "height": null,
            "justify_content": null,
            "justify_items": null,
            "left": null,
            "margin": null,
            "max_height": null,
            "max_width": null,
            "min_height": null,
            "min_width": null,
            "object_fit": null,
            "object_position": null,
            "order": null,
            "overflow": null,
            "overflow_x": null,
            "overflow_y": null,
            "padding": null,
            "right": null,
            "top": null,
            "visibility": null,
            "width": null
          }
        },
        "d3214b38f1c34c40b1073e1c9b0c70bc": {
          "model_module": "@jupyter-widgets/base",
          "model_name": "LayoutModel",
          "model_module_version": "1.2.0",
          "state": {
            "_model_module": "@jupyter-widgets/base",
            "_model_module_version": "1.2.0",
            "_model_name": "LayoutModel",
            "_view_count": null,
            "_view_module": "@jupyter-widgets/base",
            "_view_module_version": "1.2.0",
            "_view_name": "LayoutView",
            "align_content": null,
            "align_items": null,
            "align_self": null,
            "border": null,
            "bottom": null,
            "display": null,
            "flex": null,
            "flex_flow": null,
            "grid_area": null,
            "grid_auto_columns": null,
            "grid_auto_flow": null,
            "grid_auto_rows": null,
            "grid_column": null,
            "grid_gap": null,
            "grid_row": null,
            "grid_template_areas": null,
            "grid_template_columns": null,
            "grid_template_rows": null,
            "height": null,
            "justify_content": null,
            "justify_items": null,
            "left": null,
            "margin": null,
            "max_height": null,
            "max_width": null,
            "min_height": null,
            "min_width": null,
            "object_fit": null,
            "object_position": null,
            "order": null,
            "overflow": null,
            "overflow_x": null,
            "overflow_y": null,
            "padding": null,
            "right": null,
            "top": null,
            "visibility": null,
            "width": null
          }
        },
        "a2006001722648c2bd41b9f04310b067": {
          "model_module": "@jupyter-widgets/controls",
          "model_name": "DescriptionStyleModel",
          "model_module_version": "1.5.0",
          "state": {
            "_model_module": "@jupyter-widgets/controls",
            "_model_module_version": "1.5.0",
            "_model_name": "DescriptionStyleModel",
            "_view_count": null,
            "_view_module": "@jupyter-widgets/base",
            "_view_module_version": "1.2.0",
            "_view_name": "StyleView",
            "description_width": ""
          }
        },
        "4c4faa1f687b4790bd2f918cc1b781a5": {
          "model_module": "@jupyter-widgets/base",
          "model_name": "LayoutModel",
          "model_module_version": "1.2.0",
          "state": {
            "_model_module": "@jupyter-widgets/base",
            "_model_module_version": "1.2.0",
            "_model_name": "LayoutModel",
            "_view_count": null,
            "_view_module": "@jupyter-widgets/base",
            "_view_module_version": "1.2.0",
            "_view_name": "LayoutView",
            "align_content": null,
            "align_items": null,
            "align_self": null,
            "border": null,
            "bottom": null,
            "display": null,
            "flex": null,
            "flex_flow": null,
            "grid_area": null,
            "grid_auto_columns": null,
            "grid_auto_flow": null,
            "grid_auto_rows": null,
            "grid_column": null,
            "grid_gap": null,
            "grid_row": null,
            "grid_template_areas": null,
            "grid_template_columns": null,
            "grid_template_rows": null,
            "height": null,
            "justify_content": null,
            "justify_items": null,
            "left": null,
            "margin": null,
            "max_height": null,
            "max_width": null,
            "min_height": null,
            "min_width": null,
            "object_fit": null,
            "object_position": null,
            "order": null,
            "overflow": null,
            "overflow_x": null,
            "overflow_y": null,
            "padding": null,
            "right": null,
            "top": null,
            "visibility": null,
            "width": null
          }
        },
        "49c10cb673ae44a0910c10dd6a8490dd": {
          "model_module": "@jupyter-widgets/controls",
          "model_name": "ProgressStyleModel",
          "model_module_version": "1.5.0",
          "state": {
            "_model_module": "@jupyter-widgets/controls",
            "_model_module_version": "1.5.0",
            "_model_name": "ProgressStyleModel",
            "_view_count": null,
            "_view_module": "@jupyter-widgets/base",
            "_view_module_version": "1.2.0",
            "_view_name": "StyleView",
            "bar_color": null,
            "description_width": ""
          }
        },
        "0d780b9ee7d94de0bc3b152e2d453f61": {
          "model_module": "@jupyter-widgets/base",
          "model_name": "LayoutModel",
          "model_module_version": "1.2.0",
          "state": {
            "_model_module": "@jupyter-widgets/base",
            "_model_module_version": "1.2.0",
            "_model_name": "LayoutModel",
            "_view_count": null,
            "_view_module": "@jupyter-widgets/base",
            "_view_module_version": "1.2.0",
            "_view_name": "LayoutView",
            "align_content": null,
            "align_items": null,
            "align_self": null,
            "border": null,
            "bottom": null,
            "display": null,
            "flex": null,
            "flex_flow": null,
            "grid_area": null,
            "grid_auto_columns": null,
            "grid_auto_flow": null,
            "grid_auto_rows": null,
            "grid_column": null,
            "grid_gap": null,
            "grid_row": null,
            "grid_template_areas": null,
            "grid_template_columns": null,
            "grid_template_rows": null,
            "height": null,
            "justify_content": null,
            "justify_items": null,
            "left": null,
            "margin": null,
            "max_height": null,
            "max_width": null,
            "min_height": null,
            "min_width": null,
            "object_fit": null,
            "object_position": null,
            "order": null,
            "overflow": null,
            "overflow_x": null,
            "overflow_y": null,
            "padding": null,
            "right": null,
            "top": null,
            "visibility": null,
            "width": null
          }
        },
        "794e3e23537e4b74a1302bffe6787e1d": {
          "model_module": "@jupyter-widgets/controls",
          "model_name": "DescriptionStyleModel",
          "model_module_version": "1.5.0",
          "state": {
            "_model_module": "@jupyter-widgets/controls",
            "_model_module_version": "1.5.0",
            "_model_name": "DescriptionStyleModel",
            "_view_count": null,
            "_view_module": "@jupyter-widgets/base",
            "_view_module_version": "1.2.0",
            "_view_name": "StyleView",
            "description_width": ""
          }
        },
        "ceeb06585d5949129a2922c52753be22": {
          "model_module": "@jupyter-widgets/controls",
          "model_name": "HBoxModel",
          "model_module_version": "1.5.0",
          "state": {
            "_dom_classes": [],
            "_model_module": "@jupyter-widgets/controls",
            "_model_module_version": "1.5.0",
            "_model_name": "HBoxModel",
            "_view_count": null,
            "_view_module": "@jupyter-widgets/controls",
            "_view_module_version": "1.5.0",
            "_view_name": "HBoxView",
            "box_style": "",
            "children": [
              "IPY_MODEL_3fbe2463a7b5473a94a2308a4ddc1e8c",
              "IPY_MODEL_bb553824d7294c0382525067b859158e",
              "IPY_MODEL_35de9121993942859e821dbd659f68c4"
            ],
            "layout": "IPY_MODEL_6d4902cb6996483f9456fdd5b6e64c98"
          }
        },
        "3fbe2463a7b5473a94a2308a4ddc1e8c": {
          "model_module": "@jupyter-widgets/controls",
          "model_name": "HTMLModel",
          "model_module_version": "1.5.0",
          "state": {
            "_dom_classes": [],
            "_model_module": "@jupyter-widgets/controls",
            "_model_module_version": "1.5.0",
            "_model_name": "HTMLModel",
            "_view_count": null,
            "_view_module": "@jupyter-widgets/controls",
            "_view_module_version": "1.5.0",
            "_view_name": "HTMLView",
            "description": "",
            "description_tooltip": null,
            "layout": "IPY_MODEL_045db2e36adf4715b2942a1b110e6c1d",
            "placeholder": "​",
            "style": "IPY_MODEL_10cdd302887349e2be2d4dc76a6bffb4",
            "value": "pytorch_model.bin: 100%"
          }
        },
        "bb553824d7294c0382525067b859158e": {
          "model_module": "@jupyter-widgets/controls",
          "model_name": "FloatProgressModel",
          "model_module_version": "1.5.0",
          "state": {
            "_dom_classes": [],
            "_model_module": "@jupyter-widgets/controls",
            "_model_module_version": "1.5.0",
            "_model_name": "FloatProgressModel",
            "_view_count": null,
            "_view_module": "@jupyter-widgets/controls",
            "_view_module_version": "1.5.0",
            "_view_name": "ProgressView",
            "bar_style": "success",
            "description": "",
            "description_tooltip": null,
            "layout": "IPY_MODEL_4bca5e0511ec4095804e4279bcc684e6",
            "max": 21444205,
            "min": 0,
            "orientation": "horizontal",
            "style": "IPY_MODEL_1b1d31b348a846e3a0b130bee85b6b69",
            "value": 21444205
          }
        },
        "35de9121993942859e821dbd659f68c4": {
          "model_module": "@jupyter-widgets/controls",
          "model_name": "HTMLModel",
          "model_module_version": "1.5.0",
          "state": {
            "_dom_classes": [],
            "_model_module": "@jupyter-widgets/controls",
            "_model_module_version": "1.5.0",
            "_model_name": "HTMLModel",
            "_view_count": null,
            "_view_module": "@jupyter-widgets/controls",
            "_view_module_version": "1.5.0",
            "_view_name": "HTMLView",
            "description": "",
            "description_tooltip": null,
            "layout": "IPY_MODEL_8dce78976b4149b3a16ed1c527a5b297",
            "placeholder": "​",
            "style": "IPY_MODEL_ef62be9045284d2aaccd4106e757c93c",
            "value": " 21.4M/21.4M [00:13&lt;00:00, 1.76MB/s]"
          }
        },
        "6d4902cb6996483f9456fdd5b6e64c98": {
          "model_module": "@jupyter-widgets/base",
          "model_name": "LayoutModel",
          "model_module_version": "1.2.0",
          "state": {
            "_model_module": "@jupyter-widgets/base",
            "_model_module_version": "1.2.0",
            "_model_name": "LayoutModel",
            "_view_count": null,
            "_view_module": "@jupyter-widgets/base",
            "_view_module_version": "1.2.0",
            "_view_name": "LayoutView",
            "align_content": null,
            "align_items": null,
            "align_self": null,
            "border": null,
            "bottom": null,
            "display": null,
            "flex": null,
            "flex_flow": null,
            "grid_area": null,
            "grid_auto_columns": null,
            "grid_auto_flow": null,
            "grid_auto_rows": null,
            "grid_column": null,
            "grid_gap": null,
            "grid_row": null,
            "grid_template_areas": null,
            "grid_template_columns": null,
            "grid_template_rows": null,
            "height": null,
            "justify_content": null,
            "justify_items": null,
            "left": null,
            "margin": null,
            "max_height": null,
            "max_width": null,
            "min_height": null,
            "min_width": null,
            "object_fit": null,
            "object_position": null,
            "order": null,
            "overflow": null,
            "overflow_x": null,
            "overflow_y": null,
            "padding": null,
            "right": null,
            "top": null,
            "visibility": null,
            "width": null
          }
        },
        "045db2e36adf4715b2942a1b110e6c1d": {
          "model_module": "@jupyter-widgets/base",
          "model_name": "LayoutModel",
          "model_module_version": "1.2.0",
          "state": {
            "_model_module": "@jupyter-widgets/base",
            "_model_module_version": "1.2.0",
            "_model_name": "LayoutModel",
            "_view_count": null,
            "_view_module": "@jupyter-widgets/base",
            "_view_module_version": "1.2.0",
            "_view_name": "LayoutView",
            "align_content": null,
            "align_items": null,
            "align_self": null,
            "border": null,
            "bottom": null,
            "display": null,
            "flex": null,
            "flex_flow": null,
            "grid_area": null,
            "grid_auto_columns": null,
            "grid_auto_flow": null,
            "grid_auto_rows": null,
            "grid_column": null,
            "grid_gap": null,
            "grid_row": null,
            "grid_template_areas": null,
            "grid_template_columns": null,
            "grid_template_rows": null,
            "height": null,
            "justify_content": null,
            "justify_items": null,
            "left": null,
            "margin": null,
            "max_height": null,
            "max_width": null,
            "min_height": null,
            "min_width": null,
            "object_fit": null,
            "object_position": null,
            "order": null,
            "overflow": null,
            "overflow_x": null,
            "overflow_y": null,
            "padding": null,
            "right": null,
            "top": null,
            "visibility": null,
            "width": null
          }
        },
        "10cdd302887349e2be2d4dc76a6bffb4": {
          "model_module": "@jupyter-widgets/controls",
          "model_name": "DescriptionStyleModel",
          "model_module_version": "1.5.0",
          "state": {
            "_model_module": "@jupyter-widgets/controls",
            "_model_module_version": "1.5.0",
            "_model_name": "DescriptionStyleModel",
            "_view_count": null,
            "_view_module": "@jupyter-widgets/base",
            "_view_module_version": "1.2.0",
            "_view_name": "StyleView",
            "description_width": ""
          }
        },
        "4bca5e0511ec4095804e4279bcc684e6": {
          "model_module": "@jupyter-widgets/base",
          "model_name": "LayoutModel",
          "model_module_version": "1.2.0",
          "state": {
            "_model_module": "@jupyter-widgets/base",
            "_model_module_version": "1.2.0",
            "_model_name": "LayoutModel",
            "_view_count": null,
            "_view_module": "@jupyter-widgets/base",
            "_view_module_version": "1.2.0",
            "_view_name": "LayoutView",
            "align_content": null,
            "align_items": null,
            "align_self": null,
            "border": null,
            "bottom": null,
            "display": null,
            "flex": null,
            "flex_flow": null,
            "grid_area": null,
            "grid_auto_columns": null,
            "grid_auto_flow": null,
            "grid_auto_rows": null,
            "grid_column": null,
            "grid_gap": null,
            "grid_row": null,
            "grid_template_areas": null,
            "grid_template_columns": null,
            "grid_template_rows": null,
            "height": null,
            "justify_content": null,
            "justify_items": null,
            "left": null,
            "margin": null,
            "max_height": null,
            "max_width": null,
            "min_height": null,
            "min_width": null,
            "object_fit": null,
            "object_position": null,
            "order": null,
            "overflow": null,
            "overflow_x": null,
            "overflow_y": null,
            "padding": null,
            "right": null,
            "top": null,
            "visibility": null,
            "width": null
          }
        },
        "1b1d31b348a846e3a0b130bee85b6b69": {
          "model_module": "@jupyter-widgets/controls",
          "model_name": "ProgressStyleModel",
          "model_module_version": "1.5.0",
          "state": {
            "_model_module": "@jupyter-widgets/controls",
            "_model_module_version": "1.5.0",
            "_model_name": "ProgressStyleModel",
            "_view_count": null,
            "_view_module": "@jupyter-widgets/base",
            "_view_module_version": "1.2.0",
            "_view_name": "StyleView",
            "bar_color": null,
            "description_width": ""
          }
        },
        "8dce78976b4149b3a16ed1c527a5b297": {
          "model_module": "@jupyter-widgets/base",
          "model_name": "LayoutModel",
          "model_module_version": "1.2.0",
          "state": {
            "_model_module": "@jupyter-widgets/base",
            "_model_module_version": "1.2.0",
            "_model_name": "LayoutModel",
            "_view_count": null,
            "_view_module": "@jupyter-widgets/base",
            "_view_module_version": "1.2.0",
            "_view_name": "LayoutView",
            "align_content": null,
            "align_items": null,
            "align_self": null,
            "border": null,
            "bottom": null,
            "display": null,
            "flex": null,
            "flex_flow": null,
            "grid_area": null,
            "grid_auto_columns": null,
            "grid_auto_flow": null,
            "grid_auto_rows": null,
            "grid_column": null,
            "grid_gap": null,
            "grid_row": null,
            "grid_template_areas": null,
            "grid_template_columns": null,
            "grid_template_rows": null,
            "height": null,
            "justify_content": null,
            "justify_items": null,
            "left": null,
            "margin": null,
            "max_height": null,
            "max_width": null,
            "min_height": null,
            "min_width": null,
            "object_fit": null,
            "object_position": null,
            "order": null,
            "overflow": null,
            "overflow_x": null,
            "overflow_y": null,
            "padding": null,
            "right": null,
            "top": null,
            "visibility": null,
            "width": null
          }
        },
        "ef62be9045284d2aaccd4106e757c93c": {
          "model_module": "@jupyter-widgets/controls",
          "model_name": "DescriptionStyleModel",
          "model_module_version": "1.5.0",
          "state": {
            "_model_module": "@jupyter-widgets/controls",
            "_model_module_version": "1.5.0",
            "_model_name": "DescriptionStyleModel",
            "_view_count": null,
            "_view_module": "@jupyter-widgets/base",
            "_view_module_version": "1.2.0",
            "_view_name": "StyleView",
            "description_width": ""
          }
        },
        "4ed26bccad4d4d19bdb18256f3f903d4": {
          "model_module": "@jupyter-widgets/controls",
          "model_name": "HBoxModel",
          "model_module_version": "1.5.0",
          "state": {
            "_dom_classes": [],
            "_model_module": "@jupyter-widgets/controls",
            "_model_module_version": "1.5.0",
            "_model_name": "HBoxModel",
            "_view_count": null,
            "_view_module": "@jupyter-widgets/controls",
            "_view_module_version": "1.5.0",
            "_view_name": "HBoxView",
            "box_style": "",
            "children": [
              "IPY_MODEL_b178fa193b404c029ff9f7aadfc49080",
              "IPY_MODEL_a2df5af494b2494096cc68b6f6dc5a2d",
              "IPY_MODEL_d44a3101e0a04d5e877bd7cdfc82dc5c"
            ],
            "layout": "IPY_MODEL_42e34fbf2c924f639c7b82dce96a07c5"
          }
        },
        "b178fa193b404c029ff9f7aadfc49080": {
          "model_module": "@jupyter-widgets/controls",
          "model_name": "HTMLModel",
          "model_module_version": "1.5.0",
          "state": {
            "_dom_classes": [],
            "_model_module": "@jupyter-widgets/controls",
            "_model_module_version": "1.5.0",
            "_model_name": "HTMLModel",
            "_view_count": null,
            "_view_module": "@jupyter-widgets/controls",
            "_view_module_version": "1.5.0",
            "_view_name": "HTMLView",
            "description": "",
            "description_tooltip": null,
            "layout": "IPY_MODEL_2ca79e77decf41ff90f7dbc4b4dc1f5c",
            "placeholder": "​",
            "style": "IPY_MODEL_cb3ac1c940a949aa9c5a37b4b117ca0f",
            "value": "preprocessor_config.json: 100%"
          }
        },
        "a2df5af494b2494096cc68b6f6dc5a2d": {
          "model_module": "@jupyter-widgets/controls",
          "model_name": "FloatProgressModel",
          "model_module_version": "1.5.0",
          "state": {
            "_dom_classes": [],
            "_model_module": "@jupyter-widgets/controls",
            "_model_module_version": "1.5.0",
            "_model_name": "FloatProgressModel",
            "_view_count": null,
            "_view_module": "@jupyter-widgets/controls",
            "_view_module_version": "1.5.0",
            "_view_name": "ProgressView",
            "bar_style": "success",
            "description": "",
            "description_tooltip": null,
            "layout": "IPY_MODEL_8d4927dbf6a446fd9ce8bf4997c1b0f3",
            "max": 472,
            "min": 0,
            "orientation": "horizontal",
            "style": "IPY_MODEL_1281321da9d14c3fb84d5f636f1e6714",
            "value": 472
          }
        },
        "d44a3101e0a04d5e877bd7cdfc82dc5c": {
          "model_module": "@jupyter-widgets/controls",
          "model_name": "HTMLModel",
          "model_module_version": "1.5.0",
          "state": {
            "_dom_classes": [],
            "_model_module": "@jupyter-widgets/controls",
            "_model_module_version": "1.5.0",
            "_model_name": "HTMLModel",
            "_view_count": null,
            "_view_module": "@jupyter-widgets/controls",
            "_view_module_version": "1.5.0",
            "_view_name": "HTMLView",
            "description": "",
            "description_tooltip": null,
            "layout": "IPY_MODEL_524cc05de8d84c548925541ed015076f",
            "placeholder": "​",
            "style": "IPY_MODEL_18a2cdeef6ad4694ad227975bbd05223",
            "value": " 472/472 [00:00&lt;00:00, 28.5kB/s]"
          }
        },
        "42e34fbf2c924f639c7b82dce96a07c5": {
          "model_module": "@jupyter-widgets/base",
          "model_name": "LayoutModel",
          "model_module_version": "1.2.0",
          "state": {
            "_model_module": "@jupyter-widgets/base",
            "_model_module_version": "1.2.0",
            "_model_name": "LayoutModel",
            "_view_count": null,
            "_view_module": "@jupyter-widgets/base",
            "_view_module_version": "1.2.0",
            "_view_name": "LayoutView",
            "align_content": null,
            "align_items": null,
            "align_self": null,
            "border": null,
            "bottom": null,
            "display": null,
            "flex": null,
            "flex_flow": null,
            "grid_area": null,
            "grid_auto_columns": null,
            "grid_auto_flow": null,
            "grid_auto_rows": null,
            "grid_column": null,
            "grid_gap": null,
            "grid_row": null,
            "grid_template_areas": null,
            "grid_template_columns": null,
            "grid_template_rows": null,
            "height": null,
            "justify_content": null,
            "justify_items": null,
            "left": null,
            "margin": null,
            "max_height": null,
            "max_width": null,
            "min_height": null,
            "min_width": null,
            "object_fit": null,
            "object_position": null,
            "order": null,
            "overflow": null,
            "overflow_x": null,
            "overflow_y": null,
            "padding": null,
            "right": null,
            "top": null,
            "visibility": null,
            "width": null
          }
        },
        "2ca79e77decf41ff90f7dbc4b4dc1f5c": {
          "model_module": "@jupyter-widgets/base",
          "model_name": "LayoutModel",
          "model_module_version": "1.2.0",
          "state": {
            "_model_module": "@jupyter-widgets/base",
            "_model_module_version": "1.2.0",
            "_model_name": "LayoutModel",
            "_view_count": null,
            "_view_module": "@jupyter-widgets/base",
            "_view_module_version": "1.2.0",
            "_view_name": "LayoutView",
            "align_content": null,
            "align_items": null,
            "align_self": null,
            "border": null,
            "bottom": null,
            "display": null,
            "flex": null,
            "flex_flow": null,
            "grid_area": null,
            "grid_auto_columns": null,
            "grid_auto_flow": null,
            "grid_auto_rows": null,
            "grid_column": null,
            "grid_gap": null,
            "grid_row": null,
            "grid_template_areas": null,
            "grid_template_columns": null,
            "grid_template_rows": null,
            "height": null,
            "justify_content": null,
            "justify_items": null,
            "left": null,
            "margin": null,
            "max_height": null,
            "max_width": null,
            "min_height": null,
            "min_width": null,
            "object_fit": null,
            "object_position": null,
            "order": null,
            "overflow": null,
            "overflow_x": null,
            "overflow_y": null,
            "padding": null,
            "right": null,
            "top": null,
            "visibility": null,
            "width": null
          }
        },
        "cb3ac1c940a949aa9c5a37b4b117ca0f": {
          "model_module": "@jupyter-widgets/controls",
          "model_name": "DescriptionStyleModel",
          "model_module_version": "1.5.0",
          "state": {
            "_model_module": "@jupyter-widgets/controls",
            "_model_module_version": "1.5.0",
            "_model_name": "DescriptionStyleModel",
            "_view_count": null,
            "_view_module": "@jupyter-widgets/base",
            "_view_module_version": "1.2.0",
            "_view_name": "StyleView",
            "description_width": ""
          }
        },
        "8d4927dbf6a446fd9ce8bf4997c1b0f3": {
          "model_module": "@jupyter-widgets/base",
          "model_name": "LayoutModel",
          "model_module_version": "1.2.0",
          "state": {
            "_model_module": "@jupyter-widgets/base",
            "_model_module_version": "1.2.0",
            "_model_name": "LayoutModel",
            "_view_count": null,
            "_view_module": "@jupyter-widgets/base",
            "_view_module_version": "1.2.0",
            "_view_name": "LayoutView",
            "align_content": null,
            "align_items": null,
            "align_self": null,
            "border": null,
            "bottom": null,
            "display": null,
            "flex": null,
            "flex_flow": null,
            "grid_area": null,
            "grid_auto_columns": null,
            "grid_auto_flow": null,
            "grid_auto_rows": null,
            "grid_column": null,
            "grid_gap": null,
            "grid_row": null,
            "grid_template_areas": null,
            "grid_template_columns": null,
            "grid_template_rows": null,
            "height": null,
            "justify_content": null,
            "justify_items": null,
            "left": null,
            "margin": null,
            "max_height": null,
            "max_width": null,
            "min_height": null,
            "min_width": null,
            "object_fit": null,
            "object_position": null,
            "order": null,
            "overflow": null,
            "overflow_x": null,
            "overflow_y": null,
            "padding": null,
            "right": null,
            "top": null,
            "visibility": null,
            "width": null
          }
        },
        "1281321da9d14c3fb84d5f636f1e6714": {
          "model_module": "@jupyter-widgets/controls",
          "model_name": "ProgressStyleModel",
          "model_module_version": "1.5.0",
          "state": {
            "_model_module": "@jupyter-widgets/controls",
            "_model_module_version": "1.5.0",
            "_model_name": "ProgressStyleModel",
            "_view_count": null,
            "_view_module": "@jupyter-widgets/base",
            "_view_module_version": "1.2.0",
            "_view_name": "StyleView",
            "bar_color": null,
            "description_width": ""
          }
        },
        "524cc05de8d84c548925541ed015076f": {
          "model_module": "@jupyter-widgets/base",
          "model_name": "LayoutModel",
          "model_module_version": "1.2.0",
          "state": {
            "_model_module": "@jupyter-widgets/base",
            "_model_module_version": "1.2.0",
            "_model_name": "LayoutModel",
            "_view_count": null,
            "_view_module": "@jupyter-widgets/base",
            "_view_module_version": "1.2.0",
            "_view_name": "LayoutView",
            "align_content": null,
            "align_items": null,
            "align_self": null,
            "border": null,
            "bottom": null,
            "display": null,
            "flex": null,
            "flex_flow": null,
            "grid_area": null,
            "grid_auto_columns": null,
            "grid_auto_flow": null,
            "grid_auto_rows": null,
            "grid_column": null,
            "grid_gap": null,
            "grid_row": null,
            "grid_template_areas": null,
            "grid_template_columns": null,
            "grid_template_rows": null,
            "height": null,
            "justify_content": null,
            "justify_items": null,
            "left": null,
            "margin": null,
            "max_height": null,
            "max_width": null,
            "min_height": null,
            "min_width": null,
            "object_fit": null,
            "object_position": null,
            "order": null,
            "overflow": null,
            "overflow_x": null,
            "overflow_y": null,
            "padding": null,
            "right": null,
            "top": null,
            "visibility": null,
            "width": null
          }
        },
        "18a2cdeef6ad4694ad227975bbd05223": {
          "model_module": "@jupyter-widgets/controls",
          "model_name": "DescriptionStyleModel",
          "model_module_version": "1.5.0",
          "state": {
            "_model_module": "@jupyter-widgets/controls",
            "_model_module_version": "1.5.0",
            "_model_name": "DescriptionStyleModel",
            "_view_count": null,
            "_view_module": "@jupyter-widgets/base",
            "_view_module_version": "1.2.0",
            "_view_name": "StyleView",
            "description_width": ""
          }
        }
      }
    }
  },
  "nbformat": 4,
  "nbformat_minor": 5
}