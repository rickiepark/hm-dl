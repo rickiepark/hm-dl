{
  "cells": [
    {
      "cell_type": "markdown",
      "id": "2312e428-c551-4995-8a95-abb8930d0367",
      "metadata": {
        "id": "2312e428-c551-4995-8a95-abb8930d0367"
      },
      "source": [
        "# 02-2 고급 CNN 모델과 전이 학습"
      ]
    },
    {
      "cell_type": "markdown",
      "id": "91796895-26dc-4af6-bbbd-bad2f7f05379",
      "metadata": {
        "id": "91796895-26dc-4af6-bbbd-bad2f7f05379"
      },
      "source": [
        "<table align=\"left\"><tr><td>\n",
        "<a href=\"https://colab.research.google.com/github/rickiepark/hm-dl/blob/main/02-2.ipynb\" target=\"_parent\"><img src=\"https://colab.research.google.com/assets/colab-badge.svg\" alt=\"코랩에서 실행하기\"/></a>\n",
        "</td></tr></table>"
      ]
    },
    {
      "cell_type": "markdown",
      "id": "727c8e10-fb1d-4fca-8ca1-5fa56acdcc5c",
      "metadata": {
        "id": "727c8e10-fb1d-4fca-8ca1-5fa56acdcc5c"
      },
      "source": [
        "## DenseNet"
      ]
    },
    {
      "cell_type": "code",
      "execution_count": 1,
      "id": "85e25c4f-fdfa-4496-9a18-a94106224147",
      "metadata": {
        "id": "85e25c4f-fdfa-4496-9a18-a94106224147"
      },
      "outputs": [],
      "source": [
        "import keras\n",
        "from keras import layers"
      ]
    },
    {
      "cell_type": "code",
      "execution_count": 2,
      "id": "e107a1e3-7321-47c9-a053-b4633d3b0517",
      "metadata": {
        "id": "e107a1e3-7321-47c9-a053-b4633d3b0517"
      },
      "outputs": [],
      "source": [
        "def dense_block(x, blocks):\n",
        "    for _ in range(blocks):\n",
        "        x1 = layers.BatchNormalization(epsilon=1e-5)(x)\n",
        "        x1 = layers.Activation('relu')(x1)\n",
        "        x1 = layers.Conv2D(128, 1, use_bias=False)(x1)\n",
        "        x1 = layers.BatchNormalization(epsilon=1e-5)(x1)\n",
        "        x1 = layers.Activation('relu')(x1)\n",
        "        x1 = layers.Conv2D(32, 3, padding='same', use_bias=False)(x1)\n",
        "        x = layers.Concatenate()([x, x1])\n",
        "    return x"
      ]
    },
    {
      "cell_type": "code",
      "execution_count": 3,
      "id": "2931e037-ab6f-46e9-8e9e-0fe273e4a4c9",
      "metadata": {
        "id": "2931e037-ab6f-46e9-8e9e-0fe273e4a4c9"
      },
      "outputs": [],
      "source": [
        "def transition_block(x):\n",
        "    x = layers.BatchNormalization(epsilon=1e-5)(x)\n",
        "    x = layers.Activation('relu')(x)\n",
        "    x = layers.Conv2D(int(x.shape[-1]/2), 1, use_bias=False)(x)\n",
        "    x = layers.AveragePooling2D(2)(x)\n",
        "    return x"
      ]
    },
    {
      "cell_type": "code",
      "execution_count": 4,
      "id": "dde087fd-7dc0-423c-b2d2-0ccceac58c6a",
      "metadata": {
        "id": "dde087fd-7dc0-423c-b2d2-0ccceac58c6a"
      },
      "outputs": [],
      "source": [
        "img_input = layers.Input(shape=(224, 224, 3))\n",
        "\n",
        "x = layers.ZeroPadding2D(padding=3)(img_input)\n",
        "x = layers.Conv2D(64, 7, strides=2, use_bias=False)(x)\n",
        "x = layers.BatchNormalization(epsilon=1e-5)(x)\n",
        "x = layers.Activation('relu')(x)\n",
        "x = layers.ZeroPadding2D(padding=1)(x)\n",
        "x = layers.MaxPooling2D(3, strides=2)(x)\n",
        "\n",
        "for blocks in (6, 12, 24):\n",
        "    x = dense_block(x, blocks)\n",
        "    x = transition_block(x)\n",
        "x = dense_block(x, 16)\n",
        "\n",
        "x = layers.BatchNormalization(epsilon=1e-5)(x)\n",
        "x = layers.Activation('relu')(x)\n",
        "x = layers.GlobalAveragePooling2D()(x)\n",
        "output = layers.Dense(1000, activation='softmax')(x)\n",
        "model = keras.Model(img_input, output)"
      ]
    },
    {
      "cell_type": "code",
      "source": [
        "# 코랩의 경우 구글 드라이브에서 샘플 이미지를 다운로드하여 압축을 풉니다.\n",
        "!gdown 1xGkTT3uwYt4myj6eJJeYtdEFgTi2Sj8C\n",
        "!unzip cat-dog-images.zip"
      ],
      "metadata": {
        "colab": {
          "base_uri": "https://localhost:8080/"
        },
        "id": "IWQUzNYrqIeb",
        "outputId": "90278a9a-d1ce-4b6b-dc6a-9a0f1e4708e0"
      },
      "id": "IWQUzNYrqIeb",
      "execution_count": 5,
      "outputs": [
        {
          "output_type": "stream",
          "name": "stdout",
          "text": [
            "Downloading...\n",
            "From: https://drive.google.com/uc?id=1xGkTT3uwYt4myj6eJJeYtdEFgTi2Sj8C\n",
            "To: /content/cat-dog-images.zip\n",
            "\r  0% 0.00/182k [00:00<?, ?B/s]\r100% 182k/182k [00:00<00:00, 83.4MB/s]\n",
            "Archive:  cat-dog-images.zip\n",
            "   creating: images/\n",
            "  inflating: images/dog.png          \n",
            "  inflating: images/cat.png          \n"
          ]
        }
      ]
    },
    {
      "cell_type": "code",
      "execution_count": 6,
      "id": "089357cc-56af-4263-93a8-c4bb16ab69a4",
      "metadata": {
        "id": "089357cc-56af-4263-93a8-c4bb16ab69a4"
      },
      "outputs": [],
      "source": [
        "import numpy as np\n",
        "from PIL import Image\n",
        "\n",
        "dog_png = np.array(Image.open('images/dog.png'))"
      ]
    },
    {
      "cell_type": "code",
      "execution_count": 7,
      "id": "bc9b88a5-2c5f-4eee-85de-b8330ebf7afb",
      "metadata": {
        "id": "bc9b88a5-2c5f-4eee-85de-b8330ebf7afb"
      },
      "outputs": [],
      "source": [
        "from keras.applications import densenet\n",
        "\n",
        "dense_prep_dog = densenet.preprocess_input(dog_png)"
      ]
    },
    {
      "cell_type": "code",
      "execution_count": 8,
      "id": "860f3ba5-9194-451f-b64d-385db3bf9ba9",
      "metadata": {
        "id": "860f3ba5-9194-451f-b64d-385db3bf9ba9",
        "outputId": "50d86fba-7d30-4d73-da1c-f38f10d94635",
        "colab": {
          "base_uri": "https://localhost:8080/"
        }
      },
      "outputs": [
        {
          "output_type": "stream",
          "name": "stdout",
          "text": [
            "Downloading data from https://storage.googleapis.com/tensorflow/keras-applications/densenet/densenet201_weights_tf_dim_ordering_tf_kernels.h5\n",
            "82524592/82524592 [==============================] - 1s 0us/step\n",
            "1/1 [==============================] - 13s 13s/step\n",
            "Downloading data from https://storage.googleapis.com/download.tensorflow.org/data/imagenet_class_index.json\n",
            "35363/35363 [==============================] - 0s 0us/step\n"
          ]
        },
        {
          "output_type": "execute_result",
          "data": {
            "text/plain": [
              "[[('n02099712', 'Labrador_retriever', 0.52811956),\n",
              "  ('n04409515', 'tennis_ball', 0.19857855),\n",
              "  ('n02104029', 'kuvasz', 0.060605213),\n",
              "  ('n02111500', 'Great_Pyrenees', 0.02718826),\n",
              "  ('n02099601', 'golden_retriever', 0.017613875)]]"
            ]
          },
          "metadata": {},
          "execution_count": 8
        }
      ],
      "source": [
        "densenet201 = keras.applications.DenseNet201()\n",
        "predictions = densenet201.predict(dense_prep_dog[np.newaxis,:])\n",
        "densenet.decode_predictions(predictions)"
      ]
    },
    {
      "cell_type": "markdown",
      "id": "cbafb04f-28cb-4486-9473-7e4f92fcd9c7",
      "metadata": {
        "id": "cbafb04f-28cb-4486-9473-7e4f92fcd9c7"
      },
      "source": [
        "## MobileNet"
      ]
    },
    {
      "cell_type": "code",
      "execution_count": 9,
      "id": "9f5ede57-9d23-402f-b3b3-d935a26d12fc",
      "metadata": {
        "id": "9f5ede57-9d23-402f-b3b3-d935a26d12fc"
      },
      "outputs": [],
      "source": [
        "def depthwise_separable_block(inputs, filters, strides=1):\n",
        "    if strides == 1:\n",
        "        x = inputs\n",
        "    else:\n",
        "        x = layers.ZeroPadding2D(padding=((0, 1), (0, 1)))(inputs)\n",
        "\n",
        "    x = layers.DepthwiseConv2D(3, padding='same' if strides == 1 else 'valid',\n",
        "                               strides=strides, use_bias=False)(x)\n",
        "    x = layers.BatchNormalization(epsilon=1e-5)(x)\n",
        "    x = layers.ReLU(max_value=6.0)(x)\n",
        "    x = layers.Conv2D(filters, 1, padding='same', use_bias=False)(x)\n",
        "    x = layers.BatchNormalization(epsilon=1e-5)(x)\n",
        "    x = layers.ReLU(max_value=6.0)(x)\n",
        "    return x"
      ]
    },
    {
      "cell_type": "code",
      "execution_count": 10,
      "id": "b17d4a3f-aa8f-45a1-9e22-e8e3c881a7db",
      "metadata": {
        "id": "b17d4a3f-aa8f-45a1-9e22-e8e3c881a7db"
      },
      "outputs": [],
      "source": [
        "img_input = layers.Input(shape=(224, 224, 3))\n",
        "\n",
        "x = layers.Conv2D(32, 3, padding='same', strides=2, use_bias=False)(img_input)\n",
        "x = layers.BatchNormalization(epsilon=1e-5)(x)\n",
        "x = layers.ReLU(max_value=6.0)(x)\n",
        "\n",
        "for filters in (64, 128, 256):\n",
        "    x = depthwise_separable_block(x, filters)\n",
        "    x = depthwise_separable_block(x, filters*2, strides=2)\n",
        "for _ in range(5):\n",
        "    x = depthwise_separable_block(x, 512)\n",
        "x = depthwise_separable_block(x, 1024, strides=2)\n",
        "x = depthwise_separable_block(x, 1024)\n",
        "\n",
        "x = layers.GlobalAveragePooling2D(keepdims=True)(x)\n",
        "x = layers.Dropout(0.001)(x)\n",
        "x = layers.Conv2D(1000, 1, padding='same')(x)\n",
        "x = layers.Reshape((1000,))(x)\n",
        "output = layers.Activation('softmax')(x)\n",
        "\n",
        "model = keras.Model(img_input, output)"
      ]
    },
    {
      "cell_type": "code",
      "execution_count": 11,
      "id": "6c5b0874-0757-4929-bea7-a395780723f3",
      "metadata": {
        "scrolled": true,
        "id": "6c5b0874-0757-4929-bea7-a395780723f3",
        "outputId": "fbacf2ac-4a1d-4032-92b5-01653435f5d4",
        "colab": {
          "base_uri": "https://localhost:8080/"
        }
      },
      "outputs": [
        {
          "output_type": "stream",
          "name": "stdout",
          "text": [
            "Downloading data from https://storage.googleapis.com/tensorflow/keras-applications/mobilenet/mobilenet_1_0_224_tf.h5\n",
            "17225924/17225924 [==============================] - 0s 0us/step\n",
            "1/1 [==============================] - 2s 2s/step\n"
          ]
        },
        {
          "output_type": "execute_result",
          "data": {
            "text/plain": [
              "[[('n02099712', 'Labrador_retriever', 0.40903673),\n",
              "  ('n02104029', 'kuvasz', 0.18954755),\n",
              "  ('n02110341', 'dalmatian', 0.14881718),\n",
              "  ('n02111500', 'Great_Pyrenees', 0.042762745),\n",
              "  ('n02099601', 'golden_retriever', 0.027608255)]]"
            ]
          },
          "metadata": {},
          "execution_count": 11
        }
      ],
      "source": [
        "from keras.applications import mobilenet\n",
        "\n",
        "dense_prep_dog = mobilenet.preprocess_input(np.array(dog_png))\n",
        "model = keras.applications.MobileNet()\n",
        "predictions = model.predict(dense_prep_dog[np.newaxis,:])\n",
        "mobilenet.decode_predictions(predictions)"
      ]
    },
    {
      "cell_type": "markdown",
      "id": "ae1c51b8-d1b6-4f93-8610-042eeef931a5",
      "metadata": {
        "id": "ae1c51b8-d1b6-4f93-8610-042eeef931a5"
      },
      "source": [
        "## EfficientNet"
      ]
    },
    {
      "cell_type": "code",
      "execution_count": 12,
      "id": "04985753-aead-4324-9b08-87116d3fb82e",
      "metadata": {
        "id": "04985753-aead-4324-9b08-87116d3fb82e",
        "outputId": "d17a2758-6945-4a4f-e540-da45d044698e",
        "colab": {
          "base_uri": "https://localhost:8080/",
          "height": 449
        }
      },
      "outputs": [
        {
          "output_type": "display_data",
          "data": {
            "text/plain": [
              "<Figure size 640x480 with 1 Axes>"
            ],
            "image/png": "[encoded data removed]"
          },
          "metadata": {}
        }
      ],
      "source": [
        "import numpy as np\n",
        "import matplotlib.pyplot as plt\n",
        "from scipy.special import expit\n",
        "\n",
        "x = np.arange(-10, 10, 0.2)\n",
        "\n",
        "plt.plot(x, x.clip(0), label='relu')\n",
        "plt.plot(x, x * expit(x), label='swish')\n",
        "plt.xlabel('x')\n",
        "plt.ylabel('f(x)')\n",
        "plt.legend()\n",
        "plt.show()"
      ]
    },
    {
      "cell_type": "code",
      "execution_count": 13,
      "id": "ac504c34-6e87-4c97-9d10-621cb104000c",
      "metadata": {
        "id": "ac504c34-6e87-4c97-9d10-621cb104000c",
        "outputId": "91fd3d8e-56cb-4343-ec84-4fcdf6e8fa7d",
        "colab": {
          "base_uri": "https://localhost:8080/",
          "height": 449
        }
      },
      "outputs": [
        {
          "output_type": "display_data",
          "data": {
            "text/plain": [
              "<Figure size 640x480 with 1 Axes>"
            ],
            "image/png": "[encoded data removed]"
          },
          "metadata": {}
        }
      ],
      "source": [
        "def relu6(x):\n",
        "    return np.minimum(np.maximum(x, 0), 6)\n",
        "\n",
        "x = np.arange(-10, 10, 0.2)\n",
        "\n",
        "plt.plot(x, x * expit(x), label='swish')\n",
        "plt.plot(x, x * relu6(x+3)/6, label='hard-swish')\n",
        "plt.xlabel('x')\n",
        "plt.ylabel('f(x)')\n",
        "plt.legend()\n",
        "plt.show()"
      ]
    },
    {
      "cell_type": "code",
      "execution_count": 14,
      "id": "632bb8cd-3def-458d-8c9d-93a6d97ee6b9",
      "metadata": {
        "id": "632bb8cd-3def-458d-8c9d-93a6d97ee6b9"
      },
      "outputs": [],
      "source": [
        "def inv_res_block(inputs, filters_out, kernel_size, strides, dropout_rate, expand_ratio):\n",
        "    # 팽창 단계\n",
        "    filters_in = inputs.shape[-1]\n",
        "    filters = filters_in * expand_ratio\n",
        "    if expand_ratio > 1:\n",
        "        x = layers.Conv2D(filters, 1, padding='same', use_bias=False)(inputs)\n",
        "        x = layers.BatchNormalization()(x)\n",
        "        x = layers.Activation('swish')(x)\n",
        "    else:\n",
        "        x = inputs\n",
        "\n",
        "    # 깊이별 분리 합성곱\n",
        "    if strides == 2:\n",
        "        x = layers.ZeroPadding2D(padding=padding_size(x.shape, kernel_size))(x)\n",
        "    x = layers.DepthwiseConv2D(kernel_size, strides=strides, use_bias=False,\n",
        "                               padding='same' if strides == 1 else 'valid')(x)\n",
        "    x = layers.BatchNormalization()(x)\n",
        "    x = layers.Activation('swish')(x)\n",
        "\n",
        "    # SE 블록\n",
        "    se_input = x\n",
        "    x = layers.GlobalAveragePooling2D(keepdims=True)(x)\n",
        "    x = layers.Conv2D(filters_in * 0.25, 1, padding='same', activation='swish')(x)\n",
        "    x = layers.Conv2D(filters, 1, padding='same', activation='sigmoid')(x)\n",
        "    x = layers.multiply([se_input, x])\n",
        "\n",
        "    # 출력 단계\n",
        "    x = layers.Conv2D(filters_out, 1, padding='same', use_bias=False)(x)\n",
        "    x = layers.BatchNormalization()(x)\n",
        "    if strides == 1 and filters_in == filters_out:\n",
        "        if dropout_rate > 0:\n",
        "            x = layers.Dropout(dropout_rate, noise_shape=(None, 1, 1, 1))(x)\n",
        "            x = layers.add([x, inputs])\n",
        "    return x"
      ]
    },
    {
      "cell_type": "code",
      "execution_count": 15,
      "id": "dfe087eb-0a01-4e6f-8004-a5fdce676259",
      "metadata": {
        "id": "dfe087eb-0a01-4e6f-8004-a5fdce676259"
      },
      "outputs": [],
      "source": [
        "def padding_size(input_size, kernel_size):\n",
        "    # 입력 크기가 짝수이면 아래쪽과 오른쪽만 패딩합니다.\n",
        "    padding = kernel_size // 2\n",
        "    if input_size[1] % 2 == 0:\n",
        "        return ((padding - 1, padding),\n",
        "                (padding - 1, padding))\n",
        "    else:\n",
        "        return padding"
      ]
    },
    {
      "cell_type": "code",
      "execution_count": 16,
      "id": "0a966956-f4c2-46fd-ac30-8f78c2beab3e",
      "metadata": {
        "id": "0a966956-f4c2-46fd-ac30-8f78c2beab3e"
      },
      "outputs": [],
      "source": [
        "import math\n",
        "\n",
        "def round_repeats(repeats, depth):\n",
        "    \"\"\"repeats * depth 보다 큰 정수를 반환합니다\"\"\"\n",
        "    return int(math.ceil(repeats * depth))\n",
        "\n",
        "def round_filters(filters, width):\n",
        "    \"\"\"filters * width 보다 크고 8의 배수가 되도록 만듭니다\"\"\"\n",
        "    filters *= width\n",
        "    new_filters = max(8, int(filters + 4) // 8 * 8)\n",
        "    if new_filters < 0.9 * filters:\n",
        "        new_filters += 8\n",
        "    return int(new_filters)"
      ]
    },
    {
      "cell_type": "code",
      "execution_count": 17,
      "id": "bfd481ac-ddcc-4b45-a602-d8a8ea9d3377",
      "metadata": {
        "id": "bfd481ac-ddcc-4b45-a602-d8a8ea9d3377"
      },
      "outputs": [],
      "source": [
        "width = 1.0\n",
        "depth = 1.0\n",
        "img_input = layers.Input(shape=(224, 224, 3))\n",
        "\n",
        "x = layers.Rescaling(1.0 / 255.0)(img_input)\n",
        "x = layers.Normalization()(x)\n",
        "x = layers.Rescaling(1.0 / np.sqrt([0.229, 0.224, 0.225]))(x)\n",
        "x = layers.ZeroPadding2D(padding=padding_size(x.shape, 3))(x)\n",
        "x = layers.Conv2D(round_filters(32, width), 3, strides=2, padding='valid', use_bias=False)(x)\n",
        "x = layers.BatchNormalization()(x)\n",
        "x = layers.Activation('swish')(x)"
      ]
    },
    {
      "cell_type": "code",
      "execution_count": 18,
      "id": "48dfbba3-eb3a-4d0d-b725-85c010064f00",
      "metadata": {
        "id": "48dfbba3-eb3a-4d0d-b725-85c010064f00"
      },
      "outputs": [],
      "source": [
        "blocks_params = [\n",
        "    {\n",
        "        \"kernel_size\": 3,\n",
        "        \"repeats\": 1,\n",
        "        \"filters_out\": 16,\n",
        "        \"strides\": 1\n",
        "    },\n",
        "    {\n",
        "        \"kernel_size\": 3,\n",
        "        \"repeats\": 2,\n",
        "        \"filters_out\": 24,\n",
        "        \"strides\": 2\n",
        "    },\n",
        "    {\n",
        "        \"kernel_size\": 5,\n",
        "        \"repeats\": 2,\n",
        "        \"filters_out\": 40,\n",
        "        \"strides\": 2\n",
        "    },\n",
        "    {\n",
        "        \"kernel_size\": 3,\n",
        "        \"repeats\": 3,\n",
        "        \"filters_out\": 80,\n",
        "        \"strides\": 2\n",
        "    },\n",
        "    {\n",
        "        \"kernel_size\": 5,\n",
        "        \"repeats\": 3,\n",
        "        \"filters_out\": 112,\n",
        "        \"strides\": 1\n",
        "    },\n",
        "    {\n",
        "        \"kernel_size\": 5,\n",
        "        \"repeats\": 4,\n",
        "        \"filters_out\": 192,\n",
        "        \"strides\": 2\n",
        "    },\n",
        "    {\n",
        "        \"kernel_size\": 3,\n",
        "        \"repeats\": 1,\n",
        "        \"filters_out\": 320,\n",
        "        \"strides\": 1\n",
        "    },\n",
        "]"
      ]
    },
    {
      "cell_type": "code",
      "execution_count": 19,
      "id": "4a7d5406-9a5b-4d12-9e86-bee8ed0477ca",
      "metadata": {
        "id": "4a7d5406-9a5b-4d12-9e86-bee8ed0477ca"
      },
      "outputs": [],
      "source": [
        "filter_expand_ratio = 1\n",
        "block_count = 0\n",
        "total_blocks = float(sum(round_repeats(params[\"repeats\"], depth) for params in blocks_params))\n",
        "for params in blocks_params:\n",
        "    # depth에 따라 블록의 입력과 출력 필터를 늘립니다.\n",
        "    filters_out = round_filters(params['filters_out'], width)\n",
        "    strides = params[\"strides\"]\n",
        "    for j in range(round_repeats(params[\"repeats\"], depth)):\n",
        "        # 반복의 첫 번째 블록을 제외한 나머지 블록은 스트라이드 1입니다.\n",
        "        if j > 0:\n",
        "            strides = 1\n",
        "        dropout_rate = 0.2 * block_count / total_blocks\n",
        "        x = inv_res_block(x, filters_out, params['kernel_size'],\n",
        "                          strides, dropout_rate, filter_expand_ratio)\n",
        "        block_count += 1\n",
        "    filter_expand_ratio = 6"
      ]
    },
    {
      "cell_type": "code",
      "execution_count": 20,
      "id": "e066840e-de15-4fe3-8947-36acba989df0",
      "metadata": {
        "id": "e066840e-de15-4fe3-8947-36acba989df0"
      },
      "outputs": [],
      "source": [
        "x = layers.Conv2D(round_filters(1280, width), 1, padding='same', use_bias=False)(x)\n",
        "x = layers.BatchNormalization()(x)\n",
        "x = layers.Activation('swish')(x)\n",
        "\n",
        "x = layers.GlobalAveragePooling2D()(x)\n",
        "x = layers.Dropout(0.2)(x)\n",
        "output = layers.Dense(1000, activation='softmax')(x)\n",
        "\n",
        "model = keras.Model(img_input, output)"
      ]
    },
    {
      "cell_type": "code",
      "execution_count": 21,
      "id": "e80dec65-7344-4709-83b1-daf74a32bf1f",
      "metadata": {
        "id": "e80dec65-7344-4709-83b1-daf74a32bf1f",
        "outputId": "a62598ed-883c-4d6a-fb28-898e696b1ab8",
        "colab": {
          "base_uri": "https://localhost:8080/"
        }
      },
      "outputs": [
        {
          "output_type": "stream",
          "name": "stdout",
          "text": [
            "Downloading data from https://storage.googleapis.com/keras-applications/efficientnetb0.h5\n",
            "21834768/21834768 [==============================] - 0s 0us/step\n",
            "1/1 [==============================] - 4s 4s/step\n"
          ]
        },
        {
          "output_type": "execute_result",
          "data": {
            "text/plain": [
              "[[('n02099712', 'Labrador_retriever', 0.36829406),\n",
              "  ('n02104029', 'kuvasz', 0.1933987),\n",
              "  ('n02099601', 'golden_retriever', 0.061458282),\n",
              "  ('n02111500', 'Great_Pyrenees', 0.057796996),\n",
              "  ('n02095889', 'Sealyham_terrier', 0.017902762)]]"
            ]
          },
          "metadata": {},
          "execution_count": 21
        }
      ],
      "source": [
        "from keras.applications import efficientnet\n",
        "\n",
        "efficientb0 = keras.applications.EfficientNetB0()\n",
        "predictions = efficientb0.predict(dog_png[np.newaxis,:])\n",
        "efficientnet.decode_predictions(predictions)"
      ]
    },
    {
      "cell_type": "markdown",
      "source": [
        "## 모델 저장소 사용하기"
      ],
      "metadata": {
        "id": "B5kU60QgvYkx"
      },
      "id": "B5kU60QgvYkx"
    },
    {
      "cell_type": "code",
      "execution_count": 22,
      "id": "22e4a001-b5dd-4d51-b0df-578a9cb0c445",
      "metadata": {
        "id": "22e4a001-b5dd-4d51-b0df-578a9cb0c445",
        "outputId": "a2758909-d65e-4bad-8c7a-b107d0828861",
        "colab": {
          "base_uri": "https://localhost:8080/"
        }
      },
      "outputs": [
        {
          "output_type": "stream",
          "name": "stdout",
          "text": [
            "1/1 [==============================] - 1s 906ms/step\n"
          ]
        },
        {
          "output_type": "execute_result",
          "data": {
            "text/plain": [
              "[[('n02099712', 'Labrador_retriever', 0.3682941),\n",
              "  ('n02104029', 'kuvasz', 0.1933988),\n",
              "  ('n02099601', 'golden_retriever', 0.061458144),\n",
              "  ('n02111500', 'Great_Pyrenees', 0.057796948),\n",
              "  ('n02095889', 'Sealyham_terrier', 0.01790278)]]"
            ]
          },
          "metadata": {},
          "execution_count": 22
        }
      ],
      "source": [
        "import tensorflow as tf\n",
        "import tensorflow_hub as hub\n",
        "\n",
        "hub_efficientb0 = tf.keras.Sequential([\n",
        "    layers.Rescaling(1.0 / 255.0, input_shape=(224, 224, 3)),\n",
        "    hub.KerasLayer(\"https://www.kaggle.com/models/tensorflow/efficientnet/frameworks/TensorFlow2/variations/b0-classification/versions/1\")\n",
        "])\n",
        "\n",
        "predictions = hub_efficientb0.predict(dog_png[np.newaxis,:])\n",
        "efficientnet.decode_predictions(predictions)"
      ]
    },
    {
      "cell_type": "code",
      "execution_count": 23,
      "id": "a293273a-665c-4d08-b7fa-13dcb52f759a",
      "metadata": {
        "id": "a293273a-665c-4d08-b7fa-13dcb52f759a",
        "outputId": "3f465007-dc59-4e2e-c1dc-0ca11037bbdc",
        "colab": {
          "base_uri": "https://localhost:8080/",
          "height": 365,
          "referenced_widgets": [
            "26499dace5204f4db12dfc8cd50bc871",
            "331dbeeb762f4dddabc90d3db8527da2",
            "c84057b023f243999284d14ee162cf0c",
            "41891cf738c84d469d242d5b4c14b597",
            "393d4395505a4f67b6420071b6c123ab",
            "f9a474a6ea40493b813af8c0fa9c9102",
            "41519c6d2db240cd9960e4b9a3881b4b",
            "dd53e8e94daf41d9bbb5420bad9a9664",
            "2a5eec8c87f54ba1909f29fd700e29fe",
            "16b676919137493bb1e80a678b3a1a67",
            "de30c00d0f8246998088362549327afe",
            "a005d97cec9d4199aab434d44550b58d",
            "11005061483c4d419e676ed79effe0ee",
            "d2244a6d1ba0411d99106008d4a354e3",
            "6a8aa9801190478a86e81dc6405ed7d8",
            "b4b4899cf0814040937d3239ae44a39b",
            "154c43ba53ce40f189f2d883e464d9f5",
            "15b0c57272794201a95d651ff8ecc727",
            "f1b48f7d3a9c4a478005f244aa32f8bb",
            "795c1207175b4d9f9d80a92dbd3076d5",
            "9345f506f43742a290808ec5471462b5",
            "4e4f0e3940bb4db099eadced93feab03",
            "18634108a2814ebb81f64a00f8a7a4d5",
            "d0e27ddd631145d4a44ed7b79320b230",
            "c3579c9934ef433fb77b3bb59832775f",
            "3daf013924f44badb15e53cc6f47c84e",
            "bc4232508c3d4c3989c11c1684114c8d",
            "8150c2543e124273b1508867e12477be",
            "3b356e94991f4382b26db4d5524f30c9",
            "a870ad56d67e46268534d265545efd6f",
            "cedceb30ce7f42e3a4d1a42f12051481",
            "6e08c63e46bc4c098221ba1b903f7f93",
            "d08658995e8346219ce25fa62ad12064"
          ]
        }
      },
      "outputs": [
        {
          "output_type": "stream",
          "name": "stderr",
          "text": [
            "/usr/local/lib/python3.10/dist-packages/huggingface_hub/utils/_token.py:88: UserWarning: \n",
            "The secret `HF_TOKEN` does not exist in your Colab secrets.\n",
            "To authenticate with the Hugging Face Hub, create a token in your settings tab (https://huggingface.co/settings/tokens), set it as secret in your Google Colab and restart your session.\n",
            "You will be able to reuse this secret in all of your notebooks.\n",
            "Please note that authentication is recommended but still optional to access public models or datasets.\n",
            "  warnings.warn(\n"
          ]
        },
        {
          "output_type": "display_data",
          "data": {
            "text/plain": [
              "config.json:   0%|          | 0.00/70.3k [00:00<?, ?B/s]"
            ],
            "application/vnd.jupyter.widget-view+json": {
              "version_major": 2,
              "version_minor": 0,
              "model_id": "26499dace5204f4db12dfc8cd50bc871"
            }
          },
          "metadata": {}
        },
        {
          "output_type": "display_data",
          "data": {
            "text/plain": [
              "pytorch_model.bin:   0%|          | 0.00/21.4M [00:00<?, ?B/s]"
            ],
            "application/vnd.jupyter.widget-view+json": {
              "version_major": 2,
              "version_minor": 0,
              "model_id": "a005d97cec9d4199aab434d44550b58d"
            }
          },
          "metadata": {}
        },
        {
          "output_type": "stream",
          "name": "stderr",
          "text": [
            "/usr/local/lib/python3.10/dist-packages/torch/_utils.py:831: UserWarning: TypedStorage is deprecated. It will be removed in the future and UntypedStorage will be the only storage class. This should only matter to you if you are using storages directly.  To access UntypedStorage directly, use tensor.untyped_storage() instead of tensor.storage()\n",
            "  return self.fget.__get__(instance, owner)()\n"
          ]
        },
        {
          "output_type": "display_data",
          "data": {
            "text/plain": [
              "preprocessor_config.json:   0%|          | 0.00/472 [00:00<?, ?B/s]"
            ],
            "application/vnd.jupyter.widget-view+json": {
              "version_major": 2,
              "version_minor": 0,
              "model_id": "18634108a2814ebb81f64a00f8a7a4d5"
            }
          },
          "metadata": {}
        },
        {
          "output_type": "execute_result",
          "data": {
            "text/plain": [
              "[{'label': 'Labrador retriever', 'score': 0.36829450726509094},\n",
              " {'label': 'kuvasz', 'score': 0.19339901208877563},\n",
              " {'label': 'golden retriever', 'score': 0.06145833060145378},\n",
              " {'label': 'Great Pyrenees', 'score': 0.0577969029545784},\n",
              " {'label': 'Sealyham terrier, Sealyham', 'score': 0.017902705818414688}]"
            ]
          },
          "metadata": {},
          "execution_count": 23
        }
      ],
      "source": [
        "from transformers import pipeline\n",
        "\n",
        "pipe = pipeline(task='image-classification', model='google/efficientnet-b0')\n",
        "pipe('images/dog.png')"
      ]
    },
    {
      "cell_type": "markdown",
      "source": [
        "## 전이 학습"
      ],
      "metadata": {
        "id": "c6222c43-b850-4b9e-a93f-fb3d3d26fe71"
      },
      "id": "c6222c43-b850-4b9e-a93f-fb3d3d26fe71"
    },
    {
      "cell_type": "code",
      "source": [
        "!gdown 10bnEC6-ZfXZFZ2mb3zoWd38TjYufanWo"
      ],
      "metadata": {
        "id": "w-RSHY9FkatW",
        "outputId": "7cc644e8-3069-46b6-c357-8ac2b6ab4f0a",
        "colab": {
          "base_uri": "https://localhost:8080/"
        }
      },
      "id": "w-RSHY9FkatW",
      "execution_count": 24,
      "outputs": [
        {
          "output_type": "stream",
          "name": "stdout",
          "text": [
            "Downloading...\n",
            "From: https://drive.google.com/uc?id=10bnEC6-ZfXZFZ2mb3zoWd38TjYufanWo\n",
            "To: /content/Pistachio_Image_Dataset.zip\n",
            "100% 25.9M/25.9M [00:00<00:00, 154MB/s]\n"
          ]
        }
      ]
    },
    {
      "cell_type": "code",
      "source": [
        "!unzip -q Pistachio_Image_Dataset.zip"
      ],
      "metadata": {
        "id": "u8up9YuvoDw-"
      },
      "id": "u8up9YuvoDw-",
      "execution_count": 25,
      "outputs": []
    },
    {
      "cell_type": "code",
      "execution_count": 26,
      "id": "8a12732d-78d6-4bf1-98a4-33594d16ba24",
      "metadata": {
        "id": "8a12732d-78d6-4bf1-98a4-33594d16ba24"
      },
      "outputs": [],
      "source": [
        "pistachio_sample = np.array(Image.open('Pistachio_Image_Dataset/Kirmizi_Pistachio/kirmizi (1).jpg'))"
      ]
    },
    {
      "cell_type": "code",
      "execution_count": 27,
      "id": "18a82a19",
      "metadata": {
        "id": "18a82a19",
        "outputId": "188c90a0-405a-453c-d393-875133bc6916",
        "colab": {
          "base_uri": "https://localhost:8080/"
        }
      },
      "outputs": [
        {
          "output_type": "execute_result",
          "data": {
            "text/plain": [
              "(600, 600, 3)"
            ]
          },
          "metadata": {},
          "execution_count": 27
        }
      ],
      "source": [
        "pistachio_sample.shape"
      ]
    },
    {
      "cell_type": "code",
      "source": [
        "efficientb7 = keras.applications.EfficientNetB7()\n",
        "\n",
        "predictions = efficientb7.predict(pistachio_sample[np.newaxis,:])\n",
        "efficientnet.decode_predictions(predictions)"
      ],
      "metadata": {
        "colab": {
          "base_uri": "https://localhost:8080/"
        },
        "id": "F2nRD1Wg7JCE",
        "outputId": "8f242673-3f5c-412e-eed1-5fb4525320e4"
      },
      "id": "F2nRD1Wg7JCE",
      "execution_count": 28,
      "outputs": [
        {
          "output_type": "stream",
          "name": "stdout",
          "text": [
            "Downloading data from https://storage.googleapis.com/keras-applications/efficientnetb7.h5\n",
            "268326632/268326632 [==============================] - 2s 0us/step\n"
          ]
        },
        {
          "output_type": "stream",
          "name": "stderr",
          "text": [
            "WARNING:tensorflow:5 out of the last 5 calls to <function Model.make_predict_function.<locals>.predict_function at 0x7c89469c6b90> triggered tf.function retracing. Tracing is expensive and the excessive number of tracings could be due to (1) creating @tf.function repeatedly in a loop, (2) passing tensors with different shapes, (3) passing Python objects instead of tensors. For (1), please define your @tf.function outside of the loop. For (2), @tf.function has reduce_retracing=True option that can avoid unnecessary retracing. For (3), please refer to https://www.tensorflow.org/guide/function#controlling_retracing and https://www.tensorflow.org/api_docs/python/tf/function for  more details.\n"
          ]
        },
        {
          "output_type": "stream",
          "name": "stdout",
          "text": [
            "1/1 [==============================] - 7s 7s/step\n"
          ]
        },
        {
          "output_type": "execute_result",
          "data": {
            "text/plain": [
              "[[('n01950731', 'sea_slug', 0.2348242),\n",
              "  ('n01924916', 'flatworm', 0.20674425),\n",
              "  ('n01943899', 'conch', 0.0862233),\n",
              "  ('n01945685', 'slug', 0.085005485),\n",
              "  ('n01955084', 'chiton', 0.02824292)]]"
            ]
          },
          "metadata": {},
          "execution_count": 28
        }
      ]
    },
    {
      "cell_type": "code",
      "execution_count": 29,
      "id": "f20125d2-ec7d-4c2e-94db-bd32ffdc3bbc",
      "metadata": {
        "scrolled": true,
        "id": "f20125d2-ec7d-4c2e-94db-bd32ffdc3bbc",
        "outputId": "dbdd287c-e4c9-49c5-c0f8-4d200d5e8e0f",
        "colab": {
          "base_uri": "https://localhost:8080/"
        }
      },
      "outputs": [
        {
          "output_type": "stream",
          "name": "stdout",
          "text": [
            "Downloading data from https://storage.googleapis.com/keras-applications/efficientnetb0_notop.h5\n",
            "16705208/16705208 [==============================] - 0s 0us/step\n"
          ]
        },
        {
          "output_type": "execute_result",
          "data": {
            "text/plain": [
              "TensorShape([1, 18, 18, 1280])"
            ]
          },
          "metadata": {},
          "execution_count": 29
        }
      ],
      "source": [
        "efficientb0_base = keras.applications.EfficientNetB0(include_top=False)\n",
        "feature_map = efficientb0_base(pistachio_sample[np.newaxis,:])\n",
        "feature_map.shape"
      ]
    },
    {
      "cell_type": "code",
      "execution_count": 68,
      "id": "b8039236",
      "metadata": {
        "id": "b8039236",
        "outputId": "ff169044-749e-4525-a0d4-189bcdce9b04",
        "colab": {
          "base_uri": "https://localhost:8080/"
        }
      },
      "outputs": [
        {
          "output_type": "stream",
          "name": "stdout",
          "text": [
            "Found 2148 files belonging to 2 classes.\n",
            "Using 1719 files for training.\n",
            "Using 429 files for validation.\n"
          ]
        }
      ],
      "source": [
        "train_ds, val_ds = keras.utils.image_dataset_from_directory(\n",
        "    'Pistachio_Image_Dataset', image_size=(224, 224), batch_size=16,\n",
        "    validation_split=0.2, subset='both', seed=42\n",
        ")"
      ]
    },
    {
      "cell_type": "code",
      "execution_count": 70,
      "id": "480f4d8b-0fbd-4731-9d15-2af6c1ae2b14",
      "metadata": {
        "id": "480f4d8b-0fbd-4731-9d15-2af6c1ae2b14",
        "outputId": "f2e0f085-2a01-44dc-bc8d-e580e4d4c506",
        "colab": {
          "base_uri": "https://localhost:8080/"
        }
      },
      "outputs": [
        {
          "output_type": "stream",
          "name": "stdout",
          "text": [
            "Epoch 1/5\n",
            "108/108 [==============================] - 48s 166ms/step - loss: 0.3344 - accuracy: 0.9459 - val_loss: 0.1365 - val_accuracy: 0.9977\n",
            "Epoch 2/5\n",
            "108/108 [==============================] - 16s 148ms/step - loss: 0.0869 - accuracy: 1.0000 - val_loss: 0.0420 - val_accuracy: 0.9977\n",
            "Epoch 3/5\n",
            "108/108 [==============================] - 16s 150ms/step - loss: 0.0311 - accuracy: 1.0000 - val_loss: 0.0209 - val_accuracy: 0.9977\n",
            "Epoch 4/5\n",
            "108/108 [==============================] - 16s 148ms/step - loss: 0.0142 - accuracy: 1.0000 - val_loss: 0.0149 - val_accuracy: 0.9977\n",
            "Epoch 5/5\n",
            "108/108 [==============================] - 16s 147ms/step - loss: 0.0078 - accuracy: 1.0000 - val_loss: 0.0125 - val_accuracy: 0.9977\n"
          ]
        }
      ],
      "source": [
        "inputs = keras.Input(shape=(224, 224, 3))\n",
        "x = efficientb0_base(inputs)\n",
        "x = layers.GlobalAveragePooling2D()(x)\n",
        "outputs = layers.Dense(1, activation=\"sigmoid\")(x)\n",
        "\n",
        "model = keras.Model(inputs, outputs)\n",
        "rmsprop = keras.optimizers.RMSprop(learning_rate=1e-5)\n",
        "model.compile(optimizer=rmsprop, loss=\"binary_crossentropy\", metrics=[\"accuracy\"])\n",
        "history = model.fit(train_ds, epochs=5, validation_data=val_ds)"
      ]
    },
    {
      "cell_type": "code",
      "source": [
        "import matplotlib.pyplot as plt\n",
        "\n",
        "plt.plot(history.history['loss'])\n",
        "plt.plot(history.history['val_loss'])\n",
        "plt.xlabel('epoch')\n",
        "plt.ylabel('loss')\n",
        "plt.show()"
      ],
      "metadata": {
        "id": "trvmgmnGSM77",
        "outputId": "4b6f128d-eec3-482a-8ca9-a8841301f0d7",
        "colab": {
          "base_uri": "https://localhost:8080/",
          "height": 454
        }
      },
      "id": "trvmgmnGSM77",
      "execution_count": 71,
      "outputs": [
        {
          "output_type": "display_data",
          "data": {
            "text/plain": [
              "<Figure size 640x480 with 1 Axes>"
            ],
            "image/png": "[encoded data removed]"
          },
          "metadata": {}
        }
      ]
    }
  ],
  "metadata": {
    "kernelspec": {
      "display_name": "Python 3",
      "name": "python3"
    },
    "language_info": {
      "codemirror_mode": {
        "name": "ipython",
        "version": 3
      },
      "file_extension": ".py",
      "mimetype": "text/x-python",
      "name": "python",
      "nbconvert_exporter": "python",
      "pygments_lexer": "ipython3",
      "version": "3.9.13"
    },
    "colab": {
      "provenance": [],
      "gpuType": "T4"
    },
    "accelerator": "GPU",
    "widgets": {
      "application/vnd.jupyter.widget-state+json": {
        "26499dace5204f4db12dfc8cd50bc871": {
          "model_module": "@jupyter-widgets/controls",
          "model_name": "HBoxModel",
          "model_module_version": "1.5.0",
          "state": {
            "_dom_classes": [],
            "_model_module": "@jupyter-widgets/controls",
            "_model_module_version": "1.5.0",
            "_model_name": "HBoxModel",
            "_view_count": null,
            "_view_module": "@jupyter-widgets/controls",
            "_view_module_version": "1.5.0",
            "_view_name": "HBoxView",
            "box_style": "",
            "children": [
              "IPY_MODEL_331dbeeb762f4dddabc90d3db8527da2",
              "IPY_MODEL_c84057b023f243999284d14ee162cf0c",
              "IPY_MODEL_41891cf738c84d469d242d5b4c14b597"
            ],
            "layout": "IPY_MODEL_393d4395505a4f67b6420071b6c123ab"
          }
        },
        "331dbeeb762f4dddabc90d3db8527da2": {
          "model_module": "@jupyter-widgets/controls",
          "model_name": "HTMLModel",
          "model_module_version": "1.5.0",
          "state": {
            "_dom_classes": [],
            "_model_module": "@jupyter-widgets/controls",
            "_model_module_version": "1.5.0",
            "_model_name": "HTMLModel",
            "_view_count": null,
            "_view_module": "@jupyter-widgets/controls",
            "_view_module_version": "1.5.0",
            "_view_name": "HTMLView",
            "description": "",
            "description_tooltip": null,
            "layout": "IPY_MODEL_f9a474a6ea40493b813af8c0fa9c9102",
            "placeholder": "​",
            "style": "IPY_MODEL_41519c6d2db240cd9960e4b9a3881b4b",
            "value": "config.json: 100%"
          }
        },
        "c84057b023f243999284d14ee162cf0c": {
          "model_module": "@jupyter-widgets/controls",
          "model_name": "FloatProgressModel",
          "model_module_version": "1.5.0",
          "state": {
            "_dom_classes": [],
            "_model_module": "@jupyter-widgets/controls",
            "_model_module_version": "1.5.0",
            "_model_name": "FloatProgressModel",
            "_view_count": null,
            "_view_module": "@jupyter-widgets/controls",
            "_view_module_version": "1.5.0",
            "_view_name": "ProgressView",
            "bar_style": "success",
            "description": "",
            "description_tooltip": null,
            "layout": "IPY_MODEL_dd53e8e94daf41d9bbb5420bad9a9664",
            "max": 70330,
            "min": 0,
            "orientation": "horizontal",
            "style": "IPY_MODEL_2a5eec8c87f54ba1909f29fd700e29fe",
            "value": 70330
          }
        },
        "41891cf738c84d469d242d5b4c14b597": {
          "model_module": "@jupyter-widgets/controls",
          "model_name": "HTMLModel",
          "model_module_version": "1.5.0",
          "state": {
            "_dom_classes": [],
            "_model_module": "@jupyter-widgets/controls",
            "_model_module_version": "1.5.0",
            "_model_name": "HTMLModel",
            "_view_count": null,
            "_view_module": "@jupyter-widgets/controls",
            "_view_module_version": "1.5.0",
            "_view_name": "HTMLView",
            "description": "",
            "description_tooltip": null,
            "layout": "IPY_MODEL_16b676919137493bb1e80a678b3a1a67",
            "placeholder": "​",
            "style": "IPY_MODEL_de30c00d0f8246998088362549327afe",
            "value": " 70.3k/70.3k [00:00&lt;00:00, 4.17MB/s]"
          }
        },
        "393d4395505a4f67b6420071b6c123ab": {
          "model_module": "@jupyter-widgets/base",
          "model_name": "LayoutModel",
          "model_module_version": "1.2.0",
          "state": {
            "_model_module": "@jupyter-widgets/base",
            "_model_module_version": "1.2.0",
            "_model_name": "LayoutModel",
            "_view_count": null,
            "_view_module": "@jupyter-widgets/base",
            "_view_module_version": "1.2.0",
            "_view_name": "LayoutView",
            "align_content": null,
            "align_items": null,
            "align_self": null,
            "border": null,
            "bottom": null,
            "display": null,
            "flex": null,
            "flex_flow": null,
            "grid_area": null,
            "grid_auto_columns": null,
            "grid_auto_flow": null,
            "grid_auto_rows": null,
            "grid_column": null,
            "grid_gap": null,
            "grid_row": null,
            "grid_template_areas": null,
            "grid_template_columns": null,
            "grid_template_rows": null,
            "height": null,
            "justify_content": null,
            "justify_items": null,
            "left": null,
            "margin": null,
            "max_height": null,
            "max_width": null,
            "min_height": null,
            "min_width": null,
            "object_fit": null,
            "object_position": null,
            "order": null,
            "overflow": null,
            "overflow_x": null,
            "overflow_y": null,
            "padding": null,
            "right": null,
            "top": null,
            "visibility": null,
            "width": null
          }
        },
        "f9a474a6ea40493b813af8c0fa9c9102": {
          "model_module": "@jupyter-widgets/base",
          "model_name": "LayoutModel",
          "model_module_version": "1.2.0",
          "state": {
            "_model_module": "@jupyter-widgets/base",
            "_model_module_version": "1.2.0",
            "_model_name": "LayoutModel",
            "_view_count": null,
            "_view_module": "@jupyter-widgets/base",
            "_view_module_version": "1.2.0",
            "_view_name": "LayoutView",
            "align_content": null,
            "align_items": null,
            "align_self": null,
            "border": null,
            "bottom": null,
            "display": null,
            "flex": null,
            "flex_flow": null,
            "grid_area": null,
            "grid_auto_columns": null,
            "grid_auto_flow": null,
            "grid_auto_rows": null,
            "grid_column": null,
            "grid_gap": null,
            "grid_row": null,
            "grid_template_areas": null,
            "grid_template_columns": null,
            "grid_template_rows": null,
            "height": null,
            "justify_content": null,
            "justify_items": null,
            "left": null,
            "margin": null,
            "max_height": null,
            "max_width": null,
            "min_height": null,
            "min_width": null,
            "object_fit": null,
            "object_position": null,
            "order": null,
            "overflow": null,
            "overflow_x": null,
            "overflow_y": null,
            "padding": null,
            "right": null,
            "top": null,
            "visibility": null,
            "width": null
          }
        },
        "41519c6d2db240cd9960e4b9a3881b4b": {
          "model_module": "@jupyter-widgets/controls",
          "model_name": "DescriptionStyleModel",
          "model_module_version": "1.5.0",
          "state": {
            "_model_module": "@jupyter-widgets/controls",
            "_model_module_version": "1.5.0",
            "_model_name": "DescriptionStyleModel",
            "_view_count": null,
            "_view_module": "@jupyter-widgets/base",
            "_view_module_version": "1.2.0",
            "_view_name": "StyleView",
            "description_width": ""
          }
        },
        "dd53e8e94daf41d9bbb5420bad9a9664": {
          "model_module": "@jupyter-widgets/base",
          "model_name": "LayoutModel",
          "model_module_version": "1.2.0",
          "state": {
            "_model_module": "@jupyter-widgets/base",
            "_model_module_version": "1.2.0",
            "_model_name": "LayoutModel",
            "_view_count": null,
            "_view_module": "@jupyter-widgets/base",
            "_view_module_version": "1.2.0",
            "_view_name": "LayoutView",
            "align_content": null,
            "align_items": null,
            "align_self": null,
            "border": null,
            "bottom": null,
            "display": null,
            "flex": null,
            "flex_flow": null,
            "grid_area": null,
            "grid_auto_columns": null,
            "grid_auto_flow": null,
            "grid_auto_rows": null,
            "grid_column": null,
            "grid_gap": null,
            "grid_row": null,
            "grid_template_areas": null,
            "grid_template_columns": null,
            "grid_template_rows": null,
            "height": null,
            "justify_content": null,
            "justify_items": null,
            "left": null,
            "margin": null,
            "max_height": null,
            "max_width": null,
            "min_height": null,
            "min_width": null,
            "object_fit": null,
            "object_position": null,
            "order": null,
            "overflow": null,
            "overflow_x": null,
            "overflow_y": null,
            "padding": null,
            "right": null,
            "top": null,
            "visibility": null,
            "width": null
          }
        },
        "2a5eec8c87f54ba1909f29fd700e29fe": {
          "model_module": "@jupyter-widgets/controls",
          "model_name": "ProgressStyleModel",
          "model_module_version": "1.5.0",
          "state": {
            "_model_module": "@jupyter-widgets/controls",
            "_model_module_version": "1.5.0",
            "_model_name": "ProgressStyleModel",
            "_view_count": null,
            "_view_module": "@jupyter-widgets/base",
            "_view_module_version": "1.2.0",
            "_view_name": "StyleView",
            "bar_color": null,
            "description_width": ""
          }
        },
        "16b676919137493bb1e80a678b3a1a67": {
          "model_module": "@jupyter-widgets/base",
          "model_name": "LayoutModel",
          "model_module_version": "1.2.0",
          "state": {
            "_model_module": "@jupyter-widgets/base",
            "_model_module_version": "1.2.0",
            "_model_name": "LayoutModel",
            "_view_count": null,
            "_view_module": "@jupyter-widgets/base",
            "_view_module_version": "1.2.0",
            "_view_name": "LayoutView",
            "align_content": null,
            "align_items": null,
            "align_self": null,
            "border": null,
            "bottom": null,
            "display": null,
            "flex": null,
            "flex_flow": null,
            "grid_area": null,
            "grid_auto_columns": null,
            "grid_auto_flow": null,
            "grid_auto_rows": null,
            "grid_column": null,
            "grid_gap": null,
            "grid_row": null,
            "grid_template_areas": null,
            "grid_template_columns": null,
            "grid_template_rows": null,
            "height": null,
            "justify_content": null,
            "justify_items": null,
            "left": null,
            "margin": null,
            "max_height": null,
            "max_width": null,
            "min_height": null,
            "min_width": null,
            "object_fit": null,
            "object_position": null,
            "order": null,
            "overflow": null,
            "overflow_x": null,
            "overflow_y": null,
            "padding": null,
            "right": null,
            "top": null,
            "visibility": null,
            "width": null
          }
        },
        "de30c00d0f8246998088362549327afe": {
          "model_module": "@jupyter-widgets/controls",
          "model_name": "DescriptionStyleModel",
          "model_module_version": "1.5.0",
          "state": {
            "_model_module": "@jupyter-widgets/controls",
            "_model_module_version": "1.5.0",
            "_model_name": "DescriptionStyleModel",
            "_view_count": null,
            "_view_module": "@jupyter-widgets/base",
            "_view_module_version": "1.2.0",
            "_view_name": "StyleView",
            "description_width": ""
          }
        },
        "a005d97cec9d4199aab434d44550b58d": {
          "model_module": "@jupyter-widgets/controls",
          "model_name": "HBoxModel",
          "model_module_version": "1.5.0",
          "state": {
            "_dom_classes": [],
            "_model_module": "@jupyter-widgets/controls",
            "_model_module_version": "1.5.0",
            "_model_name": "HBoxModel",
            "_view_count": null,
            "_view_module": "@jupyter-widgets/controls",
            "_view_module_version": "1.5.0",
            "_view_name": "HBoxView",
            "box_style": "",
            "children": [
              "IPY_MODEL_11005061483c4d419e676ed79effe0ee",
              "IPY_MODEL_d2244a6d1ba0411d99106008d4a354e3",
              "IPY_MODEL_6a8aa9801190478a86e81dc6405ed7d8"
            ],
            "layout": "IPY_MODEL_b4b4899cf0814040937d3239ae44a39b"
          }
        },
        "11005061483c4d419e676ed79effe0ee": {
          "model_module": "@jupyter-widgets/controls",
          "model_name": "HTMLModel",
          "model_module_version": "1.5.0",
          "state": {
            "_dom_classes": [],
            "_model_module": "@jupyter-widgets/controls",
            "_model_module_version": "1.5.0",
            "_model_name": "HTMLModel",
            "_view_count": null,
            "_view_module": "@jupyter-widgets/controls",
            "_view_module_version": "1.5.0",
            "_view_name": "HTMLView",
            "description": "",
            "description_tooltip": null,
            "layout": "IPY_MODEL_154c43ba53ce40f189f2d883e464d9f5",
            "placeholder": "​",
            "style": "IPY_MODEL_15b0c57272794201a95d651ff8ecc727",
            "value": "pytorch_model.bin: 100%"
          }
        },
        "d2244a6d1ba0411d99106008d4a354e3": {
          "model_module": "@jupyter-widgets/controls",
          "model_name": "FloatProgressModel",
          "model_module_version": "1.5.0",
          "state": {
            "_dom_classes": [],
            "_model_module": "@jupyter-widgets/controls",
            "_model_module_version": "1.5.0",
            "_model_name": "FloatProgressModel",
            "_view_count": null,
            "_view_module": "@jupyter-widgets/controls",
            "_view_module_version": "1.5.0",
            "_view_name": "ProgressView",
            "bar_style": "success",
            "description": "",
            "description_tooltip": null,
            "layout": "IPY_MODEL_f1b48f7d3a9c4a478005f244aa32f8bb",
            "max": 21444205,
            "min": 0,
            "orientation": "horizontal",
            "style": "IPY_MODEL_795c1207175b4d9f9d80a92dbd3076d5",
            "value": 21444205
          }
        },
        "6a8aa9801190478a86e81dc6405ed7d8": {
          "model_module": "@jupyter-widgets/controls",
          "model_name": "HTMLModel",
          "model_module_version": "1.5.0",
          "state": {
            "_dom_classes": [],
            "_model_module": "@jupyter-widgets/controls",
            "_model_module_version": "1.5.0",
            "_model_name": "HTMLModel",
            "_view_count": null,
            "_view_module": "@jupyter-widgets/controls",
            "_view_module_version": "1.5.0",
            "_view_name": "HTMLView",
            "description": "",
            "description_tooltip": null,
            "layout": "IPY_MODEL_9345f506f43742a290808ec5471462b5",
            "placeholder": "​",
            "style": "IPY_MODEL_4e4f0e3940bb4db099eadced93feab03",
            "value": " 21.4M/21.4M [00:00&lt;00:00, 66.0MB/s]"
          }
        },
        "b4b4899cf0814040937d3239ae44a39b": {
          "model_module": "@jupyter-widgets/base",
          "model_name": "LayoutModel",
          "model_module_version": "1.2.0",
          "state": {
            "_model_module": "@jupyter-widgets/base",
            "_model_module_version": "1.2.0",
            "_model_name": "LayoutModel",
            "_view_count": null,
            "_view_module": "@jupyter-widgets/base",
            "_view_module_version": "1.2.0",
            "_view_name": "LayoutView",
            "align_content": null,
            "align_items": null,
            "align_self": null,
            "border": null,
            "bottom": null,
            "display": null,
            "flex": null,
            "flex_flow": null,
            "grid_area": null,
            "grid_auto_columns": null,
            "grid_auto_flow": null,
            "grid_auto_rows": null,
            "grid_column": null,
            "grid_gap": null,
            "grid_row": null,
            "grid_template_areas": null,
            "grid_template_columns": null,
            "grid_template_rows": null,
            "height": null,
            "justify_content": null,
            "justify_items": null,
            "left": null,
            "margin": null,
            "max_height": null,
            "max_width": null,
            "min_height": null,
            "min_width": null,
            "object_fit": null,
            "object_position": null,
            "order": null,
            "overflow": null,
            "overflow_x": null,
            "overflow_y": null,
            "padding": null,
            "right": null,
            "top": null,
            "visibility": null,
            "width": null
          }
        },
        "154c43ba53ce40f189f2d883e464d9f5": {
          "model_module": "@jupyter-widgets/base",
          "model_name": "LayoutModel",
          "model_module_version": "1.2.0",
          "state": {
            "_model_module": "@jupyter-widgets/base",
            "_model_module_version": "1.2.0",
            "_model_name": "LayoutModel",
            "_view_count": null,
            "_view_module": "@jupyter-widgets/base",
            "_view_module_version": "1.2.0",
            "_view_name": "LayoutView",
            "align_content": null,
            "align_items": null,
            "align_self": null,
            "border": null,
            "bottom": null,
            "display": null,
            "flex": null,
            "flex_flow": null,
            "grid_area": null,
            "grid_auto_columns": null,
            "grid_auto_flow": null,
            "grid_auto_rows": null,
            "grid_column": null,
            "grid_gap": null,
            "grid_row": null,
            "grid_template_areas": null,
            "grid_template_columns": null,
            "grid_template_rows": null,
            "height": null,
            "justify_content": null,
            "justify_items": null,
            "left": null,
            "margin": null,
            "max_height": null,
            "max_width": null,
            "min_height": null,
            "min_width": null,
            "object_fit": null,
            "object_position": null,
            "order": null,
            "overflow": null,
            "overflow_x": null,
            "overflow_y": null,
            "padding": null,
            "right": null,
            "top": null,
            "visibility": null,
            "width": null
          }
        },
        "15b0c57272794201a95d651ff8ecc727": {
          "model_module": "@jupyter-widgets/controls",
          "model_name": "DescriptionStyleModel",
          "model_module_version": "1.5.0",
          "state": {
            "_model_module": "@jupyter-widgets/controls",
            "_model_module_version": "1.5.0",
            "_model_name": "DescriptionStyleModel",
            "_view_count": null,
            "_view_module": "@jupyter-widgets/base",
            "_view_module_version": "1.2.0",
            "_view_name": "StyleView",
            "description_width": ""
          }
        },
        "f1b48f7d3a9c4a478005f244aa32f8bb": {
          "model_module": "@jupyter-widgets/base",
          "model_name": "LayoutModel",
          "model_module_version": "1.2.0",
          "state": {
            "_model_module": "@jupyter-widgets/base",
            "_model_module_version": "1.2.0",
            "_model_name": "LayoutModel",
            "_view_count": null,
            "_view_module": "@jupyter-widgets/base",
            "_view_module_version": "1.2.0",
            "_view_name": "LayoutView",
            "align_content": null,
            "align_items": null,
            "align_self": null,
            "border": null,
            "bottom": null,
            "display": null,
            "flex": null,
            "flex_flow": null,
            "grid_area": null,
            "grid_auto_columns": null,
            "grid_auto_flow": null,
            "grid_auto_rows": null,
            "grid_column": null,
            "grid_gap": null,
            "grid_row": null,
            "grid_template_areas": null,
            "grid_template_columns": null,
            "grid_template_rows": null,
            "height": null,
            "justify_content": null,
            "justify_items": null,
            "left": null,
            "margin": null,
            "max_height": null,
            "max_width": null,
            "min_height": null,
            "min_width": null,
            "object_fit": null,
            "object_position": null,
            "order": null,
            "overflow": null,
            "overflow_x": null,
            "overflow_y": null,
            "padding": null,
            "right": null,
            "top": null,
            "visibility": null,
            "width": null
          }
        },
        "795c1207175b4d9f9d80a92dbd3076d5": {
          "model_module": "@jupyter-widgets/controls",
          "model_name": "ProgressStyleModel",
          "model_module_version": "1.5.0",
          "state": {
            "_model_module": "@jupyter-widgets/controls",
            "_model_module_version": "1.5.0",
            "_model_name": "ProgressStyleModel",
            "_view_count": null,
            "_view_module": "@jupyter-widgets/base",
            "_view_module_version": "1.2.0",
            "_view_name": "StyleView",
            "bar_color": null,
            "description_width": ""
          }
        },
        "9345f506f43742a290808ec5471462b5": {
          "model_module": "@jupyter-widgets/base",
          "model_name": "LayoutModel",
          "model_module_version": "1.2.0",
          "state": {
            "_model_module": "@jupyter-widgets/base",
            "_model_module_version": "1.2.0",
            "_model_name": "LayoutModel",
            "_view_count": null,
            "_view_module": "@jupyter-widgets/base",
            "_view_module_version": "1.2.0",
            "_view_name": "LayoutView",
            "align_content": null,
            "align_items": null,
            "align_self": null,
            "border": null,
            "bottom": null,
            "display": null,
            "flex": null,
            "flex_flow": null,
            "grid_area": null,
            "grid_auto_columns": null,
            "grid_auto_flow": null,
            "grid_auto_rows": null,
            "grid_column": null,
            "grid_gap": null,
            "grid_row": null,
            "grid_template_areas": null,
            "grid_template_columns": null,
            "grid_template_rows": null,
            "height": null,
            "justify_content": null,
            "justify_items": null,
            "left": null,
            "margin": null,
            "max_height": null,
            "max_width": null,
            "min_height": null,
            "min_width": null,
            "object_fit": null,
            "object_position": null,
            "order": null,
            "overflow": null,
            "overflow_x": null,
            "overflow_y": null,
            "padding": null,
            "right": null,
            "top": null,
            "visibility": null,
            "width": null
          }
        },
        "4e4f0e3940bb4db099eadced93feab03": {
          "model_module": "@jupyter-widgets/controls",
          "model_name": "DescriptionStyleModel",
          "model_module_version": "1.5.0",
          "state": {
            "_model_module": "@jupyter-widgets/controls",
            "_model_module_version": "1.5.0",
            "_model_name": "DescriptionStyleModel",
            "_view_count": null,
            "_view_module": "@jupyter-widgets/base",
            "_view_module_version": "1.2.0",
            "_view_name": "StyleView",
            "description_width": ""
          }
        },
        "18634108a2814ebb81f64a00f8a7a4d5": {
          "model_module": "@jupyter-widgets/controls",
          "model_name": "HBoxModel",
          "model_module_version": "1.5.0",
          "state": {
            "_dom_classes": [],
            "_model_module": "@jupyter-widgets/controls",
            "_model_module_version": "1.5.0",
            "_model_name": "HBoxModel",
            "_view_count": null,
            "_view_module": "@jupyter-widgets/controls",
            "_view_module_version": "1.5.0",
            "_view_name": "HBoxView",
            "box_style": "",
            "children": [
              "IPY_MODEL_d0e27ddd631145d4a44ed7b79320b230",
              "IPY_MODEL_c3579c9934ef433fb77b3bb59832775f",
              "IPY_MODEL_3daf013924f44badb15e53cc6f47c84e"
            ],
            "layout": "IPY_MODEL_bc4232508c3d4c3989c11c1684114c8d"
          }
        },
        "d0e27ddd631145d4a44ed7b79320b230": {
          "model_module": "@jupyter-widgets/controls",
          "model_name": "HTMLModel",
          "model_module_version": "1.5.0",
          "state": {
            "_dom_classes": [],
            "_model_module": "@jupyter-widgets/controls",
            "_model_module_version": "1.5.0",
            "_model_name": "HTMLModel",
            "_view_count": null,
            "_view_module": "@jupyter-widgets/controls",
            "_view_module_version": "1.5.0",
            "_view_name": "HTMLView",
            "description": "",
            "description_tooltip": null,
            "layout": "IPY_MODEL_8150c2543e124273b1508867e12477be",
            "placeholder": "​",
            "style": "IPY_MODEL_3b356e94991f4382b26db4d5524f30c9",
            "value": "preprocessor_config.json: 100%"
          }
        },
        "c3579c9934ef433fb77b3bb59832775f": {
          "model_module": "@jupyter-widgets/controls",
          "model_name": "FloatProgressModel",
          "model_module_version": "1.5.0",
          "state": {
            "_dom_classes": [],
            "_model_module": "@jupyter-widgets/controls",
            "_model_module_version": "1.5.0",
            "_model_name": "FloatProgressModel",
            "_view_count": null,
            "_view_module": "@jupyter-widgets/controls",
            "_view_module_version": "1.5.0",
            "_view_name": "ProgressView",
            "bar_style": "success",
            "description": "",
            "description_tooltip": null,
            "layout": "IPY_MODEL_a870ad56d67e46268534d265545efd6f",
            "max": 472,
            "min": 0,
            "orientation": "horizontal",
            "style": "IPY_MODEL_cedceb30ce7f42e3a4d1a42f12051481",
            "value": 472
          }
        },
        "3daf013924f44badb15e53cc6f47c84e": {
          "model_module": "@jupyter-widgets/controls",
          "model_name": "HTMLModel",
          "model_module_version": "1.5.0",
          "state": {
            "_dom_classes": [],
            "_model_module": "@jupyter-widgets/controls",
            "_model_module_version": "1.5.0",
            "_model_name": "HTMLModel",
            "_view_count": null,
            "_view_module": "@jupyter-widgets/controls",
            "_view_module_version": "1.5.0",
            "_view_name": "HTMLView",
            "description": "",
            "description_tooltip": null,
            "layout": "IPY_MODEL_6e08c63e46bc4c098221ba1b903f7f93",
            "placeholder": "​",
            "style": "IPY_MODEL_d08658995e8346219ce25fa62ad12064",
            "value": " 472/472 [00:00&lt;00:00, 24.2kB/s]"
          }
        },
        "bc4232508c3d4c3989c11c1684114c8d": {
          "model_module": "@jupyter-widgets/base",
          "model_name": "LayoutModel",
          "model_module_version": "1.2.0",
          "state": {
            "_model_module": "@jupyter-widgets/base",
            "_model_module_version": "1.2.0",
            "_model_name": "LayoutModel",
            "_view_count": null,
            "_view_module": "@jupyter-widgets/base",
            "_view_module_version": "1.2.0",
            "_view_name": "LayoutView",
            "align_content": null,
            "align_items": null,
            "align_self": null,
            "border": null,
            "bottom": null,
            "display": null,
            "flex": null,
            "flex_flow": null,
            "grid_area": null,
            "grid_auto_columns": null,
            "grid_auto_flow": null,
            "grid_auto_rows": null,
            "grid_column": null,
            "grid_gap": null,
            "grid_row": null,
            "grid_template_areas": null,
            "grid_template_columns": null,
            "grid_template_rows": null,
            "height": null,
            "justify_content": null,
            "justify_items": null,
            "left": null,
            "margin": null,
            "max_height": null,
            "max_width": null,
            "min_height": null,
            "min_width": null,
            "object_fit": null,
            "object_position": null,
            "order": null,
            "overflow": null,
            "overflow_x": null,
            "overflow_y": null,
            "padding": null,
            "right": null,
            "top": null,
            "visibility": null,
            "width": null
          }
        },
        "8150c2543e124273b1508867e12477be": {
          "model_module": "@jupyter-widgets/base",
          "model_name": "LayoutModel",
          "model_module_version": "1.2.0",
          "state": {
            "_model_module": "@jupyter-widgets/base",
            "_model_module_version": "1.2.0",
            "_model_name": "LayoutModel",
            "_view_count": null,
            "_view_module": "@jupyter-widgets/base",
            "_view_module_version": "1.2.0",
            "_view_name": "LayoutView",
            "align_content": null,
            "align_items": null,
            "align_self": null,
            "border": null,
            "bottom": null,
            "display": null,
            "flex": null,
            "flex_flow": null,
            "grid_area": null,
            "grid_auto_columns": null,
            "grid_auto_flow": null,
            "grid_auto_rows": null,
            "grid_column": null,
            "grid_gap": null,
            "grid_row": null,
            "grid_template_areas": null,
            "grid_template_columns": null,
            "grid_template_rows": null,
            "height": null,
            "justify_content": null,
            "justify_items": null,
            "left": null,
            "margin": null,
            "max_height": null,
            "max_width": null,
            "min_height": null,
            "min_width": null,
            "object_fit": null,
            "object_position": null,
            "order": null,
            "overflow": null,
            "overflow_x": null,
            "overflow_y": null,
            "padding": null,
            "right": null,
            "top": null,
            "visibility": null,
            "width": null
          }
        },
        "3b356e94991f4382b26db4d5524f30c9": {
          "model_module": "@jupyter-widgets/controls",
          "model_name": "DescriptionStyleModel",
          "model_module_version": "1.5.0",
          "state": {
            "_model_module": "@jupyter-widgets/controls",
            "_model_module_version": "1.5.0",
            "_model_name": "DescriptionStyleModel",
            "_view_count": null,
            "_view_module": "@jupyter-widgets/base",
            "_view_module_version": "1.2.0",
            "_view_name": "StyleView",
            "description_width": ""
          }
        },
        "a870ad56d67e46268534d265545efd6f": {
          "model_module": "@jupyter-widgets/base",
          "model_name": "LayoutModel",
          "model_module_version": "1.2.0",
          "state": {
            "_model_module": "@jupyter-widgets/base",
            "_model_module_version": "1.2.0",
            "_model_name": "LayoutModel",
            "_view_count": null,
            "_view_module": "@jupyter-widgets/base",
            "_view_module_version": "1.2.0",
            "_view_name": "LayoutView",
            "align_content": null,
            "align_items": null,
            "align_self": null,
            "border": null,
            "bottom": null,
            "display": null,
            "flex": null,
            "flex_flow": null,
            "grid_area": null,
            "grid_auto_columns": null,
            "grid_auto_flow": null,
            "grid_auto_rows": null,
            "grid_column": null,
            "grid_gap": null,
            "grid_row": null,
            "grid_template_areas": null,
            "grid_template_columns": null,
            "grid_template_rows": null,
            "height": null,
            "justify_content": null,
            "justify_items": null,
            "left": null,
            "margin": null,
            "max_height": null,
            "max_width": null,
            "min_height": null,
            "min_width": null,
            "object_fit": null,
            "object_position": null,
            "order": null,
            "overflow": null,
            "overflow_x": null,
            "overflow_y": null,
            "padding": null,
            "right": null,
            "top": null,
            "visibility": null,
            "width": null
          }
        },
        "cedceb30ce7f42e3a4d1a42f12051481": {
          "model_module": "@jupyter-widgets/controls",
          "model_name": "ProgressStyleModel",
          "model_module_version": "1.5.0",
          "state": {
            "_model_module": "@jupyter-widgets/controls",
            "_model_module_version": "1.5.0",
            "_model_name": "ProgressStyleModel",
            "_view_count": null,
            "_view_module": "@jupyter-widgets/base",
            "_view_module_version": "1.2.0",
            "_view_name": "StyleView",
            "bar_color": null,
            "description_width": ""
          }
        },
        "6e08c63e46bc4c098221ba1b903f7f93": {
          "model_module": "@jupyter-widgets/base",
          "model_name": "LayoutModel",
          "model_module_version": "1.2.0",
          "state": {
            "_model_module": "@jupyter-widgets/base",
            "_model_module_version": "1.2.0",
            "_model_name": "LayoutModel",
            "_view_count": null,
            "_view_module": "@jupyter-widgets/base",
            "_view_module_version": "1.2.0",
            "_view_name": "LayoutView",
            "align_content": null,
            "align_items": null,
            "align_self": null,
            "border": null,
            "bottom": null,
            "display": null,
            "flex": null,
            "flex_flow": null,
            "grid_area": null,
            "grid_auto_columns": null,
            "grid_auto_flow": null,
            "grid_auto_rows": null,
            "grid_column": null,
            "grid_gap": null,
            "grid_row": null,
            "grid_template_areas": null,
            "grid_template_columns": null,
            "grid_template_rows": null,
            "height": null,
            "justify_content": null,
            "justify_items": null,
            "left": null,
            "margin": null,
            "max_height": null,
            "max_width": null,
            "min_height": null,
            "min_width": null,
            "object_fit": null,
            "object_position": null,
            "order": null,
            "overflow": null,
            "overflow_x": null,
            "overflow_y": null,
            "padding": null,
            "right": null,
            "top": null,
            "visibility": null,
            "width": null
          }
        },
        "d08658995e8346219ce25fa62ad12064": {
          "model_module": "@jupyter-widgets/controls",
          "model_name": "DescriptionStyleModel",
          "model_module_version": "1.5.0",
          "state": {
            "_model_module": "@jupyter-widgets/controls",
            "_model_module_version": "1.5.0",
            "_model_name": "DescriptionStyleModel",
            "_view_count": null,
            "_view_module": "@jupyter-widgets/base",
            "_view_module_version": "1.2.0",
            "_view_name": "StyleView",
            "description_width": ""
          }
        }
      }
    }
  },
  "nbformat": 4,
  "nbformat_minor": 5
}