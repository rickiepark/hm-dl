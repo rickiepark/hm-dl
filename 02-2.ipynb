{
 "cells": [
  {
   "cell_type": "markdown",
   "id": "2312e428-c551-4995-8a95-abb8930d0367",
   "metadata": {},
   "source": [
    "# 02-2 사전 훈련된 모델로 전이 학습 수행하기"
   ]
  },
  {
   "cell_type": "markdown",
   "id": "91796895-26dc-4af6-bbbd-bad2f7f05379",
   "metadata": {},
   "source": [
    "<table align=\"left\"><tr><td>\n",
    "<a href=\"https://colab.research.google.com/github/rickiepark/hm-dl/blob/main/02-2.ipynb\" target=\"_parent\"><img src=\"https://colab.research.google.com/assets/colab-badge.svg\" alt=\"코랩에서 실행하기\"/></a>\n",
    "</td></tr></table>"
   ]
  },
  {
   "cell_type": "markdown",
   "id": "727c8e10-fb1d-4fca-8ca1-5fa56acdcc5c",
   "metadata": {},
   "source": [
    "## DenseNet"
   ]
  },
  {
   "cell_type": "code",
   "execution_count": 1,
   "id": "85e25c4f-fdfa-4496-9a18-a94106224147",
   "metadata": {},
   "outputs": [
    {
     "name": "stderr",
     "output_type": "stream",
     "text": [
      "2024-02-12 08:20:07.412739: I external/local_tsl/tsl/cuda/cudart_stub.cc:31] Could not find cuda drivers on your machine, GPU will not be used.\n",
      "2024-02-12 08:20:07.445383: E external/local_xla/xla/stream_executor/cuda/cuda_dnn.cc:9261] Unable to register cuDNN factory: Attempting to register factory for plugin cuDNN when one has already been registered\n",
      "2024-02-12 08:20:07.445428: E external/local_xla/xla/stream_executor/cuda/cuda_fft.cc:607] Unable to register cuFFT factory: Attempting to register factory for plugin cuFFT when one has already been registered\n",
      "2024-02-12 08:20:07.446757: E external/local_xla/xla/stream_executor/cuda/cuda_blas.cc:1515] Unable to register cuBLAS factory: Attempting to register factory for plugin cuBLAS when one has already been registered\n",
      "2024-02-12 08:20:07.452698: I external/local_tsl/tsl/cuda/cudart_stub.cc:31] Could not find cuda drivers on your machine, GPU will not be used.\n",
      "2024-02-12 08:20:07.453197: I tensorflow/core/platform/cpu_feature_guard.cc:182] This TensorFlow binary is optimized to use available CPU instructions in performance-critical operations.\n",
      "To enable the following instructions: AVX2 FMA, in other operations, rebuild TensorFlow with the appropriate compiler flags.\n",
      "2024-02-12 08:20:08.367047: W tensorflow/compiler/tf2tensorrt/utils/py_utils.cc:38] TF-TRT Warning: Could not find TensorRT\n"
     ]
    }
   ],
   "source": [
    "import keras\n",
    "from keras import layers"
   ]
  },
  {
   "cell_type": "code",
   "execution_count": 2,
   "id": "e107a1e3-7321-47c9-a053-b4633d3b0517",
   "metadata": {},
   "outputs": [],
   "source": [
    "def dense_block(x, blocks):\n",
    "    for _ in range(blocks):\n",
    "        x1 = layers.BatchNormalization(epsilon=1e-5)(x)\n",
    "        x1 = layers.Activation('relu')(x1)\n",
    "        x1 = layers.Conv2D(128, 1, use_bias=False)(x1)\n",
    "        x1 = layers.BatchNormalization(epsilon=1e-5)(x1)\n",
    "        x1 = layers.Activation('relu')(x1)\n",
    "        x1 = layers.Conv2D(32, 3, padding='same', use_bias=False)(x1)\n",
    "        x = layers.Concatenate()([x, x1])\n",
    "    return x"
   ]
  },
  {
   "cell_type": "code",
   "execution_count": 3,
   "id": "2931e037-ab6f-46e9-8e9e-0fe273e4a4c9",
   "metadata": {},
   "outputs": [],
   "source": [
    "def transition_block(x):\n",
    "    x = layers.BatchNormalization(epsilon=1e-5)(x)\n",
    "    x = layers.Activation('relu')(x)\n",
    "    x = layers.Conv2D(int(x.shape[-1]/2), 1, use_bias=False)(x)\n",
    "    x = layers.AveragePooling2D(2)(x)\n",
    "    return x"
   ]
  },
  {
   "cell_type": "code",
   "execution_count": 4,
   "id": "dde087fd-7dc0-423c-b2d2-0ccceac58c6a",
   "metadata": {},
   "outputs": [],
   "source": [
    "img_input = layers.Input(shape=(224, 224, 3))\n",
    "\n",
    "x = layers.ZeroPadding2D(padding=3)(img_input)\n",
    "x = layers.Conv2D(64, 7, strides=2, use_bias=False)(x)\n",
    "x = layers.BatchNormalization(epsilon=1e-5)(x)\n",
    "x = layers.Activation('relu')(x)\n",
    "x = layers.ZeroPadding2D(padding=1)(x)\n",
    "x = layers.MaxPooling2D(3, strides=2)(x)\n",
    "\n",
    "for blocks in [6, 12, 24]:\n",
    "    x = dense_block(x, blocks)\n",
    "    x = transition_block(x)\n",
    "x = dense_block(x, 16)\n",
    "\n",
    "x = layers.BatchNormalization(epsilon=1e-5)(x)\n",
    "x = layers.Activation('relu')(x)\n",
    "x = layers.GlobalAveragePooling2D()(x)\n",
    "output = layers.Dense(1000, activation='softmax')(x)\n",
    "model = keras.Model(img_input, output)"
   ]
  },
  {
   "cell_type": "code",
   "execution_count": 5,
   "id": "089357cc-56af-4263-93a8-c4bb16ab69a4",
   "metadata": {},
   "outputs": [],
   "source": [
    "from PIL import Image\n",
    "\n",
    "dog_png = Image.open('images/dog.png')"
   ]
  },
  {
   "cell_type": "code",
   "execution_count": 6,
   "id": "bc9b88a5-2c5f-4eee-85de-b8330ebf7afb",
   "metadata": {},
   "outputs": [],
   "source": [
    "import numpy as np\n",
    "from keras.applications import densenet\n",
    "\n",
    "dense_prep_dog = densenet.preprocess_input(np.array(dog_png))"
   ]
  },
  {
   "cell_type": "code",
   "execution_count": 7,
   "id": "860f3ba5-9194-451f-b64d-385db3bf9ba9",
   "metadata": {},
   "outputs": [
    {
     "name": "stdout",
     "output_type": "stream",
     "text": [
      "1/1 [==============================] - 3s 3s/step\n"
     ]
    },
    {
     "data": {
      "text/plain": [
       "[[('n02099712', 'Labrador_retriever', 0.52812),\n",
       "  ('n04409515', 'tennis_ball', 0.1985789),\n",
       "  ('n02104029', 'kuvasz', 0.06060526),\n",
       "  ('n02111500', 'Great_Pyrenees', 0.027188241),\n",
       "  ('n02099601', 'golden_retriever', 0.017613856)]]"
      ]
     },
     "execution_count": 7,
     "metadata": {},
     "output_type": "execute_result"
    }
   ],
   "source": [
    "densenet201 = keras.applications.DenseNet201()\n",
    "predictions = densenet201.predict(dense_prep_dog[np.newaxis,:])\n",
    "densenet.decode_predictions(predictions)"
   ]
  },
  {
   "cell_type": "markdown",
   "id": "cbafb04f-28cb-4486-9473-7e4f92fcd9c7",
   "metadata": {},
   "source": [
    "## MobileNet"
   ]
  },
  {
   "cell_type": "code",
   "execution_count": 8,
   "id": "9f5ede57-9d23-402f-b3b3-d935a26d12fc",
   "metadata": {},
   "outputs": [],
   "source": [
    "def depthwise_separable_block(inputs, filters, strides=1):\n",
    "    if strides == 1:\n",
    "        x = inputs\n",
    "    else:\n",
    "        x = layers.ZeroPadding2D(padding=((0, 1), (0, 1)))(inputs)\n",
    "    \n",
    "    x = layers.DepthwiseConv2D(3, padding='same' if strides == 1 else 'valid',\n",
    "                               strides=strides, use_bias=False)(x)\n",
    "    x = layers.BatchNormalization(epsilon=1e-5)(x)\n",
    "    x = layers.ReLU(max_value=6.0)(x)\n",
    "    x = layers.Conv2D(filters, 1, padding='same', use_bias=False)(x)\n",
    "    x = layers.BatchNormalization(epsilon=1e-5)(x)\n",
    "    x = layers.ReLU(max_value=6.0)(x)\n",
    "    return x"
   ]
  },
  {
   "cell_type": "code",
   "execution_count": 9,
   "id": "b17d4a3f-aa8f-45a1-9e22-e8e3c881a7db",
   "metadata": {},
   "outputs": [],
   "source": [
    "img_input = layers.Input(shape=(224, 224, 3))\n",
    "\n",
    "x = layers.Conv2D(32, 3, padding='same', strides=2, use_bias=False)(img_input)\n",
    "x = layers.BatchNormalization(epsilon=1e-5)(x)\n",
    "x = layers.ReLU(max_value=6.0)(x)\n",
    "\n",
    "for filters in (64, 128, 256):\n",
    "    x = depthwise_separable_block(x, filters)\n",
    "    x = depthwise_separable_block(x, filters*2, strides=2)\n",
    "for _ in range(5):\n",
    "    x = depthwise_separable_block(x, 512)\n",
    "x = depthwise_separable_block(x, 1024, strides=2)\n",
    "x = depthwise_separable_block(x, 1024)\n",
    "\n",
    "x = layers.GlobalAveragePooling2D(keepdims=True)(x)\n",
    "x = layers.Dropout(0.001)(x)\n",
    "x = layers.Conv2D(1000, 1, padding='same')(x)\n",
    "x = layers.Reshape((1000,))(x)\n",
    "output = layers.Activation('softmax')(x)\n",
    "\n",
    "model = keras.Model(img_input, output)"
   ]
  },
  {
   "cell_type": "code",
   "execution_count": 12,
   "id": "6c5b0874-0757-4929-bea7-a395780723f3",
   "metadata": {},
   "outputs": [
    {
     "name": "stdout",
     "output_type": "stream",
     "text": [
      "1/1 [==============================] - 0s 369ms/step\n"
     ]
    },
    {
     "data": {
      "text/plain": [
       "[[('n02099712', 'Labrador_retriever', 0.40903977),\n",
       "  ('n02104029', 'kuvasz', 0.18954588),\n",
       "  ('n02110341', 'dalmatian', 0.14881629),\n",
       "  ('n02111500', 'Great_Pyrenees', 0.042762574),\n",
       "  ('n02099601', 'golden_retriever', 0.027608037)]]"
      ]
     },
     "execution_count": 12,
     "metadata": {},
     "output_type": "execute_result"
    }
   ],
   "source": [
    "from keras.applications import mobilenet\n",
    "\n",
    "dense_prep_dog = mobilenet.preprocess_input(np.array(dog_png))\n",
    "model = keras.applications.MobileNet()\n",
    "predictions = model.predict(dense_prep_dog[np.newaxis,:])\n",
    "mobilenet.decode_predictions(predictions)"
   ]
  }
 ],
 "metadata": {
  "kernelspec": {
   "display_name": "Python 3 (ipykernel)",
   "language": "python",
   "name": "python3"
  },
  "language_info": {
   "codemirror_mode": {
    "name": "ipython",
    "version": 3
   },
   "file_extension": ".py",
   "mimetype": "text/x-python",
   "name": "python",
   "nbconvert_exporter": "python",
   "pygments_lexer": "ipython3",
   "version": "3.10.13"
  }
 },
 "nbformat": 4,
 "nbformat_minor": 5
}
