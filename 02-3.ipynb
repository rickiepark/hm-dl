{
 "cells": [
  {
   "cell_type": "markdown",
   "id": "eaa836a9-0e17-42e4-b2ba-83d098258aee",
   "metadata": {
    "id": "eaa836a9-0e17-42e4-b2ba-83d098258aee"
   },
   "source": [
    "# 02-1 CNN으로 강아지와 고양이 분류하기"
   ]
  },
  {
   "cell_type": "markdown",
   "id": "93ea5880-c286-4b51-9880-4f0839f8aa8f",
   "metadata": {
    "id": "93ea5880-c286-4b51-9880-4f0839f8aa8f"
   },
   "source": [
    "<table align=\"left\"><tr><td>\n",
    "<a href=\"https://colab.research.google.com/github/rickiepark/hm-dl/blob/main/02-3.ipynb\" target=\"_parent\"><img src=\"https://colab.research.google.com/assets/colab-badge.svg\" alt=\"코랩에서 실행하기\"/></a>\n",
    "</td></tr></table>"
   ]
  },
  {
   "cell_type": "markdown",
   "id": "2fa9d423-b290-47ef-91b8-54d70114c24a",
   "metadata": {
    "id": "2fa9d423-b290-47ef-91b8-54d70114c24a"
   },
   "source": [
    "## ResNet\n",
    "\n",
    "### ResNet50 입력 준비하기"
   ]
  },
  {
   "cell_type": "code",
   "execution_count": 21,
   "id": "d88257c3-05b6-4149-8a7c-aa4af8e1249a",
   "metadata": {
    "id": "d88257c3-05b6-4149-8a7c-aa4af8e1249a"
   },
   "outputs": [],
   "source": [
    "inputs = layers.Input(shape=(224, 224, 3))"
   ]
  },
  {
   "cell_type": "code",
   "execution_count": 22,
   "id": "86931270-9cbb-424e-bd51-4abea88dc30c",
   "metadata": {
    "id": "86931270-9cbb-424e-bd51-4abea88dc30c"
   },
   "outputs": [],
   "source": [
    "x = layers.ZeroPadding2D(padding=3)(inputs)\n",
    "x = layers.Conv2D(64, 7, strides=2)(x)"
   ]
  },
  {
   "cell_type": "markdown",
   "id": "ce87b846-b64e-48f2-bb11-573952ff0638",
   "metadata": {
    "id": "ce87b846-b64e-48f2-bb11-573952ff0638"
   },
   "source": [
    "$\\mu_B = \\dfrac{1}{m}\\displaystyle\\sum_{i=1}^{m} x_i$\n",
    "\n",
    "$\\sigma^2_B = \\dfrac{1}{m}\\displaystyle \\sum_{i=1}^m (x_i-\\mu_B)^2$\n",
    "\n",
    "$\\hat{x}_i = \\dfrac{x_i - \\mu_B}{\\sqrt{\\sigma^2_B+\\epsilon}}$\n",
    "\n",
    "$z_i = \\gamma \\hat{x}_i + \\beta$"
   ]
  },
  {
   "cell_type": "code",
   "execution_count": 23,
   "id": "8d2197bd-865d-45dc-b113-f561ff9fce1c",
   "metadata": {
    "id": "8d2197bd-865d-45dc-b113-f561ff9fce1c"
   },
   "outputs": [],
   "source": [
    "x = layers.BatchNormalization(epsilon=1e-5)(x)\n",
    "x = layers.Activation('relu')(x)"
   ]
  },
  {
   "cell_type": "code",
   "execution_count": 24,
   "id": "77745c7f-746a-4bb5-be0d-6485eed7e8c0",
   "metadata": {
    "id": "77745c7f-746a-4bb5-be0d-6485eed7e8c0"
   },
   "outputs": [],
   "source": [
    "x = layers.ZeroPadding2D(padding=1)(x)\n",
    "x = layers.MaxPooling2D(3, strides=2)(x)"
   ]
  },
  {
   "cell_type": "markdown",
   "id": "6a55e3e7-f259-443c-98af-b5af2b0023bf",
   "metadata": {
    "id": "6a55e3e7-f259-443c-98af-b5af2b0023bf"
   },
   "source": [
    "### 잔차 스택 만들기"
   ]
  },
  {
   "cell_type": "code",
   "execution_count": 25,
   "id": "fb7bfafe-36ef-482d-bc85-afdee3a72459",
   "metadata": {
    "id": "fb7bfafe-36ef-482d-bc85-afdee3a72459"
   },
   "outputs": [],
   "source": [
    "def build_stack(x):\n",
    "    # 첫 번째 잔차 스택의 첫 번째 잔차 블록만 스트라이드 1을 사용합니다\n",
    "    x = residual_stack(x, 3, 64, first_stride=1)\n",
    "    # 두 번째~네 번째 잔차 블록을 만듭니다\n",
    "    for blocks, filters in [(4, 128), (6, 256), (3, 512)]:\n",
    "        x = residual_stack(x, blocks, filters, first_stride=2)\n",
    "    return x\n",
    "\n",
    "def residual_stack(x, blocks, filters, first_stride=2):\n",
    "    # 첫 번째 잔차 블록은 합성곱 스킵 연결을 사용하고\n",
    "    # 이 잔차 블록의 첫 번째 합성곱 스트라이드는 first_stride입니다.\n",
    "    x = residual_block(x, filters, first_stride=first_stride, conv_skip=True)\n",
    "    for _ in range(1, blocks):\n",
    "        # 나머지 잔차 블록의 첫 번째 합성곱 스트라이드는 1입니다.\n",
    "        x = residual_block(x, filters, first_stride=1, conv_skip=False)\n",
    "    return x"
   ]
  },
  {
   "cell_type": "code",
   "execution_count": 26,
   "id": "73f994f7-9a14-4932-b6e8-f1268cc9a928",
   "metadata": {
    "id": "73f994f7-9a14-4932-b6e8-f1268cc9a928"
   },
   "outputs": [],
   "source": [
    "def residual_block(x, filters, first_stride=1, conv_skip=False):\n",
    "    skip_conn = x\n",
    "    # 합성곱과 배치 정규화, 렐루 활성화 함수를 반복합니다\n",
    "    # 1x1, filters개 필터, 스트라이드는 first_stride에 따라 1 또는 2\n",
    "    x = layers.Conv2D(filters=filters, kernel_size=1,\n",
    "                      strides=first_stride)(x)\n",
    "    x = layers.BatchNormalization(epsilon=1e-5)(x)\n",
    "    x = layers.Activation('relu')(x)\n",
    "    # 3x3, filters개 필터\n",
    "    x = layers.Conv2D(filters=filters, kernel_size=3,\n",
    "                      padding='same')(x)\n",
    "    x = layers.BatchNormalization(epsilon=1e-5)(x)\n",
    "    x = layers.Activation('relu')(x)\n",
    "    # 1x1, filters*4개 필터\n",
    "    x = layers.Conv2D(filters=filters*4, kernel_size=1)(x)\n",
    "    x = layers.BatchNormalization(epsilon=1e-5)(x)\n",
    "    # conv_skip이 True이면 1x1 합성곱을 사용해 채널 크기를 filters*4로 늘립니다\n",
    "    if conv_skip == True:\n",
    "        skip_conn = layers.Conv2D(filters=filters*4, kernel_size=1,\n",
    "                                  strides=first_stride)(skip_conn)\n",
    "        skip_conn = layers.BatchNormalization(epsilon=1e-5)(skip_conn)\n",
    "    x = layers.Add()([skip_conn, x])\n",
    "    x = layers.Activation('relu')(x)\n",
    "    return x"
   ]
  },
  {
   "cell_type": "code",
   "execution_count": 27,
   "id": "037bc9db-06ef-43b6-8ded-279539d22865",
   "metadata": {
    "id": "037bc9db-06ef-43b6-8ded-279539d22865"
   },
   "outputs": [],
   "source": [
    "x = build_stack(x)\n",
    "x = layers.GlobalAveragePooling2D()(x)\n",
    "outputs = layers.Dense(1000, activation='softmax')(x)\n",
    "model = keras.Model(inputs, outputs)"
   ]
  },
  {
   "cell_type": "code",
   "execution_count": 28,
   "id": "cf557793-1422-4a55-a058-fa9e69660861",
   "metadata": {
    "id": "cf557793-1422-4a55-a058-fa9e69660861"
   },
   "outputs": [],
   "source": [
    "def build_stack101(x):\n",
    "    # 첫 번째 잔차 스택의 첫 번째 잔차 블록만 스트라이드 1을 사용합니다\n",
    "    x = residual_stack(x, 3, 64, first_stride=1)\n",
    "    # 두 번째~네 번째 잔차 블록을 만듭니다\n",
    "    for blocks, filters in [(4, 128), (23, 256), (3, 512)]:\n",
    "        x = residual_stack(x, blocks, filters, first_stride=2)\n",
    "    return x\n",
    "\n",
    "def build_stack152(x):\n",
    "    # 첫 번째 잔차 스택의 첫 번째 잔차 블록만 스트라이드 1을 사용합니다\n",
    "    x = residual_stack(x, 3, 64, first_stride=1)\n",
    "    # 두 번째~네 번째 잔차 블록을 만듭니다\n",
    "    for blocks, filters in [(8, 128), (36, 256), (3, 512)]:\n",
    "        x = residual_stack(x, blocks, filters, first_stride=2)\n",
    "    return x"
   ]
  },
  {
   "cell_type": "markdown",
   "id": "0820d648-d92a-49fc-b2fc-bced3c2850f4",
   "metadata": {
    "id": "0820d648-d92a-49fc-b2fc-bced3c2850f4"
   },
   "source": [
    "### 샘플 데이터로 예측하기"
   ]
  },
  {
   "cell_type": "code",
   "execution_count": 29,
   "id": "bd3f2863-70af-4229-acba-5a434df6ae0b",
   "metadata": {
    "id": "bd3f2863-70af-4229-acba-5a434df6ae0b"
   },
   "outputs": [],
   "source": [
    "from keras.applications import resnet\n",
    "\n",
    "resnet_prep_dog = resnet.preprocess_input(np.array(dog_png))"
   ]
  },
  {
   "cell_type": "code",
   "execution_count": 30,
   "id": "61e066a2-f53d-49e8-803a-6c66ccf7c5bb",
   "metadata": {
    "colab": {
     "base_uri": "https://localhost:8080/"
    },
    "id": "61e066a2-f53d-49e8-803a-6c66ccf7c5bb",
    "outputId": "9a5b2dd9-f1e0-4d83-a888-baf06ef48105",
    "scrolled": true
   },
   "outputs": [
    {
     "name": "stdout",
     "output_type": "stream",
     "text": [
      "Downloading data from https://storage.googleapis.com/tensorflow/keras-applications/resnet/resnet50_weights_tf_dim_ordering_tf_kernels.h5\n",
      "102967424/102967424 [==============================] - 1s 0us/step\n",
      "1/1 [==============================] - 2s 2s/step\n"
     ]
    }
   ],
   "source": [
    "resnet50 = keras.applications.ResNet50()\n",
    "predictions = resnet50.predict(resnet_prep_dog[np.newaxis,:])"
   ]
  },
  {
   "cell_type": "code",
   "execution_count": 31,
   "id": "7662c6ac-5cb0-4f98-bdbf-b242c53df007",
   "metadata": {
    "colab": {
     "base_uri": "https://localhost:8080/"
    },
    "id": "7662c6ac-5cb0-4f98-bdbf-b242c53df007",
    "outputId": "2a0f32d7-1b48-433d-822d-7b8d85b3c72d"
   },
   "outputs": [
    {
     "data": {
      "text/plain": [
       "[[('n02099712', 'Labrador_retriever', 0.3853527),\n",
       "  ('n02099601', 'golden_retriever', 0.08969969),\n",
       "  ('n02100735', 'English_setter', 0.042124216),\n",
       "  ('n02106166', 'Border_collie', 0.037774347),\n",
       "  ('n02101388', 'Brittany_spaniel', 0.030700443)]]"
      ]
     },
     "execution_count": 31,
     "metadata": {},
     "output_type": "execute_result"
    }
   ],
   "source": [
    "resnet.decode_predictions(predictions)"
   ]
  },
  {
   "cell_type": "code",
   "execution_count": 32,
   "id": "fee6e485-b606-42aa-a514-00831b88154f",
   "metadata": {
    "colab": {
     "base_uri": "https://localhost:8080/"
    },
    "id": "fee6e485-b606-42aa-a514-00831b88154f",
    "outputId": "7ceb35eb-ce99-4bf7-e84c-c04e22cbe870"
   },
   "outputs": [
    {
     "name": "stdout",
     "output_type": "stream",
     "text": [
      "1/1 [==============================] - 0s 23ms/step\n"
     ]
    }
   ],
   "source": [
    "resnet_prep_cat = resnet.preprocess_input(np.array(cat_png))\n",
    "predictions = resnet50.predict(resnet_prep_cat[np.newaxis,:])"
   ]
  },
  {
   "cell_type": "code",
   "execution_count": 33,
   "id": "b180eb3b-3b13-4905-bea3-4c57c2983860",
   "metadata": {
    "colab": {
     "base_uri": "https://localhost:8080/"
    },
    "id": "b180eb3b-3b13-4905-bea3-4c57c2983860",
    "outputId": "8004205f-7e7c-432f-94b6-0fe2033d10d5"
   },
   "outputs": [
    {
     "data": {
      "text/plain": [
       "[[('n02123045', 'tabby', 0.86861),\n",
       "  ('n02124075', 'Egyptian_cat', 0.05077506),\n",
       "  ('n02123159', 'tiger_cat', 0.04256709),\n",
       "  ('n07930864', 'cup', 0.0027631482),\n",
       "  ('n03443371', 'goblet', 0.0020991685)]]"
      ]
     },
     "execution_count": 33,
     "metadata": {},
     "output_type": "execute_result"
    }
   ],
   "source": [
    "resnet.decode_predictions(predictions)"
   ]
  },
  {
   "cell_type": "markdown",
   "id": "62c2e2cf-eef5-4220-b81b-6eda142775e3",
   "metadata": {
    "id": "62c2e2cf-eef5-4220-b81b-6eda142775e3"
   },
   "source": [
    "## 심화 예제"
   ]
  },
  {
   "cell_type": "code",
   "execution_count": 34,
   "id": "fa3a3149-c952-4fe1-8c06-c1a857b65083",
   "metadata": {
    "id": "fa3a3149-c952-4fe1-8c06-c1a857b65083"
   },
   "outputs": [],
   "source": [
    "from keras.utils import load_img\n",
    "from keras.applications import inception_v3\n",
    "\n",
    "dog_png = load_img(\"images/dog.png\", target_size=(299, 299))\n",
    "incep_prep_dog = inception_v3.preprocess_input(np.array(dog_png))"
   ]
  },
  {
   "cell_type": "code",
   "execution_count": 35,
   "id": "474394b5-774d-4729-8ff6-15fdb5924534",
   "metadata": {
    "colab": {
     "base_uri": "https://localhost:8080/"
    },
    "id": "474394b5-774d-4729-8ff6-15fdb5924534",
    "outputId": "5dd2c9d2-9562-47e1-87c3-5552b8d0f89f"
   },
   "outputs": [
    {
     "name": "stdout",
     "output_type": "stream",
     "text": [
      "Downloading data from https://storage.googleapis.com/tensorflow/keras-applications/inception_v3/inception_v3_weights_tf_dim_ordering_tf_kernels.h5\n",
      "96112376/96112376 [==============================] - 1s 0us/step\n",
      "1/1 [==============================] - 3s 3s/step\n"
     ]
    },
    {
     "data": {
      "text/plain": [
       "[[('n02104029', 'kuvasz', 0.1383507),\n",
       "  ('n02099712', 'Labrador_retriever', 0.07777292),\n",
       "  ('n02106166', 'Border_collie', 0.071983404),\n",
       "  ('n02111500', 'Great_Pyrenees', 0.066149056),\n",
       "  ('n02099601', 'golden_retriever', 0.0283834)]]"
      ]
     },
     "execution_count": 35,
     "metadata": {},
     "output_type": "execute_result"
    }
   ],
   "source": [
    "inception = keras.applications.InceptionV3()\n",
    "predictions = inception.predict(incep_prep_dog[np.newaxis,:])\n",
    "inception_v3.decode_predictions(predictions)"
   ]
  },
  {
   "cell_type": "code",
   "execution_count": 36,
   "id": "525bdded-89b8-42c3-bdd2-91093fe1630f",
   "metadata": {
    "colab": {
     "base_uri": "https://localhost:8080/"
    },
    "id": "525bdded-89b8-42c3-bdd2-91093fe1630f",
    "outputId": "6995da49-f76e-4b3a-89c3-94964c2a63bf"
   },
   "outputs": [
    {
     "name": "stdout",
     "output_type": "stream",
     "text": [
      "1/1 [==============================] - 0s 36ms/step\n"
     ]
    },
    {
     "data": {
      "text/plain": [
       "[[('n02124075', 'Egyptian_cat', 0.6867369),\n",
       "  ('n02123159', 'tiger_cat', 0.13262996),\n",
       "  ('n02123045', 'tabby', 0.0421502),\n",
       "  ('n04040759', 'radiator', 0.0016103365),\n",
       "  ('n02971356', 'carton', 0.0011297752)]]"
      ]
     },
     "execution_count": 36,
     "metadata": {},
     "output_type": "execute_result"
    }
   ],
   "source": [
    "cat_png = load_img(\"images/cat.png\", target_size=(299, 299))\n",
    "incep_prep_cat = inception_v3.preprocess_input(np.array(cat_png))\n",
    "predictions = inception.predict(incep_prep_cat[np.newaxis,:])\n",
    "inception_v3.decode_predictions(predictions)"
   ]
  },
  {
   "cell_type": "code",
   "execution_count": 37,
   "id": "e417d3e1-75fa-4eb9-bae5-cf14ffc10332",
   "metadata": {
    "colab": {
     "base_uri": "https://localhost:8080/"
    },
    "id": "e417d3e1-75fa-4eb9-bae5-cf14ffc10332",
    "outputId": "6c9f06da-235f-4467-a40b-22d4c6c36b63"
   },
   "outputs": [
    {
     "name": "stdout",
     "output_type": "stream",
     "text": [
      "Downloading data from https://storage.googleapis.com/tensorflow/keras-applications/inception_resnet_v2/inception_resnet_v2_weights_tf_dim_ordering_tf_kernels.h5\n",
      "225209952/225209952 [==============================] - 2s 0us/step\n",
      "1/1 [==============================] - 5s 5s/step\n"
     ]
    },
    {
     "data": {
      "text/plain": [
       "[[('n02099712', 'Labrador_retriever', 0.65633386),\n",
       "  ('n02104029', 'kuvasz', 0.13956147),\n",
       "  ('n02099601', 'golden_retriever', 0.055945143),\n",
       "  ('n02111500', 'Great_Pyrenees', 0.048894607),\n",
       "  ('n02100735', 'English_setter', 0.0021178785)]]"
      ]
     },
     "execution_count": 37,
     "metadata": {},
     "output_type": "execute_result"
    }
   ],
   "source": [
    "from keras.applications import inception_resnet_v2 as incep_res_v2\n",
    "\n",
    "incep_res_prep_dog = incep_res_v2.preprocess_input(np.array(dog_png))\n",
    "inception_resnet = keras.applications.InceptionResNetV2()\n",
    "predictions = inception_resnet.predict(incep_res_prep_dog[np.newaxis,:])\n",
    "incep_res_v2.decode_predictions(predictions)"
   ]
  },
  {
   "cell_type": "code",
   "execution_count": 38,
   "id": "6e8cfcca-f88d-4fc4-8e25-1eb0d0c220f2",
   "metadata": {
    "colab": {
     "base_uri": "https://localhost:8080/"
    },
    "id": "6e8cfcca-f88d-4fc4-8e25-1eb0d0c220f2",
    "outputId": "dac2899e-36ec-4b38-80e1-5ffc82231c10"
   },
   "outputs": [
    {
     "name": "stdout",
     "output_type": "stream",
     "text": [
      "1/1 [==============================] - 0s 41ms/step\n"
     ]
    },
    {
     "data": {
      "text/plain": [
       "[[('n02123045', 'tabby', 0.42494792),\n",
       "  ('n02124075', 'Egyptian_cat', 0.2583104),\n",
       "  ('n02123159', 'tiger_cat', 0.12795246),\n",
       "  ('n02127052', 'lynx', 0.0034486067),\n",
       "  ('n04525038', 'velvet', 0.0024461013)]]"
      ]
     },
     "execution_count": 38,
     "metadata": {},
     "output_type": "execute_result"
    }
   ],
   "source": [
    "incep_res_prep_cat = incep_res_v2.preprocess_input(np.array(cat_png))\n",
    "predictions = inception_resnet.predict(incep_res_prep_cat[np.newaxis,:])\n",
    "incep_res_v2.decode_predictions(predictions)"
   ]
  }
 ],
 "metadata": {
  "accelerator": "GPU",
  "colab": {
   "gpuType": "T4",
   "provenance": []
  },
  "environment": {
   "kernel": "python3",
   "name": "common-cpu.m102",
   "type": "gcloud",
   "uri": "gcr.io/deeplearning-platform-release/base-cpu:m102"
  },
  "kernelspec": {
   "display_name": "Python 3.10 on Backend.AI",
   "language": "python",
   "name": "python3"
  },
  "language_info": {
   "codemirror_mode": {
    "name": "ipython",
    "version": 3
   },
   "file_extension": ".py",
   "mimetype": "text/x-python",
   "name": "python",
   "nbconvert_exporter": "python",
   "pygments_lexer": "ipython3",
   "version": "3.10.8"
  }
 },
 "nbformat": 4,
 "nbformat_minor": 5
}
