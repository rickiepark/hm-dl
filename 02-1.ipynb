{
 "cells": [
  {
   "cell_type": "markdown",
   "id": "eaa836a9-0e17-42e4-b2ba-83d098258aee",
   "metadata": {},
   "source": [
    "# 02-1 훈련된 모델을 재사용하기"
   ]
  },
  {
   "cell_type": "markdown",
   "id": "b4baa27d-6451-40af-a089-97d2537f53df",
   "metadata": {},
   "source": [
    "## AlexNet"
   ]
  },
  {
   "cell_type": "code",
   "execution_count": 1,
   "id": "87172a7f-dec9-48c6-857a-a00a9d9360c8",
   "metadata": {},
   "outputs": [
    {
     "name": "stderr",
     "output_type": "stream",
     "text": [
      "2023-02-19 02:51:23.168766: I tensorflow/core/platform/cpu_feature_guard.cc:193] This TensorFlow binary is optimized with oneAPI Deep Neural Network Library (oneDNN) to use the following CPU instructions in performance-critical operations:  AVX2 FMA\n",
      "To enable them in other operations, rebuild TensorFlow with the appropriate compiler flags.\n"
     ]
    }
   ],
   "source": [
    "import tensorflow as tf\n",
    "from tensorflow import keras\n",
    "from tensorflow.keras import layers"
   ]
  },
  {
   "cell_type": "code",
   "execution_count": 2,
   "id": "3b0a9c8b-4106-4f4e-99ae-f3e11cf97e6a",
   "metadata": {},
   "outputs": [
    {
     "name": "stderr",
     "output_type": "stream",
     "text": [
      "2023-02-19 02:51:24.759685: I tensorflow/core/platform/cpu_feature_guard.cc:193] This TensorFlow binary is optimized with oneAPI Deep Neural Network Library (oneDNN) to use the following CPU instructions in performance-critical operations:  AVX2 FMA\n",
      "To enable them in other operations, rebuild TensorFlow with the appropriate compiler flags.\n"
     ]
    }
   ],
   "source": [
    "alexnet = keras.models.Sequential()\n",
    "alexnet.add(layers.Conv2D(filters=96, kernel_size=11, strides=4, \n",
    "                          activation='relu', input_shape=(224, 224, 3)))\n",
    "alexnet.add(layers.MaxPool2D(pool_size=3, strides=2))\n",
    "alexnet.add(layers.Conv2D(filters=256, kernel_size=5, padding='same',\n",
    "                          activation='relu'))\n",
    "alexnet.add(layers.MaxPool2D(pool_size=3, strides=2))\n",
    "alexnet.add(layers.Conv2D(filters=384, kernel_size=3, padding='same',\n",
    "                          activation='relu'))\n",
    "alexnet.add(layers.Conv2D(filters=384, kernel_size=3, padding='same',\n",
    "                          activation='relu'))\n",
    "alexnet.add(layers.Conv2D(filters=256, kernel_size=3, padding='same',\n",
    "                          activation='relu'))\n",
    "alexnet.add(layers.MaxPool2D(pool_size=3, strides=2))\n",
    "alexnet.add(layers.Flatten())\n",
    "alexnet.add(layers.Dense(4096, activation='relu'))\n",
    "alexnet.add(layers.Dropout(0.5))\n",
    "alexnet.add(layers.Dense(4096, activation='relu'))\n",
    "alexnet.add(layers.Dropout(0.5))\n",
    "alexnet.add(layers.Dense(1000))"
   ]
  },
  {
   "cell_type": "code",
   "execution_count": 3,
   "id": "96ba08d2-1883-4d32-87dd-43571b58b348",
   "metadata": {},
   "outputs": [
    {
     "name": "stdout",
     "output_type": "stream",
     "text": [
      "Model: \"sequential\"\n",
      "_________________________________________________________________\n",
      " Layer (type)                Output Shape              Param #   \n",
      "=================================================================\n",
      " conv2d (Conv2D)             (None, 54, 54, 96)        34944     \n",
      "                                                                 \n",
      " max_pooling2d (MaxPooling2D  (None, 26, 26, 96)       0         \n",
      " )                                                               \n",
      "                                                                 \n",
      " conv2d_1 (Conv2D)           (None, 26, 26, 256)       614656    \n",
      "                                                                 \n",
      " max_pooling2d_1 (MaxPooling  (None, 12, 12, 256)      0         \n",
      " 2D)                                                             \n",
      "                                                                 \n",
      " conv2d_2 (Conv2D)           (None, 12, 12, 384)       885120    \n",
      "                                                                 \n",
      " conv2d_3 (Conv2D)           (None, 12, 12, 384)       1327488   \n",
      "                                                                 \n",
      " conv2d_4 (Conv2D)           (None, 12, 12, 256)       884992    \n",
      "                                                                 \n",
      " max_pooling2d_2 (MaxPooling  (None, 5, 5, 256)        0         \n",
      " 2D)                                                             \n",
      "                                                                 \n",
      " flatten (Flatten)           (None, 6400)              0         \n",
      "                                                                 \n",
      " dense (Dense)               (None, 4096)              26218496  \n",
      "                                                                 \n",
      " dropout (Dropout)           (None, 4096)              0         \n",
      "                                                                 \n",
      " dense_1 (Dense)             (None, 4096)              16781312  \n",
      "                                                                 \n",
      " dropout_1 (Dropout)         (None, 4096)              0         \n",
      "                                                                 \n",
      " dense_2 (Dense)             (None, 1000)              4097000   \n",
      "                                                                 \n",
      "=================================================================\n",
      "Total params: 50,844,008\n",
      "Trainable params: 50,844,008\n",
      "Non-trainable params: 0\n",
      "_________________________________________________________________\n"
     ]
    }
   ],
   "source": [
    "alexnet.summary()"
   ]
  },
  {
   "cell_type": "markdown",
   "id": "152c3a16-fced-4d0a-9f91-ca12fdc82c37",
   "metadata": {},
   "source": [
    "## VGGNet"
   ]
  },
  {
   "cell_type": "code",
   "execution_count": 4,
   "id": "c48924cb-442b-4e55-a58a-d7902035054b",
   "metadata": {},
   "outputs": [],
   "source": [
    "vgg16 = keras.models.Sequential()\n",
    "vgg16.add(layers.InputLayer(input_shape=(224, 224, 3)))\n",
    "\n",
    "# 1, 2번째 블록\n",
    "for n_filters in [64, 128]:\n",
    "    for _ in range(2):\n",
    "        vgg16.add(layers.Conv2D(filters=n_filters, kernel_size=3, \n",
    "                                padding='same', activation='relu'))\n",
    "    vgg16.add(layers.MaxPool2D(pool_size=2))\n",
    "\n",
    "# 3, 4, 5번째 블록\n",
    "for n_filters in [256, 512, 512]:\n",
    "    for _ in range(3):\n",
    "        vgg16.add(layers.Conv2D(filters=n_filters, kernel_size=3, \n",
    "                                padding='same', activation='relu'))\n",
    "    vgg16.add(layers.MaxPool2D(pool_size=2))\n",
    "\n",
    "vgg16.add(layers.Flatten())\n",
    "vgg16.add(layers.Dense(4096, activation='relu'))\n",
    "vgg16.add(layers.Dense(4096, activation='relu'))\n",
    "vgg16.add(layers.Dense(1000))"
   ]
  },
  {
   "cell_type": "code",
   "execution_count": 5,
   "id": "afae5aa8-450d-4d5e-8964-700ea4851576",
   "metadata": {},
   "outputs": [
    {
     "name": "stdout",
     "output_type": "stream",
     "text": [
      "Model: \"sequential_1\"\n",
      "_________________________________________________________________\n",
      " Layer (type)                Output Shape              Param #   \n",
      "=================================================================\n",
      " conv2d_5 (Conv2D)           (None, 224, 224, 64)      1792      \n",
      "                                                                 \n",
      " conv2d_6 (Conv2D)           (None, 224, 224, 64)      36928     \n",
      "                                                                 \n",
      " max_pooling2d_3 (MaxPooling  (None, 112, 112, 64)     0         \n",
      " 2D)                                                             \n",
      "                                                                 \n",
      " conv2d_7 (Conv2D)           (None, 112, 112, 128)     73856     \n",
      "                                                                 \n",
      " conv2d_8 (Conv2D)           (None, 112, 112, 128)     147584    \n",
      "                                                                 \n",
      " max_pooling2d_4 (MaxPooling  (None, 56, 56, 128)      0         \n",
      " 2D)                                                             \n",
      "                                                                 \n",
      " conv2d_9 (Conv2D)           (None, 56, 56, 256)       295168    \n",
      "                                                                 \n",
      " conv2d_10 (Conv2D)          (None, 56, 56, 256)       590080    \n",
      "                                                                 \n",
      " conv2d_11 (Conv2D)          (None, 56, 56, 256)       590080    \n",
      "                                                                 \n",
      " max_pooling2d_5 (MaxPooling  (None, 28, 28, 256)      0         \n",
      " 2D)                                                             \n",
      "                                                                 \n",
      " conv2d_12 (Conv2D)          (None, 28, 28, 512)       1180160   \n",
      "                                                                 \n",
      " conv2d_13 (Conv2D)          (None, 28, 28, 512)       2359808   \n",
      "                                                                 \n",
      " conv2d_14 (Conv2D)          (None, 28, 28, 512)       2359808   \n",
      "                                                                 \n",
      " max_pooling2d_6 (MaxPooling  (None, 14, 14, 512)      0         \n",
      " 2D)                                                             \n",
      "                                                                 \n",
      " conv2d_15 (Conv2D)          (None, 14, 14, 512)       2359808   \n",
      "                                                                 \n",
      " conv2d_16 (Conv2D)          (None, 14, 14, 512)       2359808   \n",
      "                                                                 \n",
      " conv2d_17 (Conv2D)          (None, 14, 14, 512)       2359808   \n",
      "                                                                 \n",
      " max_pooling2d_7 (MaxPooling  (None, 7, 7, 512)        0         \n",
      " 2D)                                                             \n",
      "                                                                 \n",
      " flatten_1 (Flatten)         (None, 25088)             0         \n",
      "                                                                 \n",
      " dense_3 (Dense)             (None, 4096)              102764544 \n",
      "                                                                 \n",
      " dense_4 (Dense)             (None, 4096)              16781312  \n",
      "                                                                 \n",
      " dense_5 (Dense)             (None, 1000)              4097000   \n",
      "                                                                 \n",
      "=================================================================\n",
      "Total params: 138,357,544\n",
      "Trainable params: 138,357,544\n",
      "Non-trainable params: 0\n",
      "_________________________________________________________________\n"
     ]
    }
   ],
   "source": [
    "vgg16.summary()"
   ]
  },
  {
   "cell_type": "code",
   "execution_count": null,
   "id": "120ce7b6-c009-4d23-b181-be5e6015f452",
   "metadata": {},
   "outputs": [],
   "source": []
  }
 ],
 "metadata": {
  "environment": {
   "kernel": "python3",
   "name": "common-cpu.m102",
   "type": "gcloud",
   "uri": "gcr.io/deeplearning-platform-release/base-cpu:m102"
  },
  "kernelspec": {
   "display_name": "Python 3",
   "language": "python",
   "name": "python3"
  },
  "language_info": {
   "codemirror_mode": {
    "name": "ipython",
    "version": 3
   },
   "file_extension": ".py",
   "mimetype": "text/x-python",
   "name": "python",
   "nbconvert_exporter": "python",
   "pygments_lexer": "ipython3",
   "version": "3.7.12"
  }
 },
 "nbformat": 4,
 "nbformat_minor": 5
}
