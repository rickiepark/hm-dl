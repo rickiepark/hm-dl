{
 "cells": [
  {
   "cell_type": "markdown",
   "id": "eaa836a9-0e17-42e4-b2ba-83d098258aee",
   "metadata": {
    "id": "eaa836a9-0e17-42e4-b2ba-83d098258aee"
   },
   "source": [
    "# 02-1 합성곱 신경망의 신호탄 AlexNet과 VGGNet"
   ]
  },
  {
   "cell_type": "markdown",
   "id": "93ea5880-c286-4b51-9880-4f0839f8aa8f",
   "metadata": {
    "id": "93ea5880-c286-4b51-9880-4f0839f8aa8f"
   },
   "source": [
    "<table align=\"left\"><tr><td>\n",
    "<a href=\"https://colab.research.google.com/github/rickiepark/hm-dl/blob/main/02-1.ipynb\" target=\"_parent\"><img src=\"https://colab.research.google.com/assets/colab-badge.svg\" alt=\"코랩에서 실행하기\"/></a>\n",
    "</td></tr></table>"
   ]
  },
  {
   "cell_type": "markdown",
   "id": "b4baa27d-6451-40af-a089-97d2537f53df",
   "metadata": {
    "id": "b4baa27d-6451-40af-a089-97d2537f53df"
   },
   "source": [
    "## AlexNet"
   ]
  },
  {
   "cell_type": "markdown",
   "id": "afd6fa65",
   "metadata": {},
   "source": [
    "### 케라스로 AlexNet 만들기"
   ]
  },
  {
   "cell_type": "code",
   "execution_count": 1,
   "id": "87172a7f-dec9-48c6-857a-a00a9d9360c8",
   "metadata": {
    "id": "87172a7f-dec9-48c6-857a-a00a9d9360c8",
    "scrolled": true
   },
   "outputs": [],
   "source": [
    "import keras\n",
    "from keras import layers"
   ]
  },
  {
   "cell_type": "code",
   "execution_count": 2,
   "id": "3b0a9c8b-4106-4f4e-99ae-f3e11cf97e6a",
   "metadata": {
    "id": "3b0a9c8b-4106-4f4e-99ae-f3e11cf97e6a"
   },
   "outputs": [],
   "source": [
    "alexnet = keras.Sequential()\n",
    "alexnet.add(layers.Conv2D(filters=96, kernel_size=11, strides=4,\n",
    "                          activation='relu', input_shape=(227, 227, 3)))\n",
    "alexnet.add(layers.MaxPooling2D(pool_size=3, strides=2))\n",
    "alexnet.add(layers.Conv2D(filters=256, kernel_size=5, padding='same',\n",
    "                          activation='relu'))\n",
    "alexnet.add(layers.MaxPooling2D(pool_size=3, strides=2))\n",
    "alexnet.add(layers.Conv2D(filters=384, kernel_size=3, padding='same',\n",
    "                          activation='relu'))\n",
    "alexnet.add(layers.Conv2D(filters=384, kernel_size=3, padding='same',\n",
    "                          activation='relu'))\n",
    "alexnet.add(layers.Conv2D(filters=256, kernel_size=3, padding='same',\n",
    "                          activation='relu'))\n",
    "alexnet.add(layers.MaxPooling2D(pool_size=3, strides=2))\n",
    "alexnet.add(layers.Flatten())\n",
    "alexnet.add(layers.Dense(4096, activation='relu'))\n",
    "alexnet.add(layers.Dropout(0.5))\n",
    "alexnet.add(layers.Dense(4096, activation='relu'))\n",
    "alexnet.add(layers.Dropout(0.5))\n",
    "alexnet.add(layers.Dense(1000, activation='softmax'))"
   ]
  },
  {
   "cell_type": "markdown",
   "id": "466472dd",
   "metadata": {},
   "source": [
    "### AlexNet 모델 구조 분석하기"
   ]
  },
  {
   "cell_type": "code",
   "execution_count": 3,
   "id": "96ba08d2-1883-4d32-87dd-43571b58b348",
   "metadata": {
    "colab": {
     "base_uri": "https://localhost:8080/"
    },
    "id": "96ba08d2-1883-4d32-87dd-43571b58b348",
    "outputId": "c99597eb-2730-4ddb-cd73-25ec1da1aefc"
   },
   "outputs": [
    {
     "name": "stdout",
     "output_type": "stream",
     "text": [
      "Model: \"sequential\"\n",
      "_________________________________________________________________\n",
      " Layer (type)                Output Shape              Param #   \n",
      "=================================================================\n",
      " conv2d (Conv2D)             (None, 55, 55, 96)        34944     \n",
      "                                                                 \n",
      " max_pooling2d (MaxPooling2  (None, 27, 27, 96)        0         \n",
      " D)                                                              \n",
      "                                                                 \n",
      " conv2d_1 (Conv2D)           (None, 27, 27, 256)       614656    \n",
      "                                                                 \n",
      " max_pooling2d_1 (MaxPoolin  (None, 13, 13, 256)       0         \n",
      " g2D)                                                            \n",
      "                                                                 \n",
      " conv2d_2 (Conv2D)           (None, 13, 13, 384)       885120    \n",
      "                                                                 \n",
      " conv2d_3 (Conv2D)           (None, 13, 13, 384)       1327488   \n",
      "                                                                 \n",
      " conv2d_4 (Conv2D)           (None, 13, 13, 256)       884992    \n",
      "                                                                 \n",
      " max_pooling2d_2 (MaxPoolin  (None, 6, 6, 256)         0         \n",
      " g2D)                                                            \n",
      "                                                                 \n",
      " flatten (Flatten)           (None, 9216)              0         \n",
      "                                                                 \n",
      " dense (Dense)               (None, 4096)              37752832  \n",
      "                                                                 \n",
      " dropout (Dropout)           (None, 4096)              0         \n",
      "                                                                 \n",
      " dense_1 (Dense)             (None, 4096)              16781312  \n",
      "                                                                 \n",
      " dropout_1 (Dropout)         (None, 4096)              0         \n",
      "                                                                 \n",
      " dense_2 (Dense)             (None, 1000)              4097000   \n",
      "                                                                 \n",
      "=================================================================\n",
      "Total params: 62378344 (237.95 MB)\n",
      "Trainable params: 62378344 (237.95 MB)\n",
      "Non-trainable params: 0 (0.00 Byte)\n",
      "_________________________________________________________________\n"
     ]
    }
   ],
   "source": [
    "alexnet.summary()"
   ]
  },
  {
   "cell_type": "markdown",
   "id": "152c3a16-fced-4d0a-9f91-ca12fdc82c37",
   "metadata": {
    "id": "152c3a16-fced-4d0a-9f91-ca12fdc82c37"
   },
   "source": [
    "## VGGNet"
   ]
  },
  {
   "cell_type": "markdown",
   "id": "6792d43d",
   "metadata": {},
   "source": [
    "### 케라스로 VGGNet 만들기"
   ]
  },
  {
   "cell_type": "code",
   "execution_count": 4,
   "id": "c48924cb-442b-4e55-a58a-d7902035054b",
   "metadata": {
    "id": "c48924cb-442b-4e55-a58a-d7902035054b"
   },
   "outputs": [],
   "source": [
    "vggnet = keras.Sequential()\n",
    "vggnet.add(layers.InputLayer(input_shape=(224, 224, 3)))\n",
    "\n",
    "# 1, 2번째 블록\n",
    "for n_filters in [64, 128]:\n",
    "    for _ in range(2):\n",
    "        vggnet.add(layers.Conv2D(filters=n_filters, kernel_size=3,\n",
    "                                 padding='same', activation='relu'))\n",
    "    vggnet.add(layers.MaxPooling2D(pool_size=2))\n",
    "\n",
    "# 3, 4, 5번째 블록\n",
    "for n_filters in [256, 512, 512]:\n",
    "    for _ in range(3):\n",
    "        vggnet.add(layers.Conv2D(filters=n_filters, kernel_size=3,\n",
    "                                 padding='same', activation='relu'))\n",
    "    vggnet.add(layers.MaxPooling2D(pool_size=2))\n",
    "\n",
    "vggnet.add(layers.Flatten())\n",
    "vggnet.add(layers.Dense(4096, activation='relu'))\n",
    "vggnet.add(layers.Dense(4096, activation='relu'))\n",
    "vggnet.add(layers.Dense(1000, activation='softmax'))"
   ]
  },
  {
   "cell_type": "markdown",
   "id": "e3219fc1",
   "metadata": {},
   "source": [
    "### VGGNet 모델 구조 분석하기"
   ]
  },
  {
   "cell_type": "code",
   "execution_count": 5,
   "id": "afae5aa8-450d-4d5e-8964-700ea4851576",
   "metadata": {
    "colab": {
     "base_uri": "https://localhost:8080/"
    },
    "id": "afae5aa8-450d-4d5e-8964-700ea4851576",
    "outputId": "4d310689-c64f-4aed-caa3-c28b545f9ed7"
   },
   "outputs": [
    {
     "name": "stdout",
     "output_type": "stream",
     "text": [
      "Model: \"sequential_1\"\n",
      "_________________________________________________________________\n",
      " Layer (type)                Output Shape              Param #   \n",
      "=================================================================\n",
      " conv2d_5 (Conv2D)           (None, 224, 224, 64)      1792      \n",
      "                                                                 \n",
      " conv2d_6 (Conv2D)           (None, 224, 224, 64)      36928     \n",
      "                                                                 \n",
      " max_pooling2d_3 (MaxPoolin  (None, 112, 112, 64)      0         \n",
      " g2D)                                                            \n",
      "                                                                 \n",
      " conv2d_7 (Conv2D)           (None, 112, 112, 128)     73856     \n",
      "                                                                 \n",
      " conv2d_8 (Conv2D)           (None, 112, 112, 128)     147584    \n",
      "                                                                 \n",
      " max_pooling2d_4 (MaxPoolin  (None, 56, 56, 128)       0         \n",
      " g2D)                                                            \n",
      "                                                                 \n",
      " conv2d_9 (Conv2D)           (None, 56, 56, 256)       295168    \n",
      "                                                                 \n",
      " conv2d_10 (Conv2D)          (None, 56, 56, 256)       590080    \n",
      "                                                                 \n",
      " conv2d_11 (Conv2D)          (None, 56, 56, 256)       590080    \n",
      "                                                                 \n",
      " max_pooling2d_5 (MaxPoolin  (None, 28, 28, 256)       0         \n",
      " g2D)                                                            \n",
      "                                                                 \n",
      " conv2d_12 (Conv2D)          (None, 28, 28, 512)       1180160   \n",
      "                                                                 \n",
      " conv2d_13 (Conv2D)          (None, 28, 28, 512)       2359808   \n",
      "                                                                 \n",
      " conv2d_14 (Conv2D)          (None, 28, 28, 512)       2359808   \n",
      "                                                                 \n",
      " max_pooling2d_6 (MaxPoolin  (None, 14, 14, 512)       0         \n",
      " g2D)                                                            \n",
      "                                                                 \n",
      " conv2d_15 (Conv2D)          (None, 14, 14, 512)       2359808   \n",
      "                                                                 \n",
      " conv2d_16 (Conv2D)          (None, 14, 14, 512)       2359808   \n",
      "                                                                 \n",
      " conv2d_17 (Conv2D)          (None, 14, 14, 512)       2359808   \n",
      "                                                                 \n",
      " max_pooling2d_7 (MaxPoolin  (None, 7, 7, 512)         0         \n",
      " g2D)                                                            \n",
      "                                                                 \n",
      " flatten_1 (Flatten)         (None, 25088)             0         \n",
      "                                                                 \n",
      " dense_3 (Dense)             (None, 4096)              102764544 \n",
      "                                                                 \n",
      " dense_4 (Dense)             (None, 4096)              16781312  \n",
      "                                                                 \n",
      " dense_5 (Dense)             (None, 1000)              4097000   \n",
      "                                                                 \n",
      "=================================================================\n",
      "Total params: 138357544 (527.79 MB)\n",
      "Trainable params: 138357544 (527.79 MB)\n",
      "Non-trainable params: 0 (0.00 Byte)\n",
      "_________________________________________________________________\n"
     ]
    }
   ],
   "source": [
    "vggnet.summary()"
   ]
  }
 ],
 "metadata": {
  "accelerator": "GPU",
  "colab": {
   "gpuType": "T4",
   "provenance": []
  },
  "environment": {
   "kernel": "python3",
   "name": "common-cpu.m102",
   "type": "gcloud",
   "uri": "gcr.io/deeplearning-platform-release/base-cpu:m102"
  },
  "kernelspec": {
   "display_name": "Python 3.10 on Backend.AI",
   "language": "python",
   "name": "python3"
  },
  "language_info": {
   "codemirror_mode": {
    "name": "ipython",
    "version": 3
   },
   "file_extension": ".py",
   "mimetype": "text/x-python",
   "name": "python",
   "nbconvert_exporter": "python",
   "pygments_lexer": "ipython3",
   "version": "3.10.8"
  }
 },
 "nbformat": 4,
 "nbformat_minor": 5
}
