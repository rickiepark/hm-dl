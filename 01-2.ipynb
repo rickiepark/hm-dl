{
  "cells": [
    {
      "cell_type": "markdown",
      "id": "122beaf6-3bb0-40fd-be02-6a49afc7cf3d",
      "metadata": {
        "id": "122beaf6-3bb0-40fd-be02-6a49afc7cf3d"
      },
      "source": [
        "# 01-2 패션 이미지의 분류 정확도를 높여라!"
      ]
    },
    {
      "cell_type": "markdown",
      "source": [
        "<table align=\"left\"><tr><td>\n",
        "<a href=\"https://colab.research.google.com/github/rickiepark/hm-dl/blob/main/01-2.ipynb\" target=\"_parent\"><img src=\"https://colab.research.google.com/assets/colab-badge.svg\" alt=\"코랩에서 실행하기\"/></a>\n",
        "</td></tr></table>"
      ],
      "metadata": {
        "id": "U4JZBNc8NEFA"
      },
      "id": "U4JZBNc8NEFA"
    },
    {
      "cell_type": "markdown",
      "id": "4e009efb-ecae-45fc-a970-0ee79e1291ce",
      "metadata": {
        "id": "4e009efb-ecae-45fc-a970-0ee79e1291ce"
      },
      "source": [
        "## LetNet-5"
      ]
    },
    {
      "cell_type": "code",
      "execution_count": 1,
      "id": "a78550bc-64fb-4fd7-bc02-bf918f77fb1a",
      "metadata": {
        "id": "a78550bc-64fb-4fd7-bc02-bf918f77fb1a"
      },
      "outputs": [],
      "source": [
        "import keras\n",
        "from keras import layers"
      ]
    },
    {
      "cell_type": "code",
      "execution_count": 2,
      "id": "7dc8c9f9-3ea4-47ac-913d-036ccc0c44df",
      "metadata": {
        "id": "7dc8c9f9-3ea4-47ac-913d-036ccc0c44df"
      },
      "outputs": [],
      "source": [
        "lenet5 = keras.models.Sequential()\n",
        "lenet5.add(layers.Conv2D(filters=6, kernel_size=5, activation='sigmoid',\n",
        "                         padding='same', input_shape=(28,28,1)))\n",
        "lenet5.add(layers.AveragePooling2D(pool_size=2))\n",
        "lenet5.add(layers.Conv2D(filters=16, kernel_size=5, activation='sigmoid'))\n",
        "lenet5.add(layers.AveragePooling2D(pool_size=2))\n",
        "lenet5.add(layers.Flatten())\n",
        "lenet5.add(layers.Dense(120, activation='sigmoid'))\n",
        "lenet5.add(layers.Dense(84, activation='sigmoid'))\n",
        "lenet5.add(layers.Dense(10, activation='softmax'))"
      ]
    },
    {
      "cell_type": "code",
      "execution_count": 3,
      "id": "595aeb0a-a2f1-47ee-93b2-a853ea52b0dc",
      "metadata": {
        "id": "595aeb0a-a2f1-47ee-93b2-a853ea52b0dc",
        "outputId": "bf8bcf06-8a6c-4f72-b95f-cda347b14b31",
        "colab": {
          "base_uri": "https://localhost:8080/"
        }
      },
      "outputs": [
        {
          "output_type": "stream",
          "name": "stdout",
          "text": [
            "Model: \"sequential\"\n",
            "_________________________________________________________________\n",
            " Layer (type)                Output Shape              Param #   \n",
            "=================================================================\n",
            " conv2d (Conv2D)             (None, 28, 28, 6)         156       \n",
            "                                                                 \n",
            " average_pooling2d (Average  (None, 14, 14, 6)         0         \n",
            " Pooling2D)                                                      \n",
            "                                                                 \n",
            " conv2d_1 (Conv2D)           (None, 10, 10, 16)        2416      \n",
            "                                                                 \n",
            " average_pooling2d_1 (Avera  (None, 5, 5, 16)          0         \n",
            " gePooling2D)                                                    \n",
            "                                                                 \n",
            " flatten (Flatten)           (None, 400)               0         \n",
            "                                                                 \n",
            " dense (Dense)               (None, 120)               48120     \n",
            "                                                                 \n",
            " dense_1 (Dense)             (None, 84)                10164     \n",
            "                                                                 \n",
            " dense_2 (Dense)             (None, 10)                850       \n",
            "                                                                 \n",
            "=================================================================\n",
            "Total params: 61706 (241.04 KB)\n",
            "Trainable params: 61706 (241.04 KB)\n",
            "Non-trainable params: 0 (0.00 Byte)\n",
            "_________________________________________________________________\n"
          ]
        }
      ],
      "source": [
        "lenet5.summary()"
      ]
    },
    {
      "cell_type": "markdown",
      "id": "3c9e30ff-3dd8-4114-b060-fb0f1811745d",
      "metadata": {
        "id": "3c9e30ff-3dd8-4114-b060-fb0f1811745d"
      },
      "source": [
        "소프트맥스 함수: $f(x)_i = \\dfrac{e^{z_i}}{\\sum_{j=1}^{k}e^{z_j}}$\n",
        "\n",
        "$f(x) = \\dfrac{e^{z_1}+e^{z_2}+...+e^{z_k}}{\\sum_{j=1}^{k}e^{z_j}}=1$"
      ]
    },
    {
      "cell_type": "markdown",
      "id": "ba6fecc8-a4bb-4671-98aa-5854e07bc881",
      "metadata": {
        "id": "ba6fecc8-a4bb-4671-98aa-5854e07bc881"
      },
      "source": [
        "## Conv2D 층"
      ]
    },
    {
      "cell_type": "code",
      "source": [
        "import numpy as np\n",
        "\n",
        "conv1 = layers.Conv2D(filters=10, kernel_size=(3, 3))\n",
        "x = np.random.normal(size=(10, 28, 28, 1))\n",
        "conv_out = conv1(x)\n",
        "print(conv_out.shape)"
      ],
      "metadata": {
        "id": "CM085FYkOhKv",
        "outputId": "20d1c0bb-1963-4739-91b5-fda905aa814a",
        "colab": {
          "base_uri": "https://localhost:8080/"
        }
      },
      "id": "CM085FYkOhKv",
      "execution_count": 4,
      "outputs": [
        {
          "output_type": "stream",
          "name": "stdout",
          "text": [
            "(10, 26, 26, 10)\n"
          ]
        }
      ]
    },
    {
      "cell_type": "code",
      "execution_count": 5,
      "id": "085eae53-4b5f-4dd3-99a5-2a3782112759",
      "metadata": {
        "id": "085eae53-4b5f-4dd3-99a5-2a3782112759",
        "outputId": "224f40bc-1dc1-46f0-80bb-ded53b20ab0c",
        "colab": {
          "base_uri": "https://localhost:8080/"
        }
      },
      "outputs": [
        {
          "output_type": "stream",
          "name": "stdout",
          "text": [
            "(10, 13, 13, 10)\n"
          ]
        }
      ],
      "source": [
        "conv2 = layers.Conv2D(filters=10, kernel_size=(3, 3), strides=(2, 2))\n",
        "print(conv2(x).shape)"
      ]
    },
    {
      "cell_type": "code",
      "execution_count": 6,
      "id": "f8306c2b-eeee-46ae-a937-2b736ae9055c",
      "metadata": {
        "id": "f8306c2b-eeee-46ae-a937-2b736ae9055c",
        "outputId": "15aaedef-55b6-4f47-ff14-bce44379c1f8",
        "colab": {
          "base_uri": "https://localhost:8080/"
        }
      },
      "outputs": [
        {
          "output_type": "stream",
          "name": "stdout",
          "text": [
            "(10, 14, 14, 10)\n"
          ]
        }
      ],
      "source": [
        "conv3 = layers.Conv2D(filters=10, kernel_size=(3, 3), strides=(2, 2), padding='same')\n",
        "print(conv3(x).shape)"
      ]
    },
    {
      "cell_type": "code",
      "execution_count": 7,
      "id": "4ad7dd4d-f66c-47d7-a251-a252fa8e4319",
      "metadata": {
        "id": "4ad7dd4d-f66c-47d7-a251-a252fa8e4319",
        "outputId": "38296bbd-a12e-43f6-8c33-9fab32cbbabf",
        "colab": {
          "base_uri": "https://localhost:8080/"
        }
      },
      "outputs": [
        {
          "output_type": "stream",
          "name": "stdout",
          "text": [
            "(10, 28, 28, 10)\n"
          ]
        }
      ],
      "source": [
        "conv4 = layers.Conv2D(filters=10, kernel_size=(3, 3), padding='same')\n",
        "print(conv4(x).shape)"
      ]
    },
    {
      "cell_type": "markdown",
      "id": "001d9649-a3cb-4819-858b-8f9125ab3933",
      "metadata": {
        "id": "001d9649-a3cb-4819-858b-8f9125ab3933"
      },
      "source": [
        "## AveragePooling2D 층과 Dense 층"
      ]
    },
    {
      "cell_type": "code",
      "execution_count": 8,
      "id": "3ce8eca0-2fa6-46c7-88db-74c1a7a9afd3",
      "metadata": {
        "id": "3ce8eca0-2fa6-46c7-88db-74c1a7a9afd3",
        "outputId": "937b2dc6-e545-49c0-b50c-ba71b4945532",
        "colab": {
          "base_uri": "https://localhost:8080/"
        }
      },
      "outputs": [
        {
          "output_type": "stream",
          "name": "stdout",
          "text": [
            "(10, 14, 14, 1)\n"
          ]
        }
      ],
      "source": [
        "pool1 = layers.AveragePooling2D(pool_size=2)\n",
        "print(pool1(x).shape)"
      ]
    },
    {
      "cell_type": "code",
      "execution_count": 9,
      "id": "272a9316-241e-42ac-acb5-9f591d7ff401",
      "metadata": {
        "id": "272a9316-241e-42ac-acb5-9f591d7ff401",
        "outputId": "b0ad4c1e-2da0-4e16-aa19-6d59332a5d2f",
        "colab": {
          "base_uri": "https://localhost:8080/"
        }
      },
      "outputs": [
        {
          "output_type": "stream",
          "name": "stdout",
          "text": [
            "(10, 9, 9, 1)\n"
          ]
        }
      ],
      "source": [
        "pool2 = layers.AveragePooling2D(pool_size=3)\n",
        "print(pool2(x).shape)"
      ]
    },
    {
      "cell_type": "markdown",
      "id": "3749bc3f-5038-45b3-a526-7790f93639a4",
      "metadata": {
        "id": "3749bc3f-5038-45b3-a526-7790f93639a4"
      },
      "source": [
        "$y = x \\cdot W + b$"
      ]
    },
    {
      "cell_type": "code",
      "execution_count": 10,
      "id": "0a081e3c-f5f5-48e6-9d28-dda6c8244dcd",
      "metadata": {
        "id": "0a081e3c-f5f5-48e6-9d28-dda6c8244dcd"
      },
      "outputs": [],
      "source": [
        "dense1 = layers.Dense(3, input_shape=(2,))"
      ]
    },
    {
      "cell_type": "code",
      "execution_count": 11,
      "id": "dac8bde8-41d3-4d12-ac7e-509aa6139be9",
      "metadata": {
        "id": "dac8bde8-41d3-4d12-ac7e-509aa6139be9",
        "outputId": "ce1a9c0b-8d4b-4253-f1e9-9128373fcf20",
        "colab": {
          "base_uri": "https://localhost:8080/"
        }
      },
      "outputs": [
        {
          "output_type": "stream",
          "name": "stdout",
          "text": [
            "(1, 3)\n"
          ]
        }
      ],
      "source": [
        "x2 = np.array([[5, 7]])\n",
        "print(dense1(x2).shape)"
      ]
    },
    {
      "cell_type": "code",
      "execution_count": 12,
      "id": "d9283c29-6a35-446f-b164-564f07a2a6ce",
      "metadata": {
        "id": "d9283c29-6a35-446f-b164-564f07a2a6ce",
        "outputId": "90e078b3-e7a6-471b-8c49-984c4fbd9330",
        "colab": {
          "base_uri": "https://localhost:8080/"
        }
      },
      "outputs": [
        {
          "output_type": "stream",
          "name": "stdout",
          "text": [
            "[array([[-0.80379343,  0.6096556 ,  0.7158011 ],\n",
            "       [-0.34172356, -0.51199937, -0.84199286]], dtype=float32), array([0., 0., 0.], dtype=float32)]\n"
          ]
        }
      ],
      "source": [
        "print(dense1.get_weights())"
      ]
    },
    {
      "cell_type": "code",
      "execution_count": 13,
      "id": "20e39ea0-71be-4751-8c28-131b12e54b2b",
      "metadata": {
        "id": "20e39ea0-71be-4751-8c28-131b12e54b2b"
      },
      "outputs": [],
      "source": [
        "dense1.set_weights([\n",
        "    np.array([[1, 2, 3], [4, 5, 6]]),\n",
        "    np.array([0, 0, 0])\n",
        "])"
      ]
    },
    {
      "cell_type": "code",
      "execution_count": 14,
      "id": "24898a3a-4215-48c9-8f65-eea78d66f392",
      "metadata": {
        "id": "24898a3a-4215-48c9-8f65-eea78d66f392",
        "outputId": "b7877cc5-a3c4-4f9e-fcef-eb5c4c283391",
        "colab": {
          "base_uri": "https://localhost:8080/"
        }
      },
      "outputs": [
        {
          "output_type": "stream",
          "name": "stdout",
          "text": [
            "tf.Tensor([[33. 45. 57.]], shape=(1, 3), dtype=float32)\n"
          ]
        }
      ],
      "source": [
        "print(dense1(x2))"
      ]
    },
    {
      "cell_type": "code",
      "execution_count": 15,
      "id": "427dcbd9-9ffe-4d40-9e58-530768d38e87",
      "metadata": {
        "id": "427dcbd9-9ffe-4d40-9e58-530768d38e87",
        "outputId": "67c1e57e-751b-4a4f-a559-9d9dce4ccfbe",
        "colab": {
          "base_uri": "https://localhost:8080/"
        }
      },
      "outputs": [
        {
          "output_type": "stream",
          "name": "stdout",
          "text": [
            "[[33. 45. 57.]]\n"
          ]
        }
      ],
      "source": [
        "weight = dense1.get_weights()[0]\n",
        "print(np.dot(x2, weight))"
      ]
    },
    {
      "cell_type": "code",
      "execution_count": 16,
      "id": "bad1bed0-920d-4851-bafc-64223495c7b0",
      "metadata": {
        "id": "bad1bed0-920d-4851-bafc-64223495c7b0",
        "outputId": "6f3445f9-4681-46d4-aed7-d6eae2a3d3cc",
        "colab": {
          "base_uri": "https://localhost:8080/"
        }
      },
      "outputs": [
        {
          "output_type": "stream",
          "name": "stdout",
          "text": [
            "(10, 10)\n"
          ]
        }
      ],
      "source": [
        "output = lenet5(x)\n",
        "print(output.shape)"
      ]
    },
    {
      "cell_type": "markdown",
      "id": "ee11573e-a71e-4f48-976d-0447a36eb8f0",
      "metadata": {
        "id": "ee11573e-a71e-4f48-976d-0447a36eb8f0"
      },
      "source": [
        "## 시그모이드 함수와 렐루 함수\n",
        "\n",
        "시그모이드 함수: $f(x) = \\dfrac{1}{1+e^{-x}}$\n",
        "\n",
        "렐루 함수: $f(x) = \\begin{cases}\n",
        "                    \\mbox{max}(0, x), & x\\mbox{ >= 0 이면} \\\\\n",
        "                    0,                & x\\mbox{ < 0 이면}\n",
        "                 \\end{cases}$"
      ]
    },
    {
      "cell_type": "code",
      "execution_count": 17,
      "id": "13e14794-5d76-4c34-81ff-09b3fbd40386",
      "metadata": {
        "id": "13e14794-5d76-4c34-81ff-09b3fbd40386",
        "outputId": "93c56835-f50c-4d83-bec0-fdf2e248d24f",
        "colab": {
          "base_uri": "https://localhost:8080/"
        }
      },
      "outputs": [
        {
          "output_type": "stream",
          "name": "stdout",
          "text": [
            "[0 0 0 1 2]\n"
          ]
        }
      ],
      "source": [
        "a = np.array([-2, -1, 0, 1, 2])\n",
        "print(a.clip(0))"
      ]
    },
    {
      "cell_type": "code",
      "execution_count": 18,
      "id": "c14d4326-8e84-4302-ac32-d7542362db7c",
      "metadata": {
        "id": "c14d4326-8e84-4302-ac32-d7542362db7c",
        "outputId": "e7d5c9d8-03d7-46ef-b99b-1742504e216a",
        "colab": {
          "base_uri": "https://localhost:8080/",
          "height": 410
        }
      },
      "outputs": [
        {
          "output_type": "display_data",
          "data": {
            "text/plain": [
              "<Figure size 1200x400 with 2 Axes>"
            ],
            "image/png": "[encoded data removed]"
          },
          "metadata": {}
        }
      ],
      "source": [
        "import matplotlib.pyplot as plt\n",
        "from scipy.special import expit\n",
        "\n",
        "x = np.arange(-10, 10, 0.2)\n",
        "\n",
        "fig, axs = plt.subplots(1, 2, figsize=(12, 4))\n",
        "axs[0].plot(x, expit(x))\n",
        "axs[0].set_title('sigmoid function')\n",
        "axs[0].set_xlabel('x')\n",
        "axs[0].set_ylabel('f(x)')\n",
        "axs[1].plot(x, x.clip(0))\n",
        "axs[1].set_title('relu function')\n",
        "axs[1].set_xlabel('x')\n",
        "axs[1].set_ylabel('f(x)')\n",
        "plt.show()"
      ]
    },
    {
      "cell_type": "markdown",
      "id": "a9620c10-b7b9-4184-ac50-b151dd2d6323",
      "metadata": {
        "id": "a9620c10-b7b9-4184-ac50-b151dd2d6323"
      },
      "source": [
        "## 모델 훈련"
      ]
    },
    {
      "cell_type": "code",
      "execution_count": 19,
      "id": "c2d84ee7-eb49-45c1-a46a-cd8ce213df28",
      "metadata": {
        "id": "c2d84ee7-eb49-45c1-a46a-cd8ce213df28"
      },
      "outputs": [],
      "source": [
        "(train_input, train_target), (test_input, test_target) = keras.datasets.mnist.load_data()"
      ]
    },
    {
      "cell_type": "code",
      "execution_count": 20,
      "id": "57a5775c-2e4b-4043-8366-71847010bf1f",
      "metadata": {
        "id": "57a5775c-2e4b-4043-8366-71847010bf1f",
        "outputId": "1fada1d8-619f-4585-b7a1-7b62e5c21afd",
        "colab": {
          "base_uri": "https://localhost:8080/"
        }
      },
      "outputs": [
        {
          "output_type": "stream",
          "name": "stdout",
          "text": [
            "[5 0 4 ... 5 6 8]\n"
          ]
        }
      ],
      "source": [
        "print(train_target)"
      ]
    },
    {
      "cell_type": "code",
      "execution_count": 21,
      "id": "83a702ba-3f2f-420d-b57e-daf75088f650",
      "metadata": {
        "id": "83a702ba-3f2f-420d-b57e-daf75088f650"
      },
      "outputs": [],
      "source": [
        "train_input = train_input.reshape(-1, 28, 28, 1) / 255.0"
      ]
    },
    {
      "cell_type": "markdown",
      "id": "6c6ed23b-5827-4422-9d51-eaee3a4d418a",
      "metadata": {
        "id": "6c6ed23b-5827-4422-9d51-eaee3a4d418a"
      },
      "source": [
        "$L = -\\sum_{j=1}^m y_j log(\\hat{y}_j)$"
      ]
    },
    {
      "cell_type": "code",
      "execution_count": 22,
      "id": "1d7d2d6d-318d-4d6a-83de-2b5ae31cc6ae",
      "metadata": {
        "tags": [],
        "id": "1d7d2d6d-318d-4d6a-83de-2b5ae31cc6ae",
        "outputId": "50e823b3-6b1b-4d34-f2af-10fb4c6fdb55",
        "colab": {
          "base_uri": "https://localhost:8080/"
        }
      },
      "outputs": [
        {
          "output_type": "stream",
          "name": "stdout",
          "text": [
            "Epoch 1/5\n",
            "1875/1875 [==============================] - 45s 23ms/step - loss: 0.9090 - accuracy: 0.6979\n",
            "Epoch 2/5\n",
            "1875/1875 [==============================] - 47s 25ms/step - loss: 0.2238 - accuracy: 0.9304\n",
            "Epoch 3/5\n",
            "1875/1875 [==============================] - 41s 22ms/step - loss: 0.1483 - accuracy: 0.9540\n",
            "Epoch 4/5\n",
            "1875/1875 [==============================] - 38s 20ms/step - loss: 0.1139 - accuracy: 0.9648\n",
            "Epoch 5/5\n",
            "1875/1875 [==============================] - 38s 21ms/step - loss: 0.0943 - accuracy: 0.9708\n"
          ]
        }
      ],
      "source": [
        "lenet5.compile(loss='sparse_categorical_crossentropy', metrics='accuracy')\n",
        "hist = lenet5.fit(train_input, train_target, epochs=5)"
      ]
    },
    {
      "cell_type": "code",
      "execution_count": 23,
      "id": "a8bb0644-064b-4faf-860e-7bc84e642ce2",
      "metadata": {
        "id": "a8bb0644-064b-4faf-860e-7bc84e642ce2",
        "outputId": "15728d08-16b0-4d13-ddc6-0506c902330d",
        "colab": {
          "base_uri": "https://localhost:8080/",
          "height": 388
        }
      },
      "outputs": [
        {
          "output_type": "display_data",
          "data": {
            "text/plain": [
              "<Figure size 1200x400 with 2 Axes>"
            ],
            "image/png": "[encoded data removed]"
          },
          "metadata": {}
        }
      ],
      "source": [
        "import matplotlib.pyplot as plt\n",
        "\n",
        "fig, axs = plt.subplots(1, 2, figsize=(12, 4))\n",
        "axs[0].plot(range(1, 6), hist.history['loss'])\n",
        "axs[0].set_xticks(range(1, 6))\n",
        "axs[0].set_xlabel('epoch')\n",
        "axs[0].set_ylabel('loss')\n",
        "axs[1].plot(range(1, 6), hist.history['accuracy'])\n",
        "axs[1].set_xticks(range(1, 6))\n",
        "axs[1].set_xlabel('epoch')\n",
        "axs[1].set_ylabel('accuracy')\n",
        "plt.show()"
      ]
    }
  ],
  "metadata": {
    "environment": {
      "kernel": "python3",
      "name": "common-cpu.m102",
      "type": "gcloud",
      "uri": "gcr.io/deeplearning-platform-release/base-cpu:m102"
    },
    "kernelspec": {
      "display_name": "Python 3",
      "language": "python",
      "name": "python3"
    },
    "language_info": {
      "codemirror_mode": {
        "name": "ipython",
        "version": 3
      },
      "file_extension": ".py",
      "mimetype": "text/x-python",
      "name": "python",
      "nbconvert_exporter": "python",
      "pygments_lexer": "ipython3",
      "version": "3.7.12"
    },
    "colab": {
      "provenance": []
    }
  },
  "nbformat": 4,
  "nbformat_minor": 5
}