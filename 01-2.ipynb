{
  "cells": [
    {
      "cell_type": "markdown",
      "id": "122beaf6-3bb0-40fd-be02-6a49afc7cf3d",
      "metadata": {
        "id": "122beaf6-3bb0-40fd-be02-6a49afc7cf3d"
      },
      "source": [
        "# 01-2 합성곱 신경망(CNN) 모델 이해하기"
      ]
    },
    {
      "cell_type": "markdown",
      "source": [
        "<table align=\"left\"><tr><td>\n",
        "<a href=\"https://colab.research.google.com/github/rickiepark/hm-dl/blob/main/01-2.ipynb\" target=\"_parent\"><img src=\"https://colab.research.google.com/assets/colab-badge.svg\" alt=\"코랩에서 실행하기\"/></a>\n",
        "</td></tr></table>"
      ],
      "metadata": {
        "id": "U4JZBNc8NEFA"
      },
      "id": "U4JZBNc8NEFA"
    },
    {
      "cell_type": "markdown",
      "id": "4e009efb-ecae-45fc-a970-0ee79e1291ce",
      "metadata": {
        "id": "4e009efb-ecae-45fc-a970-0ee79e1291ce"
      },
      "source": [
        "## LetNet-5"
      ]
    },
    {
      "cell_type": "code",
      "execution_count": 1,
      "id": "a78550bc-64fb-4fd7-bc02-bf918f77fb1a",
      "metadata": {
        "id": "a78550bc-64fb-4fd7-bc02-bf918f77fb1a"
      },
      "outputs": [],
      "source": [
        "import keras\n",
        "from keras import layers"
      ]
    },
    {
      "cell_type": "code",
      "execution_count": 2,
      "id": "7dc8c9f9-3ea4-47ac-913d-036ccc0c44df",
      "metadata": {
        "id": "7dc8c9f9-3ea4-47ac-913d-036ccc0c44df"
      },
      "outputs": [],
      "source": [
        "lenet5 = keras.Sequential()\n",
        "lenet5.add(layers.Input(shape=(28, 28, 1)))\n",
        "lenet5.add(layers.Conv2D(filters=6, kernel_size=5, activation='sigmoid',\n",
        "                         padding='same'))\n",
        "lenet5.add(layers.AveragePooling2D(pool_size=2))\n",
        "lenet5.add(layers.Conv2D(filters=16, kernel_size=5, activation='sigmoid'))\n",
        "lenet5.add(layers.AveragePooling2D(pool_size=2))\n",
        "lenet5.add(layers.Flatten())\n",
        "lenet5.add(layers.Dense(120, activation='sigmoid'))\n",
        "lenet5.add(layers.Dense(84, activation='sigmoid'))\n",
        "lenet5.add(layers.Dense(10, activation='softmax'))"
      ]
    },
    {
      "cell_type": "code",
      "execution_count": 3,
      "id": "595aeb0a-a2f1-47ee-93b2-a853ea52b0dc",
      "metadata": {
        "id": "595aeb0a-a2f1-47ee-93b2-a853ea52b0dc",
        "outputId": "a319f83f-2be8-42a2-8b80-9205b0e6975d",
        "colab": {
          "base_uri": "https://localhost:8080/",
          "height": 460
        }
      },
      "outputs": [
        {
          "output_type": "display_data",
          "data": {
            "text/plain": [
              "\u001b[1mModel: \"sequential\"\u001b[0m\n"
            ],
            "text/html": [
              "<pre style=\"white-space:pre;overflow-x:auto;line-height:normal;font-family:Menlo,'DejaVu Sans Mono',consolas,'Courier New',monospace\"><span style=\"font-weight: bold\">Model: \"sequential\"</span>\n",
              "</pre>\n"
            ]
          },
          "metadata": {}
        },
        {
          "output_type": "display_data",
          "data": {
            "text/plain": [
              "┏━━━━━━━━━━━━━━━━━━━━━━━━━━━━━━━━━┳━━━━━━━━━━━━━━━━━━━━━━━━┳━━━━━━━━━━━━━━━┓\n",
              "┃\u001b[1m \u001b[0m\u001b[1mLayer (type)                   \u001b[0m\u001b[1m \u001b[0m┃\u001b[1m \u001b[0m\u001b[1mOutput Shape          \u001b[0m\u001b[1m \u001b[0m┃\u001b[1m \u001b[0m\u001b[1m      Param #\u001b[0m\u001b[1m \u001b[0m┃\n",
              "┡━━━━━━━━━━━━━━━━━━━━━━━━━━━━━━━━━╇━━━━━━━━━━━━━━━━━━━━━━━━╇━━━━━━━━━━━━━━━┩\n",
              "│ conv2d (\u001b[38;5;33mConv2D\u001b[0m)                 │ (\u001b[38;5;45mNone\u001b[0m, \u001b[38;5;34m28\u001b[0m, \u001b[38;5;34m28\u001b[0m, \u001b[38;5;34m6\u001b[0m)      │           \u001b[38;5;34m156\u001b[0m │\n",
              "├─────────────────────────────────┼────────────────────────┼───────────────┤\n",
              "│ average_pooling2d               │ (\u001b[38;5;45mNone\u001b[0m, \u001b[38;5;34m14\u001b[0m, \u001b[38;5;34m14\u001b[0m, \u001b[38;5;34m6\u001b[0m)      │             \u001b[38;5;34m0\u001b[0m │\n",
              "│ (\u001b[38;5;33mAveragePooling2D\u001b[0m)              │                        │               │\n",
              "├─────────────────────────────────┼────────────────────────┼───────────────┤\n",
              "│ conv2d_1 (\u001b[38;5;33mConv2D\u001b[0m)               │ (\u001b[38;5;45mNone\u001b[0m, \u001b[38;5;34m10\u001b[0m, \u001b[38;5;34m10\u001b[0m, \u001b[38;5;34m16\u001b[0m)     │         \u001b[38;5;34m2,416\u001b[0m │\n",
              "├─────────────────────────────────┼────────────────────────┼───────────────┤\n",
              "│ average_pooling2d_1             │ (\u001b[38;5;45mNone\u001b[0m, \u001b[38;5;34m5\u001b[0m, \u001b[38;5;34m5\u001b[0m, \u001b[38;5;34m16\u001b[0m)       │             \u001b[38;5;34m0\u001b[0m │\n",
              "│ (\u001b[38;5;33mAveragePooling2D\u001b[0m)              │                        │               │\n",
              "├─────────────────────────────────┼────────────────────────┼───────────────┤\n",
              "│ flatten (\u001b[38;5;33mFlatten\u001b[0m)               │ (\u001b[38;5;45mNone\u001b[0m, \u001b[38;5;34m400\u001b[0m)            │             \u001b[38;5;34m0\u001b[0m │\n",
              "├─────────────────────────────────┼────────────────────────┼───────────────┤\n",
              "│ dense (\u001b[38;5;33mDense\u001b[0m)                   │ (\u001b[38;5;45mNone\u001b[0m, \u001b[38;5;34m120\u001b[0m)            │        \u001b[38;5;34m48,120\u001b[0m │\n",
              "├─────────────────────────────────┼────────────────────────┼───────────────┤\n",
              "│ dense_1 (\u001b[38;5;33mDense\u001b[0m)                 │ (\u001b[38;5;45mNone\u001b[0m, \u001b[38;5;34m84\u001b[0m)             │        \u001b[38;5;34m10,164\u001b[0m │\n",
              "├─────────────────────────────────┼────────────────────────┼───────────────┤\n",
              "│ dense_2 (\u001b[38;5;33mDense\u001b[0m)                 │ (\u001b[38;5;45mNone\u001b[0m, \u001b[38;5;34m10\u001b[0m)             │           \u001b[38;5;34m850\u001b[0m │\n",
              "└─────────────────────────────────┴────────────────────────┴───────────────┘\n"
            ],
            "text/html": [
              "<pre style=\"white-space:pre;overflow-x:auto;line-height:normal;font-family:Menlo,'DejaVu Sans Mono',consolas,'Courier New',monospace\">┏━━━━━━━━━━━━━━━━━━━━━━━━━━━━━━━━━┳━━━━━━━━━━━━━━━━━━━━━━━━┳━━━━━━━━━━━━━━━┓\n",
              "┃<span style=\"font-weight: bold\"> Layer (type)                    </span>┃<span style=\"font-weight: bold\"> Output Shape           </span>┃<span style=\"font-weight: bold\">       Param # </span>┃\n",
              "┡━━━━━━━━━━━━━━━━━━━━━━━━━━━━━━━━━╇━━━━━━━━━━━━━━━━━━━━━━━━╇━━━━━━━━━━━━━━━┩\n",
              "│ conv2d (<span style=\"color: #0087ff; text-decoration-color: #0087ff\">Conv2D</span>)                 │ (<span style=\"color: #00d7ff; text-decoration-color: #00d7ff\">None</span>, <span style=\"color: #00af00; text-decoration-color: #00af00\">28</span>, <span style=\"color: #00af00; text-decoration-color: #00af00\">28</span>, <span style=\"color: #00af00; text-decoration-color: #00af00\">6</span>)      │           <span style=\"color: #00af00; text-decoration-color: #00af00\">156</span> │\n",
              "├─────────────────────────────────┼────────────────────────┼───────────────┤\n",
              "│ average_pooling2d               │ (<span style=\"color: #00d7ff; text-decoration-color: #00d7ff\">None</span>, <span style=\"color: #00af00; text-decoration-color: #00af00\">14</span>, <span style=\"color: #00af00; text-decoration-color: #00af00\">14</span>, <span style=\"color: #00af00; text-decoration-color: #00af00\">6</span>)      │             <span style=\"color: #00af00; text-decoration-color: #00af00\">0</span> │\n",
              "│ (<span style=\"color: #0087ff; text-decoration-color: #0087ff\">AveragePooling2D</span>)              │                        │               │\n",
              "├─────────────────────────────────┼────────────────────────┼───────────────┤\n",
              "│ conv2d_1 (<span style=\"color: #0087ff; text-decoration-color: #0087ff\">Conv2D</span>)               │ (<span style=\"color: #00d7ff; text-decoration-color: #00d7ff\">None</span>, <span style=\"color: #00af00; text-decoration-color: #00af00\">10</span>, <span style=\"color: #00af00; text-decoration-color: #00af00\">10</span>, <span style=\"color: #00af00; text-decoration-color: #00af00\">16</span>)     │         <span style=\"color: #00af00; text-decoration-color: #00af00\">2,416</span> │\n",
              "├─────────────────────────────────┼────────────────────────┼───────────────┤\n",
              "│ average_pooling2d_1             │ (<span style=\"color: #00d7ff; text-decoration-color: #00d7ff\">None</span>, <span style=\"color: #00af00; text-decoration-color: #00af00\">5</span>, <span style=\"color: #00af00; text-decoration-color: #00af00\">5</span>, <span style=\"color: #00af00; text-decoration-color: #00af00\">16</span>)       │             <span style=\"color: #00af00; text-decoration-color: #00af00\">0</span> │\n",
              "│ (<span style=\"color: #0087ff; text-decoration-color: #0087ff\">AveragePooling2D</span>)              │                        │               │\n",
              "├─────────────────────────────────┼────────────────────────┼───────────────┤\n",
              "│ flatten (<span style=\"color: #0087ff; text-decoration-color: #0087ff\">Flatten</span>)               │ (<span style=\"color: #00d7ff; text-decoration-color: #00d7ff\">None</span>, <span style=\"color: #00af00; text-decoration-color: #00af00\">400</span>)            │             <span style=\"color: #00af00; text-decoration-color: #00af00\">0</span> │\n",
              "├─────────────────────────────────┼────────────────────────┼───────────────┤\n",
              "│ dense (<span style=\"color: #0087ff; text-decoration-color: #0087ff\">Dense</span>)                   │ (<span style=\"color: #00d7ff; text-decoration-color: #00d7ff\">None</span>, <span style=\"color: #00af00; text-decoration-color: #00af00\">120</span>)            │        <span style=\"color: #00af00; text-decoration-color: #00af00\">48,120</span> │\n",
              "├─────────────────────────────────┼────────────────────────┼───────────────┤\n",
              "│ dense_1 (<span style=\"color: #0087ff; text-decoration-color: #0087ff\">Dense</span>)                 │ (<span style=\"color: #00d7ff; text-decoration-color: #00d7ff\">None</span>, <span style=\"color: #00af00; text-decoration-color: #00af00\">84</span>)             │        <span style=\"color: #00af00; text-decoration-color: #00af00\">10,164</span> │\n",
              "├─────────────────────────────────┼────────────────────────┼───────────────┤\n",
              "│ dense_2 (<span style=\"color: #0087ff; text-decoration-color: #0087ff\">Dense</span>)                 │ (<span style=\"color: #00d7ff; text-decoration-color: #00d7ff\">None</span>, <span style=\"color: #00af00; text-decoration-color: #00af00\">10</span>)             │           <span style=\"color: #00af00; text-decoration-color: #00af00\">850</span> │\n",
              "└─────────────────────────────────┴────────────────────────┴───────────────┘\n",
              "</pre>\n"
            ]
          },
          "metadata": {}
        },
        {
          "output_type": "display_data",
          "data": {
            "text/plain": [
              "\u001b[1m Total params: \u001b[0m\u001b[38;5;34m61,706\u001b[0m (241.04 KB)\n"
            ],
            "text/html": [
              "<pre style=\"white-space:pre;overflow-x:auto;line-height:normal;font-family:Menlo,'DejaVu Sans Mono',consolas,'Courier New',monospace\"><span style=\"font-weight: bold\"> Total params: </span><span style=\"color: #00af00; text-decoration-color: #00af00\">61,706</span> (241.04 KB)\n",
              "</pre>\n"
            ]
          },
          "metadata": {}
        },
        {
          "output_type": "display_data",
          "data": {
            "text/plain": [
              "\u001b[1m Trainable params: \u001b[0m\u001b[38;5;34m61,706\u001b[0m (241.04 KB)\n"
            ],
            "text/html": [
              "<pre style=\"white-space:pre;overflow-x:auto;line-height:normal;font-family:Menlo,'DejaVu Sans Mono',consolas,'Courier New',monospace\"><span style=\"font-weight: bold\"> Trainable params: </span><span style=\"color: #00af00; text-decoration-color: #00af00\">61,706</span> (241.04 KB)\n",
              "</pre>\n"
            ]
          },
          "metadata": {}
        },
        {
          "output_type": "display_data",
          "data": {
            "text/plain": [
              "\u001b[1m Non-trainable params: \u001b[0m\u001b[38;5;34m0\u001b[0m (0.00 B)\n"
            ],
            "text/html": [
              "<pre style=\"white-space:pre;overflow-x:auto;line-height:normal;font-family:Menlo,'DejaVu Sans Mono',consolas,'Courier New',monospace\"><span style=\"font-weight: bold\"> Non-trainable params: </span><span style=\"color: #00af00; text-decoration-color: #00af00\">0</span> (0.00 B)\n",
              "</pre>\n"
            ]
          },
          "metadata": {}
        }
      ],
      "source": [
        "lenet5.summary()"
      ]
    },
    {
      "cell_type": "markdown",
      "id": "3c9e30ff-3dd8-4114-b060-fb0f1811745d",
      "metadata": {
        "id": "3c9e30ff-3dd8-4114-b060-fb0f1811745d"
      },
      "source": [
        "소프트맥스 함수: $f(x)_i = \\dfrac{e^{z_i}}{\\sum_{j=1}^{k}e^{z_j}}$\n",
        "\n",
        "$f(x) = \\dfrac{e^{z_1}+e^{z_2}+...+e^{z_k}}{\\sum_{j=1}^{k}e^{z_j}}=1$"
      ]
    },
    {
      "cell_type": "markdown",
      "id": "ba6fecc8-a4bb-4671-98aa-5854e07bc881",
      "metadata": {
        "id": "ba6fecc8-a4bb-4671-98aa-5854e07bc881"
      },
      "source": [
        "## Conv2D 층"
      ]
    },
    {
      "cell_type": "code",
      "source": [
        "import numpy as np\n",
        "\n",
        "conv1 = layers.Conv2D(filters=10, kernel_size=(3, 3))\n",
        "x = np.random.normal(size=(10, 28, 28, 1))\n",
        "conv_out = conv1(x)\n",
        "print(conv_out.shape)"
      ],
      "metadata": {
        "id": "CM085FYkOhKv",
        "outputId": "28e0f279-9774-465d-e68a-91e442f7309f",
        "colab": {
          "base_uri": "https://localhost:8080/"
        }
      },
      "id": "CM085FYkOhKv",
      "execution_count": 4,
      "outputs": [
        {
          "output_type": "stream",
          "name": "stdout",
          "text": [
            "(10, 26, 26, 10)\n"
          ]
        }
      ]
    },
    {
      "cell_type": "code",
      "execution_count": 5,
      "id": "085eae53-4b5f-4dd3-99a5-2a3782112759",
      "metadata": {
        "id": "085eae53-4b5f-4dd3-99a5-2a3782112759",
        "outputId": "225538c7-ffda-464e-d9b7-09897b0fe9e7",
        "colab": {
          "base_uri": "https://localhost:8080/"
        }
      },
      "outputs": [
        {
          "output_type": "stream",
          "name": "stdout",
          "text": [
            "(10, 13, 13, 10)\n"
          ]
        }
      ],
      "source": [
        "conv2 = layers.Conv2D(filters=10, kernel_size=(3, 3), strides=(2, 2))\n",
        "print(conv2(x).shape)"
      ]
    },
    {
      "cell_type": "code",
      "execution_count": 6,
      "id": "f8306c2b-eeee-46ae-a937-2b736ae9055c",
      "metadata": {
        "id": "f8306c2b-eeee-46ae-a937-2b736ae9055c",
        "outputId": "ca762dee-51dc-4159-b20a-2beeb2edde4c",
        "colab": {
          "base_uri": "https://localhost:8080/"
        }
      },
      "outputs": [
        {
          "output_type": "stream",
          "name": "stdout",
          "text": [
            "(10, 14, 14, 10)\n"
          ]
        }
      ],
      "source": [
        "conv3 = layers.Conv2D(filters=10, kernel_size=(3, 3), strides=(2, 2), padding='same')\n",
        "print(conv3(x).shape)"
      ]
    },
    {
      "cell_type": "code",
      "execution_count": 7,
      "id": "4ad7dd4d-f66c-47d7-a251-a252fa8e4319",
      "metadata": {
        "id": "4ad7dd4d-f66c-47d7-a251-a252fa8e4319",
        "outputId": "1060f898-76a7-4751-fa92-379c4c951084",
        "colab": {
          "base_uri": "https://localhost:8080/"
        }
      },
      "outputs": [
        {
          "output_type": "stream",
          "name": "stdout",
          "text": [
            "(10, 28, 28, 10)\n"
          ]
        }
      ],
      "source": [
        "conv4 = layers.Conv2D(filters=10, kernel_size=(3, 3), padding='same')\n",
        "print(conv4(x).shape)"
      ]
    },
    {
      "cell_type": "markdown",
      "id": "001d9649-a3cb-4819-858b-8f9125ab3933",
      "metadata": {
        "id": "001d9649-a3cb-4819-858b-8f9125ab3933"
      },
      "source": [
        "## AveragePooling2D 층과 Dense 층"
      ]
    },
    {
      "cell_type": "code",
      "execution_count": 8,
      "id": "3ce8eca0-2fa6-46c7-88db-74c1a7a9afd3",
      "metadata": {
        "id": "3ce8eca0-2fa6-46c7-88db-74c1a7a9afd3",
        "outputId": "259dc813-735e-4757-fa31-c5b2c767264a",
        "colab": {
          "base_uri": "https://localhost:8080/"
        }
      },
      "outputs": [
        {
          "output_type": "stream",
          "name": "stdout",
          "text": [
            "(10, 14, 14, 1)\n"
          ]
        }
      ],
      "source": [
        "pool1 = layers.AveragePooling2D(pool_size=2)\n",
        "print(pool1(x).shape)"
      ]
    },
    {
      "cell_type": "code",
      "execution_count": 9,
      "id": "272a9316-241e-42ac-acb5-9f591d7ff401",
      "metadata": {
        "id": "272a9316-241e-42ac-acb5-9f591d7ff401",
        "outputId": "2c5f4868-bf92-489c-d3a6-d5d9fb5c9b42",
        "colab": {
          "base_uri": "https://localhost:8080/"
        }
      },
      "outputs": [
        {
          "output_type": "stream",
          "name": "stdout",
          "text": [
            "(10, 9, 9, 1)\n"
          ]
        }
      ],
      "source": [
        "pool2 = layers.AveragePooling2D(pool_size=3)\n",
        "print(pool2(x).shape)"
      ]
    },
    {
      "cell_type": "markdown",
      "id": "3749bc3f-5038-45b3-a526-7790f93639a4",
      "metadata": {
        "id": "3749bc3f-5038-45b3-a526-7790f93639a4"
      },
      "source": [
        "$y = x \\cdot W + b$"
      ]
    },
    {
      "cell_type": "code",
      "execution_count": 10,
      "id": "0a081e3c-f5f5-48e6-9d28-dda6c8244dcd",
      "metadata": {
        "id": "0a081e3c-f5f5-48e6-9d28-dda6c8244dcd"
      },
      "outputs": [],
      "source": [
        "dense1 = layers.Dense(3)"
      ]
    },
    {
      "cell_type": "code",
      "execution_count": 11,
      "id": "dac8bde8-41d3-4d12-ac7e-509aa6139be9",
      "metadata": {
        "id": "dac8bde8-41d3-4d12-ac7e-509aa6139be9",
        "outputId": "1436a35a-acc2-4858-de97-8a99b9b910ca",
        "colab": {
          "base_uri": "https://localhost:8080/"
        }
      },
      "outputs": [
        {
          "output_type": "stream",
          "name": "stdout",
          "text": [
            "(1, 3)\n"
          ]
        }
      ],
      "source": [
        "x2 = np.array([[5, 7]])\n",
        "print(dense1(x2).shape)"
      ]
    },
    {
      "cell_type": "code",
      "execution_count": 12,
      "id": "d9283c29-6a35-446f-b164-564f07a2a6ce",
      "metadata": {
        "id": "d9283c29-6a35-446f-b164-564f07a2a6ce",
        "outputId": "23b32b1c-39b4-437c-b84f-6540110678a6",
        "colab": {
          "base_uri": "https://localhost:8080/"
        }
      },
      "outputs": [
        {
          "output_type": "stream",
          "name": "stdout",
          "text": [
            "[array([[-0.11136425, -0.58292913,  0.07644057],\n",
            "       [ 0.08400702, -0.3199361 , -0.1462462 ]], dtype=float32), array([0., 0., 0.], dtype=float32)]\n"
          ]
        }
      ],
      "source": [
        "print(dense1.get_weights())"
      ]
    },
    {
      "cell_type": "code",
      "execution_count": 13,
      "id": "20e39ea0-71be-4751-8c28-131b12e54b2b",
      "metadata": {
        "id": "20e39ea0-71be-4751-8c28-131b12e54b2b"
      },
      "outputs": [],
      "source": [
        "dense1.set_weights([\n",
        "    np.array([[1, 2, 3], [4, 5, 6]]),\n",
        "    np.array([0, 0, 0])\n",
        "])"
      ]
    },
    {
      "cell_type": "code",
      "execution_count": 14,
      "id": "24898a3a-4215-48c9-8f65-eea78d66f392",
      "metadata": {
        "id": "24898a3a-4215-48c9-8f65-eea78d66f392",
        "outputId": "5d90689a-8e69-4958-a65d-fb324b12179c",
        "colab": {
          "base_uri": "https://localhost:8080/"
        }
      },
      "outputs": [
        {
          "output_type": "stream",
          "name": "stdout",
          "text": [
            "tf.Tensor([[33. 45. 57.]], shape=(1, 3), dtype=float32)\n"
          ]
        }
      ],
      "source": [
        "print(dense1(x2))"
      ]
    },
    {
      "cell_type": "code",
      "execution_count": 15,
      "id": "427dcbd9-9ffe-4d40-9e58-530768d38e87",
      "metadata": {
        "id": "427dcbd9-9ffe-4d40-9e58-530768d38e87",
        "outputId": "45e81035-9674-45ec-9f7b-a63b1f75b9fa",
        "colab": {
          "base_uri": "https://localhost:8080/"
        }
      },
      "outputs": [
        {
          "output_type": "stream",
          "name": "stdout",
          "text": [
            "[[33. 45. 57.]]\n"
          ]
        }
      ],
      "source": [
        "weight = dense1.get_weights()[0]\n",
        "print(np.dot(x2, weight))"
      ]
    },
    {
      "cell_type": "code",
      "execution_count": 16,
      "id": "bad1bed0-920d-4851-bafc-64223495c7b0",
      "metadata": {
        "id": "bad1bed0-920d-4851-bafc-64223495c7b0",
        "outputId": "5029713f-f713-4c49-ceb4-a686792bf0c6",
        "colab": {
          "base_uri": "https://localhost:8080/"
        }
      },
      "outputs": [
        {
          "output_type": "stream",
          "name": "stdout",
          "text": [
            "(10, 10)\n"
          ]
        }
      ],
      "source": [
        "output = lenet5(x)\n",
        "print(output.shape)"
      ]
    },
    {
      "cell_type": "markdown",
      "id": "ee11573e-a71e-4f48-976d-0447a36eb8f0",
      "metadata": {
        "id": "ee11573e-a71e-4f48-976d-0447a36eb8f0"
      },
      "source": [
        "## 시그모이드 함수와 렐루 함수\n",
        "\n",
        "시그모이드 함수: $f(x) = \\dfrac{1}{1+e^{-x}}$\n",
        "\n",
        "렐루 함수: $f(x) = \\begin{cases}\n",
        "                    \\mbox{max}(0, x), & x\\mbox{ >= 0 이면} \\\\\n",
        "                    0,                & x\\mbox{ < 0 이면}\n",
        "                 \\end{cases}$"
      ]
    },
    {
      "cell_type": "code",
      "execution_count": 17,
      "id": "13e14794-5d76-4c34-81ff-09b3fbd40386",
      "metadata": {
        "id": "13e14794-5d76-4c34-81ff-09b3fbd40386",
        "outputId": "328e399e-18cd-4c05-bdf6-fbe51efa2fe4",
        "colab": {
          "base_uri": "https://localhost:8080/"
        }
      },
      "outputs": [
        {
          "output_type": "stream",
          "name": "stdout",
          "text": [
            "[0 0 0 1 2]\n"
          ]
        }
      ],
      "source": [
        "a = np.array([-2, -1, 0, 1, 2])\n",
        "print(a.clip(0))"
      ]
    },
    {
      "cell_type": "code",
      "execution_count": 18,
      "id": "c14d4326-8e84-4302-ac32-d7542362db7c",
      "metadata": {
        "id": "c14d4326-8e84-4302-ac32-d7542362db7c",
        "outputId": "41557b21-6b58-45a8-b666-54427438b1a8",
        "colab": {
          "base_uri": "https://localhost:8080/",
          "height": 410
        }
      },
      "outputs": [
        {
          "output_type": "display_data",
          "data": {
            "text/plain": [
              "<Figure size 1200x400 with 2 Axes>"
            ],
            "image/png": "[encoded data removed]"
          },
          "metadata": {}
        }
      ],
      "source": [
        "import matplotlib.pyplot as plt\n",
        "from scipy.special import expit\n",
        "\n",
        "x = np.arange(-10, 10, 0.2)\n",
        "\n",
        "fig, axs = plt.subplots(1, 2, figsize=(12, 4))\n",
        "axs[0].plot(x, expit(x))\n",
        "axs[0].set_title('sigmoid function')\n",
        "axs[0].set_xlabel('x')\n",
        "axs[0].set_ylabel('f(x)')\n",
        "axs[1].plot(x, x.clip(0))\n",
        "axs[1].set_title('relu function')\n",
        "axs[1].set_xlabel('x')\n",
        "axs[1].set_ylabel('f(x)')\n",
        "plt.show()"
      ]
    },
    {
      "cell_type": "markdown",
      "id": "a9620c10-b7b9-4184-ac50-b151dd2d6323",
      "metadata": {
        "id": "a9620c10-b7b9-4184-ac50-b151dd2d6323"
      },
      "source": [
        "## 모델 훈련"
      ]
    },
    {
      "cell_type": "code",
      "execution_count": 19,
      "id": "c2d84ee7-eb49-45c1-a46a-cd8ce213df28",
      "metadata": {
        "id": "c2d84ee7-eb49-45c1-a46a-cd8ce213df28",
        "outputId": "11cce644-1639-47f9-d323-b7e0414d2716",
        "colab": {
          "base_uri": "https://localhost:8080/"
        }
      },
      "outputs": [
        {
          "output_type": "stream",
          "name": "stdout",
          "text": [
            "Downloading data from https://storage.googleapis.com/tensorflow/tf-keras-datasets/train-labels-idx1-ubyte.gz\n",
            "\u001b[1m29515/29515\u001b[0m \u001b[32m━━━━━━━━━━━━━━━━━━━━\u001b[0m\u001b[37m\u001b[0m \u001b[1m0s\u001b[0m 0us/step\n",
            "Downloading data from https://storage.googleapis.com/tensorflow/tf-keras-datasets/train-images-idx3-ubyte.gz\n",
            "\u001b[1m26421880/26421880\u001b[0m \u001b[32m━━━━━━━━━━━━━━━━━━━━\u001b[0m\u001b[37m\u001b[0m \u001b[1m1s\u001b[0m 0us/step\n",
            "Downloading data from https://storage.googleapis.com/tensorflow/tf-keras-datasets/t10k-labels-idx1-ubyte.gz\n",
            "\u001b[1m5148/5148\u001b[0m \u001b[32m━━━━━━━━━━━━━━━━━━━━\u001b[0m\u001b[37m\u001b[0m \u001b[1m0s\u001b[0m 0us/step\n",
            "Downloading data from https://storage.googleapis.com/tensorflow/tf-keras-datasets/t10k-images-idx3-ubyte.gz\n",
            "\u001b[1m4422102/4422102\u001b[0m \u001b[32m━━━━━━━━━━━━━━━━━━━━\u001b[0m\u001b[37m\u001b[0m \u001b[1m1s\u001b[0m 0us/step\n"
          ]
        }
      ],
      "source": [
        "(train_input, train_target), (test_input, test_target) = keras.datasets.fashion_mnist.load_data()"
      ]
    },
    {
      "cell_type": "code",
      "execution_count": 20,
      "id": "57a5775c-2e4b-4043-8366-71847010bf1f",
      "metadata": {
        "id": "57a5775c-2e4b-4043-8366-71847010bf1f",
        "outputId": "b3baee97-bee3-4422-b021-00d45a341902",
        "colab": {
          "base_uri": "https://localhost:8080/"
        }
      },
      "outputs": [
        {
          "output_type": "stream",
          "name": "stdout",
          "text": [
            "[9 0 0 ... 3 0 5]\n"
          ]
        }
      ],
      "source": [
        "print(train_target)"
      ]
    },
    {
      "cell_type": "code",
      "execution_count": 21,
      "id": "83a702ba-3f2f-420d-b57e-daf75088f650",
      "metadata": {
        "id": "83a702ba-3f2f-420d-b57e-daf75088f650"
      },
      "outputs": [],
      "source": [
        "train_input = train_input.reshape(-1, 28, 28, 1) / 255.0"
      ]
    },
    {
      "cell_type": "code",
      "source": [
        "from sklearn.model_selection import train_test_split\n",
        "\n",
        "train_scaled, val_scaled, train_target, val_target = train_test_split(\n",
        "    train_input, train_target, test_size=0.2, random_state=42)"
      ],
      "metadata": {
        "id": "MvVhJsi4xBfs"
      },
      "id": "MvVhJsi4xBfs",
      "execution_count": 22,
      "outputs": []
    },
    {
      "cell_type": "markdown",
      "id": "6c6ed23b-5827-4422-9d51-eaee3a4d418a",
      "metadata": {
        "id": "6c6ed23b-5827-4422-9d51-eaee3a4d418a"
      },
      "source": [
        "$L = -\\sum_{j=1}^m y_j log(\\hat{y}_j)$"
      ]
    },
    {
      "cell_type": "code",
      "source": [
        "checkpoint_cb = keras.callbacks.ModelCheckpoint('lenet5-model.keras',\n",
        "                                                save_best_only=True)\n",
        "early_stopping_cb = keras.callbacks.EarlyStopping(patience=2,\n",
        "                                                  restore_best_weights=True)"
      ],
      "metadata": {
        "id": "6-pX6GjAxLWU"
      },
      "id": "6-pX6GjAxLWU",
      "execution_count": 23,
      "outputs": []
    },
    {
      "cell_type": "code",
      "execution_count": 24,
      "id": "1d7d2d6d-318d-4d6a-83de-2b5ae31cc6ae",
      "metadata": {
        "tags": [],
        "id": "1d7d2d6d-318d-4d6a-83de-2b5ae31cc6ae",
        "outputId": "9766deb0-7bab-4aeb-f92c-97791df00c52",
        "colab": {
          "base_uri": "https://localhost:8080/"
        }
      },
      "outputs": [
        {
          "output_type": "stream",
          "name": "stdout",
          "text": [
            "Epoch 1/20\n",
            "\u001b[1m1500/1500\u001b[0m \u001b[32m━━━━━━━━━━━━━━━━━━━━\u001b[0m\u001b[37m\u001b[0m \u001b[1m16s\u001b[0m 8ms/step - accuracy: 0.4288 - loss: 1.5387 - val_accuracy: 0.7205 - val_loss: 0.7105\n",
            "Epoch 2/20\n",
            "\u001b[1m1500/1500\u001b[0m \u001b[32m━━━━━━━━━━━━━━━━━━━━\u001b[0m\u001b[37m\u001b[0m \u001b[1m11s\u001b[0m 4ms/step - accuracy: 0.7450 - loss: 0.6667 - val_accuracy: 0.7674 - val_loss: 0.5988\n",
            "Epoch 3/20\n",
            "\u001b[1m1500/1500\u001b[0m \u001b[32m━━━━━━━━━━━━━━━━━━━━\u001b[0m\u001b[37m\u001b[0m \u001b[1m10s\u001b[0m 3ms/step - accuracy: 0.7809 - loss: 0.5734 - val_accuracy: 0.7797 - val_loss: 0.5710\n",
            "Epoch 4/20\n",
            "\u001b[1m1500/1500\u001b[0m \u001b[32m━━━━━━━━━━━━━━━━━━━━\u001b[0m\u001b[37m\u001b[0m \u001b[1m5s\u001b[0m 3ms/step - accuracy: 0.8030 - loss: 0.5177 - val_accuracy: 0.8200 - val_loss: 0.4745\n",
            "Epoch 5/20\n",
            "\u001b[1m1500/1500\u001b[0m \u001b[32m━━━━━━━━━━━━━━━━━━━━\u001b[0m\u001b[37m\u001b[0m \u001b[1m5s\u001b[0m 3ms/step - accuracy: 0.8222 - loss: 0.4751 - val_accuracy: 0.8274 - val_loss: 0.4517\n",
            "Epoch 6/20\n",
            "\u001b[1m1500/1500\u001b[0m \u001b[32m━━━━━━━━━━━━━━━━━━━━\u001b[0m\u001b[37m\u001b[0m \u001b[1m5s\u001b[0m 3ms/step - accuracy: 0.8364 - loss: 0.4438 - val_accuracy: 0.8420 - val_loss: 0.4240\n",
            "Epoch 7/20\n",
            "\u001b[1m1500/1500\u001b[0m \u001b[32m━━━━━━━━━━━━━━━━━━━━\u001b[0m\u001b[37m\u001b[0m \u001b[1m4s\u001b[0m 3ms/step - accuracy: 0.8465 - loss: 0.4161 - val_accuracy: 0.8422 - val_loss: 0.4274\n",
            "Epoch 8/20\n",
            "\u001b[1m1500/1500\u001b[0m \u001b[32m━━━━━━━━━━━━━━━━━━━━\u001b[0m\u001b[37m\u001b[0m \u001b[1m6s\u001b[0m 3ms/step - accuracy: 0.8515 - loss: 0.3970 - val_accuracy: 0.8539 - val_loss: 0.3973\n",
            "Epoch 9/20\n",
            "\u001b[1m1500/1500\u001b[0m \u001b[32m━━━━━━━━━━━━━━━━━━━━\u001b[0m\u001b[37m\u001b[0m \u001b[1m5s\u001b[0m 3ms/step - accuracy: 0.8574 - loss: 0.3866 - val_accuracy: 0.8525 - val_loss: 0.4077\n",
            "Epoch 10/20\n",
            "\u001b[1m1500/1500\u001b[0m \u001b[32m━━━━━━━━━━━━━━━━━━━━\u001b[0m\u001b[37m\u001b[0m \u001b[1m6s\u001b[0m 4ms/step - accuracy: 0.8604 - loss: 0.3732 - val_accuracy: 0.8655 - val_loss: 0.3642\n",
            "Epoch 11/20\n",
            "\u001b[1m1500/1500\u001b[0m \u001b[32m━━━━━━━━━━━━━━━━━━━━\u001b[0m\u001b[37m\u001b[0m \u001b[1m4s\u001b[0m 3ms/step - accuracy: 0.8664 - loss: 0.3604 - val_accuracy: 0.8706 - val_loss: 0.3585\n",
            "Epoch 12/20\n",
            "\u001b[1m1500/1500\u001b[0m \u001b[32m━━━━━━━━━━━━━━━━━━━━\u001b[0m\u001b[37m\u001b[0m \u001b[1m5s\u001b[0m 3ms/step - accuracy: 0.8717 - loss: 0.3443 - val_accuracy: 0.8684 - val_loss: 0.3545\n",
            "Epoch 13/20\n",
            "\u001b[1m1500/1500\u001b[0m \u001b[32m━━━━━━━━━━━━━━━━━━━━\u001b[0m\u001b[37m\u001b[0m \u001b[1m5s\u001b[0m 3ms/step - accuracy: 0.8773 - loss: 0.3326 - val_accuracy: 0.8754 - val_loss: 0.3419\n",
            "Epoch 14/20\n",
            "\u001b[1m1500/1500\u001b[0m \u001b[32m━━━━━━━━━━━━━━━━━━━━\u001b[0m\u001b[37m\u001b[0m \u001b[1m4s\u001b[0m 3ms/step - accuracy: 0.8802 - loss: 0.3252 - val_accuracy: 0.8695 - val_loss: 0.3520\n",
            "Epoch 15/20\n",
            "\u001b[1m1500/1500\u001b[0m \u001b[32m━━━━━━━━━━━━━━━━━━━━\u001b[0m\u001b[37m\u001b[0m \u001b[1m5s\u001b[0m 3ms/step - accuracy: 0.8827 - loss: 0.3184 - val_accuracy: 0.8798 - val_loss: 0.3286\n",
            "Epoch 16/20\n",
            "\u001b[1m1500/1500\u001b[0m \u001b[32m━━━━━━━━━━━━━━━━━━━━\u001b[0m\u001b[37m\u001b[0m \u001b[1m9s\u001b[0m 3ms/step - accuracy: 0.8844 - loss: 0.3103 - val_accuracy: 0.8749 - val_loss: 0.3409\n",
            "Epoch 17/20\n",
            "\u001b[1m1500/1500\u001b[0m \u001b[32m━━━━━━━━━━━━━━━━━━━━\u001b[0m\u001b[37m\u001b[0m \u001b[1m6s\u001b[0m 4ms/step - accuracy: 0.8872 - loss: 0.3063 - val_accuracy: 0.8723 - val_loss: 0.3474\n"
          ]
        }
      ],
      "source": [
        "lenet5.compile(loss='sparse_categorical_crossentropy',\n",
        "               metrics=['accuracy'])\n",
        "hist = lenet5.fit(train_scaled, train_target, epochs=20,\n",
        "                  validation_data=(val_scaled, val_target),\n",
        "                  callbacks=[checkpoint_cb, early_stopping_cb])"
      ]
    },
    {
      "cell_type": "code",
      "execution_count": 25,
      "id": "a8bb0644-064b-4faf-860e-7bc84e642ce2",
      "metadata": {
        "id": "a8bb0644-064b-4faf-860e-7bc84e642ce2",
        "outputId": "2e13b32c-8dbf-43ec-dd7e-cff34244499e",
        "colab": {
          "base_uri": "https://localhost:8080/",
          "height": 392
        }
      },
      "outputs": [
        {
          "output_type": "display_data",
          "data": {
            "text/plain": [
              "<Figure size 1200x400 with 2 Axes>"
            ],
            "image/png": "[encoded data removed]"
          },
          "metadata": {}
        }
      ],
      "source": [
        "import matplotlib.pyplot as plt\n",
        "\n",
        "epochs = range(1, len(hist.history['loss'])+1)\n",
        "\n",
        "fig, axs = plt.subplots(1, 2, figsize=(12, 4))\n",
        "axs[0].plot(epochs, hist.history['loss'])\n",
        "axs[0].plot(epochs, hist.history['val_loss'])\n",
        "axs[0].set_xticks(epochs)\n",
        "axs[0].set_xlabel('epoch')\n",
        "axs[0].set_ylabel('loss')\n",
        "axs[1].plot(epochs, hist.history['accuracy'])\n",
        "axs[1].plot(epochs, hist.history['val_accuracy'])\n",
        "axs[1].set_xticks(epochs)\n",
        "axs[1].set_xlabel('epoch')\n",
        "axs[1].set_ylabel('accuracy')\n",
        "plt.show()"
      ]
    }
  ],
  "metadata": {
    "environment": {
      "kernel": "python3",
      "name": "common-cpu.m102",
      "type": "gcloud",
      "uri": "gcr.io/deeplearning-platform-release/base-cpu:m102"
    },
    "kernelspec": {
      "display_name": "Python 3",
      "name": "python3"
    },
    "language_info": {
      "codemirror_mode": {
        "name": "ipython",
        "version": 3
      },
      "file_extension": ".py",
      "mimetype": "text/x-python",
      "name": "python",
      "nbconvert_exporter": "python",
      "pygments_lexer": "ipython3",
      "version": "3.7.12"
    },
    "colab": {
      "provenance": [],
      "machine_shape": "hm",
      "gpuType": "T4"
    },
    "accelerator": "GPU"
  },
  "nbformat": 4,
  "nbformat_minor": 5
}