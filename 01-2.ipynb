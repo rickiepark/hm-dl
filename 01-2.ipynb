{
 "cells": [
  {
   "cell_type": "markdown",
   "id": "122beaf6-3bb0-40fd-be02-6a49afc7cf3d",
   "metadata": {},
   "source": [
    "# 01-2 패션 이미지의 분류 정확도를 높여라!"
   ]
  },
  {
   "cell_type": "markdown",
   "id": "4e009efb-ecae-45fc-a970-0ee79e1291ce",
   "metadata": {},
   "source": [
    "## LetNet-5"
   ]
  },
  {
   "cell_type": "code",
   "execution_count": 1,
   "id": "a78550bc-64fb-4fd7-bc02-bf918f77fb1a",
   "metadata": {},
   "outputs": [
    {
     "name": "stderr",
     "output_type": "stream",
     "text": [
      "2023-01-13 05:36:20.586642: I tensorflow/core/platform/cpu_feature_guard.cc:193] This TensorFlow binary is optimized with oneAPI Deep Neural Network Library (oneDNN) to use the following CPU instructions in performance-critical operations:  AVX2 FMA\n",
      "To enable them in other operations, rebuild TensorFlow with the appropriate compiler flags.\n"
     ]
    }
   ],
   "source": [
    "import tensorflow as tf\n",
    "from tensorflow import keras\n",
    "from tensorflow.keras import layers"
   ]
  },
  {
   "cell_type": "code",
   "execution_count": 2,
   "id": "7dc8c9f9-3ea4-47ac-913d-036ccc0c44df",
   "metadata": {},
   "outputs": [
    {
     "name": "stderr",
     "output_type": "stream",
     "text": [
      "2023-01-13 05:36:22.336091: I tensorflow/core/platform/cpu_feature_guard.cc:193] This TensorFlow binary is optimized with oneAPI Deep Neural Network Library (oneDNN) to use the following CPU instructions in performance-critical operations:  AVX2 FMA\n",
      "To enable them in other operations, rebuild TensorFlow with the appropriate compiler flags.\n"
     ]
    }
   ],
   "source": [
    "lenet5 = keras.models.Sequential()\n",
    "lenet5.add(layers.Conv2D(filters=6, kernel_size=5, activation='sigmoid', \n",
    "                         padding='same', input_shape=(28,28,1)))\n",
    "lenet5.add(layers.AveragePooling2D(pool_size=2))\n",
    "lenet5.add(layers.Conv2D(filters=16, kernel_size=5, activation='sigmoid'))\n",
    "lenet5.add(layers.AveragePooling2D(pool_size=2))\n",
    "lenet5.add(layers.Flatten())\n",
    "lenet5.add(layers.Dense(120, activation='sigmoid'))\n",
    "lenet5.add(layers.Dense(84, activation='sigmoid'))\n",
    "lenet5.add(layers.Dense(10, activation='softmax'))"
   ]
  },
  {
   "cell_type": "code",
   "execution_count": 3,
   "id": "595aeb0a-a2f1-47ee-93b2-a853ea52b0dc",
   "metadata": {},
   "outputs": [
    {
     "name": "stdout",
     "output_type": "stream",
     "text": [
      "Model: \"sequential\"\n",
      "_________________________________________________________________\n",
      " Layer (type)                Output Shape              Param #   \n",
      "=================================================================\n",
      " conv2d (Conv2D)             (None, 28, 28, 6)         156       \n",
      "                                                                 \n",
      " average_pooling2d (AverageP  (None, 14, 14, 6)        0         \n",
      " ooling2D)                                                       \n",
      "                                                                 \n",
      " conv2d_1 (Conv2D)           (None, 10, 10, 16)        2416      \n",
      "                                                                 \n",
      " average_pooling2d_1 (Averag  (None, 5, 5, 16)         0         \n",
      " ePooling2D)                                                     \n",
      "                                                                 \n",
      " flatten (Flatten)           (None, 400)               0         \n",
      "                                                                 \n",
      " dense (Dense)               (None, 120)               48120     \n",
      "                                                                 \n",
      " dense_1 (Dense)             (None, 84)                10164     \n",
      "                                                                 \n",
      " dense_2 (Dense)             (None, 10)                850       \n",
      "                                                                 \n",
      "=================================================================\n",
      "Total params: 61,706\n",
      "Trainable params: 61,706\n",
      "Non-trainable params: 0\n",
      "_________________________________________________________________\n"
     ]
    }
   ],
   "source": [
    "lenet5.summary()"
   ]
  },
  {
   "cell_type": "markdown",
   "id": "3c9e30ff-3dd8-4114-b060-fb0f1811745d",
   "metadata": {},
   "source": [
    "소프트맥스 함수: $f(x)_i = \\dfrac{e^{z_i}}{\\sum_{j=1}^{k}e^{z_j}}$\n",
    "\n",
    "$f(x) = \\dfrac{e^{z_1}+e^{z_2}+...+e^{z_k}}{\\sum_{j=1}^{k}e^{z_j}}=1$"
   ]
  },
  {
   "cell_type": "markdown",
   "id": "ba6fecc8-a4bb-4671-98aa-5854e07bc881",
   "metadata": {},
   "source": [
    "## Conv2D 층"
   ]
  },
  {
   "cell_type": "code",
   "execution_count": 4,
   "id": "231646d8-8d92-46df-a9b2-072d359c8abb",
   "metadata": {},
   "outputs": [
    {
     "name": "stdout",
     "output_type": "stream",
     "text": [
      "(10, 26, 26, 10)\n"
     ]
    }
   ],
   "source": [
    "conv1 = layers.Conv2D(filters=10, kernel_size=(3, 3))\n",
    "x = tf.random.normal([10, 28, 28, 1])\n",
    "conv_out = conv1(x)\n",
    "print(conv_out.shape)"
   ]
  },
  {
   "cell_type": "code",
   "execution_count": 5,
   "id": "085eae53-4b5f-4dd3-99a5-2a3782112759",
   "metadata": {},
   "outputs": [
    {
     "name": "stdout",
     "output_type": "stream",
     "text": [
      "(10, 13, 13, 10)\n"
     ]
    }
   ],
   "source": [
    "conv2 = layers.Conv2D(filters=10, kernel_size=(3, 3), strides=(2, 2))\n",
    "print(conv2(x).shape)"
   ]
  },
  {
   "cell_type": "code",
   "execution_count": 6,
   "id": "f8306c2b-eeee-46ae-a937-2b736ae9055c",
   "metadata": {},
   "outputs": [
    {
     "name": "stdout",
     "output_type": "stream",
     "text": [
      "(10, 14, 14, 10)\n"
     ]
    }
   ],
   "source": [
    "conv3 = layers.Conv2D(filters=10, kernel_size=(3, 3), strides=(2, 2), padding='same')\n",
    "print(conv3(x).shape)"
   ]
  },
  {
   "cell_type": "code",
   "execution_count": 7,
   "id": "4ad7dd4d-f66c-47d7-a251-a252fa8e4319",
   "metadata": {},
   "outputs": [
    {
     "name": "stdout",
     "output_type": "stream",
     "text": [
      "(10, 28, 28, 10)\n"
     ]
    }
   ],
   "source": [
    "conv4 = layers.Conv2D(filters=10, kernel_size=(3, 3), padding='same')\n",
    "print(conv4(x).shape)"
   ]
  },
  {
   "cell_type": "code",
   "execution_count": 8,
   "id": "bad1bed0-920d-4851-bafc-64223495c7b0",
   "metadata": {},
   "outputs": [
    {
     "name": "stdout",
     "output_type": "stream",
     "text": [
      "(10, 10)\n"
     ]
    }
   ],
   "source": [
    "output = lenet5(x)\n",
    "print(output.shape)"
   ]
  },
  {
   "cell_type": "markdown",
   "id": "001d9649-a3cb-4819-858b-8f9125ab3933",
   "metadata": {},
   "source": [
    "## AveragePooling2D 층과 Dense 층"
   ]
  },
  {
   "cell_type": "code",
   "execution_count": 9,
   "id": "3ce8eca0-2fa6-46c7-88db-74c1a7a9afd3",
   "metadata": {},
   "outputs": [
    {
     "name": "stdout",
     "output_type": "stream",
     "text": [
      "(10, 14, 14, 1)\n"
     ]
    }
   ],
   "source": [
    "pool1 = layers.AveragePooling2D(pool_size=2)\n",
    "print(pool1(x).shape)"
   ]
  },
  {
   "cell_type": "code",
   "execution_count": 10,
   "id": "272a9316-241e-42ac-acb5-9f591d7ff401",
   "metadata": {},
   "outputs": [
    {
     "name": "stdout",
     "output_type": "stream",
     "text": [
      "(10, 9, 9, 1)\n"
     ]
    }
   ],
   "source": [
    "pool2 = layers.AveragePooling2D(pool_size=3)\n",
    "print(pool2(x).shape)"
   ]
  },
  {
   "cell_type": "markdown",
   "id": "3749bc3f-5038-45b3-a526-7790f93639a4",
   "metadata": {},
   "source": [
    "$y = x \\cdot W + b$"
   ]
  },
  {
   "cell_type": "code",
   "execution_count": 11,
   "id": "0a081e3c-f5f5-48e6-9d28-dda6c8244dcd",
   "metadata": {},
   "outputs": [],
   "source": [
    "dense1 = layers.Dense(3, input_shape=(2,))"
   ]
  },
  {
   "cell_type": "code",
   "execution_count": 12,
   "id": "dac8bde8-41d3-4d12-ac7e-509aa6139be9",
   "metadata": {},
   "outputs": [
    {
     "name": "stdout",
     "output_type": "stream",
     "text": [
      "(1, 3)\n"
     ]
    }
   ],
   "source": [
    "import numpy as np\n",
    "\n",
    "x2 = np.array([[5, 7]])\n",
    "print(dense1(x2).shape)"
   ]
  },
  {
   "cell_type": "code",
   "execution_count": 13,
   "id": "d9283c29-6a35-446f-b164-564f07a2a6ce",
   "metadata": {},
   "outputs": [
    {
     "name": "stdout",
     "output_type": "stream",
     "text": [
      "[array([[ 0.664816  , -0.92327166,  0.11425185],\n",
      "       [-0.7544884 , -0.03035915, -0.6363396 ]], dtype=float32), array([0., 0., 0.], dtype=float32)]\n"
     ]
    }
   ],
   "source": [
    "print(dense1.get_weights())"
   ]
  },
  {
   "cell_type": "code",
   "execution_count": 14,
   "id": "20e39ea0-71be-4751-8c28-131b12e54b2b",
   "metadata": {},
   "outputs": [],
   "source": [
    "dense1.set_weights([\n",
    "    np.array([[1, 2, 3], [4, 5, 6]]), \n",
    "    np.array([0, 0, 0])\n",
    "])"
   ]
  },
  {
   "cell_type": "code",
   "execution_count": 15,
   "id": "24898a3a-4215-48c9-8f65-eea78d66f392",
   "metadata": {},
   "outputs": [
    {
     "name": "stdout",
     "output_type": "stream",
     "text": [
      "tf.Tensor([[33. 45. 57.]], shape=(1, 3), dtype=float32)\n"
     ]
    }
   ],
   "source": [
    "print(dense1(x2))"
   ]
  },
  {
   "cell_type": "code",
   "execution_count": 16,
   "id": "427dcbd9-9ffe-4d40-9e58-530768d38e87",
   "metadata": {},
   "outputs": [
    {
     "name": "stdout",
     "output_type": "stream",
     "text": [
      "[[33. 45. 57.]]\n"
     ]
    }
   ],
   "source": [
    "weight = dense1.get_weights()[0]\n",
    "print(np.dot(x2, weight))"
   ]
  },
  {
   "cell_type": "markdown",
   "id": "ee11573e-a71e-4f48-976d-0447a36eb8f0",
   "metadata": {},
   "source": [
    "이제 lenet5.summary()가 출력한 결과를 더 잘 이해할 수 있을 것 같군요. lenet5에 임의로 만든 텐서 x를 전달하여 summary() 메서드의 마지막 행에서처럼 샘플마다 10개의 출력이 만들어지는지 확인해 보겠습니다.\n",
    "\n",
    "<노트>케라스 모델 객체도 입력 데이터를 넣어 함수처럼 호출할 수 있습니다.</노트>\n",
    "\n",
    "output = lenet5(x)\n",
    "print(output.shape)\n",
    "\n",
    "(10,  10)\n",
    "\n",
    "첫 번째 차원은 샘플의 개수에 해당하므로 10이고 두 번째 차원은 각 샘플에 대한 10개의 확률 출력에 해당합니다. x의 값이 난수이고 lenet5의 층에 있는 가중치(weight)도 어떤 종류의 난수이므로 출력 output이 의미있는 값이 담겨 있지는 않을 것입니다. **쪽 에서 신경망이 처음에 어떤 가중치로 시작하는지 더 자세히 알아 보겠습니다.## 시그모이드 함수와 렐루 함수\n",
    "\n",
    "시그모이드 함수: $f(x) = \\dfrac{1}{1+e^{-x}}$\n",
    "\n",
    "렐루 함수: $f(x) = \\begin{cases}\n",
    "                    \\mbox{max}(0, x), & x\\mbox{ >= 0 이면} \\\\\n",
    "                    0,                & x\\mbox{ < 0 이면}\n",
    "                 \\end{cases}$"
   ]
  },
  {
   "cell_type": "code",
   "execution_count": 17,
   "id": "13e14794-5d76-4c34-81ff-09b3fbd40386",
   "metadata": {},
   "outputs": [
    {
     "name": "stdout",
     "output_type": "stream",
     "text": [
      "[0 0 0 1 2]\n"
     ]
    }
   ],
   "source": [
    "a = np.array([-2, -1, 0, 1, 2])\n",
    "print(a.clip(0))"
   ]
  },
  {
   "cell_type": "code",
   "execution_count": 18,
   "id": "c14d4326-8e84-4302-ac32-d7542362db7c",
   "metadata": {},
   "outputs": [
    {
     "data": {
      "image/png": "[encoded data removed]",
      "text/plain": [
       "<Figure size 1200x400 with 2 Axes>"
      ]
     },
     "metadata": {},
     "output_type": "display_data"
    }
   ],
   "source": [
    "import matplotlib.pyplot as plt\n",
    "from scipy.special import expit\n",
    "\n",
    "x = np.arange(-10, 10, 0.2)\n",
    "\n",
    "fig, axs = plt.subplots(1, 2, figsize=(12, 4))\n",
    "axs[0].plot(x, expit(x))\n",
    "axs[0].set_title('sigmoid function')\n",
    "axs[0].set_xlabel('x')\n",
    "axs[0].set_ylabel('f(x)')\n",
    "axs[1].plot(x, x.clip(0))\n",
    "axs[1].set_title('relu function')\n",
    "axs[1].set_xlabel('x')\n",
    "axs[1].set_ylabel('f(x)')\n",
    "plt.show()"
   ]
  },
  {
   "cell_type": "markdown",
   "id": "a9620c10-b7b9-4184-ac50-b151dd2d6323",
   "metadata": {},
   "source": [
    "## 모델 훈련"
   ]
  },
  {
   "cell_type": "code",
   "execution_count": 19,
   "id": "c2d84ee7-eb49-45c1-a46a-cd8ce213df28",
   "metadata": {},
   "outputs": [],
   "source": [
    "(train_input, train_target), (test_input, test_target) = keras.datasets.mnist.load_data()"
   ]
  },
  {
   "cell_type": "code",
   "execution_count": 20,
   "id": "57a5775c-2e4b-4043-8366-71847010bf1f",
   "metadata": {},
   "outputs": [
    {
     "name": "stdout",
     "output_type": "stream",
     "text": [
      "[5 0 4 ... 5 6 8]\n"
     ]
    }
   ],
   "source": [
    "print(train_target)"
   ]
  },
  {
   "cell_type": "code",
   "execution_count": 21,
   "id": "83a702ba-3f2f-420d-b57e-daf75088f650",
   "metadata": {},
   "outputs": [],
   "source": [
    "train_input = train_input.reshape(-1, 28, 28, 1) / 255.0"
   ]
  },
  {
   "cell_type": "markdown",
   "id": "6c6ed23b-5827-4422-9d51-eaee3a4d418a",
   "metadata": {},
   "source": [
    "$L = -\\sum_{j=1}^m y_j log(\\hat{y}_j)$\n",
    "\n",
    "$\\hat{y}_j$"
   ]
  },
  {
   "cell_type": "code",
   "execution_count": 22,
   "id": "1d7d2d6d-318d-4d6a-83de-2b5ae31cc6ae",
   "metadata": {
    "tags": []
   },
   "outputs": [
    {
     "name": "stdout",
     "output_type": "stream",
     "text": [
      "Epoch 1/5\n",
      "1875/1875 [==============================] - 31s 16ms/step - loss: 0.9158 - accuracy: 0.6978\n",
      "Epoch 2/5\n",
      "1875/1875 [==============================] - 36s 19ms/step - loss: 0.2430 - accuracy: 0.9239\n",
      "Epoch 3/5\n",
      "1875/1875 [==============================] - 30s 16ms/step - loss: 0.1585 - accuracy: 0.9503\n",
      "Epoch 4/5\n",
      "1875/1875 [==============================] - 35s 19ms/step - loss: 0.1164 - accuracy: 0.9635\n",
      "Epoch 5/5\n",
      "1875/1875 [==============================] - 36s 19ms/step - loss: 0.0925 - accuracy: 0.9710\n"
     ]
    }
   ],
   "source": [
    "lenet5.compile(loss='sparse_categorical_crossentropy', metrics='accuracy')\n",
    "hist = lenet5.fit(train_input, train_target, epochs=5)"
   ]
  },
  {
   "cell_type": "code",
   "execution_count": 23,
   "id": "a8bb0644-064b-4faf-860e-7bc84e642ce2",
   "metadata": {},
   "outputs": [
    {
     "data": {
      "image/png": "[encoded data removed]",
      "text/plain": [
       "<Figure size 1200x400 with 2 Axes>"
      ]
     },
     "metadata": {},
     "output_type": "display_data"
    }
   ],
   "source": [
    "import matplotlib.pyplot as plt\n",
    "\n",
    "fig, axs = plt.subplots(1, 2, figsize=(12, 4))\n",
    "axs[0].plot(range(1, 6), hist.history['loss'])\n",
    "axs[0].set_xticks(range(1, 6))\n",
    "axs[0].set_xlabel('epoch')\n",
    "axs[0].set_ylabel('loss')\n",
    "axs[1].plot(range(1, 6), hist.history['accuracy'])\n",
    "axs[1].set_xticks(range(1, 6))\n",
    "axs[1].set_xlabel('epoch')\n",
    "axs[1].set_ylabel('accuracy')\n",
    "plt.show()"
   ]
  }
 ],
 "metadata": {
  "environment": {
   "kernel": "python3",
   "name": "common-cpu.m102",
   "type": "gcloud",
   "uri": "gcr.io/deeplearning-platform-release/base-cpu:m102"
  },
  "kernelspec": {
   "display_name": "Python 3",
   "language": "python",
   "name": "python3"
  },
  "language_info": {
   "codemirror_mode": {
    "name": "ipython",
    "version": 3
   },
   "file_extension": ".py",
   "mimetype": "text/x-python",
   "name": "python",
   "nbconvert_exporter": "python",
   "pygments_lexer": "ipython3",
   "version": "3.7.12"
  }
 },
 "nbformat": 4,
 "nbformat_minor": 5
}
